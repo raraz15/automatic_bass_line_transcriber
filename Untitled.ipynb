{
 "cells": [
  {
   "cell_type": "code",
   "execution_count": 1,
   "metadata": {},
   "outputs": [],
   "source": [
    "from madmom.features.beats import RNNBeatProcessor, BeatTrackingProcessor"
   ]
  },
  {
   "cell_type": "code",
   "execution_count": 2,
   "metadata": {},
   "outputs": [],
   "source": [
    "clip_dir = 'data/audio_clips'"
   ]
  },
  {
   "cell_type": "code",
   "execution_count": 41,
   "metadata": {},
   "outputs": [],
   "source": [
    "proc = RNNBeatProcessor()"
   ]
  },
  {
   "cell_type": "code",
   "execution_count": 6,
   "metadata": {},
   "outputs": [],
   "source": [
    "clips = ['data/audio_clips/AleVtina - Pow Pow (Original Mix).mp3', 'data/audio_clips/Amine Edge & DANCE - Get Busy.mp3']"
   ]
  },
  {
   "cell_type": "code",
   "execution_count": 8,
   "metadata": {},
   "outputs": [],
   "source": [
    "import librosa"
   ]
  },
  {
   "cell_type": "code",
   "execution_count": 9,
   "metadata": {},
   "outputs": [
    {
     "name": "stderr",
     "output_type": "stream",
     "text": [
      "/home/oguza97/anaconda3/envs/bassline_transcription/lib/python3.8/site-packages/librosa/core/audio.py:162: UserWarning: PySoundFile failed. Trying audioread instead.\n",
      "  warnings.warn(\"PySoundFile failed. Trying audioread instead.\")\n"
     ]
    }
   ],
   "source": [
    "x, sr = librosa.load(clips[0])"
   ]
  },
  {
   "cell_type": "code",
   "execution_count": 22,
   "metadata": {},
   "outputs": [
    {
     "name": "stderr",
     "output_type": "stream",
     "text": [
      "/home/oguza97/anaconda3/envs/bassline_transcription/lib/python3.8/site-packages/librosa/core/audio.py:162: UserWarning: PySoundFile failed. Trying audioread instead.\n",
      "  warnings.warn(\"PySoundFile failed. Trying audioread instead.\")\n"
     ]
    }
   ],
   "source": [
    "y, sr = librosa.load(clips[1])"
   ]
  },
  {
   "cell_type": "code",
   "execution_count": 21,
   "metadata": {},
   "outputs": [],
   "source": [
    "import numpy as np"
   ]
  },
  {
   "cell_type": "code",
   "execution_count": 37,
   "metadata": {},
   "outputs": [],
   "source": [
    "z = np.stack([x[:len(y)], y], axis=1)"
   ]
  },
  {
   "cell_type": "code",
   "execution_count": 38,
   "metadata": {},
   "outputs": [],
   "source": [
    "z = z[:,np.newaxis,:]"
   ]
  },
  {
   "cell_type": "code",
   "execution_count": 39,
   "metadata": {},
   "outputs": [
    {
     "data": {
      "text/plain": [
       "(8686849, 1, 2)"
      ]
     },
     "execution_count": 39,
     "metadata": {},
     "output_type": "execute_result"
    }
   ],
   "source": [
    "z.shape"
   ]
  },
  {
   "cell_type": "code",
   "execution_count": 29,
   "metadata": {},
   "outputs": [
    {
     "data": {
      "text/plain": [
       "(8808705,)"
      ]
     },
     "execution_count": 29,
     "metadata": {},
     "output_type": "execute_result"
    }
   ],
   "source": [
    "x.shape"
   ]
  },
  {
   "cell_type": "code",
   "execution_count": 42,
   "metadata": {
    "scrolled": true
   },
   "outputs": [
    {
     "ename": "ValueError",
     "evalue": "Invalid input shape: The new input array should be the same shape as the input array used to instantiate the object.",
     "output_type": "error",
     "traceback": [
      "\u001b[0;31m---------------------------------------------------------------------------\u001b[0m",
      "\u001b[0;31mValueError\u001b[0m                                Traceback (most recent call last)",
      "\u001b[0;32m<ipython-input-42-06ae6c5a2a3b>\u001b[0m in \u001b[0;36m<module>\u001b[0;34m\u001b[0m\n\u001b[0;32m----> 1\u001b[0;31m \u001b[0mccc\u001b[0m\u001b[0;34m=\u001b[0m\u001b[0mproc\u001b[0m\u001b[0;34m(\u001b[0m\u001b[0mz\u001b[0m\u001b[0;34m)\u001b[0m\u001b[0;34m\u001b[0m\u001b[0;34m\u001b[0m\u001b[0m\n\u001b[0m",
      "\u001b[0;32m~/anaconda3/envs/bassline_transcription/lib/python3.8/site-packages/madmom/processors.py\u001b[0m in \u001b[0;36m__call__\u001b[0;34m(self, *args, **kwargs)\u001b[0m\n\u001b[1;32m    118\u001b[0m     \u001b[0;32mdef\u001b[0m \u001b[0m__call__\u001b[0m\u001b[0;34m(\u001b[0m\u001b[0mself\u001b[0m\u001b[0;34m,\u001b[0m \u001b[0;34m*\u001b[0m\u001b[0margs\u001b[0m\u001b[0;34m,\u001b[0m \u001b[0;34m**\u001b[0m\u001b[0mkwargs\u001b[0m\u001b[0;34m)\u001b[0m\u001b[0;34m:\u001b[0m\u001b[0;34m\u001b[0m\u001b[0;34m\u001b[0m\u001b[0m\n\u001b[1;32m    119\u001b[0m         \u001b[0;31m# this magic method makes a Processor callable\u001b[0m\u001b[0;34m\u001b[0m\u001b[0;34m\u001b[0m\u001b[0;34m\u001b[0m\u001b[0m\n\u001b[0;32m--> 120\u001b[0;31m         \u001b[0;32mreturn\u001b[0m \u001b[0mself\u001b[0m\u001b[0;34m.\u001b[0m\u001b[0mprocess\u001b[0m\u001b[0;34m(\u001b[0m\u001b[0;34m*\u001b[0m\u001b[0margs\u001b[0m\u001b[0;34m,\u001b[0m \u001b[0;34m**\u001b[0m\u001b[0mkwargs\u001b[0m\u001b[0;34m)\u001b[0m\u001b[0;34m\u001b[0m\u001b[0;34m\u001b[0m\u001b[0m\n\u001b[0m\u001b[1;32m    121\u001b[0m \u001b[0;34m\u001b[0m\u001b[0m\n\u001b[1;32m    122\u001b[0m \u001b[0;34m\u001b[0m\u001b[0m\n",
      "\u001b[0;32m~/anaconda3/envs/bassline_transcription/lib/python3.8/site-packages/madmom/processors.py\u001b[0m in \u001b[0;36mprocess\u001b[0;34m(self, data, **kwargs)\u001b[0m\n\u001b[1;32m    422\u001b[0m         \u001b[0;31m# sequentially process the data\u001b[0m\u001b[0;34m\u001b[0m\u001b[0;34m\u001b[0m\u001b[0;34m\u001b[0m\u001b[0m\n\u001b[1;32m    423\u001b[0m         \u001b[0;32mfor\u001b[0m \u001b[0mprocessor\u001b[0m \u001b[0;32min\u001b[0m \u001b[0mself\u001b[0m\u001b[0;34m.\u001b[0m\u001b[0mprocessors\u001b[0m\u001b[0;34m:\u001b[0m\u001b[0;34m\u001b[0m\u001b[0;34m\u001b[0m\u001b[0m\n\u001b[0;32m--> 424\u001b[0;31m             \u001b[0mdata\u001b[0m \u001b[0;34m=\u001b[0m \u001b[0m_process\u001b[0m\u001b[0;34m(\u001b[0m\u001b[0;34m(\u001b[0m\u001b[0mprocessor\u001b[0m\u001b[0;34m,\u001b[0m \u001b[0mdata\u001b[0m\u001b[0;34m,\u001b[0m \u001b[0mkwargs\u001b[0m\u001b[0;34m)\u001b[0m\u001b[0;34m)\u001b[0m\u001b[0;34m\u001b[0m\u001b[0;34m\u001b[0m\u001b[0m\n\u001b[0m\u001b[1;32m    425\u001b[0m         \u001b[0;32mreturn\u001b[0m \u001b[0mdata\u001b[0m\u001b[0;34m\u001b[0m\u001b[0;34m\u001b[0m\u001b[0m\n\u001b[1;32m    426\u001b[0m \u001b[0;34m\u001b[0m\u001b[0m\n",
      "\u001b[0;32m~/anaconda3/envs/bassline_transcription/lib/python3.8/site-packages/madmom/processors.py\u001b[0m in \u001b[0;36m_process\u001b[0;34m(process_tuple)\u001b[0m\n\u001b[1;32m    287\u001b[0m     \u001b[0;31m# call the Processor with data and kwargs\u001b[0m\u001b[0;34m\u001b[0m\u001b[0;34m\u001b[0m\u001b[0;34m\u001b[0m\u001b[0m\n\u001b[1;32m    288\u001b[0m     \u001b[0;32melif\u001b[0m \u001b[0misinstance\u001b[0m\u001b[0;34m(\u001b[0m\u001b[0mprocess_tuple\u001b[0m\u001b[0;34m[\u001b[0m\u001b[0;36m0\u001b[0m\u001b[0;34m]\u001b[0m\u001b[0;34m,\u001b[0m \u001b[0mProcessor\u001b[0m\u001b[0;34m)\u001b[0m\u001b[0;34m:\u001b[0m\u001b[0;34m\u001b[0m\u001b[0;34m\u001b[0m\u001b[0m\n\u001b[0;32m--> 289\u001b[0;31m         \u001b[0;32mreturn\u001b[0m \u001b[0mprocess_tuple\u001b[0m\u001b[0;34m[\u001b[0m\u001b[0;36m0\u001b[0m\u001b[0;34m]\u001b[0m\u001b[0;34m(\u001b[0m\u001b[0;34m*\u001b[0m\u001b[0mprocess_tuple\u001b[0m\u001b[0;34m[\u001b[0m\u001b[0;36m1\u001b[0m\u001b[0;34m:\u001b[0m\u001b[0;34m-\u001b[0m\u001b[0;36m1\u001b[0m\u001b[0;34m]\u001b[0m\u001b[0;34m,\u001b[0m \u001b[0;34m**\u001b[0m\u001b[0mprocess_tuple\u001b[0m\u001b[0;34m[\u001b[0m\u001b[0;34m-\u001b[0m\u001b[0;36m1\u001b[0m\u001b[0;34m]\u001b[0m\u001b[0;34m)\u001b[0m\u001b[0;34m\u001b[0m\u001b[0;34m\u001b[0m\u001b[0m\n\u001b[0m\u001b[1;32m    290\u001b[0m     \u001b[0;31m# just call whatever we got here (e.g. a function) without kwargs\u001b[0m\u001b[0;34m\u001b[0m\u001b[0;34m\u001b[0m\u001b[0;34m\u001b[0m\u001b[0m\n\u001b[1;32m    291\u001b[0m     \u001b[0;32mreturn\u001b[0m \u001b[0mprocess_tuple\u001b[0m\u001b[0;34m[\u001b[0m\u001b[0;36m0\u001b[0m\u001b[0;34m]\u001b[0m\u001b[0;34m(\u001b[0m\u001b[0;34m*\u001b[0m\u001b[0mprocess_tuple\u001b[0m\u001b[0;34m[\u001b[0m\u001b[0;36m1\u001b[0m\u001b[0;34m:\u001b[0m\u001b[0;34m-\u001b[0m\u001b[0;36m1\u001b[0m\u001b[0;34m]\u001b[0m\u001b[0;34m)\u001b[0m\u001b[0;34m\u001b[0m\u001b[0;34m\u001b[0m\u001b[0m\n",
      "\u001b[0;32m~/anaconda3/envs/bassline_transcription/lib/python3.8/site-packages/madmom/processors.py\u001b[0m in \u001b[0;36m__call__\u001b[0;34m(self, *args, **kwargs)\u001b[0m\n\u001b[1;32m    118\u001b[0m     \u001b[0;32mdef\u001b[0m \u001b[0m__call__\u001b[0m\u001b[0;34m(\u001b[0m\u001b[0mself\u001b[0m\u001b[0;34m,\u001b[0m \u001b[0;34m*\u001b[0m\u001b[0margs\u001b[0m\u001b[0;34m,\u001b[0m \u001b[0;34m**\u001b[0m\u001b[0mkwargs\u001b[0m\u001b[0;34m)\u001b[0m\u001b[0;34m:\u001b[0m\u001b[0;34m\u001b[0m\u001b[0;34m\u001b[0m\u001b[0m\n\u001b[1;32m    119\u001b[0m         \u001b[0;31m# this magic method makes a Processor callable\u001b[0m\u001b[0;34m\u001b[0m\u001b[0;34m\u001b[0m\u001b[0;34m\u001b[0m\u001b[0m\n\u001b[0;32m--> 120\u001b[0;31m         \u001b[0;32mreturn\u001b[0m \u001b[0mself\u001b[0m\u001b[0;34m.\u001b[0m\u001b[0mprocess\u001b[0m\u001b[0;34m(\u001b[0m\u001b[0;34m*\u001b[0m\u001b[0margs\u001b[0m\u001b[0;34m,\u001b[0m \u001b[0;34m**\u001b[0m\u001b[0mkwargs\u001b[0m\u001b[0;34m)\u001b[0m\u001b[0;34m\u001b[0m\u001b[0;34m\u001b[0m\u001b[0m\n\u001b[0m\u001b[1;32m    121\u001b[0m \u001b[0;34m\u001b[0m\u001b[0m\n\u001b[1;32m    122\u001b[0m \u001b[0;34m\u001b[0m\u001b[0m\n",
      "\u001b[0;32m~/anaconda3/envs/bassline_transcription/lib/python3.8/site-packages/madmom/processors.py\u001b[0m in \u001b[0;36mprocess\u001b[0;34m(self, data, **kwargs)\u001b[0m\n\u001b[1;32m    422\u001b[0m         \u001b[0;31m# sequentially process the data\u001b[0m\u001b[0;34m\u001b[0m\u001b[0;34m\u001b[0m\u001b[0;34m\u001b[0m\u001b[0m\n\u001b[1;32m    423\u001b[0m         \u001b[0;32mfor\u001b[0m \u001b[0mprocessor\u001b[0m \u001b[0;32min\u001b[0m \u001b[0mself\u001b[0m\u001b[0;34m.\u001b[0m\u001b[0mprocessors\u001b[0m\u001b[0;34m:\u001b[0m\u001b[0;34m\u001b[0m\u001b[0;34m\u001b[0m\u001b[0m\n\u001b[0;32m--> 424\u001b[0;31m             \u001b[0mdata\u001b[0m \u001b[0;34m=\u001b[0m \u001b[0m_process\u001b[0m\u001b[0;34m(\u001b[0m\u001b[0;34m(\u001b[0m\u001b[0mprocessor\u001b[0m\u001b[0;34m,\u001b[0m \u001b[0mdata\u001b[0m\u001b[0;34m,\u001b[0m \u001b[0mkwargs\u001b[0m\u001b[0;34m)\u001b[0m\u001b[0;34m)\u001b[0m\u001b[0;34m\u001b[0m\u001b[0;34m\u001b[0m\u001b[0m\n\u001b[0m\u001b[1;32m    425\u001b[0m         \u001b[0;32mreturn\u001b[0m \u001b[0mdata\u001b[0m\u001b[0;34m\u001b[0m\u001b[0;34m\u001b[0m\u001b[0m\n\u001b[1;32m    426\u001b[0m \u001b[0;34m\u001b[0m\u001b[0m\n",
      "\u001b[0;32m~/anaconda3/envs/bassline_transcription/lib/python3.8/site-packages/madmom/processors.py\u001b[0m in \u001b[0;36m_process\u001b[0;34m(process_tuple)\u001b[0m\n\u001b[1;32m    287\u001b[0m     \u001b[0;31m# call the Processor with data and kwargs\u001b[0m\u001b[0;34m\u001b[0m\u001b[0;34m\u001b[0m\u001b[0;34m\u001b[0m\u001b[0m\n\u001b[1;32m    288\u001b[0m     \u001b[0;32melif\u001b[0m \u001b[0misinstance\u001b[0m\u001b[0;34m(\u001b[0m\u001b[0mprocess_tuple\u001b[0m\u001b[0;34m[\u001b[0m\u001b[0;36m0\u001b[0m\u001b[0;34m]\u001b[0m\u001b[0;34m,\u001b[0m \u001b[0mProcessor\u001b[0m\u001b[0;34m)\u001b[0m\u001b[0;34m:\u001b[0m\u001b[0;34m\u001b[0m\u001b[0;34m\u001b[0m\u001b[0m\n\u001b[0;32m--> 289\u001b[0;31m         \u001b[0;32mreturn\u001b[0m \u001b[0mprocess_tuple\u001b[0m\u001b[0;34m[\u001b[0m\u001b[0;36m0\u001b[0m\u001b[0;34m]\u001b[0m\u001b[0;34m(\u001b[0m\u001b[0;34m*\u001b[0m\u001b[0mprocess_tuple\u001b[0m\u001b[0;34m[\u001b[0m\u001b[0;36m1\u001b[0m\u001b[0;34m:\u001b[0m\u001b[0;34m-\u001b[0m\u001b[0;36m1\u001b[0m\u001b[0;34m]\u001b[0m\u001b[0;34m,\u001b[0m \u001b[0;34m**\u001b[0m\u001b[0mprocess_tuple\u001b[0m\u001b[0;34m[\u001b[0m\u001b[0;34m-\u001b[0m\u001b[0;36m1\u001b[0m\u001b[0;34m]\u001b[0m\u001b[0;34m)\u001b[0m\u001b[0;34m\u001b[0m\u001b[0;34m\u001b[0m\u001b[0m\n\u001b[0m\u001b[1;32m    290\u001b[0m     \u001b[0;31m# just call whatever we got here (e.g. a function) without kwargs\u001b[0m\u001b[0;34m\u001b[0m\u001b[0;34m\u001b[0m\u001b[0;34m\u001b[0m\u001b[0m\n\u001b[1;32m    291\u001b[0m     \u001b[0;32mreturn\u001b[0m \u001b[0mprocess_tuple\u001b[0m\u001b[0;34m[\u001b[0m\u001b[0;36m0\u001b[0m\u001b[0;34m]\u001b[0m\u001b[0;34m(\u001b[0m\u001b[0;34m*\u001b[0m\u001b[0mprocess_tuple\u001b[0m\u001b[0;34m[\u001b[0m\u001b[0;36m1\u001b[0m\u001b[0;34m:\u001b[0m\u001b[0;34m-\u001b[0m\u001b[0;36m1\u001b[0m\u001b[0;34m]\u001b[0m\u001b[0;34m)\u001b[0m\u001b[0;34m\u001b[0m\u001b[0;34m\u001b[0m\u001b[0m\n",
      "\u001b[0;32m~/anaconda3/envs/bassline_transcription/lib/python3.8/site-packages/madmom/processors.py\u001b[0m in \u001b[0;36m__call__\u001b[0;34m(self, *args, **kwargs)\u001b[0m\n\u001b[1;32m    118\u001b[0m     \u001b[0;32mdef\u001b[0m \u001b[0m__call__\u001b[0m\u001b[0;34m(\u001b[0m\u001b[0mself\u001b[0m\u001b[0;34m,\u001b[0m \u001b[0;34m*\u001b[0m\u001b[0margs\u001b[0m\u001b[0;34m,\u001b[0m \u001b[0;34m**\u001b[0m\u001b[0mkwargs\u001b[0m\u001b[0;34m)\u001b[0m\u001b[0;34m:\u001b[0m\u001b[0;34m\u001b[0m\u001b[0;34m\u001b[0m\u001b[0m\n\u001b[1;32m    119\u001b[0m         \u001b[0;31m# this magic method makes a Processor callable\u001b[0m\u001b[0;34m\u001b[0m\u001b[0;34m\u001b[0m\u001b[0;34m\u001b[0m\u001b[0m\n\u001b[0;32m--> 120\u001b[0;31m         \u001b[0;32mreturn\u001b[0m \u001b[0mself\u001b[0m\u001b[0;34m.\u001b[0m\u001b[0mprocess\u001b[0m\u001b[0;34m(\u001b[0m\u001b[0;34m*\u001b[0m\u001b[0margs\u001b[0m\u001b[0;34m,\u001b[0m \u001b[0;34m**\u001b[0m\u001b[0mkwargs\u001b[0m\u001b[0;34m)\u001b[0m\u001b[0;34m\u001b[0m\u001b[0;34m\u001b[0m\u001b[0m\n\u001b[0m\u001b[1;32m    121\u001b[0m \u001b[0;34m\u001b[0m\u001b[0m\n\u001b[1;32m    122\u001b[0m \u001b[0;34m\u001b[0m\u001b[0m\n",
      "\u001b[0;32m~/anaconda3/envs/bassline_transcription/lib/python3.8/site-packages/madmom/processors.py\u001b[0m in \u001b[0;36mprocess\u001b[0;34m(self, data, **kwargs)\u001b[0m\n\u001b[1;32m    482\u001b[0m             \u001b[0;32mreturn\u001b[0m \u001b[0;34m[\u001b[0m\u001b[0m_process\u001b[0m\u001b[0;34m(\u001b[0m\u001b[0;34m(\u001b[0m\u001b[0mself\u001b[0m\u001b[0;34m.\u001b[0m\u001b[0mprocessors\u001b[0m\u001b[0;34m[\u001b[0m\u001b[0;36m0\u001b[0m\u001b[0;34m]\u001b[0m\u001b[0;34m,\u001b[0m \u001b[0mdata\u001b[0m\u001b[0;34m,\u001b[0m \u001b[0mkwargs\u001b[0m\u001b[0;34m)\u001b[0m\u001b[0;34m)\u001b[0m\u001b[0;34m]\u001b[0m\u001b[0;34m\u001b[0m\u001b[0;34m\u001b[0m\u001b[0m\n\u001b[1;32m    483\u001b[0m         \u001b[0;31m# process data in parallel and return a list with processed data\u001b[0m\u001b[0;34m\u001b[0m\u001b[0;34m\u001b[0m\u001b[0;34m\u001b[0m\u001b[0m\n\u001b[0;32m--> 484\u001b[0;31m         return list(self.map(_process, zip(self.processors, it.repeat(data),\n\u001b[0m\u001b[1;32m    485\u001b[0m                                            it.repeat(kwargs))))\n\u001b[1;32m    486\u001b[0m \u001b[0;34m\u001b[0m\u001b[0m\n",
      "\u001b[0;32m~/anaconda3/envs/bassline_transcription/lib/python3.8/site-packages/madmom/processors.py\u001b[0m in \u001b[0;36m_process\u001b[0;34m(process_tuple)\u001b[0m\n\u001b[1;32m    287\u001b[0m     \u001b[0;31m# call the Processor with data and kwargs\u001b[0m\u001b[0;34m\u001b[0m\u001b[0;34m\u001b[0m\u001b[0;34m\u001b[0m\u001b[0m\n\u001b[1;32m    288\u001b[0m     \u001b[0;32melif\u001b[0m \u001b[0misinstance\u001b[0m\u001b[0;34m(\u001b[0m\u001b[0mprocess_tuple\u001b[0m\u001b[0;34m[\u001b[0m\u001b[0;36m0\u001b[0m\u001b[0;34m]\u001b[0m\u001b[0;34m,\u001b[0m \u001b[0mProcessor\u001b[0m\u001b[0;34m)\u001b[0m\u001b[0;34m:\u001b[0m\u001b[0;34m\u001b[0m\u001b[0;34m\u001b[0m\u001b[0m\n\u001b[0;32m--> 289\u001b[0;31m         \u001b[0;32mreturn\u001b[0m \u001b[0mprocess_tuple\u001b[0m\u001b[0;34m[\u001b[0m\u001b[0;36m0\u001b[0m\u001b[0;34m]\u001b[0m\u001b[0;34m(\u001b[0m\u001b[0;34m*\u001b[0m\u001b[0mprocess_tuple\u001b[0m\u001b[0;34m[\u001b[0m\u001b[0;36m1\u001b[0m\u001b[0;34m:\u001b[0m\u001b[0;34m-\u001b[0m\u001b[0;36m1\u001b[0m\u001b[0;34m]\u001b[0m\u001b[0;34m,\u001b[0m \u001b[0;34m**\u001b[0m\u001b[0mprocess_tuple\u001b[0m\u001b[0;34m[\u001b[0m\u001b[0;34m-\u001b[0m\u001b[0;36m1\u001b[0m\u001b[0;34m]\u001b[0m\u001b[0;34m)\u001b[0m\u001b[0;34m\u001b[0m\u001b[0;34m\u001b[0m\u001b[0m\n\u001b[0m\u001b[1;32m    290\u001b[0m     \u001b[0;31m# just call whatever we got here (e.g. a function) without kwargs\u001b[0m\u001b[0;34m\u001b[0m\u001b[0;34m\u001b[0m\u001b[0;34m\u001b[0m\u001b[0m\n\u001b[1;32m    291\u001b[0m     \u001b[0;32mreturn\u001b[0m \u001b[0mprocess_tuple\u001b[0m\u001b[0;34m[\u001b[0m\u001b[0;36m0\u001b[0m\u001b[0;34m]\u001b[0m\u001b[0;34m(\u001b[0m\u001b[0;34m*\u001b[0m\u001b[0mprocess_tuple\u001b[0m\u001b[0;34m[\u001b[0m\u001b[0;36m1\u001b[0m\u001b[0;34m:\u001b[0m\u001b[0;34m-\u001b[0m\u001b[0;36m1\u001b[0m\u001b[0;34m]\u001b[0m\u001b[0;34m)\u001b[0m\u001b[0;34m\u001b[0m\u001b[0;34m\u001b[0m\u001b[0m\n",
      "\u001b[0;32m~/anaconda3/envs/bassline_transcription/lib/python3.8/site-packages/madmom/processors.py\u001b[0m in \u001b[0;36m__call__\u001b[0;34m(self, *args, **kwargs)\u001b[0m\n\u001b[1;32m    118\u001b[0m     \u001b[0;32mdef\u001b[0m \u001b[0m__call__\u001b[0m\u001b[0;34m(\u001b[0m\u001b[0mself\u001b[0m\u001b[0;34m,\u001b[0m \u001b[0;34m*\u001b[0m\u001b[0margs\u001b[0m\u001b[0;34m,\u001b[0m \u001b[0;34m**\u001b[0m\u001b[0mkwargs\u001b[0m\u001b[0;34m)\u001b[0m\u001b[0;34m:\u001b[0m\u001b[0;34m\u001b[0m\u001b[0;34m\u001b[0m\u001b[0m\n\u001b[1;32m    119\u001b[0m         \u001b[0;31m# this magic method makes a Processor callable\u001b[0m\u001b[0;34m\u001b[0m\u001b[0;34m\u001b[0m\u001b[0;34m\u001b[0m\u001b[0m\n\u001b[0;32m--> 120\u001b[0;31m         \u001b[0;32mreturn\u001b[0m \u001b[0mself\u001b[0m\u001b[0;34m.\u001b[0m\u001b[0mprocess\u001b[0m\u001b[0;34m(\u001b[0m\u001b[0;34m*\u001b[0m\u001b[0margs\u001b[0m\u001b[0;34m,\u001b[0m \u001b[0;34m**\u001b[0m\u001b[0mkwargs\u001b[0m\u001b[0;34m)\u001b[0m\u001b[0;34m\u001b[0m\u001b[0;34m\u001b[0m\u001b[0m\n\u001b[0m\u001b[1;32m    121\u001b[0m \u001b[0;34m\u001b[0m\u001b[0m\n\u001b[1;32m    122\u001b[0m \u001b[0;34m\u001b[0m\u001b[0m\n",
      "\u001b[0;32m~/anaconda3/envs/bassline_transcription/lib/python3.8/site-packages/madmom/processors.py\u001b[0m in \u001b[0;36mprocess\u001b[0;34m(self, data, **kwargs)\u001b[0m\n\u001b[1;32m    422\u001b[0m         \u001b[0;31m# sequentially process the data\u001b[0m\u001b[0;34m\u001b[0m\u001b[0;34m\u001b[0m\u001b[0;34m\u001b[0m\u001b[0m\n\u001b[1;32m    423\u001b[0m         \u001b[0;32mfor\u001b[0m \u001b[0mprocessor\u001b[0m \u001b[0;32min\u001b[0m \u001b[0mself\u001b[0m\u001b[0;34m.\u001b[0m\u001b[0mprocessors\u001b[0m\u001b[0;34m:\u001b[0m\u001b[0;34m\u001b[0m\u001b[0;34m\u001b[0m\u001b[0m\n\u001b[0;32m--> 424\u001b[0;31m             \u001b[0mdata\u001b[0m \u001b[0;34m=\u001b[0m \u001b[0m_process\u001b[0m\u001b[0;34m(\u001b[0m\u001b[0;34m(\u001b[0m\u001b[0mprocessor\u001b[0m\u001b[0;34m,\u001b[0m \u001b[0mdata\u001b[0m\u001b[0;34m,\u001b[0m \u001b[0mkwargs\u001b[0m\u001b[0;34m)\u001b[0m\u001b[0;34m)\u001b[0m\u001b[0;34m\u001b[0m\u001b[0;34m\u001b[0m\u001b[0m\n\u001b[0m\u001b[1;32m    425\u001b[0m         \u001b[0;32mreturn\u001b[0m \u001b[0mdata\u001b[0m\u001b[0;34m\u001b[0m\u001b[0;34m\u001b[0m\u001b[0m\n\u001b[1;32m    426\u001b[0m \u001b[0;34m\u001b[0m\u001b[0m\n",
      "\u001b[0;32m~/anaconda3/envs/bassline_transcription/lib/python3.8/site-packages/madmom/processors.py\u001b[0m in \u001b[0;36m_process\u001b[0;34m(process_tuple)\u001b[0m\n\u001b[1;32m    287\u001b[0m     \u001b[0;31m# call the Processor with data and kwargs\u001b[0m\u001b[0;34m\u001b[0m\u001b[0;34m\u001b[0m\u001b[0;34m\u001b[0m\u001b[0m\n\u001b[1;32m    288\u001b[0m     \u001b[0;32melif\u001b[0m \u001b[0misinstance\u001b[0m\u001b[0;34m(\u001b[0m\u001b[0mprocess_tuple\u001b[0m\u001b[0;34m[\u001b[0m\u001b[0;36m0\u001b[0m\u001b[0;34m]\u001b[0m\u001b[0;34m,\u001b[0m \u001b[0mProcessor\u001b[0m\u001b[0;34m)\u001b[0m\u001b[0;34m:\u001b[0m\u001b[0;34m\u001b[0m\u001b[0;34m\u001b[0m\u001b[0m\n\u001b[0;32m--> 289\u001b[0;31m         \u001b[0;32mreturn\u001b[0m \u001b[0mprocess_tuple\u001b[0m\u001b[0;34m[\u001b[0m\u001b[0;36m0\u001b[0m\u001b[0;34m]\u001b[0m\u001b[0;34m(\u001b[0m\u001b[0;34m*\u001b[0m\u001b[0mprocess_tuple\u001b[0m\u001b[0;34m[\u001b[0m\u001b[0;36m1\u001b[0m\u001b[0;34m:\u001b[0m\u001b[0;34m-\u001b[0m\u001b[0;36m1\u001b[0m\u001b[0;34m]\u001b[0m\u001b[0;34m,\u001b[0m \u001b[0;34m**\u001b[0m\u001b[0mprocess_tuple\u001b[0m\u001b[0;34m[\u001b[0m\u001b[0;34m-\u001b[0m\u001b[0;36m1\u001b[0m\u001b[0;34m]\u001b[0m\u001b[0;34m)\u001b[0m\u001b[0;34m\u001b[0m\u001b[0;34m\u001b[0m\u001b[0m\n\u001b[0m\u001b[1;32m    290\u001b[0m     \u001b[0;31m# just call whatever we got here (e.g. a function) without kwargs\u001b[0m\u001b[0;34m\u001b[0m\u001b[0;34m\u001b[0m\u001b[0;34m\u001b[0m\u001b[0m\n\u001b[1;32m    291\u001b[0m     \u001b[0;32mreturn\u001b[0m \u001b[0mprocess_tuple\u001b[0m\u001b[0;34m[\u001b[0m\u001b[0;36m0\u001b[0m\u001b[0;34m]\u001b[0m\u001b[0;34m(\u001b[0m\u001b[0;34m*\u001b[0m\u001b[0mprocess_tuple\u001b[0m\u001b[0;34m[\u001b[0m\u001b[0;36m1\u001b[0m\u001b[0;34m:\u001b[0m\u001b[0;34m-\u001b[0m\u001b[0;36m1\u001b[0m\u001b[0;34m]\u001b[0m\u001b[0;34m)\u001b[0m\u001b[0;34m\u001b[0m\u001b[0;34m\u001b[0m\u001b[0m\n",
      "\u001b[0;32m~/anaconda3/envs/bassline_transcription/lib/python3.8/site-packages/madmom/processors.py\u001b[0m in \u001b[0;36m__call__\u001b[0;34m(self, *args, **kwargs)\u001b[0m\n\u001b[1;32m    118\u001b[0m     \u001b[0;32mdef\u001b[0m \u001b[0m__call__\u001b[0m\u001b[0;34m(\u001b[0m\u001b[0mself\u001b[0m\u001b[0;34m,\u001b[0m \u001b[0;34m*\u001b[0m\u001b[0margs\u001b[0m\u001b[0;34m,\u001b[0m \u001b[0;34m**\u001b[0m\u001b[0mkwargs\u001b[0m\u001b[0;34m)\u001b[0m\u001b[0;34m:\u001b[0m\u001b[0;34m\u001b[0m\u001b[0;34m\u001b[0m\u001b[0m\n\u001b[1;32m    119\u001b[0m         \u001b[0;31m# this magic method makes a Processor callable\u001b[0m\u001b[0;34m\u001b[0m\u001b[0;34m\u001b[0m\u001b[0;34m\u001b[0m\u001b[0m\n\u001b[0;32m--> 120\u001b[0;31m         \u001b[0;32mreturn\u001b[0m \u001b[0mself\u001b[0m\u001b[0;34m.\u001b[0m\u001b[0mprocess\u001b[0m\u001b[0;34m(\u001b[0m\u001b[0;34m*\u001b[0m\u001b[0margs\u001b[0m\u001b[0;34m,\u001b[0m \u001b[0;34m**\u001b[0m\u001b[0mkwargs\u001b[0m\u001b[0;34m)\u001b[0m\u001b[0;34m\u001b[0m\u001b[0;34m\u001b[0m\u001b[0m\n\u001b[0m\u001b[1;32m    121\u001b[0m \u001b[0;34m\u001b[0m\u001b[0m\n\u001b[1;32m    122\u001b[0m \u001b[0;34m\u001b[0m\u001b[0m\n",
      "\u001b[0;32m~/anaconda3/envs/bassline_transcription/lib/python3.8/site-packages/madmom/audio/stft.py\u001b[0m in \u001b[0;36mprocess\u001b[0;34m(self, data, **kwargs)\u001b[0m\n\u001b[1;32m    499\u001b[0m         \"\"\"\n\u001b[1;32m    500\u001b[0m         \u001b[0;31m# instantiate a STFT\u001b[0m\u001b[0;34m\u001b[0m\u001b[0;34m\u001b[0m\u001b[0;34m\u001b[0m\u001b[0m\n\u001b[0;32m--> 501\u001b[0;31m         data = ShortTimeFourierTransform(data, window=self.window,\n\u001b[0m\u001b[1;32m    502\u001b[0m                                          \u001b[0mfft_size\u001b[0m\u001b[0;34m=\u001b[0m\u001b[0mself\u001b[0m\u001b[0;34m.\u001b[0m\u001b[0mfft_size\u001b[0m\u001b[0;34m,\u001b[0m\u001b[0;34m\u001b[0m\u001b[0;34m\u001b[0m\u001b[0m\n\u001b[1;32m    503\u001b[0m                                          \u001b[0mcircular_shift\u001b[0m\u001b[0;34m=\u001b[0m\u001b[0mself\u001b[0m\u001b[0;34m.\u001b[0m\u001b[0mcircular_shift\u001b[0m\u001b[0;34m,\u001b[0m\u001b[0;34m\u001b[0m\u001b[0;34m\u001b[0m\u001b[0m\n",
      "\u001b[0;32m~/anaconda3/envs/bassline_transcription/lib/python3.8/site-packages/madmom/audio/stft.py\u001b[0m in \u001b[0;36m__new__\u001b[0;34m(cls, frames, window, fft_size, circular_shift, include_nyquist, fft_window, fftw, **kwargs)\u001b[0m\n\u001b[1;32m    357\u001b[0m             \u001b[0;32mpass\u001b[0m\u001b[0;34m\u001b[0m\u001b[0;34m\u001b[0m\u001b[0m\n\u001b[1;32m    358\u001b[0m         \u001b[0;31m# calculate the STFT\u001b[0m\u001b[0;34m\u001b[0m\u001b[0;34m\u001b[0m\u001b[0;34m\u001b[0m\u001b[0m\n\u001b[0;32m--> 359\u001b[0;31m         data = stft(frames, fft_window, fft_size=fft_size,\n\u001b[0m\u001b[1;32m    360\u001b[0m                     \u001b[0mcircular_shift\u001b[0m\u001b[0;34m=\u001b[0m\u001b[0mcircular_shift\u001b[0m\u001b[0;34m,\u001b[0m\u001b[0;34m\u001b[0m\u001b[0;34m\u001b[0m\u001b[0m\n\u001b[1;32m    361\u001b[0m                     include_nyquist=include_nyquist, fftw=fftw)\n",
      "\u001b[0;32m~/anaconda3/envs/bassline_transcription/lib/python3.8/site-packages/madmom/audio/stft.py\u001b[0m in \u001b[0;36mstft\u001b[0;34m(frames, window, fft_size, circular_shift, include_nyquist, fftw)\u001b[0m\n\u001b[1;32m    127\u001b[0m         \u001b[0;31m# perform DFT\u001b[0m\u001b[0;34m\u001b[0m\u001b[0;34m\u001b[0m\u001b[0;34m\u001b[0m\u001b[0m\n\u001b[1;32m    128\u001b[0m         \u001b[0;32mif\u001b[0m \u001b[0mfftw\u001b[0m\u001b[0;34m:\u001b[0m\u001b[0;34m\u001b[0m\u001b[0;34m\u001b[0m\u001b[0m\n\u001b[0;32m--> 129\u001b[0;31m             \u001b[0mdata\u001b[0m\u001b[0;34m[\u001b[0m\u001b[0mf\u001b[0m\u001b[0;34m]\u001b[0m \u001b[0;34m=\u001b[0m \u001b[0mfftw\u001b[0m\u001b[0;34m(\u001b[0m\u001b[0mfft_signal\u001b[0m\u001b[0;34m)\u001b[0m\u001b[0;34m[\u001b[0m\u001b[0;34m:\u001b[0m\u001b[0mnum_fft_bins\u001b[0m\u001b[0;34m]\u001b[0m\u001b[0;34m\u001b[0m\u001b[0;34m\u001b[0m\u001b[0m\n\u001b[0m\u001b[1;32m    130\u001b[0m         \u001b[0;32melse\u001b[0m\u001b[0;34m:\u001b[0m\u001b[0;34m\u001b[0m\u001b[0;34m\u001b[0m\u001b[0m\n\u001b[1;32m    131\u001b[0m             \u001b[0mdata\u001b[0m\u001b[0;34m[\u001b[0m\u001b[0mf\u001b[0m\u001b[0;34m]\u001b[0m \u001b[0;34m=\u001b[0m \u001b[0mfftpack\u001b[0m\u001b[0;34m.\u001b[0m\u001b[0mfft\u001b[0m\u001b[0;34m(\u001b[0m\u001b[0mfft_signal\u001b[0m\u001b[0;34m,\u001b[0m \u001b[0mfft_size\u001b[0m\u001b[0;34m,\u001b[0m \u001b[0maxis\u001b[0m\u001b[0;34m=\u001b[0m\u001b[0;36m0\u001b[0m\u001b[0;34m)\u001b[0m\u001b[0;34m[\u001b[0m\u001b[0;34m:\u001b[0m\u001b[0mnum_fft_bins\u001b[0m\u001b[0;34m]\u001b[0m\u001b[0;34m\u001b[0m\u001b[0;34m\u001b[0m\u001b[0m\n",
      "\u001b[0;32mpyfftw/pyfftw.pyx\u001b[0m in \u001b[0;36mpyfftw.pyfftw.FFTW.__call__\u001b[0;34m()\u001b[0m\n",
      "\u001b[0;31mValueError\u001b[0m: Invalid input shape: The new input array should be the same shape as the input array used to instantiate the object."
     ]
    }
   ],
   "source": [
    "ccc=proc(z)"
   ]
  },
  {
   "cell_type": "code",
   "execution_count": 11,
   "metadata": {},
   "outputs": [
    {
     "data": {
      "text/plain": [
       "array([0.13308048, 0.14369045, 0.09433998, ..., 0.03400828, 0.03396654,\n",
       "       0.02802753], dtype=float32)"
      ]
     },
     "execution_count": 11,
     "metadata": {},
     "output_type": "execute_result"
    }
   ],
   "source": [
    "proc(clips[0])"
   ]
  },
  {
   "cell_type": "code",
   "execution_count": 32,
   "metadata": {},
   "outputs": [
    {
     "data": {
      "text/plain": [
       "(19699,)"
      ]
     },
     "execution_count": 32,
     "metadata": {},
     "output_type": "execute_result"
    }
   ],
   "source": [
    "ccc.shape"
   ]
  },
  {
   "cell_type": "code",
   "execution_count": 12,
   "metadata": {},
   "outputs": [],
   "source": [
    "aa = RNNBeatProcessor()(clips[0])"
   ]
  },
  {
   "cell_type": "code",
   "execution_count": 13,
   "metadata": {},
   "outputs": [
    {
     "data": {
      "text/plain": [
       "array([0.10125004, 0.4088026 , 0.34069154, ..., 0.0010117 , 0.00151654,\n",
       "       0.00383549], dtype=float32)"
      ]
     },
     "execution_count": 13,
     "metadata": {},
     "output_type": "execute_result"
    }
   ],
   "source": [
    "aa"
   ]
  },
  {
   "cell_type": "code",
   "execution_count": 17,
   "metadata": {},
   "outputs": [],
   "source": [
    "beat_proc = BeatTrackingProcessor(fps=100)"
   ]
  },
  {
   "cell_type": "code",
   "execution_count": 19,
   "metadata": {},
   "outputs": [],
   "source": [
    "bb = proc(clips[0])"
   ]
  },
  {
   "cell_type": "code",
   "execution_count": 20,
   "metadata": {},
   "outputs": [
    {
     "data": {
      "text/plain": [
       "array([2.0000e-02, 4.9000e-01, 9.6000e-01, 1.4400e+00, 1.9100e+00,\n",
       "       2.3900e+00, 2.8700e+00, 3.3500e+00, 3.8300e+00, 4.3100e+00,\n",
       "       4.7900e+00, 5.2700e+00, 5.7500e+00, 6.2300e+00, 6.7100e+00,\n",
       "       7.1900e+00, 7.6700e+00, 8.1500e+00, 8.6300e+00, 9.1100e+00,\n",
       "       9.5900e+00, 1.0070e+01, 1.0550e+01, 1.1030e+01, 1.1510e+01,\n",
       "       1.1990e+01, 1.2480e+01, 1.2960e+01, 1.3440e+01, 1.3920e+01,\n",
       "       1.4400e+01, 1.4880e+01, 1.5350e+01, 1.5830e+01, 1.6310e+01,\n",
       "       1.6790e+01, 1.7270e+01, 1.7750e+01, 1.8230e+01, 1.8710e+01,\n",
       "       1.9190e+01, 1.9670e+01, 2.0150e+01, 2.0630e+01, 2.1110e+01,\n",
       "       2.1590e+01, 2.2070e+01, 2.2550e+01, 2.3030e+01, 2.3510e+01,\n",
       "       2.3990e+01, 2.4470e+01, 2.4950e+01, 2.5430e+01, 2.5910e+01,\n",
       "       2.6390e+01, 2.6870e+01, 2.7350e+01, 2.7830e+01, 2.8310e+01,\n",
       "       2.8790e+01, 2.9270e+01, 2.9750e+01, 3.0230e+01, 3.0710e+01,\n",
       "       3.1190e+01, 3.1670e+01, 3.2150e+01, 3.2630e+01, 3.3110e+01,\n",
       "       3.3590e+01, 3.4070e+01, 3.4550e+01, 3.5030e+01, 3.5510e+01,\n",
       "       3.5990e+01, 3.6470e+01, 3.6950e+01, 3.7430e+01, 3.7910e+01,\n",
       "       3.8390e+01, 3.8870e+01, 3.9350e+01, 3.9830e+01, 4.0310e+01,\n",
       "       4.0790e+01, 4.1270e+01, 4.1750e+01, 4.2230e+01, 4.2710e+01,\n",
       "       4.3190e+01, 4.3670e+01, 4.4150e+01, 4.4630e+01, 4.5110e+01,\n",
       "       4.5590e+01, 4.6070e+01, 4.6550e+01, 4.7030e+01, 4.7510e+01,\n",
       "       4.7990e+01, 4.8480e+01, 4.8960e+01, 4.9440e+01, 4.9920e+01,\n",
       "       5.0400e+01, 5.0880e+01, 5.1360e+01, 5.1840e+01, 5.2320e+01,\n",
       "       5.2800e+01, 5.3280e+01, 5.3760e+01, 5.4240e+01, 5.4720e+01,\n",
       "       5.5200e+01, 5.5680e+01, 5.6160e+01, 5.6640e+01, 5.7120e+01,\n",
       "       5.7590e+01, 5.8070e+01, 5.8550e+01, 5.9030e+01, 5.9510e+01,\n",
       "       5.9990e+01, 6.0470e+01, 6.0950e+01, 6.1430e+01, 6.1910e+01,\n",
       "       6.2390e+01, 6.2870e+01, 6.3350e+01, 6.3830e+01, 6.4310e+01,\n",
       "       6.4790e+01, 6.5270e+01, 6.5750e+01, 6.6240e+01, 6.6720e+01,\n",
       "       6.7190e+01, 6.7670e+01, 6.8150e+01, 6.8630e+01, 6.9110e+01,\n",
       "       6.9590e+01, 7.0070e+01, 7.0550e+01, 7.1030e+01, 7.1510e+01,\n",
       "       7.1990e+01, 7.2470e+01, 7.2950e+01, 7.3430e+01, 7.3910e+01,\n",
       "       7.4390e+01, 7.4870e+01, 7.5350e+01, 7.5830e+01, 7.6310e+01,\n",
       "       7.6790e+01, 7.7270e+01, 7.7750e+01, 7.8230e+01, 7.8710e+01,\n",
       "       7.9190e+01, 7.9670e+01, 8.0150e+01, 8.0630e+01, 8.1110e+01,\n",
       "       8.1590e+01, 8.2070e+01, 8.2550e+01, 8.3030e+01, 8.3520e+01,\n",
       "       8.4000e+01, 8.4480e+01, 8.4960e+01, 8.5440e+01, 8.5920e+01,\n",
       "       8.6400e+01, 8.6880e+01, 8.7350e+01, 8.7830e+01, 8.8310e+01,\n",
       "       8.8790e+01, 8.9270e+01, 8.9750e+01, 9.0230e+01, 9.0710e+01,\n",
       "       9.1190e+01, 9.1670e+01, 9.2150e+01, 9.2630e+01, 9.3110e+01,\n",
       "       9.3590e+01, 9.4070e+01, 9.4550e+01, 9.5030e+01, 9.5510e+01,\n",
       "       9.6000e+01, 9.6480e+01, 9.6960e+01, 9.7440e+01, 9.7920e+01,\n",
       "       9.8400e+01, 9.8880e+01, 9.9360e+01, 9.9840e+01, 1.0032e+02,\n",
       "       1.0080e+02, 1.0128e+02, 1.0176e+02, 1.0224e+02, 1.0272e+02,\n",
       "       1.0320e+02, 1.0368e+02, 1.0416e+02, 1.0464e+02, 1.0512e+02,\n",
       "       1.0560e+02, 1.0608e+02, 1.0656e+02, 1.0704e+02, 1.0752e+02,\n",
       "       1.0800e+02, 1.0848e+02, 1.0896e+02, 1.0944e+02, 1.0992e+02,\n",
       "       1.1040e+02, 1.1088e+02, 1.1136e+02, 1.1184e+02, 1.1232e+02,\n",
       "       1.1280e+02, 1.1328e+02, 1.1376e+02, 1.1424e+02, 1.1472e+02,\n",
       "       1.1520e+02, 1.1568e+02, 1.1616e+02, 1.1664e+02, 1.1712e+02,\n",
       "       1.1760e+02, 1.1808e+02, 1.1856e+02, 1.1903e+02, 1.1951e+02,\n",
       "       1.1999e+02, 1.2047e+02, 1.2095e+02, 1.2143e+02, 1.2191e+02,\n",
       "       1.2238e+02, 1.2286e+02, 1.2335e+02, 1.2383e+02, 1.2431e+02,\n",
       "       1.2479e+02, 1.2527e+02, 1.2575e+02, 1.2623e+02, 1.2671e+02,\n",
       "       1.2719e+02, 1.2767e+02, 1.2815e+02, 1.2863e+02, 1.2911e+02,\n",
       "       1.2959e+02, 1.3007e+02, 1.3055e+02, 1.3104e+02, 1.3152e+02,\n",
       "       1.3200e+02, 1.3248e+02, 1.3296e+02, 1.3344e+02, 1.3392e+02,\n",
       "       1.3440e+02, 1.3488e+02, 1.3536e+02, 1.3584e+02, 1.3632e+02,\n",
       "       1.3680e+02, 1.3728e+02, 1.3776e+02, 1.3824e+02, 1.3872e+02,\n",
       "       1.3920e+02, 1.3968e+02, 1.4016e+02, 1.4064e+02, 1.4112e+02,\n",
       "       1.4160e+02, 1.4208e+02, 1.4256e+02, 1.4304e+02, 1.4352e+02,\n",
       "       1.4400e+02, 1.4448e+02, 1.4496e+02, 1.4544e+02, 1.4592e+02,\n",
       "       1.4640e+02, 1.4688e+02, 1.4736e+02, 1.4784e+02, 1.4832e+02,\n",
       "       1.4880e+02, 1.4928e+02, 1.4976e+02, 1.5024e+02, 1.5072e+02,\n",
       "       1.5120e+02, 1.5168e+02, 1.5216e+02, 1.5264e+02, 1.5312e+02,\n",
       "       1.5359e+02, 1.5408e+02, 1.5456e+02, 1.5504e+02, 1.5552e+02,\n",
       "       1.5600e+02, 1.5648e+02, 1.5696e+02, 1.5744e+02, 1.5792e+02,\n",
       "       1.5840e+02, 1.5888e+02, 1.5936e+02, 1.5984e+02, 1.6032e+02,\n",
       "       1.6080e+02, 1.6128e+02, 1.6176e+02, 1.6224e+02, 1.6272e+02,\n",
       "       1.6320e+02, 1.6368e+02, 1.6416e+02, 1.6464e+02, 1.6512e+02,\n",
       "       1.6560e+02, 1.6608e+02, 1.6656e+02, 1.6704e+02, 1.6752e+02,\n",
       "       1.6800e+02, 1.6848e+02, 1.6896e+02, 1.6944e+02, 1.6992e+02,\n",
       "       1.7040e+02, 1.7088e+02, 1.7136e+02, 1.7184e+02, 1.7232e+02,\n",
       "       1.7280e+02, 1.7328e+02, 1.7376e+02, 1.7424e+02, 1.7471e+02,\n",
       "       1.7519e+02, 1.7567e+02, 1.7615e+02, 1.7663e+02, 1.7711e+02,\n",
       "       1.7759e+02, 1.7807e+02, 1.7855e+02, 1.7904e+02, 1.7952e+02,\n",
       "       1.8000e+02, 1.8048e+02, 1.8096e+02, 1.8144e+02, 1.8192e+02,\n",
       "       1.8240e+02, 1.8288e+02, 1.8336e+02, 1.8384e+02, 1.8432e+02,\n",
       "       1.8480e+02, 1.8528e+02, 1.8576e+02, 1.8624e+02, 1.8672e+02,\n",
       "       1.8720e+02, 1.8768e+02, 1.8816e+02, 1.8864e+02, 1.8912e+02,\n",
       "       1.8960e+02, 1.9008e+02, 1.9056e+02, 1.9104e+02, 1.9152e+02,\n",
       "       1.9200e+02, 1.9248e+02, 1.9296e+02, 1.9344e+02, 1.9392e+02,\n",
       "       1.9440e+02, 1.9488e+02, 1.9536e+02, 1.9584e+02, 1.9632e+02,\n",
       "       1.9680e+02, 1.9728e+02, 1.9776e+02, 1.9824e+02, 1.9872e+02,\n",
       "       1.9920e+02, 1.9968e+02, 2.0016e+02, 2.0064e+02, 2.0112e+02,\n",
       "       2.0160e+02, 2.0208e+02, 2.0256e+02, 2.0304e+02, 2.0352e+02,\n",
       "       2.0400e+02, 2.0448e+02, 2.0496e+02, 2.0544e+02, 2.0592e+02,\n",
       "       2.0640e+02, 2.0688e+02, 2.0736e+02, 2.0784e+02, 2.0832e+02,\n",
       "       2.0880e+02, 2.0928e+02, 2.0976e+02, 2.1024e+02, 2.1072e+02,\n",
       "       2.1120e+02, 2.1168e+02, 2.1216e+02, 2.1264e+02, 2.1312e+02,\n",
       "       2.1360e+02, 2.1408e+02, 2.1456e+02, 2.1504e+02, 2.1552e+02,\n",
       "       2.1600e+02, 2.1648e+02, 2.1696e+02, 2.1744e+02, 2.1792e+02,\n",
       "       2.1840e+02, 2.1888e+02, 2.1936e+02, 2.1984e+02, 2.2032e+02,\n",
       "       2.2080e+02, 2.2128e+02, 2.2176e+02, 2.2224e+02, 2.2272e+02,\n",
       "       2.2320e+02, 2.2368e+02, 2.2416e+02, 2.2464e+02, 2.2512e+02,\n",
       "       2.2560e+02, 2.2608e+02, 2.2656e+02, 2.2704e+02, 2.2752e+02,\n",
       "       2.2800e+02, 2.2848e+02, 2.2896e+02, 2.2944e+02, 2.2992e+02,\n",
       "       2.3040e+02, 2.3088e+02, 2.3136e+02, 2.3184e+02, 2.3232e+02,\n",
       "       2.3280e+02, 2.3328e+02, 2.3376e+02, 2.3424e+02, 2.3472e+02,\n",
       "       2.3520e+02, 2.3568e+02, 2.3616e+02, 2.3664e+02, 2.3712e+02,\n",
       "       2.3760e+02, 2.3808e+02, 2.3856e+02, 2.3904e+02, 2.3952e+02,\n",
       "       2.4000e+02, 2.4048e+02, 2.4096e+02, 2.4144e+02, 2.4192e+02,\n",
       "       2.4240e+02, 2.4288e+02, 2.4336e+02, 2.4384e+02, 2.4432e+02,\n",
       "       2.4480e+02, 2.4528e+02, 2.4576e+02, 2.4624e+02, 2.4672e+02,\n",
       "       2.4720e+02, 2.4768e+02, 2.4816e+02, 2.4864e+02, 2.4912e+02,\n",
       "       2.4960e+02, 2.5008e+02, 2.5056e+02, 2.5104e+02, 2.5152e+02,\n",
       "       2.5200e+02, 2.5248e+02, 2.5296e+02, 2.5344e+02, 2.5392e+02,\n",
       "       2.5440e+02, 2.5488e+02, 2.5536e+02, 2.5584e+02, 2.5632e+02,\n",
       "       2.5680e+02, 2.5728e+02, 2.5776e+02, 2.5824e+02, 2.5872e+02,\n",
       "       2.5920e+02, 2.5968e+02, 2.6016e+02, 2.6064e+02, 2.6112e+02,\n",
       "       2.6160e+02, 2.6208e+02, 2.6256e+02, 2.6304e+02, 2.6352e+02,\n",
       "       2.6400e+02, 2.6448e+02, 2.6496e+02, 2.6544e+02, 2.6592e+02,\n",
       "       2.6640e+02, 2.6688e+02, 2.6736e+02, 2.6784e+02, 2.6832e+02,\n",
       "       2.6880e+02, 2.6928e+02, 2.6976e+02, 2.7024e+02, 2.7072e+02,\n",
       "       2.7120e+02, 2.7168e+02, 2.7216e+02, 2.7264e+02, 2.7312e+02,\n",
       "       2.7360e+02, 2.7408e+02, 2.7456e+02, 2.7504e+02, 2.7552e+02,\n",
       "       2.7600e+02, 2.7648e+02, 2.7696e+02, 2.7744e+02, 2.7792e+02,\n",
       "       2.7840e+02, 2.7888e+02, 2.7936e+02, 2.7984e+02, 2.8032e+02,\n",
       "       2.8080e+02, 2.8128e+02, 2.8176e+02, 2.8224e+02, 2.8272e+02,\n",
       "       2.8320e+02, 2.8368e+02, 2.8416e+02, 2.8464e+02, 2.8512e+02,\n",
       "       2.8560e+02, 2.8608e+02, 2.8656e+02, 2.8704e+02, 2.8752e+02,\n",
       "       2.8800e+02, 2.8848e+02, 2.8896e+02, 2.8944e+02, 2.8992e+02,\n",
       "       2.9040e+02, 2.9088e+02, 2.9136e+02, 2.9184e+02, 2.9232e+02,\n",
       "       2.9280e+02, 2.9328e+02, 2.9376e+02, 2.9424e+02, 2.9472e+02,\n",
       "       2.9520e+02, 2.9568e+02, 2.9616e+02, 2.9664e+02, 2.9712e+02,\n",
       "       2.9760e+02, 2.9808e+02, 2.9856e+02, 2.9904e+02, 2.9952e+02,\n",
       "       3.0000e+02, 3.0048e+02, 3.0096e+02, 3.0144e+02, 3.0192e+02,\n",
       "       3.0240e+02, 3.0288e+02, 3.0336e+02, 3.0384e+02, 3.0432e+02,\n",
       "       3.0480e+02, 3.0528e+02, 3.0576e+02, 3.0624e+02, 3.0672e+02,\n",
       "       3.0719e+02, 3.0767e+02, 3.0815e+02, 3.0863e+02, 3.0911e+02,\n",
       "       3.0959e+02, 3.1007e+02, 3.1055e+02, 3.1103e+02, 3.1151e+02,\n",
       "       3.1199e+02, 3.1247e+02, 3.1295e+02, 3.1343e+02, 3.1391e+02,\n",
       "       3.1439e+02, 3.1487e+02, 3.1536e+02, 3.1584e+02, 3.1632e+02,\n",
       "       3.1680e+02, 3.1728e+02, 3.1776e+02, 3.1824e+02, 3.1872e+02,\n",
       "       3.1920e+02, 3.1968e+02, 3.2016e+02, 3.2064e+02, 3.2112e+02,\n",
       "       3.2160e+02, 3.2208e+02, 3.2256e+02, 3.2304e+02, 3.2352e+02,\n",
       "       3.2400e+02, 3.2448e+02, 3.2496e+02, 3.2544e+02, 3.2592e+02,\n",
       "       3.2640e+02, 3.2688e+02, 3.2736e+02, 3.2784e+02, 3.2831e+02,\n",
       "       3.2879e+02, 3.2927e+02, 3.2975e+02, 3.3023e+02, 3.3071e+02,\n",
       "       3.3119e+02, 3.3167e+02, 3.3215e+02, 3.3263e+02, 3.3311e+02,\n",
       "       3.3359e+02, 3.3407e+02, 3.3455e+02, 3.3503e+02, 3.3551e+02,\n",
       "       3.3598e+02, 3.3646e+02, 3.3694e+02, 3.3742e+02, 3.3791e+02,\n",
       "       3.3839e+02, 3.3887e+02, 3.3935e+02, 3.3983e+02, 3.4031e+02,\n",
       "       3.4079e+02, 3.4127e+02, 3.4175e+02, 3.4223e+02, 3.4271e+02,\n",
       "       3.4319e+02, 3.4367e+02, 3.4415e+02, 3.4463e+02, 3.4511e+02,\n",
       "       3.4559e+02, 3.4607e+02, 3.4655e+02, 3.4703e+02, 3.4751e+02,\n",
       "       3.4799e+02, 3.4847e+02, 3.4895e+02, 3.4943e+02, 3.4991e+02,\n",
       "       3.5040e+02, 3.5088e+02, 3.5135e+02, 3.5183e+02, 3.5231e+02,\n",
       "       3.5279e+02, 3.5327e+02, 3.5375e+02, 3.5423e+02, 3.5471e+02,\n",
       "       3.5519e+02, 3.5567e+02, 3.5615e+02, 3.5663e+02, 3.5711e+02,\n",
       "       3.5759e+02, 3.5807e+02, 3.5855e+02, 3.5903e+02, 3.5951e+02,\n",
       "       3.6000e+02, 3.6048e+02, 3.6096e+02, 3.6144e+02, 3.6192e+02,\n",
       "       3.6240e+02, 3.6288e+02, 3.6336e+02, 3.6384e+02, 3.6432e+02,\n",
       "       3.6479e+02, 3.6527e+02, 3.6575e+02, 3.6623e+02, 3.6671e+02,\n",
       "       3.6719e+02, 3.6767e+02, 3.6815e+02, 3.6863e+02, 3.6911e+02,\n",
       "       3.6959e+02, 3.7007e+02, 3.7055e+02, 3.7103e+02, 3.7151e+02,\n",
       "       3.7199e+02, 3.7247e+02, 3.7295e+02, 3.7344e+02, 3.7392e+02,\n",
       "       3.7440e+02, 3.7488e+02, 3.7535e+02, 3.7583e+02, 3.7631e+02,\n",
       "       3.7679e+02, 3.7727e+02, 3.7775e+02, 3.7823e+02, 3.7871e+02,\n",
       "       3.7919e+02, 3.7967e+02, 3.8015e+02, 3.8063e+02, 3.8111e+02,\n",
       "       3.8159e+02, 3.8207e+02, 3.8255e+02, 3.8303e+02, 3.8352e+02,\n",
       "       3.8400e+02, 3.8448e+02, 3.8496e+02, 3.8544e+02, 3.8592e+02,\n",
       "       3.8640e+02, 3.8688e+02, 3.8736e+02, 3.8784e+02, 3.8832e+02,\n",
       "       3.8880e+02, 3.8928e+02, 3.8976e+02, 3.9024e+02, 3.9072e+02,\n",
       "       3.9120e+02, 3.9168e+02, 3.9216e+02, 3.9264e+02, 3.9312e+02,\n",
       "       3.9360e+02, 3.9408e+02, 3.9456e+02, 3.9504e+02, 3.9552e+02,\n",
       "       3.9600e+02, 3.9648e+02, 3.9696e+02, 3.9744e+02, 3.9792e+02,\n",
       "       3.9840e+02, 3.9888e+02, 3.9937e+02])"
      ]
     },
     "execution_count": 20,
     "metadata": {},
     "output_type": "execute_result"
    }
   ],
   "source": [
    "beat_proc(bb)"
   ]
  },
  {
   "cell_type": "code",
   "execution_count": 18,
   "metadata": {},
   "outputs": [
    {
     "data": {
      "text/plain": [
       "array([2.0000e-02, 4.9000e-01, 9.7000e-01, 1.4500e+00, 1.9300e+00,\n",
       "       2.4100e+00, 2.8900e+00, 3.3700e+00, 3.8500e+00, 4.3300e+00,\n",
       "       4.8100e+00, 5.2900e+00, 5.7700e+00, 6.2500e+00, 6.7300e+00,\n",
       "       7.2100e+00, 7.6900e+00, 8.1700e+00, 8.6500e+00, 9.1300e+00,\n",
       "       9.6100e+00, 1.0090e+01, 1.0570e+01, 1.1050e+01, 1.1530e+01,\n",
       "       1.2010e+01, 1.2490e+01, 1.2970e+01, 1.3450e+01, 1.3930e+01,\n",
       "       1.4410e+01, 1.4890e+01, 1.5370e+01, 1.5850e+01, 1.6330e+01,\n",
       "       1.6810e+01, 1.7290e+01, 1.7770e+01, 1.8250e+01, 1.8730e+01,\n",
       "       1.9210e+01, 1.9690e+01, 2.0170e+01, 2.0650e+01, 2.1130e+01,\n",
       "       2.1610e+01, 2.2090e+01, 2.2570e+01, 2.3050e+01, 2.3530e+01,\n",
       "       2.4010e+01, 2.4490e+01, 2.4970e+01, 2.5450e+01, 2.5930e+01,\n",
       "       2.6410e+01, 2.6890e+01, 2.7370e+01, 2.7850e+01, 2.8330e+01,\n",
       "       2.8810e+01, 2.9290e+01, 2.9770e+01, 3.0250e+01, 3.0730e+01,\n",
       "       3.1210e+01, 3.1690e+01, 3.2170e+01, 3.2650e+01, 3.3130e+01,\n",
       "       3.3610e+01, 3.4090e+01, 3.4570e+01, 3.5050e+01, 3.5530e+01,\n",
       "       3.6010e+01, 3.6490e+01, 3.6970e+01, 3.7450e+01, 3.7930e+01,\n",
       "       3.8410e+01, 3.8890e+01, 3.9370e+01, 3.9850e+01, 4.0330e+01,\n",
       "       4.0810e+01, 4.1290e+01, 4.1770e+01, 4.2250e+01, 4.2730e+01,\n",
       "       4.3210e+01, 4.3690e+01, 4.4170e+01, 4.4650e+01, 4.5130e+01,\n",
       "       4.5610e+01, 4.6090e+01, 4.6570e+01, 4.7050e+01, 4.7530e+01,\n",
       "       4.8010e+01, 4.8490e+01, 4.8970e+01, 4.9450e+01, 4.9930e+01,\n",
       "       5.0410e+01, 5.0890e+01, 5.1370e+01, 5.1850e+01, 5.2330e+01,\n",
       "       5.2810e+01, 5.3290e+01, 5.3770e+01, 5.4250e+01, 5.4730e+01,\n",
       "       5.5210e+01, 5.5690e+01, 5.6170e+01, 5.6650e+01, 5.7130e+01,\n",
       "       5.7610e+01, 5.8090e+01, 5.8570e+01, 5.9050e+01, 5.9530e+01,\n",
       "       6.0010e+01, 6.0490e+01, 6.0970e+01, 6.1450e+01, 6.1930e+01,\n",
       "       6.2410e+01, 6.2890e+01, 6.3370e+01, 6.3850e+01, 6.4330e+01,\n",
       "       6.4810e+01, 6.5290e+01, 6.5770e+01, 6.6250e+01, 6.6730e+01,\n",
       "       6.7210e+01, 6.7690e+01, 6.8170e+01, 6.8650e+01, 6.9130e+01,\n",
       "       6.9610e+01, 7.0090e+01, 7.0570e+01, 7.1050e+01, 7.1530e+01,\n",
       "       7.2010e+01, 7.2490e+01, 7.2970e+01, 7.3450e+01, 7.3930e+01,\n",
       "       7.4410e+01, 7.4890e+01, 7.5370e+01, 7.5850e+01, 7.6330e+01,\n",
       "       7.6810e+01, 7.7290e+01, 7.7770e+01, 7.8250e+01, 7.8730e+01,\n",
       "       7.9210e+01, 7.9690e+01, 8.0170e+01, 8.0650e+01, 8.1130e+01,\n",
       "       8.1610e+01, 8.2090e+01, 8.2570e+01, 8.3050e+01, 8.3530e+01,\n",
       "       8.4010e+01, 8.4490e+01, 8.4970e+01, 8.5450e+01, 8.5930e+01,\n",
       "       8.6410e+01, 8.6890e+01, 8.7370e+01, 8.7850e+01, 8.8330e+01,\n",
       "       8.8810e+01, 8.9290e+01, 8.9770e+01, 9.0250e+01, 9.0730e+01,\n",
       "       9.1210e+01, 9.1690e+01, 9.2170e+01, 9.2650e+01, 9.3130e+01,\n",
       "       9.3610e+01, 9.4090e+01, 9.4570e+01, 9.5050e+01, 9.5530e+01,\n",
       "       9.6010e+01, 9.6490e+01, 9.6970e+01, 9.7450e+01, 9.7930e+01,\n",
       "       9.8410e+01, 9.8890e+01, 9.9370e+01, 9.9850e+01, 1.0033e+02,\n",
       "       1.0081e+02, 1.0129e+02, 1.0177e+02, 1.0225e+02, 1.0273e+02,\n",
       "       1.0321e+02, 1.0369e+02, 1.0417e+02, 1.0465e+02, 1.0513e+02,\n",
       "       1.0561e+02, 1.0609e+02, 1.0657e+02, 1.0705e+02, 1.0753e+02,\n",
       "       1.0801e+02, 1.0849e+02, 1.0897e+02, 1.0945e+02, 1.0993e+02,\n",
       "       1.1041e+02, 1.1089e+02, 1.1137e+02, 1.1185e+02, 1.1233e+02,\n",
       "       1.1281e+02, 1.1329e+02, 1.1377e+02, 1.1425e+02, 1.1473e+02,\n",
       "       1.1521e+02, 1.1569e+02, 1.1617e+02, 1.1665e+02, 1.1713e+02,\n",
       "       1.1761e+02, 1.1809e+02, 1.1857e+02, 1.1905e+02, 1.1953e+02,\n",
       "       1.2001e+02, 1.2049e+02, 1.2097e+02, 1.2145e+02, 1.2193e+02,\n",
       "       1.2241e+02, 1.2289e+02, 1.2337e+02, 1.2385e+02, 1.2433e+02,\n",
       "       1.2481e+02, 1.2529e+02, 1.2577e+02, 1.2625e+02, 1.2673e+02,\n",
       "       1.2721e+02, 1.2769e+02, 1.2817e+02, 1.2865e+02, 1.2913e+02,\n",
       "       1.2961e+02, 1.3009e+02, 1.3057e+02, 1.3105e+02, 1.3153e+02,\n",
       "       1.3201e+02, 1.3249e+02, 1.3297e+02, 1.3345e+02, 1.3393e+02,\n",
       "       1.3441e+02, 1.3489e+02, 1.3537e+02, 1.3585e+02, 1.3633e+02,\n",
       "       1.3681e+02, 1.3729e+02, 1.3777e+02, 1.3825e+02, 1.3873e+02,\n",
       "       1.3921e+02, 1.3969e+02, 1.4017e+02, 1.4065e+02, 1.4113e+02,\n",
       "       1.4161e+02, 1.4209e+02, 1.4257e+02, 1.4305e+02, 1.4353e+02,\n",
       "       1.4401e+02, 1.4449e+02, 1.4497e+02, 1.4545e+02, 1.4593e+02,\n",
       "       1.4641e+02, 1.4689e+02, 1.4737e+02, 1.4785e+02, 1.4833e+02,\n",
       "       1.4881e+02, 1.4929e+02, 1.4977e+02, 1.5025e+02, 1.5073e+02,\n",
       "       1.5121e+02, 1.5169e+02, 1.5217e+02, 1.5265e+02, 1.5313e+02,\n",
       "       1.5361e+02, 1.5409e+02, 1.5457e+02, 1.5505e+02, 1.5553e+02,\n",
       "       1.5601e+02, 1.5649e+02, 1.5697e+02, 1.5745e+02, 1.5793e+02,\n",
       "       1.5841e+02, 1.5889e+02, 1.5937e+02, 1.5985e+02, 1.6033e+02,\n",
       "       1.6081e+02, 1.6129e+02, 1.6177e+02, 1.6225e+02, 1.6273e+02,\n",
       "       1.6321e+02, 1.6369e+02, 1.6417e+02, 1.6465e+02, 1.6513e+02,\n",
       "       1.6561e+02, 1.6609e+02, 1.6657e+02, 1.6705e+02, 1.6753e+02,\n",
       "       1.6801e+02, 1.6849e+02, 1.6897e+02, 1.6945e+02, 1.6993e+02,\n",
       "       1.7041e+02, 1.7089e+02, 1.7137e+02, 1.7185e+02, 1.7233e+02,\n",
       "       1.7281e+02, 1.7329e+02, 1.7377e+02, 1.7425e+02, 1.7473e+02,\n",
       "       1.7521e+02, 1.7569e+02, 1.7617e+02, 1.7665e+02, 1.7713e+02,\n",
       "       1.7761e+02, 1.7809e+02, 1.7857e+02, 1.7905e+02, 1.7953e+02,\n",
       "       1.8001e+02, 1.8049e+02, 1.8097e+02, 1.8145e+02, 1.8193e+02,\n",
       "       1.8241e+02, 1.8289e+02, 1.8337e+02, 1.8385e+02, 1.8433e+02,\n",
       "       1.8481e+02, 1.8529e+02, 1.8577e+02, 1.8625e+02, 1.8673e+02,\n",
       "       1.8721e+02, 1.8769e+02, 1.8817e+02, 1.8865e+02, 1.8913e+02,\n",
       "       1.8961e+02, 1.9009e+02, 1.9057e+02, 1.9105e+02, 1.9153e+02,\n",
       "       1.9201e+02, 1.9249e+02, 1.9297e+02, 1.9345e+02, 1.9393e+02,\n",
       "       1.9441e+02, 1.9489e+02, 1.9537e+02, 1.9585e+02, 1.9633e+02,\n",
       "       1.9681e+02, 1.9729e+02, 1.9777e+02, 1.9825e+02, 1.9873e+02,\n",
       "       1.9921e+02, 1.9969e+02, 2.0017e+02, 2.0065e+02, 2.0113e+02,\n",
       "       2.0161e+02, 2.0209e+02, 2.0257e+02, 2.0305e+02, 2.0353e+02,\n",
       "       2.0401e+02, 2.0449e+02, 2.0497e+02, 2.0545e+02, 2.0593e+02,\n",
       "       2.0641e+02, 2.0689e+02, 2.0737e+02, 2.0785e+02, 2.0833e+02,\n",
       "       2.0881e+02, 2.0929e+02, 2.0977e+02, 2.1025e+02, 2.1073e+02,\n",
       "       2.1121e+02, 2.1169e+02, 2.1217e+02, 2.1265e+02, 2.1313e+02,\n",
       "       2.1361e+02, 2.1409e+02, 2.1457e+02, 2.1505e+02, 2.1553e+02,\n",
       "       2.1601e+02, 2.1649e+02, 2.1697e+02, 2.1745e+02, 2.1793e+02,\n",
       "       2.1841e+02, 2.1889e+02, 2.1937e+02, 2.1985e+02, 2.2033e+02,\n",
       "       2.2081e+02, 2.2129e+02, 2.2177e+02, 2.2225e+02, 2.2273e+02,\n",
       "       2.2321e+02, 2.2369e+02, 2.2417e+02, 2.2465e+02, 2.2513e+02,\n",
       "       2.2561e+02, 2.2609e+02, 2.2657e+02, 2.2705e+02, 2.2753e+02,\n",
       "       2.2801e+02, 2.2849e+02, 2.2897e+02, 2.2945e+02, 2.2993e+02,\n",
       "       2.3041e+02, 2.3089e+02, 2.3137e+02, 2.3185e+02, 2.3233e+02,\n",
       "       2.3281e+02, 2.3329e+02, 2.3377e+02, 2.3425e+02, 2.3473e+02,\n",
       "       2.3521e+02, 2.3569e+02, 2.3617e+02, 2.3665e+02, 2.3713e+02,\n",
       "       2.3761e+02, 2.3809e+02, 2.3857e+02, 2.3905e+02, 2.3953e+02,\n",
       "       2.4001e+02, 2.4049e+02, 2.4097e+02, 2.4145e+02, 2.4193e+02,\n",
       "       2.4241e+02, 2.4289e+02, 2.4337e+02, 2.4385e+02, 2.4433e+02,\n",
       "       2.4481e+02, 2.4529e+02, 2.4577e+02, 2.4625e+02, 2.4673e+02,\n",
       "       2.4721e+02, 2.4769e+02, 2.4817e+02, 2.4865e+02, 2.4913e+02,\n",
       "       2.4961e+02, 2.5009e+02, 2.5057e+02, 2.5105e+02, 2.5153e+02,\n",
       "       2.5201e+02, 2.5249e+02, 2.5297e+02, 2.5345e+02, 2.5393e+02,\n",
       "       2.5441e+02, 2.5489e+02, 2.5537e+02, 2.5585e+02, 2.5633e+02,\n",
       "       2.5681e+02, 2.5729e+02, 2.5777e+02, 2.5825e+02, 2.5873e+02,\n",
       "       2.5921e+02, 2.5969e+02, 2.6017e+02, 2.6065e+02, 2.6113e+02,\n",
       "       2.6161e+02, 2.6209e+02, 2.6257e+02, 2.6305e+02, 2.6353e+02,\n",
       "       2.6401e+02, 2.6449e+02, 2.6497e+02, 2.6545e+02, 2.6593e+02,\n",
       "       2.6641e+02, 2.6689e+02, 2.6737e+02, 2.6785e+02, 2.6833e+02,\n",
       "       2.6881e+02, 2.6929e+02, 2.6977e+02, 2.7025e+02, 2.7073e+02,\n",
       "       2.7121e+02, 2.7169e+02, 2.7217e+02, 2.7265e+02, 2.7313e+02,\n",
       "       2.7361e+02, 2.7409e+02, 2.7457e+02, 2.7505e+02, 2.7553e+02,\n",
       "       2.7602e+02, 2.7649e+02, 2.7697e+02, 2.7745e+02, 2.7793e+02,\n",
       "       2.7841e+02, 2.7889e+02, 2.7937e+02, 2.7985e+02, 2.8033e+02,\n",
       "       2.8081e+02, 2.8129e+02, 2.8177e+02, 2.8225e+02, 2.8273e+02,\n",
       "       2.8321e+02, 2.8369e+02, 2.8417e+02, 2.8465e+02, 2.8513e+02,\n",
       "       2.8561e+02, 2.8609e+02, 2.8657e+02, 2.8705e+02, 2.8753e+02,\n",
       "       2.8801e+02, 2.8849e+02, 2.8897e+02, 2.8945e+02, 2.8993e+02,\n",
       "       2.9041e+02, 2.9089e+02, 2.9137e+02, 2.9185e+02, 2.9233e+02,\n",
       "       2.9281e+02, 2.9329e+02, 2.9377e+02, 2.9425e+02, 2.9473e+02,\n",
       "       2.9521e+02, 2.9569e+02, 2.9617e+02, 2.9665e+02, 2.9713e+02,\n",
       "       2.9761e+02, 2.9809e+02, 2.9857e+02, 2.9905e+02, 2.9953e+02,\n",
       "       3.0001e+02, 3.0049e+02, 3.0097e+02, 3.0145e+02, 3.0193e+02,\n",
       "       3.0241e+02, 3.0289e+02, 3.0337e+02, 3.0385e+02, 3.0433e+02,\n",
       "       3.0481e+02, 3.0529e+02, 3.0577e+02, 3.0625e+02, 3.0673e+02,\n",
       "       3.0721e+02, 3.0769e+02, 3.0817e+02, 3.0865e+02, 3.0913e+02,\n",
       "       3.0961e+02, 3.1009e+02, 3.1057e+02, 3.1105e+02, 3.1153e+02,\n",
       "       3.1201e+02, 3.1249e+02, 3.1297e+02, 3.1345e+02, 3.1393e+02,\n",
       "       3.1441e+02, 3.1489e+02, 3.1537e+02, 3.1585e+02, 3.1633e+02,\n",
       "       3.1681e+02, 3.1729e+02, 3.1777e+02, 3.1825e+02, 3.1873e+02,\n",
       "       3.1921e+02, 3.1969e+02, 3.2017e+02, 3.2065e+02, 3.2113e+02,\n",
       "       3.2161e+02, 3.2209e+02, 3.2257e+02, 3.2305e+02, 3.2353e+02,\n",
       "       3.2401e+02, 3.2449e+02, 3.2497e+02, 3.2545e+02, 3.2593e+02,\n",
       "       3.2641e+02, 3.2689e+02, 3.2737e+02, 3.2785e+02, 3.2833e+02,\n",
       "       3.2881e+02, 3.2929e+02, 3.2977e+02, 3.3025e+02, 3.3073e+02,\n",
       "       3.3121e+02, 3.3169e+02, 3.3217e+02, 3.3265e+02, 3.3313e+02,\n",
       "       3.3361e+02, 3.3409e+02, 3.3457e+02, 3.3505e+02, 3.3553e+02,\n",
       "       3.3601e+02, 3.3649e+02, 3.3697e+02, 3.3745e+02, 3.3793e+02,\n",
       "       3.3841e+02, 3.3889e+02, 3.3937e+02, 3.3985e+02, 3.4033e+02,\n",
       "       3.4081e+02, 3.4129e+02, 3.4177e+02, 3.4225e+02, 3.4273e+02,\n",
       "       3.4321e+02, 3.4369e+02, 3.4417e+02, 3.4465e+02, 3.4513e+02,\n",
       "       3.4561e+02, 3.4609e+02, 3.4657e+02, 3.4705e+02, 3.4753e+02,\n",
       "       3.4801e+02, 3.4849e+02, 3.4897e+02, 3.4945e+02, 3.4993e+02,\n",
       "       3.5041e+02, 3.5089e+02, 3.5137e+02, 3.5185e+02, 3.5233e+02,\n",
       "       3.5281e+02, 3.5329e+02, 3.5377e+02, 3.5425e+02, 3.5473e+02,\n",
       "       3.5521e+02, 3.5569e+02, 3.5617e+02, 3.5665e+02, 3.5713e+02,\n",
       "       3.5761e+02, 3.5809e+02, 3.5857e+02, 3.5905e+02, 3.5953e+02,\n",
       "       3.6001e+02, 3.6049e+02, 3.6097e+02, 3.6145e+02, 3.6193e+02,\n",
       "       3.6241e+02, 3.6289e+02, 3.6337e+02, 3.6385e+02, 3.6433e+02,\n",
       "       3.6481e+02, 3.6529e+02, 3.6577e+02, 3.6625e+02, 3.6673e+02,\n",
       "       3.6721e+02, 3.6769e+02, 3.6817e+02, 3.6865e+02, 3.6913e+02,\n",
       "       3.6961e+02, 3.7009e+02, 3.7057e+02, 3.7105e+02, 3.7153e+02,\n",
       "       3.7201e+02, 3.7249e+02, 3.7297e+02, 3.7345e+02, 3.7393e+02,\n",
       "       3.7441e+02, 3.7489e+02, 3.7537e+02, 3.7585e+02, 3.7633e+02,\n",
       "       3.7681e+02, 3.7729e+02, 3.7777e+02, 3.7825e+02, 3.7873e+02,\n",
       "       3.7921e+02, 3.7969e+02, 3.8017e+02, 3.8065e+02, 3.8113e+02,\n",
       "       3.8161e+02, 3.8209e+02, 3.8257e+02, 3.8305e+02, 3.8353e+02,\n",
       "       3.8401e+02, 3.8449e+02, 3.8497e+02, 3.8545e+02, 3.8593e+02,\n",
       "       3.8641e+02, 3.8689e+02, 3.8737e+02, 3.8785e+02, 3.8833e+02,\n",
       "       3.8881e+02, 3.8929e+02, 3.8977e+02, 3.9025e+02, 3.9073e+02,\n",
       "       3.9121e+02, 3.9169e+02, 3.9217e+02, 3.9265e+02, 3.9313e+02,\n",
       "       3.9361e+02, 3.9409e+02, 3.9457e+02, 3.9505e+02, 3.9553e+02,\n",
       "       3.9601e+02, 3.9649e+02, 3.9697e+02, 3.9745e+02, 3.9793e+02,\n",
       "       3.9841e+02, 3.9889e+02, 3.9936e+02])"
      ]
     },
     "execution_count": 18,
     "metadata": {},
     "output_type": "execute_result"
    }
   ],
   "source": [
    "beat_proc(aa)"
   ]
  },
  {
   "cell_type": "code",
   "execution_count": null,
   "metadata": {},
   "outputs": [],
   "source": []
  }
 ],
 "metadata": {
  "kernelspec": {
   "display_name": "Python 3",
   "language": "python",
   "name": "python3"
  },
  "language_info": {
   "codemirror_mode": {
    "name": "ipython",
    "version": 3
   },
   "file_extension": ".py",
   "mimetype": "text/x-python",
   "name": "python",
   "nbconvert_exporter": "python",
   "pygments_lexer": "ipython3",
   "version": "3.8.5"
  }
 },
 "nbformat": 4,
 "nbformat_minor": 4
}
