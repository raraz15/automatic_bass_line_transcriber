{
 "cells": [
  {
   "cell_type": "code",
   "execution_count": 1,
   "metadata": {},
   "outputs": [],
   "source": [
    "from bassline_transcriber import main, prepare, transcribe_single_bassline"
   ]
  },
  {
   "cell_type": "markdown",
   "metadata": {},
   "source": [
    "## Batch Processing"
   ]
  },
  {
   "cell_type": "code",
   "execution_count": 2,
   "metadata": {},
   "outputs": [],
   "source": [
    "#directories_json_path = 'data/transcription_test/directories.json'\n",
    "directories_json_path = 'data/directories.json'"
   ]
  },
  {
   "cell_type": "code",
   "execution_count": 3,
   "metadata": {},
   "outputs": [
    {
     "name": "stderr",
     "output_type": "stream",
     "text": [
      "\r",
      "  0%|          | 0/681 [00:00<?, ?it/s]"
     ]
    },
    {
     "name": "stdout",
     "output_type": "stream",
     "text": [
      "\n",
      "John Summit (Make Me Feel) - Original Mix\n"
     ]
    },
    {
     "name": "stderr",
     "output_type": "stream",
     "text": [
      "\r",
      "  0%|          | 1/681 [00:00<07:49,  1.45it/s]"
     ]
    },
    {
     "name": "stdout",
     "output_type": "stream",
     "text": [
      "\n",
      "Dom Dolla - Pump the Brakes (Extended Mix)\n"
     ]
    },
    {
     "name": "stderr",
     "output_type": "stream",
     "text": [
      "\r",
      "  0%|          | 2/681 [00:01<06:58,  1.62it/s]"
     ]
    },
    {
     "name": "stdout",
     "output_type": "stream",
     "text": [
      "\n",
      "Martin Ikin, Biscits, Anelisa Lamola - Ready 2 Dance - Extended Mix\n"
     ]
    },
    {
     "name": "stderr",
     "output_type": "stream",
     "text": [
      "\r",
      "  0%|          | 3/681 [00:01<06:18,  1.79it/s]"
     ]
    },
    {
     "name": "stdout",
     "output_type": "stream",
     "text": [
      "\n",
      "GUZ (NL) - Set U Free (Extended Mix)\n"
     ]
    },
    {
     "name": "stderr",
     "output_type": "stream",
     "text": [
      "\r",
      "  1%|          | 4/681 [00:01<05:44,  1.96it/s]"
     ]
    },
    {
     "name": "stdout",
     "output_type": "stream",
     "text": [
      "There was an error on: GUZ (NL) - Set U Free (Extended Mix)\n",
      "Traceback (most recent call last):\n",
      "  File \"/mnt/d/projects/bassline_transcription/bassline_transcriber/bassline_transcriber.py\", line 44, in transcribe_single_bassline\n",
      "    bassline_transcriber.create_midi_file()\n",
      "  File \"/mnt/d/projects/bassline_transcription/bassline_transcriber/transcriber_classes.py\", line 109, in create_midi_file\n",
      "    create_MIDI_file(self.bassline_midi_array, self.BPM, self.title, self.directories['midi']['midi_file'][str(self.M)])\n",
      "  File \"/mnt/d/projects/bassline_transcription/MIDI_output.py\", line 38, in create_MIDI_file\n",
      "    duration = int(midi_array[i+1, 3]*tpb)\n",
      "UnboundLocalError: local variable 'i' referenced before assignment\n",
      "\n",
      "\n",
      "\n",
      "Wade, Solardo (Get Your Money) - Original Mix\n"
     ]
    },
    {
     "name": "stderr",
     "output_type": "stream",
     "text": [
      "\r",
      "  1%|          | 5/681 [00:02<05:25,  2.08it/s]"
     ]
    },
    {
     "name": "stdout",
     "output_type": "stream",
     "text": [
      "\n",
      "NightFunk (Wonderland) - Original Mix\n"
     ]
    },
    {
     "name": "stderr",
     "output_type": "stream",
     "text": [
      "\r",
      "  1%|          | 6/681 [00:02<05:12,  2.16it/s]"
     ]
    },
    {
     "name": "stdout",
     "output_type": "stream",
     "text": [
      "\n",
      "Fourword (Black Book ID's: Chapter 1) - Extended Mix\n",
      "There was an error on: Fourword (Black Book ID's: Chapter 1) - Extended Mix\n",
      "Traceback (most recent call last):\n",
      "  File \"/mnt/d/projects/bassline_transcription/bassline_transcriber/bassline_transcriber.py\", line 32, in transcribe_single_bassline\n",
      "    bassline_transcriber=BasslineTranscriber(title, directories, scales, track_dicts, M)\n",
      "  File \"/mnt/d/projects/bassline_transcription/bassline_transcriber/transcriber_classes.py\", line 31, in __init__\n",
      "    self.track_scale = get_track_scale(title, track_dicts, scales)\n",
      "  File \"/mnt/d/projects/bassline_transcription/utilities.py\", line 68, in get_track_scale\n",
      "    scale_frequencies = scales[key][scale_type]['frequencies']\n",
      "KeyError: 'E#'\n",
      "\n",
      "\n",
      "\n",
      "Jansons, Dope Earth Alien (Medicine) - Extended Mix\n"
     ]
    },
    {
     "name": "stderr",
     "output_type": "stream",
     "text": [
      "\r",
      "  1%|          | 8/681 [00:03<04:20,  2.59it/s]"
     ]
    },
    {
     "name": "stdout",
     "output_type": "stream",
     "text": [
      "\n",
      "CID, Westend (Jumpin') - Extended\n"
     ]
    },
    {
     "name": "stderr",
     "output_type": "stream",
     "text": [
      "\r",
      "  1%|▏         | 9/681 [00:03<04:23,  2.55it/s]"
     ]
    },
    {
     "name": "stdout",
     "output_type": "stream",
     "text": [
      "\n",
      "Fab Massimo (MY MAN) - Original Mix\n"
     ]
    },
    {
     "name": "stderr",
     "output_type": "stream",
     "text": [
      "\r",
      "  1%|▏         | 10/681 [00:04<04:23,  2.55it/s]"
     ]
    },
    {
     "name": "stdout",
     "output_type": "stream",
     "text": [
      "\n",
      "Riva Starr - Ride This Out (feat. Imaginary Cities) [Biscits Extended Remix]\n"
     ]
    },
    {
     "name": "stderr",
     "output_type": "stream",
     "text": [
      "\r",
      "  2%|▏         | 11/681 [00:04<04:27,  2.51it/s]"
     ]
    },
    {
     "name": "stdout",
     "output_type": "stream",
     "text": [
      "There was an error on: Riva Starr - Ride This Out (feat. Imaginary Cities) [Biscits Extended Remix]\n",
      "Traceback (most recent call last):\n",
      "  File \"/mnt/d/projects/bassline_transcription/bassline_transcriber/bassline_transcriber.py\", line 40, in transcribe_single_bassline\n",
      "    bassline_transcriber.create_midi_array()\n",
      "  File \"/mnt/d/projects/bassline_transcription/bassline_transcriber/transcriber_classes.py\", line 83, in create_midi_array\n",
      "    self.bassline_midi_array = extract_midi_array(self.pitch_track_quantized[1],\n",
      "  File \"/mnt/d/projects/bassline_transcription/bassline_transcriber/transcription/midi_transcription.py\", line 28, in extract_midi_array\n",
      "    midi_sequence = downsample_midi_number_sequence(midi_sequence, N_qb, M, N_bars)\n",
      "  File \"/mnt/d/projects/bassline_transcription/bassline_transcriber/transcription/midi_transcription.py\", line 61, in downsample_midi_number_sequence\n",
      "    midi_number_seq_decimated = midi_number_seq[np.arange(0, N_required, M, dtype=int)]\n",
      "IndexError: index 504 is out of bounds for axis 0 with size 498\n",
      "\n",
      "\n",
      "\n",
      "Blackchild (ITA) (Groove Dealer EP) - Original Mix\n"
     ]
    },
    {
     "name": "stderr",
     "output_type": "stream",
     "text": [
      "\r",
      "  2%|▏         | 12/681 [00:04<04:41,  2.37it/s]"
     ]
    },
    {
     "name": "stdout",
     "output_type": "stream",
     "text": [
      "\n",
      "Detlef, Cloonee (Scratchin) - Original Mix\n"
     ]
    },
    {
     "name": "stderr",
     "output_type": "stream",
     "text": [
      "\r",
      "  2%|▏         | 13/681 [00:05<04:46,  2.33it/s]"
     ]
    },
    {
     "name": "stdout",
     "output_type": "stream",
     "text": [
      "\n",
      "Cloonee - Sun Goes Down (Extended Mix)\n"
     ]
    },
    {
     "name": "stderr",
     "output_type": "stream",
     "text": [
      "\r",
      "  2%|▏         | 14/681 [00:05<04:45,  2.34it/s]"
     ]
    },
    {
     "name": "stdout",
     "output_type": "stream",
     "text": [
      "\n",
      "Tough Love, LO'99 (Woo Dat) - Extended Mix\n"
     ]
    },
    {
     "name": "stderr",
     "output_type": "stream",
     "text": [
      "\r",
      "  2%|▏         | 15/681 [00:06<04:45,  2.33it/s]"
     ]
    },
    {
     "name": "stdout",
     "output_type": "stream",
     "text": [
      "\n",
      "SIDEPIECE - Temptation (Extended)\n"
     ]
    },
    {
     "name": "stderr",
     "output_type": "stream",
     "text": [
      "\r",
      "  2%|▏         | 16/681 [00:06<04:42,  2.35it/s]"
     ]
    },
    {
     "name": "stdout",
     "output_type": "stream",
     "text": [
      "There was an error on: SIDEPIECE - Temptation (Extended)\n",
      "Traceback (most recent call last):\n",
      "  File \"/mnt/d/projects/bassline_transcription/bassline_transcriber/bassline_transcriber.py\", line 40, in transcribe_single_bassline\n",
      "    bassline_transcriber.create_midi_array()\n",
      "  File \"/mnt/d/projects/bassline_transcription/bassline_transcriber/transcriber_classes.py\", line 83, in create_midi_array\n",
      "    self.bassline_midi_array = extract_midi_array(self.pitch_track_quantized[1],\n",
      "  File \"/mnt/d/projects/bassline_transcription/bassline_transcriber/transcription/midi_transcription.py\", line 28, in extract_midi_array\n",
      "    midi_sequence = downsample_midi_number_sequence(midi_sequence, N_qb, M, N_bars)\n",
      "  File \"/mnt/d/projects/bassline_transcription/bassline_transcriber/transcription/midi_transcription.py\", line 61, in downsample_midi_number_sequence\n",
      "    midi_number_seq_decimated = midi_number_seq[np.arange(0, N_required, M, dtype=int)]\n",
      "IndexError: index 504 is out of bounds for axis 0 with size 504\n",
      "\n",
      "\n",
      "\n",
      "Laugix (Loko) - Original Mix\n"
     ]
    },
    {
     "name": "stderr",
     "output_type": "stream",
     "text": [
      "\r",
      "  2%|▏         | 17/681 [00:07<04:42,  2.35it/s]"
     ]
    },
    {
     "name": "stdout",
     "output_type": "stream",
     "text": [
      "\n",
      "Chris Lake, Riva Starr (Black Book ID's: Chapter 1) - Extended Mix\n",
      "There was an error on: Chris Lake, Riva Starr (Black Book ID's: Chapter 1) - Extended Mix\n",
      "Traceback (most recent call last):\n",
      "  File \"/mnt/d/projects/bassline_transcription/bassline_transcriber/bassline_transcriber.py\", line 32, in transcribe_single_bassline\n",
      "    bassline_transcriber=BasslineTranscriber(title, directories, scales, track_dicts, M)\n",
      "  File \"/mnt/d/projects/bassline_transcription/bassline_transcriber/transcriber_classes.py\", line 31, in __init__\n",
      "    self.track_scale = get_track_scale(title, track_dicts, scales)\n",
      "  File \"/mnt/d/projects/bassline_transcription/utilities.py\", line 68, in get_track_scale\n",
      "    scale_frequencies = scales[key][scale_type]['frequencies']\n",
      "KeyError: 'B#'\n",
      "\n",
      "\n",
      "\n",
      "Ellis Moss (The Shake) - Extended Mix\n"
     ]
    },
    {
     "name": "stderr",
     "output_type": "stream",
     "text": [
      "\r",
      "  3%|▎         | 19/681 [00:07<04:01,  2.74it/s]"
     ]
    },
    {
     "name": "stdout",
     "output_type": "stream",
     "text": [
      "\n",
      "Tita Lau (Stereohype Label Sampler: Volume. 2) - Extended Mix\n",
      "There was an error on: Tita Lau (Stereohype Label Sampler: Volume. 2) - Extended Mix\n",
      "Traceback (most recent call last):\n",
      "  File \"/mnt/d/projects/bassline_transcription/bassline_transcriber/bassline_transcriber.py\", line 32, in transcribe_single_bassline\n",
      "    bassline_transcriber=BasslineTranscriber(title, directories, scales, track_dicts, M)\n",
      "  File \"/mnt/d/projects/bassline_transcription/bassline_transcriber/transcriber_classes.py\", line 31, in __init__\n",
      "    self.track_scale = get_track_scale(title, track_dicts, scales)\n",
      "  File \"/mnt/d/projects/bassline_transcription/utilities.py\", line 68, in get_track_scale\n",
      "    scale_frequencies = scales[key][scale_type]['frequencies']\n",
      "KeyError: 'B#'\n",
      "\n",
      "\n",
      "\n",
      "Return of the Jaded, Branzei (Generation / Feel So Good) - Extended Mix\n",
      "There was an error on: Return of the Jaded, Branzei (Generation / Feel So Good) - Extended Mix\n",
      "Traceback (most recent call last):\n",
      "  File \"/mnt/d/projects/bassline_transcription/bassline_transcriber/bassline_transcriber.py\", line 32, in transcribe_single_bassline\n",
      "    bassline_transcriber=BasslineTranscriber(title, directories, scales, track_dicts, M)\n",
      "  File \"/mnt/d/projects/bassline_transcription/bassline_transcriber/transcriber_classes.py\", line 39, in __init__\n",
      "    self.quarter_beat_positions = get_quarter_beat_positions(get_chorus_beat_positions(title, directories))\n",
      "  File \"/mnt/d/projects/bassline_transcription/utilities.py\", line 183, in get_chorus_beat_positions\n",
      "    return np.load(directories['extraction']['chorus']['chorus_beat_positions']+'/'+title+'.npy')\n",
      "  File \"/home/oguza97/anaconda3/envs/bassline_transcription/lib/python3.8/site-packages/numpy/lib/npyio.py\", line 416, in load\n",
      "    fid = stack.enter_context(open(os_fspath(file), \"rb\"))\n",
      "FileNotFoundError: [Errno 2] No such file or directory: '/mnt/d/projects/bassline_transcription/data/bassline_extraction/chorus/chorus_beat_positions/Return of the Jaded, Branzei (Generation / Feel So Good) - Extended Mix.npy'\n",
      "\n",
      "\n",
      "\n",
      "DONT BLINK (REVOLUTION 909) - Original Mix\n",
      "There was an error on: DONT BLINK (REVOLUTION 909) - Original Mix\n",
      "Traceback (most recent call last):\n",
      "  File \"/mnt/d/projects/bassline_transcription/bassline_transcriber/bassline_transcriber.py\", line 32, in transcribe_single_bassline\n",
      "    bassline_transcriber=BasslineTranscriber(title, directories, scales, track_dicts, M)\n",
      "  File \"/mnt/d/projects/bassline_transcription/bassline_transcriber/transcriber_classes.py\", line 31, in __init__\n",
      "    self.track_scale = get_track_scale(title, track_dicts, scales)\n",
      "  File \"/mnt/d/projects/bassline_transcription/utilities.py\", line 68, in get_track_scale\n",
      "    scale_frequencies = scales[key][scale_type]['frequencies']\n",
      "KeyError: 'E#'\n",
      "\n",
      "\n",
      "\n",
      "Steve Darko, Nik Thrine (Small Things) - Original Mix\n"
     ]
    },
    {
     "name": "stderr",
     "output_type": "stream",
     "text": [
      "\r",
      "  3%|▎         | 23/681 [00:07<03:10,  3.46it/s]"
     ]
    },
    {
     "name": "stdout",
     "output_type": "stream",
     "text": [
      "There was an error on: Steve Darko, Nik Thrine (Small Things) - Original Mix\n",
      "Traceback (most recent call last):\n",
      "  File \"/mnt/d/projects/bassline_transcription/bassline_transcriber/bassline_transcriber.py\", line 44, in transcribe_single_bassline\n",
      "    bassline_transcriber.create_midi_file()\n",
      "  File \"/mnt/d/projects/bassline_transcription/bassline_transcriber/transcriber_classes.py\", line 109, in create_midi_file\n",
      "    create_MIDI_file(self.bassline_midi_array, self.BPM, self.title, self.directories['midi']['midi_file'][str(self.M)])\n",
      "  File \"/mnt/d/projects/bassline_transcription/MIDI_output.py\", line 38, in create_MIDI_file\n",
      "    duration = int(midi_array[i+1, 3]*tpb)\n",
      "UnboundLocalError: local variable 'i' referenced before assignment\n",
      "\n",
      "\n",
      "\n",
      "Miguel Bastida (XAXAXA) - Extended Mix\n",
      "There was an error on: Miguel Bastida (XAXAXA) - Extended Mix\n",
      "Traceback (most recent call last):\n",
      "  File \"/mnt/d/projects/bassline_transcription/bassline_transcriber/bassline_transcriber.py\", line 32, in transcribe_single_bassline\n",
      "    bassline_transcriber=BasslineTranscriber(title, directories, scales, track_dicts, M)\n",
      "  File \"/mnt/d/projects/bassline_transcription/bassline_transcriber/transcriber_classes.py\", line 31, in __init__\n",
      "    self.track_scale = get_track_scale(title, track_dicts, scales)\n",
      "  File \"/mnt/d/projects/bassline_transcription/utilities.py\", line 68, in get_track_scale\n",
      "    scale_frequencies = scales[key][scale_type]['frequencies']\n",
      "KeyError: 'E#'\n",
      "\n",
      "\n",
      "\n",
      "Sllash & Doppe (Make It Better) - Rene Amesz Remix\n",
      "There was an error on: Sllash & Doppe (Make It Better) - Rene Amesz Remix\n",
      "Traceback (most recent call last):\n",
      "  File \"/mnt/d/projects/bassline_transcription/bassline_transcriber/bassline_transcriber.py\", line 32, in transcribe_single_bassline\n",
      "    bassline_transcriber=BasslineTranscriber(title, directories, scales, track_dicts, M)\n",
      "  File \"/mnt/d/projects/bassline_transcription/bassline_transcriber/transcriber_classes.py\", line 31, in __init__\n",
      "    self.track_scale = get_track_scale(title, track_dicts, scales)\n",
      "  File \"/mnt/d/projects/bassline_transcription/utilities.py\", line 68, in get_track_scale\n",
      "    scale_frequencies = scales[key][scale_type]['frequencies']\n",
      "KeyError: 'B#'\n",
      "\n",
      "\n",
      "\n",
      "Technasia (Bring It Back) - Extended Mix\n"
     ]
    },
    {
     "name": "stderr",
     "output_type": "stream",
     "text": [
      "\r",
      "  4%|▍         | 26/681 [00:08<02:43,  4.00it/s]"
     ]
    },
    {
     "name": "stdout",
     "output_type": "stream",
     "text": [
      "There was an error on: Technasia (Bring It Back) - Extended Mix\n",
      "Traceback (most recent call last):\n",
      "  File \"/mnt/d/projects/bassline_transcription/bassline_transcriber/bassline_transcriber.py\", line 40, in transcribe_single_bassline\n",
      "    bassline_transcriber.create_midi_array()\n",
      "  File \"/mnt/d/projects/bassline_transcription/bassline_transcriber/transcriber_classes.py\", line 83, in create_midi_array\n",
      "    self.bassline_midi_array = extract_midi_array(self.pitch_track_quantized[1],\n",
      "  File \"/mnt/d/projects/bassline_transcription/bassline_transcriber/transcription/midi_transcription.py\", line 28, in extract_midi_array\n",
      "    midi_sequence = downsample_midi_number_sequence(midi_sequence, N_qb, M, N_bars)\n",
      "  File \"/mnt/d/projects/bassline_transcription/bassline_transcriber/transcription/midi_transcription.py\", line 61, in downsample_midi_number_sequence\n",
      "    midi_number_seq_decimated = midi_number_seq[np.arange(0, N_required, M, dtype=int)]\n",
      "IndexError: index 504 is out of bounds for axis 0 with size 502\n",
      "\n",
      "\n",
      "\n",
      "Ben Hemsley (We Are Sound) - Original Mix\n"
     ]
    },
    {
     "name": "stderr",
     "output_type": "stream",
     "text": [
      "\r",
      "  4%|▍         | 27/681 [00:08<03:29,  3.13it/s]"
     ]
    },
    {
     "name": "stdout",
     "output_type": "stream",
     "text": [
      "\n",
      "Technotronic (Pump up the Jam) - Nightfunk Remix\n",
      "There was an error on: Technotronic (Pump up the Jam) - Nightfunk Remix\n",
      "Traceback (most recent call last):\n",
      "  File \"/mnt/d/projects/bassline_transcription/bassline_transcriber/bassline_transcriber.py\", line 32, in transcribe_single_bassline\n",
      "    bassline_transcriber=BasslineTranscriber(title, directories, scales, track_dicts, M)\n",
      "  File \"/mnt/d/projects/bassline_transcription/bassline_transcriber/transcriber_classes.py\", line 31, in __init__\n",
      "    self.track_scale = get_track_scale(title, track_dicts, scales)\n",
      "  File \"/mnt/d/projects/bassline_transcription/utilities.py\", line 68, in get_track_scale\n",
      "    scale_frequencies = scales[key][scale_type]['frequencies']\n",
      "KeyError: 'Ab'\n",
      "\n",
      "\n",
      "\n",
      "Medusa, Wheats (Another Planet EP) - Original Mix\n"
     ]
    },
    {
     "name": "stderr",
     "output_type": "stream",
     "text": [
      "\r",
      "  4%|▍         | 29/681 [00:09<03:09,  3.43it/s]"
     ]
    },
    {
     "name": "stdout",
     "output_type": "stream",
     "text": [
      "\n",
      "Moreno Pezzolato - Rock City (Extended Mix)\n"
     ]
    },
    {
     "name": "stderr",
     "output_type": "stream",
     "text": [
      "\r",
      "  4%|▍         | 30/681 [00:09<03:45,  2.89it/s]"
     ]
    },
    {
     "name": "stdout",
     "output_type": "stream",
     "text": [
      "\n",
      "Mat.Theo (Signals - Volume 2) - Original Mix\n"
     ]
    },
    {
     "name": "stderr",
     "output_type": "stream",
     "text": [
      "\r",
      "  5%|▍         | 31/681 [00:10<04:19,  2.51it/s]"
     ]
    },
    {
     "name": "stdout",
     "output_type": "stream",
     "text": [
      "There was an error on: Mat.Theo (Signals - Volume 2) - Original Mix\n",
      "Traceback (most recent call last):\n",
      "  File \"/mnt/d/projects/bassline_transcription/bassline_transcriber/bassline_transcriber.py\", line 40, in transcribe_single_bassline\n",
      "    bassline_transcriber.create_midi_array()\n",
      "  File \"/mnt/d/projects/bassline_transcription/bassline_transcriber/transcriber_classes.py\", line 83, in create_midi_array\n",
      "    self.bassline_midi_array = extract_midi_array(self.pitch_track_quantized[1],\n",
      "  File \"/mnt/d/projects/bassline_transcription/bassline_transcriber/transcription/midi_transcription.py\", line 28, in extract_midi_array\n",
      "    midi_sequence = downsample_midi_number_sequence(midi_sequence, N_qb, M, N_bars)\n",
      "  File \"/mnt/d/projects/bassline_transcription/bassline_transcriber/transcription/midi_transcription.py\", line 61, in downsample_midi_number_sequence\n",
      "    midi_number_seq_decimated = midi_number_seq[np.arange(0, N_required, M, dtype=int)]\n",
      "IndexError: index 504 is out of bounds for axis 0 with size 502\n",
      "\n",
      "\n",
      "\n",
      "Chris Lake, Miane - Who Are You? - Chris Lake Remix\n",
      "There was an error on: Chris Lake, Miane - Who Are You? - Chris Lake Remix\n",
      "Traceback (most recent call last):\n",
      "  File \"/mnt/d/projects/bassline_transcription/bassline_transcriber/bassline_transcriber.py\", line 32, in transcribe_single_bassline\n",
      "    bassline_transcriber=BasslineTranscriber(title, directories, scales, track_dicts, M)\n",
      "  File \"/mnt/d/projects/bassline_transcription/bassline_transcriber/transcriber_classes.py\", line 39, in __init__\n",
      "    self.quarter_beat_positions = get_quarter_beat_positions(get_chorus_beat_positions(title, directories))\n",
      "  File \"/mnt/d/projects/bassline_transcription/utilities.py\", line 183, in get_chorus_beat_positions\n",
      "    return np.load(directories['extraction']['chorus']['chorus_beat_positions']+'/'+title+'.npy')\n",
      "  File \"/home/oguza97/anaconda3/envs/bassline_transcription/lib/python3.8/site-packages/numpy/lib/npyio.py\", line 416, in load\n",
      "    fid = stack.enter_context(open(os_fspath(file), \"rb\"))\n",
      "FileNotFoundError: [Errno 2] No such file or directory: '/mnt/d/projects/bassline_transcription/data/bassline_extraction/chorus/chorus_beat_positions/Chris Lake, Miane - Who Are You? - Chris Lake Remix.npy'\n",
      "\n",
      "\n",
      "\n",
      "Siege, Maia Mayor (Perfect) - Extended Mix\n"
     ]
    },
    {
     "name": "stderr",
     "output_type": "stream",
     "text": [
      "\r",
      "  5%|▍         | 33/681 [00:10<03:45,  2.87it/s]"
     ]
    },
    {
     "name": "stdout",
     "output_type": "stream",
     "text": [
      "\n",
      "David Guetta, Raye, Joel Corry (BED (The Remixes) [Pt. 1]) - Chapter & Verse Extended Remix\n",
      "There was an error on: David Guetta, Raye, Joel Corry (BED (The Remixes) [Pt. 1]) - Chapter & Verse Extended Remix\n",
      "Traceback (most recent call last):\n",
      "  File \"/mnt/d/projects/bassline_transcription/bassline_transcriber/bassline_transcriber.py\", line 32, in transcribe_single_bassline\n",
      "    bassline_transcriber=BasslineTranscriber(title, directories, scales, track_dicts, M)\n",
      "  File \"/mnt/d/projects/bassline_transcription/bassline_transcriber/transcriber_classes.py\", line 31, in __init__\n",
      "    self.track_scale = get_track_scale(title, track_dicts, scales)\n",
      "  File \"/mnt/d/projects/bassline_transcription/utilities.py\", line 68, in get_track_scale\n",
      "    scale_frequencies = scales[key][scale_type]['frequencies']\n",
      "KeyError: 'E#'\n",
      "\n",
      "\n",
      "\n",
      "Paul Johnson, Zoe Thorn (You Drive Me Crazy (Extended Mixes)) - Supernova Extended Remix\n"
     ]
    },
    {
     "name": "stderr",
     "output_type": "stream",
     "text": [
      "\r",
      "  5%|▌         | 35/681 [00:11<03:19,  3.24it/s]"
     ]
    },
    {
     "name": "stdout",
     "output_type": "stream",
     "text": [
      "There was an error on: Paul Johnson, Zoe Thorn (You Drive Me Crazy (Extended Mixes)) - Supernova Extended Remix\n",
      "Traceback (most recent call last):\n",
      "  File \"/mnt/d/projects/bassline_transcription/bassline_transcriber/bassline_transcriber.py\", line 40, in transcribe_single_bassline\n",
      "    bassline_transcriber.create_midi_array()\n",
      "  File \"/mnt/d/projects/bassline_transcription/bassline_transcriber/transcriber_classes.py\", line 83, in create_midi_array\n",
      "    self.bassline_midi_array = extract_midi_array(self.pitch_track_quantized[1],\n",
      "  File \"/mnt/d/projects/bassline_transcription/bassline_transcriber/transcription/midi_transcription.py\", line 28, in extract_midi_array\n",
      "    midi_sequence = downsample_midi_number_sequence(midi_sequence, N_qb, M, N_bars)\n",
      "  File \"/mnt/d/projects/bassline_transcription/bassline_transcriber/transcription/midi_transcription.py\", line 61, in downsample_midi_number_sequence\n",
      "    midi_number_seq_decimated = midi_number_seq[np.arange(0, N_required, M, dtype=int)]\n",
      "IndexError: index 504 is out of bounds for axis 0 with size 498\n",
      "\n",
      "\n",
      "\n",
      "Rendher (Flavor) - Original Mix\n"
     ]
    },
    {
     "name": "stderr",
     "output_type": "stream",
     "text": [
      "\r",
      "  5%|▌         | 36/681 [00:11<03:58,  2.70it/s]"
     ]
    },
    {
     "name": "stdout",
     "output_type": "stream",
     "text": [
      "\n",
      "DJ Rae, Maxinne (Outta My Head) - Original Mix\n"
     ]
    },
    {
     "name": "stderr",
     "output_type": "stream",
     "text": [
      "\r",
      "  5%|▌         | 37/681 [00:12<04:09,  2.58it/s]"
     ]
    },
    {
     "name": "stdout",
     "output_type": "stream",
     "text": [
      "\n",
      "Ruben Mandolini, Catsinka - No Diggity (Extended Mixes)\n"
     ]
    },
    {
     "name": "stderr",
     "output_type": "stream",
     "text": [
      "\r",
      "  6%|▌         | 38/681 [00:12<04:26,  2.41it/s]"
     ]
    },
    {
     "name": "stdout",
     "output_type": "stream",
     "text": [
      "\n",
      "Chelina Manuhutu (Takes a Little Something) - Original Mix\n"
     ]
    },
    {
     "name": "stderr",
     "output_type": "stream",
     "text": [
      "\r",
      "  6%|▌         | 39/681 [00:13<04:28,  2.40it/s]"
     ]
    },
    {
     "name": "stdout",
     "output_type": "stream",
     "text": [
      "There was an error on: Chelina Manuhutu (Takes a Little Something) - Original Mix\n",
      "Traceback (most recent call last):\n",
      "  File \"/mnt/d/projects/bassline_transcription/bassline_transcriber/bassline_transcriber.py\", line 42, in transcribe_single_bassline\n",
      "    bassline_transcriber.create_symbolic_representation()\n",
      "  File \"/mnt/d/projects/bassline_transcription/bassline_transcriber/transcriber_classes.py\", line 91, in create_symbolic_representation\n",
      "    transposed_midi_array = transpose_to_C(self.bassline_midi_array, self.key)\n",
      "  File \"/mnt/d/projects/bassline_transcription/bassline_transcriber/transcription/representation.py\", line 129, in transpose_to_C\n",
      "    MIDI_numbers = midi_array_T[:,1].astype(int)\n",
      "IndexError: too many indices for array: array is 1-dimensional, but 2 were indexed\n",
      "\n",
      "\n",
      "\n",
      "Dead Space - Too Much (Extended Mix)\n"
     ]
    },
    {
     "name": "stderr",
     "output_type": "stream",
     "text": [
      "\r",
      "  6%|▌         | 40/681 [00:13<04:25,  2.42it/s]"
     ]
    },
    {
     "name": "stdout",
     "output_type": "stream",
     "text": [
      "There was an error on: Dead Space - Too Much (Extended Mix)\n",
      "Traceback (most recent call last):\n",
      "  File \"/mnt/d/projects/bassline_transcription/bassline_transcriber/bassline_transcriber.py\", line 40, in transcribe_single_bassline\n",
      "    bassline_transcriber.create_midi_array()\n",
      "  File \"/mnt/d/projects/bassline_transcription/bassline_transcriber/transcriber_classes.py\", line 83, in create_midi_array\n",
      "    self.bassline_midi_array = extract_midi_array(self.pitch_track_quantized[1],\n",
      "  File \"/mnt/d/projects/bassline_transcription/bassline_transcriber/transcription/midi_transcription.py\", line 28, in extract_midi_array\n",
      "    midi_sequence = downsample_midi_number_sequence(midi_sequence, N_qb, M, N_bars)\n",
      "  File \"/mnt/d/projects/bassline_transcription/bassline_transcriber/transcription/midi_transcription.py\", line 61, in downsample_midi_number_sequence\n",
      "    midi_number_seq_decimated = midi_number_seq[np.arange(0, N_required, M, dtype=int)]\n",
      "IndexError: index 504 is out of bounds for axis 0 with size 498\n",
      "\n",
      "\n",
      "\n",
      "PAWSA (WE MOVE) - EXTENDED MIX\n"
     ]
    },
    {
     "name": "stderr",
     "output_type": "stream",
     "text": [
      "\r",
      "  6%|▌         | 41/681 [00:14<05:02,  2.11it/s]"
     ]
    },
    {
     "name": "stdout",
     "output_type": "stream",
     "text": [
      "\n",
      "Biscits (Talk To Me) - Extended Mix\n"
     ]
    },
    {
     "name": "stderr",
     "output_type": "stream",
     "text": [
      "\r",
      "  6%|▌         | 42/681 [00:14<04:54,  2.17it/s]"
     ]
    },
    {
     "name": "stdout",
     "output_type": "stream",
     "text": [
      "\n",
      "Maxinne (Outta My Head) - Original Mix\n"
     ]
    },
    {
     "name": "stderr",
     "output_type": "stream",
     "text": [
      "\r",
      "  6%|▋         | 43/681 [00:15<05:04,  2.10it/s]"
     ]
    },
    {
     "name": "stdout",
     "output_type": "stream",
     "text": [
      "\n",
      "DONT BLINK - DONT GIVE A (Extended Mix)\n"
     ]
    },
    {
     "name": "stderr",
     "output_type": "stream",
     "text": [
      "\r",
      "  6%|▋         | 44/681 [00:15<05:03,  2.10it/s]"
     ]
    },
    {
     "name": "stdout",
     "output_type": "stream",
     "text": [
      "\n",
      "Neverdogs (Reality) - Original Mix\n"
     ]
    },
    {
     "name": "stderr",
     "output_type": "stream",
     "text": [
      "\r",
      "  7%|▋         | 45/681 [00:15<05:03,  2.09it/s]"
     ]
    },
    {
     "name": "stdout",
     "output_type": "stream",
     "text": [
      "There was an error on: Neverdogs (Reality) - Original Mix\n",
      "Traceback (most recent call last):\n",
      "  File \"/mnt/d/projects/bassline_transcription/bassline_transcriber/bassline_transcriber.py\", line 40, in transcribe_single_bassline\n",
      "    bassline_transcriber.create_midi_array()\n",
      "  File \"/mnt/d/projects/bassline_transcription/bassline_transcriber/transcriber_classes.py\", line 83, in create_midi_array\n",
      "    self.bassline_midi_array = extract_midi_array(self.pitch_track_quantized[1],\n",
      "  File \"/mnt/d/projects/bassline_transcription/bassline_transcriber/transcription/midi_transcription.py\", line 28, in extract_midi_array\n",
      "    midi_sequence = downsample_midi_number_sequence(midi_sequence, N_qb, M, N_bars)\n",
      "  File \"/mnt/d/projects/bassline_transcription/bassline_transcriber/transcription/midi_transcription.py\", line 61, in downsample_midi_number_sequence\n",
      "    midi_number_seq_decimated = midi_number_seq[np.arange(0, N_required, M, dtype=int)]\n",
      "IndexError: index 504 is out of bounds for axis 0 with size 502\n",
      "\n",
      "\n",
      "\n",
      "Wheats (Another Planet EP) - Original Mix\n"
     ]
    },
    {
     "name": "stderr",
     "output_type": "stream",
     "text": [
      "\r",
      "  7%|▋         | 46/681 [00:16<05:04,  2.08it/s]"
     ]
    },
    {
     "name": "stdout",
     "output_type": "stream",
     "text": [
      "\n",
      "Kyle Watson, MAY BBY (Magic Carpet) - Original Mix\n"
     ]
    },
    {
     "name": "stderr",
     "output_type": "stream",
     "text": [
      "\r",
      "  7%|▋         | 47/681 [00:17<05:15,  2.01it/s]"
     ]
    },
    {
     "name": "stdout",
     "output_type": "stream",
     "text": [
      "There was an error on: Kyle Watson, MAY BBY (Magic Carpet) - Original Mix\n",
      "Traceback (most recent call last):\n",
      "  File \"/mnt/d/projects/bassline_transcription/bassline_transcriber/bassline_transcriber.py\", line 40, in transcribe_single_bassline\n",
      "    bassline_transcriber.create_midi_array()\n",
      "  File \"/mnt/d/projects/bassline_transcription/bassline_transcriber/transcriber_classes.py\", line 83, in create_midi_array\n",
      "    self.bassline_midi_array = extract_midi_array(self.pitch_track_quantized[1],\n",
      "  File \"/mnt/d/projects/bassline_transcription/bassline_transcriber/transcription/midi_transcription.py\", line 28, in extract_midi_array\n",
      "    midi_sequence = downsample_midi_number_sequence(midi_sequence, N_qb, M, N_bars)\n",
      "  File \"/mnt/d/projects/bassline_transcription/bassline_transcriber/transcription/midi_transcription.py\", line 61, in downsample_midi_number_sequence\n",
      "    midi_number_seq_decimated = midi_number_seq[np.arange(0, N_required, M, dtype=int)]\n",
      "IndexError: index 496 is out of bounds for axis 0 with size 494\n",
      "\n",
      "\n",
      "\n",
      "James Burton (Lets Fork) - Original Mix\n"
     ]
    },
    {
     "name": "stderr",
     "output_type": "stream",
     "text": [
      "\r",
      "  7%|▋         | 48/681 [00:17<05:04,  2.08it/s]"
     ]
    },
    {
     "name": "stdout",
     "output_type": "stream",
     "text": [
      "\n",
      "DONT BLINK (VIBRATION) - Extended Mix\n"
     ]
    },
    {
     "name": "stderr",
     "output_type": "stream",
     "text": [
      "\r",
      "  7%|▋         | 49/681 [00:17<04:55,  2.14it/s]"
     ]
    },
    {
     "name": "stdout",
     "output_type": "stream",
     "text": [
      "\n",
      "FISHER (OZ) (Losing It) - Extended\n"
     ]
    },
    {
     "name": "stderr",
     "output_type": "stream",
     "text": [
      "\r",
      "  7%|▋         | 50/681 [00:18<04:54,  2.14it/s]"
     ]
    },
    {
     "name": "stdout",
     "output_type": "stream",
     "text": [
      "\n",
      "Late Replies (Hold Up) - Original Mix\n",
      "There was an error on: Late Replies (Hold Up) - Original Mix\n",
      "Traceback (most recent call last):\n",
      "  File \"/mnt/d/projects/bassline_transcription/bassline_transcriber/bassline_transcriber.py\", line 32, in transcribe_single_bassline\n",
      "    bassline_transcriber=BasslineTranscriber(title, directories, scales, track_dicts, M)\n",
      "  File \"/mnt/d/projects/bassline_transcription/bassline_transcriber/transcriber_classes.py\", line 31, in __init__\n",
      "    self.track_scale = get_track_scale(title, track_dicts, scales)\n",
      "  File \"/mnt/d/projects/bassline_transcription/utilities.py\", line 68, in get_track_scale\n",
      "    scale_frequencies = scales[key][scale_type]['frequencies']\n",
      "KeyError: 'Ab'\n",
      "\n",
      "\n",
      "\n",
      "Tinie Tempah, Torren Foot, L Devine - More Life (feat. Tinie Tempah & L Devine) [John Summit Extended Remix]\n"
     ]
    },
    {
     "name": "stderr",
     "output_type": "stream",
     "text": [
      "\r",
      "  8%|▊         | 52/681 [00:18<04:05,  2.56it/s]"
     ]
    },
    {
     "name": "stdout",
     "output_type": "stream",
     "text": [
      "\n",
      "Stanley Kubrix (Wut) - Original Mix\n"
     ]
    },
    {
     "name": "stderr",
     "output_type": "stream",
     "text": [
      "\r",
      "  8%|▊         | 53/681 [00:19<04:13,  2.48it/s]"
     ]
    },
    {
     "name": "stdout",
     "output_type": "stream",
     "text": [
      "\n",
      "Julian Collazos (Sabor Criollo EP) - Original Mix\n"
     ]
    },
    {
     "name": "stderr",
     "output_type": "stream",
     "text": [
      "\r",
      "  8%|▊         | 54/681 [00:19<04:15,  2.46it/s]"
     ]
    },
    {
     "name": "stdout",
     "output_type": "stream",
     "text": [
      "\n",
      "PAX - LO*E DR*G (Extended Mix)\n",
      "There was an error on: PAX - LO*E DR*G (Extended Mix)\n",
      "Traceback (most recent call last):\n",
      "  File \"/mnt/d/projects/bassline_transcription/bassline_transcriber/bassline_transcriber.py\", line 32, in transcribe_single_bassline\n",
      "    bassline_transcriber=BasslineTranscriber(title, directories, scales, track_dicts, M)\n",
      "  File \"/mnt/d/projects/bassline_transcription/bassline_transcriber/transcriber_classes.py\", line 39, in __init__\n",
      "    self.quarter_beat_positions = get_quarter_beat_positions(get_chorus_beat_positions(title, directories))\n",
      "  File \"/mnt/d/projects/bassline_transcription/utilities.py\", line 183, in get_chorus_beat_positions\n",
      "    return np.load(directories['extraction']['chorus']['chorus_beat_positions']+'/'+title+'.npy')\n",
      "  File \"/home/oguza97/anaconda3/envs/bassline_transcription/lib/python3.8/site-packages/numpy/lib/npyio.py\", line 416, in load\n",
      "    fid = stack.enter_context(open(os_fspath(file), \"rb\"))\n",
      "FileNotFoundError: [Errno 2] No such file or directory: '/mnt/d/projects/bassline_transcription/data/bassline_extraction/chorus/chorus_beat_positions/PAX - LO*E DR*G (Extended Mix).npy'\n",
      "\n",
      "\n",
      "\n",
      "JOMAQ, Pizzolo (Make Me Feel) - Extended Mix\n"
     ]
    },
    {
     "name": "stderr",
     "output_type": "stream",
     "text": [
      "\r",
      "  8%|▊         | 56/681 [00:20<03:42,  2.81it/s]"
     ]
    },
    {
     "name": "stdout",
     "output_type": "stream",
     "text": [
      "\n",
      "Mizbee, Roberto Pagliaccia - Out of Tune (Extended Mixes)\n"
     ]
    },
    {
     "name": "stderr",
     "output_type": "stream",
     "text": [
      "\r",
      "  8%|▊         | 57/681 [00:20<03:55,  2.65it/s]"
     ]
    },
    {
     "name": "stdout",
     "output_type": "stream",
     "text": [
      "\n",
      "Luke Nash, Arzenic (Los Santos) - Original Mix\n"
     ]
    },
    {
     "name": "stderr",
     "output_type": "stream",
     "text": [
      "\r",
      "  9%|▊         | 58/681 [00:20<03:58,  2.61it/s]"
     ]
    },
    {
     "name": "stdout",
     "output_type": "stream",
     "text": [
      "There was an error on: Luke Nash, Arzenic (Los Santos) - Original Mix\n",
      "Traceback (most recent call last):\n",
      "  File \"/mnt/d/projects/bassline_transcription/bassline_transcriber/bassline_transcriber.py\", line 40, in transcribe_single_bassline\n",
      "    bassline_transcriber.create_midi_array()\n",
      "  File \"/mnt/d/projects/bassline_transcription/bassline_transcriber/transcriber_classes.py\", line 83, in create_midi_array\n",
      "    self.bassline_midi_array = extract_midi_array(self.pitch_track_quantized[1],\n",
      "  File \"/mnt/d/projects/bassline_transcription/bassline_transcriber/transcription/midi_transcription.py\", line 28, in extract_midi_array\n",
      "    midi_sequence = downsample_midi_number_sequence(midi_sequence, N_qb, M, N_bars)\n",
      "  File \"/mnt/d/projects/bassline_transcription/bassline_transcriber/transcription/midi_transcription.py\", line 61, in downsample_midi_number_sequence\n",
      "    midi_number_seq_decimated = midi_number_seq[np.arange(0, N_required, M, dtype=int)]\n",
      "IndexError: index 504 is out of bounds for axis 0 with size 502\n",
      "\n",
      "\n",
      "\n",
      "Agent Greg (Turn It Up) - Extended Mix\n"
     ]
    },
    {
     "name": "stderr",
     "output_type": "stream",
     "text": [
      "\r",
      "  9%|▊         | 59/681 [00:21<04:14,  2.44it/s]"
     ]
    },
    {
     "name": "stdout",
     "output_type": "stream",
     "text": [
      "\n",
      "Late Replies (Highway Freedom EP) - Extended Mix\n",
      "There was an error on: Late Replies (Highway Freedom EP) - Extended Mix\n",
      "Traceback (most recent call last):\n",
      "  File \"/mnt/d/projects/bassline_transcription/bassline_transcriber/bassline_transcriber.py\", line 32, in transcribe_single_bassline\n",
      "    bassline_transcriber=BasslineTranscriber(title, directories, scales, track_dicts, M)\n",
      "  File \"/mnt/d/projects/bassline_transcription/bassline_transcriber/transcriber_classes.py\", line 31, in __init__\n",
      "    self.track_scale = get_track_scale(title, track_dicts, scales)\n",
      "  File \"/mnt/d/projects/bassline_transcription/utilities.py\", line 68, in get_track_scale\n",
      "    scale_frequencies = scales[key][scale_type]['frequencies']\n",
      "KeyError: 'E#'\n",
      "\n",
      "\n",
      "\n",
      "Justin Martin, Drama (US) (Give No Fucks - Justin Martin Extended Mix) - Original Mix\n"
     ]
    },
    {
     "name": "stderr",
     "output_type": "stream",
     "text": [
      "\r",
      "  9%|▉         | 61/681 [00:21<03:48,  2.71it/s]"
     ]
    },
    {
     "name": "stdout",
     "output_type": "stream",
     "text": [
      "There was an error on: Justin Martin, Drama (US) (Give No Fucks - Justin Martin Extended Mix) - Original Mix\n",
      "Traceback (most recent call last):\n",
      "  File \"/mnt/d/projects/bassline_transcription/bassline_transcriber/bassline_transcriber.py\", line 40, in transcribe_single_bassline\n",
      "    bassline_transcriber.create_midi_array()\n",
      "  File \"/mnt/d/projects/bassline_transcription/bassline_transcriber/transcriber_classes.py\", line 83, in create_midi_array\n",
      "    self.bassline_midi_array = extract_midi_array(self.pitch_track_quantized[1],\n",
      "  File \"/mnt/d/projects/bassline_transcription/bassline_transcriber/transcription/midi_transcription.py\", line 28, in extract_midi_array\n",
      "    midi_sequence = downsample_midi_number_sequence(midi_sequence, N_qb, M, N_bars)\n",
      "  File \"/mnt/d/projects/bassline_transcription/bassline_transcriber/transcription/midi_transcription.py\", line 61, in downsample_midi_number_sequence\n",
      "    midi_number_seq_decimated = midi_number_seq[np.arange(0, N_required, M, dtype=int)]\n",
      "IndexError: index 504 is out of bounds for axis 0 with size 500\n",
      "\n",
      "\n",
      "\n",
      "Sinisa Tamamovic, Katarina Tatic (Hypnotised EP) - Original Mix\n"
     ]
    },
    {
     "name": "stderr",
     "output_type": "stream",
     "text": [
      "\r",
      "  9%|▉         | 62/681 [00:22<04:09,  2.48it/s]"
     ]
    },
    {
     "name": "stdout",
     "output_type": "stream",
     "text": [
      "\n",
      "Federico Alesi, MartinoResi (You Never Mind) - Original Mix\n"
     ]
    },
    {
     "name": "stderr",
     "output_type": "stream",
     "text": [
      "\r",
      "  9%|▉         | 63/681 [00:22<04:20,  2.37it/s]"
     ]
    },
    {
     "name": "stdout",
     "output_type": "stream",
     "text": [
      "\n",
      "Mooner Gl (Guan Yu EP) - Manda Moor Remix\n"
     ]
    },
    {
     "name": "stderr",
     "output_type": "stream",
     "text": [
      "\r",
      "  9%|▉         | 64/681 [00:23<04:23,  2.34it/s]"
     ]
    },
    {
     "name": "stdout",
     "output_type": "stream",
     "text": [
      "There was an error on: Mooner Gl (Guan Yu EP) - Manda Moor Remix\n",
      "Traceback (most recent call last):\n",
      "  File \"/mnt/d/projects/bassline_transcription/bassline_transcriber/bassline_transcriber.py\", line 44, in transcribe_single_bassline\n",
      "    bassline_transcriber.create_midi_file()\n",
      "  File \"/mnt/d/projects/bassline_transcription/bassline_transcriber/transcriber_classes.py\", line 109, in create_midi_file\n",
      "    create_MIDI_file(self.bassline_midi_array, self.BPM, self.title, self.directories['midi']['midi_file'][str(self.M)])\n",
      "  File \"/mnt/d/projects/bassline_transcription/MIDI_output.py\", line 38, in create_MIDI_file\n",
      "    duration = int(midi_array[i+1, 3]*tpb)\n",
      "UnboundLocalError: local variable 'i' referenced before assignment\n",
      "\n",
      "\n",
      "\n",
      "Ki Creighton (My Beat) - Original Mix\n"
     ]
    },
    {
     "name": "stderr",
     "output_type": "stream",
     "text": [
      "\r",
      " 10%|▉         | 65/681 [00:23<04:28,  2.29it/s]"
     ]
    },
    {
     "name": "stdout",
     "output_type": "stream",
     "text": [
      "There was an error on: Ki Creighton (My Beat) - Original Mix\n",
      "Traceback (most recent call last):\n",
      "  File \"/mnt/d/projects/bassline_transcription/bassline_transcriber/bassline_transcriber.py\", line 40, in transcribe_single_bassline\n",
      "    bassline_transcriber.create_midi_array()\n",
      "  File \"/mnt/d/projects/bassline_transcription/bassline_transcriber/transcriber_classes.py\", line 83, in create_midi_array\n",
      "    self.bassline_midi_array = extract_midi_array(self.pitch_track_quantized[1],\n",
      "  File \"/mnt/d/projects/bassline_transcription/bassline_transcriber/transcription/midi_transcription.py\", line 28, in extract_midi_array\n",
      "    midi_sequence = downsample_midi_number_sequence(midi_sequence, N_qb, M, N_bars)\n",
      "  File \"/mnt/d/projects/bassline_transcription/bassline_transcriber/transcription/midi_transcription.py\", line 61, in downsample_midi_number_sequence\n",
      "    midi_number_seq_decimated = midi_number_seq[np.arange(0, N_required, M, dtype=int)]\n",
      "IndexError: index 504 is out of bounds for axis 0 with size 504\n",
      "\n",
      "\n",
      "\n",
      "Dissolut - DIY (Extended Mix)\n"
     ]
    },
    {
     "name": "stderr",
     "output_type": "stream",
     "text": [
      "\r",
      " 10%|▉         | 66/681 [00:24<04:31,  2.27it/s]"
     ]
    },
    {
     "name": "stdout",
     "output_type": "stream",
     "text": [
      "\n",
      "Eddy M, Dennis Cruz (Goldigger) - Original Mix\n"
     ]
    },
    {
     "name": "stderr",
     "output_type": "stream",
     "text": [
      "\r",
      " 10%|▉         | 67/681 [00:24<04:26,  2.30it/s]"
     ]
    },
    {
     "name": "stdout",
     "output_type": "stream",
     "text": [
      "\n",
      "John Summit (Beauty Sleep) - Extended\n"
     ]
    },
    {
     "name": "stderr",
     "output_type": "stream",
     "text": [
      "\r",
      " 10%|▉         | 68/681 [00:25<04:27,  2.29it/s]"
     ]
    },
    {
     "name": "stdout",
     "output_type": "stream",
     "text": [
      "\n",
      "Dennis Beutler, Dillon Nathaniel (Not One Thing) - Extended Mix\n",
      "There was an error on: Dennis Beutler, Dillon Nathaniel (Not One Thing) - Extended Mix\n",
      "Traceback (most recent call last):\n",
      "  File \"/mnt/d/projects/bassline_transcription/bassline_transcriber/bassline_transcriber.py\", line 32, in transcribe_single_bassline\n",
      "    bassline_transcriber=BasslineTranscriber(title, directories, scales, track_dicts, M)\n",
      "  File \"/mnt/d/projects/bassline_transcription/bassline_transcriber/transcriber_classes.py\", line 31, in __init__\n",
      "    self.track_scale = get_track_scale(title, track_dicts, scales)\n",
      "  File \"/mnt/d/projects/bassline_transcription/utilities.py\", line 68, in get_track_scale\n",
      "    scale_frequencies = scales[key][scale_type]['frequencies']\n",
      "KeyError: 'E#'\n",
      "\n",
      "\n",
      "\n",
      "Roobinz, Maur (Can't Get Enough) - Original Mix\n",
      "There was an error on: Roobinz, Maur (Can't Get Enough) - Original Mix\n",
      "Traceback (most recent call last):\n",
      "  File \"/mnt/d/projects/bassline_transcription/bassline_transcriber/bassline_transcriber.py\", line 32, in transcribe_single_bassline\n",
      "    bassline_transcriber=BasslineTranscriber(title, directories, scales, track_dicts, M)\n",
      "  File \"/mnt/d/projects/bassline_transcription/bassline_transcriber/transcriber_classes.py\", line 31, in __init__\n",
      "    self.track_scale = get_track_scale(title, track_dicts, scales)\n",
      "  File \"/mnt/d/projects/bassline_transcription/utilities.py\", line 68, in get_track_scale\n",
      "    scale_frequencies = scales[key][scale_type]['frequencies']\n",
      "KeyError: 'B#'\n",
      "\n",
      "\n",
      "\n",
      "BLOC (Puppy Love) - Original Mix\n"
     ]
    },
    {
     "name": "stderr",
     "output_type": "stream",
     "text": [
      "\r",
      " 10%|█         | 71/681 [00:25<03:32,  2.88it/s]"
     ]
    },
    {
     "name": "stdout",
     "output_type": "stream",
     "text": [
      "There was an error on: BLOC (Puppy Love) - Original Mix\n",
      "Traceback (most recent call last):\n",
      "  File \"/mnt/d/projects/bassline_transcription/bassline_transcriber/bassline_transcriber.py\", line 40, in transcribe_single_bassline\n",
      "    bassline_transcriber.create_midi_array()\n",
      "  File \"/mnt/d/projects/bassline_transcription/bassline_transcriber/transcriber_classes.py\", line 83, in create_midi_array\n",
      "    self.bassline_midi_array = extract_midi_array(self.pitch_track_quantized[1],\n",
      "  File \"/mnt/d/projects/bassline_transcription/bassline_transcriber/transcription/midi_transcription.py\", line 28, in extract_midi_array\n",
      "    midi_sequence = downsample_midi_number_sequence(midi_sequence, N_qb, M, N_bars)\n",
      "  File \"/mnt/d/projects/bassline_transcription/bassline_transcriber/transcription/midi_transcription.py\", line 61, in downsample_midi_number_sequence\n",
      "    midi_number_seq_decimated = midi_number_seq[np.arange(0, N_required, M, dtype=int)]\n",
      "IndexError: index 496 is out of bounds for axis 0 with size 490\n",
      "\n",
      "\n",
      "\n",
      "R3WIRE (Stereohype Label Sampler: Volume. 2) - Extended Mix\n",
      "There was an error on: R3WIRE (Stereohype Label Sampler: Volume. 2) - Extended Mix\n",
      "Traceback (most recent call last):\n",
      "  File \"/mnt/d/projects/bassline_transcription/bassline_transcriber/bassline_transcriber.py\", line 32, in transcribe_single_bassline\n",
      "    bassline_transcriber=BasslineTranscriber(title, directories, scales, track_dicts, M)\n",
      "  File \"/mnt/d/projects/bassline_transcription/bassline_transcriber/transcriber_classes.py\", line 39, in __init__\n",
      "    self.quarter_beat_positions = get_quarter_beat_positions(get_chorus_beat_positions(title, directories))\n",
      "  File \"/mnt/d/projects/bassline_transcription/utilities.py\", line 183, in get_chorus_beat_positions\n",
      "    return np.load(directories['extraction']['chorus']['chorus_beat_positions']+'/'+title+'.npy')\n",
      "  File \"/home/oguza97/anaconda3/envs/bassline_transcription/lib/python3.8/site-packages/numpy/lib/npyio.py\", line 416, in load\n",
      "    fid = stack.enter_context(open(os_fspath(file), \"rb\"))\n",
      "FileNotFoundError: [Errno 2] No such file or directory: '/mnt/d/projects/bassline_transcription/data/bassline_extraction/chorus/chorus_beat_positions/R3WIRE (Stereohype Label Sampler: Volume. 2) - Extended Mix.npy'\n",
      "\n",
      "\n",
      "\n",
      "Tuff London - Strobe (Extended Mix)\n"
     ]
    },
    {
     "name": "stderr",
     "output_type": "stream",
     "text": [
      "\r",
      " 11%|█         | 73/681 [00:25<03:07,  3.25it/s]"
     ]
    },
    {
     "name": "stdout",
     "output_type": "stream",
     "text": [
      "\n",
      "Dubesque (Black Book ID's: Chapter 1) - Extended Mix\n",
      "There was an error on: Dubesque (Black Book ID's: Chapter 1) - Extended Mix\n",
      "Traceback (most recent call last):\n",
      "  File \"/mnt/d/projects/bassline_transcription/bassline_transcriber/bassline_transcriber.py\", line 32, in transcribe_single_bassline\n",
      "    bassline_transcriber=BasslineTranscriber(title, directories, scales, track_dicts, M)\n",
      "  File \"/mnt/d/projects/bassline_transcription/bassline_transcriber/transcriber_classes.py\", line 31, in __init__\n",
      "    self.track_scale = get_track_scale(title, track_dicts, scales)\n",
      "  File \"/mnt/d/projects/bassline_transcription/utilities.py\", line 68, in get_track_scale\n",
      "    scale_frequencies = scales[key][scale_type]['frequencies']\n",
      "KeyError: 'B#'\n",
      "\n",
      "\n",
      "\n",
      "Sllash & Doppe (Make It Better) - Original Mix\n",
      "There was an error on: Sllash & Doppe (Make It Better) - Original Mix\n",
      "Traceback (most recent call last):\n",
      "  File \"/mnt/d/projects/bassline_transcription/bassline_transcriber/bassline_transcriber.py\", line 32, in transcribe_single_bassline\n",
      "    bassline_transcriber=BasslineTranscriber(title, directories, scales, track_dicts, M)\n",
      "  File \"/mnt/d/projects/bassline_transcription/bassline_transcriber/transcriber_classes.py\", line 31, in __init__\n",
      "    self.track_scale = get_track_scale(title, track_dicts, scales)\n",
      "  File \"/mnt/d/projects/bassline_transcription/utilities.py\", line 68, in get_track_scale\n",
      "    scale_frequencies = scales[key][scale_type]['frequencies']\n",
      "KeyError: 'B#'\n",
      "\n",
      "\n",
      "\n",
      "Wheats (Bizzi) - Original Mix\n"
     ]
    },
    {
     "name": "stderr",
     "output_type": "stream",
     "text": [
      "\r",
      " 11%|█         | 76/681 [00:26<02:35,  3.88it/s]"
     ]
    },
    {
     "name": "stdout",
     "output_type": "stream",
     "text": [
      "\n",
      "Nicky Night Time (Black Book ID's: Chapter 1) - NightFunk Extended Remix\n",
      "There was an error on: Nicky Night Time (Black Book ID's: Chapter 1) - NightFunk Extended Remix\n",
      "Traceback (most recent call last):\n",
      "  File \"/mnt/d/projects/bassline_transcription/bassline_transcriber/bassline_transcriber.py\", line 32, in transcribe_single_bassline\n",
      "    bassline_transcriber=BasslineTranscriber(title, directories, scales, track_dicts, M)\n",
      "  File \"/mnt/d/projects/bassline_transcription/bassline_transcriber/transcriber_classes.py\", line 39, in __init__\n",
      "    self.quarter_beat_positions = get_quarter_beat_positions(get_chorus_beat_positions(title, directories))\n",
      "  File \"/mnt/d/projects/bassline_transcription/utilities.py\", line 183, in get_chorus_beat_positions\n",
      "    return np.load(directories['extraction']['chorus']['chorus_beat_positions']+'/'+title+'.npy')\n",
      "  File \"/home/oguza97/anaconda3/envs/bassline_transcription/lib/python3.8/site-packages/numpy/lib/npyio.py\", line 416, in load\n",
      "    fid = stack.enter_context(open(os_fspath(file), \"rb\"))\n",
      "FileNotFoundError: [Errno 2] No such file or directory: \"/mnt/d/projects/bassline_transcription/data/bassline_extraction/chorus/chorus_beat_positions/Nicky Night Time (Black Book ID's: Chapter 1) - NightFunk Extended Remix.npy\"\n",
      "\n",
      "\n",
      "\n",
      "Dom Dolla - Take It (Extended Mix)\n"
     ]
    },
    {
     "name": "stderr",
     "output_type": "stream",
     "text": [
      "\r",
      " 11%|█▏        | 78/681 [00:26<02:36,  3.86it/s]"
     ]
    },
    {
     "name": "stdout",
     "output_type": "stream",
     "text": [
      "There was an error on: Dom Dolla - Take It (Extended Mix)\n",
      "Traceback (most recent call last):\n",
      "  File \"/mnt/d/projects/bassline_transcription/bassline_transcriber/bassline_transcriber.py\", line 40, in transcribe_single_bassline\n",
      "    bassline_transcriber.create_midi_array()\n",
      "  File \"/mnt/d/projects/bassline_transcription/bassline_transcriber/transcriber_classes.py\", line 83, in create_midi_array\n",
      "    self.bassline_midi_array = extract_midi_array(self.pitch_track_quantized[1],\n",
      "  File \"/mnt/d/projects/bassline_transcription/bassline_transcriber/transcription/midi_transcription.py\", line 28, in extract_midi_array\n",
      "    midi_sequence = downsample_midi_number_sequence(midi_sequence, N_qb, M, N_bars)\n",
      "  File \"/mnt/d/projects/bassline_transcription/bassline_transcriber/transcription/midi_transcription.py\", line 61, in downsample_midi_number_sequence\n",
      "    midi_number_seq_decimated = midi_number_seq[np.arange(0, N_required, M, dtype=int)]\n",
      "IndexError: index 504 is out of bounds for axis 0 with size 502\n",
      "\n",
      "\n",
      "\n",
      "Matroda (When We Were Young / Gimme Some Keys) - Original Mix\n",
      "There was an error on: Matroda (When We Were Young / Gimme Some Keys) - Original Mix\n",
      "Traceback (most recent call last):\n",
      "  File \"/mnt/d/projects/bassline_transcription/bassline_transcriber/bassline_transcriber.py\", line 32, in transcribe_single_bassline\n",
      "    bassline_transcriber=BasslineTranscriber(title, directories, scales, track_dicts, M)\n",
      "  File \"/mnt/d/projects/bassline_transcription/bassline_transcriber/transcriber_classes.py\", line 39, in __init__\n",
      "    self.quarter_beat_positions = get_quarter_beat_positions(get_chorus_beat_positions(title, directories))\n",
      "  File \"/mnt/d/projects/bassline_transcription/utilities.py\", line 183, in get_chorus_beat_positions\n",
      "    return np.load(directories['extraction']['chorus']['chorus_beat_positions']+'/'+title+'.npy')\n",
      "  File \"/home/oguza97/anaconda3/envs/bassline_transcription/lib/python3.8/site-packages/numpy/lib/npyio.py\", line 416, in load\n",
      "    fid = stack.enter_context(open(os_fspath(file), \"rb\"))\n",
      "FileNotFoundError: [Errno 2] No such file or directory: '/mnt/d/projects/bassline_transcription/data/bassline_extraction/chorus/chorus_beat_positions/Matroda (When We Were Young / Gimme Some Keys) - Original Mix.npy'\n",
      "\n",
      "\n",
      "\n",
      "Kevin McKay (Move Ya Body) - Extended Mix\n"
     ]
    },
    {
     "name": "stderr",
     "output_type": "stream",
     "text": [
      "\r",
      " 12%|█▏        | 80/681 [00:27<02:28,  4.05it/s]"
     ]
    },
    {
     "name": "stdout",
     "output_type": "stream",
     "text": [
      "\n",
      "Golf Clap (That Life) - Original Mix\n"
     ]
    },
    {
     "name": "stderr",
     "output_type": "stream",
     "text": [
      " 12%|█▏        | 80/681 [00:27<03:28,  2.88it/s]\n",
      "ERROR:root:Internal Python error in the inspect module.\n",
      "Below is the traceback from this internal error.\n",
      "\n"
     ]
    },
    {
     "name": "stdout",
     "output_type": "stream",
     "text": [
      "Traceback (most recent call last):\n",
      "  File \"/mnt/d/projects/bassline_transcription/bassline_transcriber/bassline_transcriber.py\", line 34, in transcribe_single_bassline\n",
      "    bassline_transcriber.extract_pitch_track(pYIN_threshold)\n",
      "  File \"/mnt/d/projects/bassline_transcription/bassline_transcriber/transcriber_classes.py\", line 48, in extract_pitch_track\n",
      "    self.F0_estimate, self.pitch_track = pYIN_F0(self.bassline,\n",
      "  File \"/mnt/d/projects/bassline_transcription/bassline_transcriber/transcription/F0_estimation.py\", line 17, in pYIN_F0\n",
      "    F0, _, confidence = pyin(audio,\n",
      "  File \"/home/oguza97/anaconda3/envs/bassline_transcription/lib/python3.8/site-packages/librosa/core/pitch.py\", line 864, in pyin\n",
      "    states = sequence.viterbi(observation_probs, transition, p_init=p_init)\n",
      "  File \"/home/oguza97/anaconda3/envs/bassline_transcription/lib/python3.8/site-packages/librosa/sequence.py\", line 1068, in viterbi\n",
      "    _viterbi(log_prob, log_trans, log_p_init, states, values, ptr)\n",
      "KeyboardInterrupt\n",
      "\n",
      "During handling of the above exception, another exception occurred:\n",
      "\n",
      "Traceback (most recent call last):\n",
      "  File \"/home/oguza97/anaconda3/envs/bassline_transcription/lib/python3.8/site-packages/IPython/core/interactiveshell.py\", line 3418, in run_code\n",
      "    exec(code_obj, self.user_global_ns, self.user_ns)\n",
      "  File \"<ipython-input-3-dac5b617439c>\", line 3, in <module>\n",
      "    main(directories_json_path, M, quantization_scheme='adaptive', filter_unk=False)\n",
      "  File \"/mnt/d/projects/bassline_transcription/bassline_transcriber/bassline_transcriber.py\", line 82, in main\n",
      "    transcribe_single_bassline(title, directories, scales, track_dicts, M,\n",
      "  File \"/mnt/d/projects/bassline_transcription/bassline_transcriber/bassline_transcriber.py\", line 62, in transcribe_single_bassline\n",
      "    sys.exit()\n",
      "SystemExit\n",
      "\n",
      "During handling of the above exception, another exception occurred:\n",
      "\n",
      "Traceback (most recent call last):\n",
      "  File \"/home/oguza97/anaconda3/envs/bassline_transcription/lib/python3.8/site-packages/IPython/core/ultratb.py\", line 1170, in get_records\n",
      "    return _fixed_getinnerframes(etb, number_of_lines_of_context, tb_offset)\n",
      "  File \"/home/oguza97/anaconda3/envs/bassline_transcription/lib/python3.8/site-packages/IPython/core/ultratb.py\", line 316, in wrapped\n",
      "    return f(*args, **kwargs)\n",
      "  File \"/home/oguza97/anaconda3/envs/bassline_transcription/lib/python3.8/site-packages/IPython/core/ultratb.py\", line 350, in _fixed_getinnerframes\n",
      "    records = fix_frame_records_filenames(inspect.getinnerframes(etb, context))\n",
      "  File \"/home/oguza97/anaconda3/envs/bassline_transcription/lib/python3.8/inspect.py\", line 1503, in getinnerframes\n",
      "    frameinfo = (tb.tb_frame,) + getframeinfo(tb, context)\n",
      "AttributeError: 'tuple' object has no attribute 'tb_frame'\n"
     ]
    },
    {
     "ename": "TypeError",
     "evalue": "object of type 'NoneType' has no len()",
     "output_type": "error",
     "traceback": [
      "\u001b[0;31m---------------------------------------------------------------------------\u001b[0m",
      "\u001b[0;31mKeyboardInterrupt\u001b[0m                         Traceback (most recent call last)",
      "\u001b[0;32m/mnt/d/projects/bassline_transcription/bassline_transcriber/bassline_transcriber.py\u001b[0m in \u001b[0;36mtranscribe_single_bassline\u001b[0;34m(title, directories, scales, track_dicts, M, quantization_scheme, filter_unk, epsilon, pYIN_threshold, plot, date)\u001b[0m\n\u001b[1;32m     33\u001b[0m \u001b[0;34m\u001b[0m\u001b[0m\n\u001b[0;32m---> 34\u001b[0;31m         \u001b[0mbassline_transcriber\u001b[0m\u001b[0;34m.\u001b[0m\u001b[0mextract_pitch_track\u001b[0m\u001b[0;34m(\u001b[0m\u001b[0mpYIN_threshold\u001b[0m\u001b[0;34m)\u001b[0m\u001b[0;34m\u001b[0m\u001b[0;34m\u001b[0m\u001b[0m\n\u001b[0m\u001b[1;32m     35\u001b[0m \u001b[0;34m\u001b[0m\u001b[0m\n",
      "\u001b[0;32m/mnt/d/projects/bassline_transcription/bassline_transcriber/transcriber_classes.py\u001b[0m in \u001b[0;36mextract_pitch_track\u001b[0;34m(self, pYIN_threshold)\u001b[0m\n\u001b[1;32m     47\u001b[0m         \u001b[0;31m# Initial estimate, Confidence Filtered\u001b[0m\u001b[0;34m\u001b[0m\u001b[0;34m\u001b[0m\u001b[0;34m\u001b[0m\u001b[0m\n\u001b[0;32m---> 48\u001b[0;31m         self.F0_estimate, self.pitch_track = pYIN_F0(self.bassline,\n\u001b[0m\u001b[1;32m     49\u001b[0m                                                     \u001b[0mself\u001b[0m\u001b[0;34m.\u001b[0m\u001b[0mfs\u001b[0m\u001b[0;34m,\u001b[0m\u001b[0;34m\u001b[0m\u001b[0;34m\u001b[0m\u001b[0m\n",
      "\u001b[0;32m/mnt/d/projects/bassline_transcription/bassline_transcriber/transcription/F0_estimation.py\u001b[0m in \u001b[0;36mpYIN_F0\u001b[0;34m(audio, fs, frame_length, threshold)\u001b[0m\n\u001b[1;32m     16\u001b[0m \u001b[0;34m\u001b[0m\u001b[0m\n\u001b[0;32m---> 17\u001b[0;31m     F0, _, confidence = pyin(audio,\n\u001b[0m\u001b[1;32m     18\u001b[0m                             \u001b[0msr\u001b[0m\u001b[0;34m=\u001b[0m\u001b[0mfs\u001b[0m\u001b[0;34m,\u001b[0m\u001b[0;34m\u001b[0m\u001b[0;34m\u001b[0m\u001b[0m\n",
      "\u001b[0;32m~/anaconda3/envs/bassline_transcription/lib/python3.8/site-packages/librosa/core/pitch.py\u001b[0m in \u001b[0;36mpyin\u001b[0;34m(y, fmin, fmax, sr, frame_length, win_length, hop_length, n_thresholds, beta_parameters, boltzmann_parameter, resolution, max_transition_rate, switch_prob, no_trough_prob, fill_na, center, pad_mode)\u001b[0m\n\u001b[1;32m    863\u001b[0m     \u001b[0;31m# Viterbi decoding.\u001b[0m\u001b[0;34m\u001b[0m\u001b[0;34m\u001b[0m\u001b[0;34m\u001b[0m\u001b[0m\n\u001b[0;32m--> 864\u001b[0;31m     \u001b[0mstates\u001b[0m \u001b[0;34m=\u001b[0m \u001b[0msequence\u001b[0m\u001b[0;34m.\u001b[0m\u001b[0mviterbi\u001b[0m\u001b[0;34m(\u001b[0m\u001b[0mobservation_probs\u001b[0m\u001b[0;34m,\u001b[0m \u001b[0mtransition\u001b[0m\u001b[0;34m,\u001b[0m \u001b[0mp_init\u001b[0m\u001b[0;34m=\u001b[0m\u001b[0mp_init\u001b[0m\u001b[0;34m)\u001b[0m\u001b[0;34m\u001b[0m\u001b[0;34m\u001b[0m\u001b[0m\n\u001b[0m\u001b[1;32m    865\u001b[0m \u001b[0;34m\u001b[0m\u001b[0m\n",
      "\u001b[0;32m~/anaconda3/envs/bassline_transcription/lib/python3.8/site-packages/librosa/sequence.py\u001b[0m in \u001b[0;36mviterbi\u001b[0;34m(prob, transition, p_init, return_logp)\u001b[0m\n\u001b[1;32m   1067\u001b[0m \u001b[0;34m\u001b[0m\u001b[0m\n\u001b[0;32m-> 1068\u001b[0;31m     \u001b[0m_viterbi\u001b[0m\u001b[0;34m(\u001b[0m\u001b[0mlog_prob\u001b[0m\u001b[0;34m,\u001b[0m \u001b[0mlog_trans\u001b[0m\u001b[0;34m,\u001b[0m \u001b[0mlog_p_init\u001b[0m\u001b[0;34m,\u001b[0m \u001b[0mstates\u001b[0m\u001b[0;34m,\u001b[0m \u001b[0mvalues\u001b[0m\u001b[0;34m,\u001b[0m \u001b[0mptr\u001b[0m\u001b[0;34m)\u001b[0m\u001b[0;34m\u001b[0m\u001b[0;34m\u001b[0m\u001b[0m\n\u001b[0m\u001b[1;32m   1069\u001b[0m \u001b[0;34m\u001b[0m\u001b[0m\n",
      "\u001b[0;31mKeyboardInterrupt\u001b[0m: ",
      "\nDuring handling of the above exception, another exception occurred:\n",
      "\u001b[0;31mSystemExit\u001b[0m                                Traceback (most recent call last)",
      "    \u001b[0;31m[... skipping hidden 1 frame]\u001b[0m\n",
      "\u001b[0;32m<ipython-input-3-dac5b617439c>\u001b[0m in \u001b[0;36m<module>\u001b[0;34m\u001b[0m\n\u001b[1;32m      2\u001b[0m \u001b[0;34m\u001b[0m\u001b[0m\n\u001b[0;32m----> 3\u001b[0;31m     \u001b[0mmain\u001b[0m\u001b[0;34m(\u001b[0m\u001b[0mdirectories_json_path\u001b[0m\u001b[0;34m,\u001b[0m \u001b[0mM\u001b[0m\u001b[0;34m,\u001b[0m \u001b[0mquantization_scheme\u001b[0m\u001b[0;34m=\u001b[0m\u001b[0;34m'adaptive'\u001b[0m\u001b[0;34m,\u001b[0m \u001b[0mfilter_unk\u001b[0m\u001b[0;34m=\u001b[0m\u001b[0;32mFalse\u001b[0m\u001b[0;34m)\u001b[0m\u001b[0;34m\u001b[0m\u001b[0;34m\u001b[0m\u001b[0m\n\u001b[0m",
      "\u001b[0;32m/mnt/d/projects/bassline_transcription/bassline_transcriber/bassline_transcriber.py\u001b[0m in \u001b[0;36mmain\u001b[0;34m(directories_path, M, quantization_scheme, filter_unk, epsilon, pYIN_threshold, plot)\u001b[0m\n\u001b[1;32m     81\u001b[0m \u001b[0;34m\u001b[0m\u001b[0m\n\u001b[0;32m---> 82\u001b[0;31m         transcribe_single_bassline(title, directories, scales, track_dicts, M,\n\u001b[0m\u001b[1;32m     83\u001b[0m                                     \u001b[0mquantization_scheme\u001b[0m\u001b[0;34m,\u001b[0m \u001b[0mfilter_unk\u001b[0m\u001b[0;34m,\u001b[0m \u001b[0mepsilon\u001b[0m\u001b[0;34m,\u001b[0m \u001b[0mpYIN_threshold\u001b[0m\u001b[0;34m,\u001b[0m\u001b[0;34m\u001b[0m\u001b[0;34m\u001b[0m\u001b[0m\n",
      "\u001b[0;32m/mnt/d/projects/bassline_transcription/bassline_transcriber/bassline_transcriber.py\u001b[0m in \u001b[0;36mtranscribe_single_bassline\u001b[0;34m(title, directories, scales, track_dicts, M, quantization_scheme, filter_unk, epsilon, pYIN_threshold, plot, date)\u001b[0m\n\u001b[1;32m     61\u001b[0m     \u001b[0;32mexcept\u001b[0m \u001b[0mKeyboardInterrupt\u001b[0m\u001b[0;34m:\u001b[0m\u001b[0;34m\u001b[0m\u001b[0;34m\u001b[0m\u001b[0m\n\u001b[0;32m---> 62\u001b[0;31m         \u001b[0msys\u001b[0m\u001b[0;34m.\u001b[0m\u001b[0mexit\u001b[0m\u001b[0;34m(\u001b[0m\u001b[0;34m)\u001b[0m\u001b[0;34m\u001b[0m\u001b[0;34m\u001b[0m\u001b[0m\n\u001b[0m\u001b[1;32m     63\u001b[0m         \u001b[0;32mpass\u001b[0m\u001b[0;34m\u001b[0m\u001b[0;34m\u001b[0m\u001b[0m\n",
      "\u001b[0;31mSystemExit\u001b[0m: ",
      "\nDuring handling of the above exception, another exception occurred:\n",
      "\u001b[0;31mTypeError\u001b[0m                                 Traceback (most recent call last)",
      "    \u001b[0;31m[... skipping hidden 1 frame]\u001b[0m\n",
      "\u001b[0;32m~/anaconda3/envs/bassline_transcription/lib/python3.8/site-packages/IPython/core/interactiveshell.py\u001b[0m in \u001b[0;36mshowtraceback\u001b[0;34m(self, exc_tuple, filename, tb_offset, exception_only, running_compiled_code)\u001b[0m\n\u001b[1;32m   2036\u001b[0m                     stb = ['An exception has occurred, use %tb to see '\n\u001b[1;32m   2037\u001b[0m                            'the full traceback.\\n']\n\u001b[0;32m-> 2038\u001b[0;31m                     stb.extend(self.InteractiveTB.get_exception_only(etype,\n\u001b[0m\u001b[1;32m   2039\u001b[0m                                                                      value))\n\u001b[1;32m   2040\u001b[0m                 \u001b[0;32melse\u001b[0m\u001b[0;34m:\u001b[0m\u001b[0;34m\u001b[0m\u001b[0;34m\u001b[0m\u001b[0m\n",
      "\u001b[0;32m~/anaconda3/envs/bassline_transcription/lib/python3.8/site-packages/IPython/core/ultratb.py\u001b[0m in \u001b[0;36mget_exception_only\u001b[0;34m(self, etype, value)\u001b[0m\n\u001b[1;32m    821\u001b[0m         \u001b[0mvalue\u001b[0m \u001b[0;34m:\u001b[0m \u001b[0mexception\u001b[0m \u001b[0mvalue\u001b[0m\u001b[0;34m\u001b[0m\u001b[0;34m\u001b[0m\u001b[0m\n\u001b[1;32m    822\u001b[0m         \"\"\"\n\u001b[0;32m--> 823\u001b[0;31m         \u001b[0;32mreturn\u001b[0m \u001b[0mListTB\u001b[0m\u001b[0;34m.\u001b[0m\u001b[0mstructured_traceback\u001b[0m\u001b[0;34m(\u001b[0m\u001b[0mself\u001b[0m\u001b[0;34m,\u001b[0m \u001b[0metype\u001b[0m\u001b[0;34m,\u001b[0m \u001b[0mvalue\u001b[0m\u001b[0;34m)\u001b[0m\u001b[0;34m\u001b[0m\u001b[0;34m\u001b[0m\u001b[0m\n\u001b[0m\u001b[1;32m    824\u001b[0m \u001b[0;34m\u001b[0m\u001b[0m\n\u001b[1;32m    825\u001b[0m     \u001b[0;32mdef\u001b[0m \u001b[0mshow_exception_only\u001b[0m\u001b[0;34m(\u001b[0m\u001b[0mself\u001b[0m\u001b[0;34m,\u001b[0m \u001b[0metype\u001b[0m\u001b[0;34m,\u001b[0m \u001b[0mevalue\u001b[0m\u001b[0;34m)\u001b[0m\u001b[0;34m:\u001b[0m\u001b[0;34m\u001b[0m\u001b[0;34m\u001b[0m\u001b[0m\n",
      "\u001b[0;32m~/anaconda3/envs/bassline_transcription/lib/python3.8/site-packages/IPython/core/ultratb.py\u001b[0m in \u001b[0;36mstructured_traceback\u001b[0;34m(self, etype, evalue, etb, tb_offset, context)\u001b[0m\n\u001b[1;32m    696\u001b[0m             \u001b[0mchained_exceptions_tb_offset\u001b[0m \u001b[0;34m=\u001b[0m \u001b[0;36m0\u001b[0m\u001b[0;34m\u001b[0m\u001b[0;34m\u001b[0m\u001b[0m\n\u001b[1;32m    697\u001b[0m             out_list = (\n\u001b[0;32m--> 698\u001b[0;31m                 self.structured_traceback(\n\u001b[0m\u001b[1;32m    699\u001b[0m                     \u001b[0metype\u001b[0m\u001b[0;34m,\u001b[0m \u001b[0mevalue\u001b[0m\u001b[0;34m,\u001b[0m \u001b[0;34m(\u001b[0m\u001b[0metb\u001b[0m\u001b[0;34m,\u001b[0m \u001b[0mchained_exc_ids\u001b[0m\u001b[0;34m)\u001b[0m\u001b[0;34m,\u001b[0m\u001b[0;34m\u001b[0m\u001b[0;34m\u001b[0m\u001b[0m\n\u001b[1;32m    700\u001b[0m                     chained_exceptions_tb_offset, context)\n",
      "\u001b[0;32m~/anaconda3/envs/bassline_transcription/lib/python3.8/site-packages/IPython/core/ultratb.py\u001b[0m in \u001b[0;36mstructured_traceback\u001b[0;34m(self, etype, value, tb, tb_offset, number_of_lines_of_context)\u001b[0m\n\u001b[1;32m   1434\u001b[0m         \u001b[0;32melse\u001b[0m\u001b[0;34m:\u001b[0m\u001b[0;34m\u001b[0m\u001b[0;34m\u001b[0m\u001b[0m\n\u001b[1;32m   1435\u001b[0m             \u001b[0mself\u001b[0m\u001b[0;34m.\u001b[0m\u001b[0mtb\u001b[0m \u001b[0;34m=\u001b[0m \u001b[0mtb\u001b[0m\u001b[0;34m\u001b[0m\u001b[0;34m\u001b[0m\u001b[0m\n\u001b[0;32m-> 1436\u001b[0;31m         return FormattedTB.structured_traceback(\n\u001b[0m\u001b[1;32m   1437\u001b[0m             self, etype, value, tb, tb_offset, number_of_lines_of_context)\n\u001b[1;32m   1438\u001b[0m \u001b[0;34m\u001b[0m\u001b[0m\n",
      "\u001b[0;32m~/anaconda3/envs/bassline_transcription/lib/python3.8/site-packages/IPython/core/ultratb.py\u001b[0m in \u001b[0;36mstructured_traceback\u001b[0;34m(self, etype, value, tb, tb_offset, number_of_lines_of_context)\u001b[0m\n\u001b[1;32m   1334\u001b[0m         \u001b[0;32mif\u001b[0m \u001b[0mmode\u001b[0m \u001b[0;32min\u001b[0m \u001b[0mself\u001b[0m\u001b[0;34m.\u001b[0m\u001b[0mverbose_modes\u001b[0m\u001b[0;34m:\u001b[0m\u001b[0;34m\u001b[0m\u001b[0;34m\u001b[0m\u001b[0m\n\u001b[1;32m   1335\u001b[0m             \u001b[0;31m# Verbose modes need a full traceback\u001b[0m\u001b[0;34m\u001b[0m\u001b[0;34m\u001b[0m\u001b[0;34m\u001b[0m\u001b[0m\n\u001b[0;32m-> 1336\u001b[0;31m             return VerboseTB.structured_traceback(\n\u001b[0m\u001b[1;32m   1337\u001b[0m                 \u001b[0mself\u001b[0m\u001b[0;34m,\u001b[0m \u001b[0metype\u001b[0m\u001b[0;34m,\u001b[0m \u001b[0mvalue\u001b[0m\u001b[0;34m,\u001b[0m \u001b[0mtb\u001b[0m\u001b[0;34m,\u001b[0m \u001b[0mtb_offset\u001b[0m\u001b[0;34m,\u001b[0m \u001b[0mnumber_of_lines_of_context\u001b[0m\u001b[0;34m\u001b[0m\u001b[0;34m\u001b[0m\u001b[0m\n\u001b[1;32m   1338\u001b[0m             )\n",
      "\u001b[0;32m~/anaconda3/envs/bassline_transcription/lib/python3.8/site-packages/IPython/core/ultratb.py\u001b[0m in \u001b[0;36mstructured_traceback\u001b[0;34m(self, etype, evalue, etb, tb_offset, number_of_lines_of_context)\u001b[0m\n\u001b[1;32m   1191\u001b[0m         \u001b[0;34m\"\"\"Return a nice text document describing the traceback.\"\"\"\u001b[0m\u001b[0;34m\u001b[0m\u001b[0;34m\u001b[0m\u001b[0m\n\u001b[1;32m   1192\u001b[0m \u001b[0;34m\u001b[0m\u001b[0m\n\u001b[0;32m-> 1193\u001b[0;31m         formatted_exception = self.format_exception_as_a_whole(etype, evalue, etb, number_of_lines_of_context,\n\u001b[0m\u001b[1;32m   1194\u001b[0m                                                                tb_offset)\n\u001b[1;32m   1195\u001b[0m \u001b[0;34m\u001b[0m\u001b[0m\n",
      "\u001b[0;32m~/anaconda3/envs/bassline_transcription/lib/python3.8/site-packages/IPython/core/ultratb.py\u001b[0m in \u001b[0;36mformat_exception_as_a_whole\u001b[0;34m(self, etype, evalue, etb, number_of_lines_of_context, tb_offset)\u001b[0m\n\u001b[1;32m   1149\u001b[0m \u001b[0;34m\u001b[0m\u001b[0m\n\u001b[1;32m   1150\u001b[0m \u001b[0;34m\u001b[0m\u001b[0m\n\u001b[0;32m-> 1151\u001b[0;31m         \u001b[0mlast_unique\u001b[0m\u001b[0;34m,\u001b[0m \u001b[0mrecursion_repeat\u001b[0m \u001b[0;34m=\u001b[0m \u001b[0mfind_recursion\u001b[0m\u001b[0;34m(\u001b[0m\u001b[0morig_etype\u001b[0m\u001b[0;34m,\u001b[0m \u001b[0mevalue\u001b[0m\u001b[0;34m,\u001b[0m \u001b[0mrecords\u001b[0m\u001b[0;34m)\u001b[0m\u001b[0;34m\u001b[0m\u001b[0;34m\u001b[0m\u001b[0m\n\u001b[0m\u001b[1;32m   1152\u001b[0m \u001b[0;34m\u001b[0m\u001b[0m\n\u001b[1;32m   1153\u001b[0m         \u001b[0mframes\u001b[0m \u001b[0;34m=\u001b[0m \u001b[0mself\u001b[0m\u001b[0;34m.\u001b[0m\u001b[0mformat_records\u001b[0m\u001b[0;34m(\u001b[0m\u001b[0mrecords\u001b[0m\u001b[0;34m,\u001b[0m \u001b[0mlast_unique\u001b[0m\u001b[0;34m,\u001b[0m \u001b[0mrecursion_repeat\u001b[0m\u001b[0;34m)\u001b[0m\u001b[0;34m\u001b[0m\u001b[0;34m\u001b[0m\u001b[0m\n",
      "\u001b[0;32m~/anaconda3/envs/bassline_transcription/lib/python3.8/site-packages/IPython/core/ultratb.py\u001b[0m in \u001b[0;36mfind_recursion\u001b[0;34m(etype, value, records)\u001b[0m\n\u001b[1;32m    449\u001b[0m     \u001b[0;31m# first frame (from in to out) that looks different.\u001b[0m\u001b[0;34m\u001b[0m\u001b[0;34m\u001b[0m\u001b[0;34m\u001b[0m\u001b[0m\n\u001b[1;32m    450\u001b[0m     \u001b[0;32mif\u001b[0m \u001b[0;32mnot\u001b[0m \u001b[0mis_recursion_error\u001b[0m\u001b[0;34m(\u001b[0m\u001b[0metype\u001b[0m\u001b[0;34m,\u001b[0m \u001b[0mvalue\u001b[0m\u001b[0;34m,\u001b[0m \u001b[0mrecords\u001b[0m\u001b[0;34m)\u001b[0m\u001b[0;34m:\u001b[0m\u001b[0;34m\u001b[0m\u001b[0;34m\u001b[0m\u001b[0m\n\u001b[0;32m--> 451\u001b[0;31m         \u001b[0;32mreturn\u001b[0m \u001b[0mlen\u001b[0m\u001b[0;34m(\u001b[0m\u001b[0mrecords\u001b[0m\u001b[0;34m)\u001b[0m\u001b[0;34m,\u001b[0m \u001b[0;36m0\u001b[0m\u001b[0;34m\u001b[0m\u001b[0;34m\u001b[0m\u001b[0m\n\u001b[0m\u001b[1;32m    452\u001b[0m \u001b[0;34m\u001b[0m\u001b[0m\n\u001b[1;32m    453\u001b[0m     \u001b[0;31m# Select filename, lineno, func_name to track frames with\u001b[0m\u001b[0;34m\u001b[0m\u001b[0;34m\u001b[0m\u001b[0;34m\u001b[0m\u001b[0m\n",
      "\u001b[0;31mTypeError\u001b[0m: object of type 'NoneType' has no len()"
     ]
    }
   ],
   "source": [
    "for M in [8]: #1, 2, 4, \n",
    "\n",
    "    main(directories_json_path, M, quantization_scheme='adaptive', filter_unk=False)"
   ]
  },
  {
   "cell_type": "markdown",
   "metadata": {},
   "source": [
    "## Single File Processing"
   ]
  },
  {
   "cell_type": "markdown",
   "metadata": {},
   "source": [
    "M = 8\n",
    "\n",
    "directories, scales, track_dicts, track_titles, date = prepare('data/transcription_test')\n",
    "\n",
    "title = track_titles[1]\n",
    "transcribe_single_bassline(title, directories, scales, track_dicts, M, True, False, date)"
   ]
  },
  {
   "cell_type": "code",
   "execution_count": null,
   "metadata": {},
   "outputs": [],
   "source": []
  },
  {
   "cell_type": "code",
   "execution_count": 1,
   "metadata": {},
   "outputs": [],
   "source": [
    "import numpy as np"
   ]
  },
  {
   "cell_type": "code",
   "execution_count": 17,
   "metadata": {},
   "outputs": [],
   "source": [
    "x = np.arange(0, 498,1)"
   ]
  },
  {
   "cell_type": "code",
   "execution_count": 18,
   "metadata": {},
   "outputs": [
    {
     "name": "stdout",
     "output_type": "stream",
     "text": [
      "lol\n",
      "[484 485 486 487 488 489 490 491 492 493 494 495 496 497]\n"
     ]
    }
   ],
   "source": [
    "if len(x) < 512:\n",
    "    print('lol')\n",
    "    print(x[-(512-len(x)):])\n",
    "    x = np.append(x, x[-(512-len(x)):])"
   ]
  },
  {
   "cell_type": "code",
   "execution_count": 8,
   "metadata": {},
   "outputs": [
    {
     "data": {
      "text/plain": [
       "array([  0,   1,   2,   3,   4,   5,   6,   7,   8,   9,  10,  11,  12,\n",
       "        13,  14,  15,  16,  17,  18,  19,  20,  21,  22,  23,  24,  25,\n",
       "        26,  27,  28,  29,  30,  31,  32,  33,  34,  35,  36,  37,  38,\n",
       "        39,  40,  41,  42,  43,  44,  45,  46,  47,  48,  49,  50,  51,\n",
       "        52,  53,  54,  55,  56,  57,  58,  59,  60,  61,  62,  63,  64,\n",
       "        65,  66,  67,  68,  69,  70,  71,  72,  73,  74,  75,  76,  77,\n",
       "        78,  79,  80,  81,  82,  83,  84,  85,  86,  87,  88,  89,  90,\n",
       "        91,  92,  93,  94,  95,  96,  97,  98,  99, 100, 101, 102, 103,\n",
       "       104, 105, 106, 107, 108, 109, 110, 111, 112, 113, 114, 115, 116,\n",
       "       117, 118, 119, 120, 121, 122, 123, 124, 125, 126, 127, 128, 129,\n",
       "       130, 131, 132, 133, 134, 135, 136, 137, 138, 139, 140, 141, 142,\n",
       "       143, 144, 145, 146, 147, 148, 149, 150, 151, 152, 153, 154, 155,\n",
       "       156, 157, 158, 159, 160, 161, 162, 163, 164, 165, 166, 167, 168,\n",
       "       169, 170, 171, 172, 173, 174, 175, 176, 177, 178, 179, 180, 181,\n",
       "       182, 183, 184, 185, 186, 187, 188, 189, 190, 191, 192, 193, 194,\n",
       "       195, 196, 197, 198, 199, 200, 201, 202, 203, 204, 205, 206, 207,\n",
       "       208, 209, 210, 211, 212, 213, 214, 215, 216, 217, 218, 219, 220,\n",
       "       221, 222, 223, 224, 225, 226, 227, 228, 229, 230, 231, 232, 233,\n",
       "       234, 235, 236, 237, 238, 239, 240, 241, 242, 243, 244, 245, 246,\n",
       "       247, 248, 249, 250, 251, 252, 253, 254, 255, 256, 257, 258, 259,\n",
       "       260, 261, 262, 263, 264, 265, 266, 267, 268, 269, 270, 271, 272,\n",
       "       273, 274, 275, 276, 277, 278, 279, 280, 281, 282, 283, 284, 285,\n",
       "       286, 287, 288, 289, 290, 291, 292, 293, 294, 295, 296, 297, 298,\n",
       "       299, 300, 301, 302, 303, 304, 305, 306, 307, 308, 309, 310, 311,\n",
       "       312, 313, 314, 315, 316, 317, 318, 319, 320, 321, 322, 323, 324,\n",
       "       325, 326, 327, 328, 329, 330, 331, 332, 333, 334, 335, 336, 337,\n",
       "       338, 339, 340, 341, 342, 343, 344, 345, 346, 347, 348, 349, 350,\n",
       "       351, 352, 353, 354, 355, 356, 357, 358, 359, 360, 361, 362, 363,\n",
       "       364, 365, 366, 367, 368, 369, 370, 371, 372, 373, 374, 375, 376,\n",
       "       377, 378, 379, 380, 381, 382, 383, 384, 385, 386, 387, 388, 389,\n",
       "       390, 391, 392, 393, 394, 395, 396, 397, 398, 399, 400, 401, 402,\n",
       "       403, 404, 405, 406, 407, 408, 409, 410, 411, 412, 413, 414, 415,\n",
       "       416, 417, 418, 419, 420, 421, 422, 423, 424, 425, 426, 427, 428,\n",
       "       429, 430, 431, 432, 433, 434, 435, 436, 437, 438, 439, 440, 441,\n",
       "       442, 443, 444, 445, 446, 447, 448, 449, 450, 451, 452, 453, 454,\n",
       "       455, 456, 457, 458, 459, 460, 461, 462, 463, 464, 465, 466, 467,\n",
       "       468, 469, 470, 471, 472, 473, 474, 475, 476, 477, 478, 479, 480,\n",
       "       481, 482, 483, 484, 485, 486, 487, 488, 489, 490, 491, 492, 493,\n",
       "       494, 495, 496, 497, 484, 485, 486, 487, 488, 489, 490, 491, 492,\n",
       "       493, 494, 495, 496, 497])"
      ]
     },
     "execution_count": 8,
     "metadata": {},
     "output_type": "execute_result"
    }
   ],
   "source": [
    "x[-(512-len(x)):]"
   ]
  },
  {
   "cell_type": "code",
   "execution_count": null,
   "metadata": {},
   "outputs": [],
   "source": []
  }
 ],
 "metadata": {
  "kernelspec": {
   "display_name": "Python 3",
   "language": "python",
   "name": "python3"
  },
  "language_info": {
   "codemirror_mode": {
    "name": "ipython",
    "version": 3
   },
   "file_extension": ".py",
   "mimetype": "text/x-python",
   "name": "python",
   "nbconvert_exporter": "python",
   "pygments_lexer": "ipython3",
   "version": "3.8.5"
  }
 },
 "nbformat": 4,
 "nbformat_minor": 4
}
