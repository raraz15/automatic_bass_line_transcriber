{
 "cells": [
  {
   "cell_type": "code",
   "execution_count": 1,
   "metadata": {
    "scrolled": true
   },
   "outputs": [],
   "source": [
    "from bassline_extractor import main, extract_single_bassline, prepare, separate_from_chorus"
   ]
  },
  {
   "cell_type": "markdown",
   "metadata": {},
   "source": [
    "## Batch Processing"
   ]
  },
  {
   "cell_type": "markdown",
   "metadata": {},
   "source": [
    "## Full Extraction"
   ]
  },
  {
   "cell_type": "markdown",
   "metadata": {},
   "source": [
    "Vaxx (Booth Steppa) - Original Mix"
   ]
  },
  {
   "cell_type": "code",
   "execution_count": 2,
   "metadata": {},
   "outputs": [
    {
     "name": "stderr",
     "output_type": "stream",
     "text": [
      "\r",
      "  0%|          | 0/354 [00:00<?, ?it/s]"
     ]
    },
    {
     "name": "stdout",
     "output_type": "stream",
     "text": [
      "\n",
      "More Than Friends (Stereohype Label Sampler: Volume. 2) - Extended Mix\n",
      "There was an error on: More Than Friends (Stereohype Label Sampler: Volume. 2) - Extended Mix\n",
      "Traceback (most recent call last):\n",
      "  File \"/mnt/d/projects/bassline_transcription/bassline_extractor/bassline_extractor.py\", line 27, in extract_single_bassline\n",
      "    extractor = BasslineExtractor(title, directories, track_dicts, scales, separator, fs, N_bars)\n",
      "  File \"/mnt/d/projects/bassline_transcription/bassline_extractor/extractor_classes.py\", line 43, in __init__\n",
      "    self.info = Info(title, directories, track_dicts, scales, fs, N_bars) # Track information class\n",
      "  File \"/mnt/d/projects/bassline_transcription/bassline_extractor/extractor_classes.py\", line 68, in __init__\n",
      "    self.scale_frequencies = get_track_scale(title, track_dicts, scales)[1]\n",
      "  File \"/mnt/d/projects/bassline_transcription/utilities.py\", line 68, in get_track_scale\n",
      "    scale_frequencies = scales[key][scale_type]['frequencies']\n",
      "KeyError: 'B#'\n",
      "\n",
      "\n",
      "\n",
      "JR MYKEL, Dario Nunez (STORMY) - Original Mix\n",
      "Beat positions found.\n",
      "Chorus position estimated.\n"
     ]
    },
    {
     "name": "stderr",
     "output_type": "stream",
     "text": [
      "\r",
      "  1%|          | 2/354 [01:56<5:42:24, 58.36s/it]"
     ]
    },
    {
     "name": "stdout",
     "output_type": "stream",
     "text": [
      "Bassline Separated.\n",
      "\n",
      "Matt Caseli (No Sound, No Sex) - Extended Mix\n",
      "Beat positions found.\n",
      "Chorus position estimated.\n"
     ]
    },
    {
     "name": "stderr",
     "output_type": "stream",
     "text": [
      "\r",
      "  1%|          | 3/354 [03:46<7:10:55, 73.66s/it]"
     ]
    },
    {
     "name": "stdout",
     "output_type": "stream",
     "text": [
      "Bassline Separated.\n",
      "\n",
      "Beki M (I Feel That Love) - Original Mix\n",
      "Beat positions found.\n",
      "Chorus position estimated.\n"
     ]
    },
    {
     "name": "stderr",
     "output_type": "stream",
     "text": [
      "\r",
      "  1%|          | 4/354 [05:17<7:41:02, 79.04s/it]"
     ]
    },
    {
     "name": "stdout",
     "output_type": "stream",
     "text": [
      "Bassline Separated.\n",
      "\n",
      "Iglesias (Every Inch EP) - Original Mix\n",
      "Beat positions found.\n",
      "Chorus position estimated.\n"
     ]
    },
    {
     "name": "stderr",
     "output_type": "stream",
     "text": [
      "\r",
      "  1%|▏         | 5/354 [06:59<8:20:09, 85.99s/it]"
     ]
    },
    {
     "name": "stdout",
     "output_type": "stream",
     "text": [
      "Bassline Separated.\n",
      "\n",
      "Gene Farris (Farris Wheel 200) - Extended Mix\n",
      "Beat positions found.\n",
      "Chorus position estimated.\n"
     ]
    },
    {
     "name": "stderr",
     "output_type": "stream",
     "text": [
      "\r",
      "  2%|▏         | 6/354 [07:42<7:02:59, 72.93s/it]"
     ]
    },
    {
     "name": "stdout",
     "output_type": "stream",
     "text": [
      "Bassline Separated.\n",
      "\n",
      "John Summit, Eyes Everywhere (Farris Wheel 200) - Original Mix\n",
      "Beat positions found.\n",
      "Chorus position estimated.\n"
     ]
    },
    {
     "name": "stderr",
     "output_type": "stream",
     "text": [
      "\r",
      "  2%|▏         | 7/354 [09:28<7:58:46, 82.78s/it]"
     ]
    },
    {
     "name": "stdout",
     "output_type": "stream",
     "text": [
      "Bassline Separated.\n",
      "\n",
      "Steve Darko, Nala (Midnight Swim) - Original Mix\n",
      "Beat positions found.\n",
      "Chorus position estimated.\n"
     ]
    },
    {
     "name": "stderr",
     "output_type": "stream",
     "text": [
      "\r",
      "  2%|▏         | 8/354 [10:58<8:10:14, 85.01s/it]"
     ]
    },
    {
     "name": "stdout",
     "output_type": "stream",
     "text": [
      "Bassline Separated.\n",
      "\n",
      "LA Riots, Brux, Max Styler (Run) - Extended Mix\n",
      "Beat positions found.\n",
      "Chorus position estimated.\n"
     ]
    },
    {
     "name": "stderr",
     "output_type": "stream",
     "text": [
      "\r",
      "  3%|▎         | 9/354 [11:56<7:22:55, 77.03s/it]"
     ]
    },
    {
     "name": "stdout",
     "output_type": "stream",
     "text": [
      "Bassline Separated.\n",
      "\n",
      "Wade (Higher Than The Clouds) - Extended Mix\n",
      "Beat positions found.\n",
      "Chorus position estimated.\n"
     ]
    },
    {
     "name": "stderr",
     "output_type": "stream",
     "text": [
      "\r",
      "  3%|▎         | 10/354 [13:53<8:29:41, 88.90s/it]"
     ]
    },
    {
     "name": "stdout",
     "output_type": "stream",
     "text": [
      "Bassline Separated.\n",
      "\n",
      "Lissat, Block & Crown - Hot Stepper (2021 Remix)\n",
      "Beat positions found.\n",
      "Chorus position estimated.\n"
     ]
    },
    {
     "name": "stderr",
     "output_type": "stream",
     "text": [
      "\r",
      "  3%|▎         | 11/354 [15:27<8:37:58, 90.61s/it]"
     ]
    },
    {
     "name": "stdout",
     "output_type": "stream",
     "text": [
      "Bassline Separated.\n",
      "\n",
      "DONT BLINK (CUT THE BEAT) - Extended Mix\n",
      "Beat positions found.\n",
      "Chorus position estimated.\n"
     ]
    },
    {
     "name": "stderr",
     "output_type": "stream",
     "text": [
      "\r",
      "  3%|▎         | 12/354 [17:04<8:46:09, 92.31s/it]"
     ]
    },
    {
     "name": "stdout",
     "output_type": "stream",
     "text": [
      "Bassline Separated.\n",
      "\n",
      "Gene Farris, Sonny Fodera (Farris Wheel 200) - PAX Remix\n",
      "Beat positions found.\n",
      "Chorus position estimated.\n"
     ]
    },
    {
     "name": "stderr",
     "output_type": "stream",
     "text": [
      "\r",
      "  4%|▎         | 13/354 [18:05<7:52:22, 83.12s/it]"
     ]
    },
    {
     "name": "stdout",
     "output_type": "stream",
     "text": [
      "Bassline Separated.\n",
      "\n",
      "Ammo Avenue (Carnival 2021) - Original Mix\n",
      "Beat positions found.\n",
      "Chorus position estimated.\n"
     ]
    },
    {
     "name": "stderr",
     "output_type": "stream",
     "text": [
      "\r",
      "  4%|▍         | 14/354 [19:07<7:13:45, 76.55s/it]"
     ]
    },
    {
     "name": "stdout",
     "output_type": "stream",
     "text": [
      "Bassline Separated.\n",
      "\n",
      "House Divided (Rotate Vol. 5) - Original Mix\n",
      "Beat positions found.\n",
      "Chorus position estimated.\n"
     ]
    },
    {
     "name": "stderr",
     "output_type": "stream",
     "text": [
      "\r",
      "  4%|▍         | 15/354 [21:00<8:14:42, 87.56s/it]"
     ]
    },
    {
     "name": "stdout",
     "output_type": "stream",
     "text": [
      "Bassline Separated.\n",
      "\n",
      "Dom Dolla, Sonny Fodera (Moving Blind) - Original Mix\n",
      "Beat positions found.\n",
      "Chorus position estimated.\n"
     ]
    },
    {
     "name": "stderr",
     "output_type": "stream",
     "text": [
      "\r",
      "  5%|▍         | 16/354 [22:02<7:29:30, 79.80s/it]"
     ]
    },
    {
     "name": "stdout",
     "output_type": "stream",
     "text": [
      "Bassline Separated.\n",
      "\n",
      "Steve Darko (Midnight Swim) - Original Mix\n",
      "Beat positions found.\n",
      "Chorus position estimated.\n"
     ]
    },
    {
     "name": "stderr",
     "output_type": "stream",
     "text": [
      "\r",
      "  5%|▍         | 17/354 [23:05<7:00:30, 74.87s/it]"
     ]
    },
    {
     "name": "stdout",
     "output_type": "stream",
     "text": [
      "Bassline Separated.\n",
      "\n",
      "FISHER (OZ) (Freaks / Wanna Go Dancin') - Extended\n"
     ]
    },
    {
     "name": "stderr",
     "output_type": "stream",
     "text": [
      "\r",
      "  5%|▌         | 18/354 [23:06<4:55:32, 52.77s/it]"
     ]
    },
    {
     "name": "stdout",
     "output_type": "stream",
     "text": [
      "There was an error on: FISHER (OZ) (Freaks / Wanna Go Dancin') - Extended\n",
      "Traceback (most recent call last):\n",
      "  File \"/home/oguza97/anaconda3/envs/bassline_transcription/lib/python3.8/site-packages/librosa/core/audio.py\", line 146, in load\n",
      "    with sf.SoundFile(path) as sf_desc:\n",
      "  File \"/home/oguza97/anaconda3/envs/bassline_transcription/lib/python3.8/site-packages/soundfile.py\", line 629, in __init__\n",
      "    self._file = self._open(file, mode_int, closefd)\n",
      "  File \"/home/oguza97/anaconda3/envs/bassline_transcription/lib/python3.8/site-packages/soundfile.py\", line 1183, in _open\n",
      "    _error_check(_snd.sf_error(file_ptr),\n",
      "  File \"/home/oguza97/anaconda3/envs/bassline_transcription/lib/python3.8/site-packages/soundfile.py\", line 1357, in _error_check\n",
      "    raise RuntimeError(prefix + _ffi.string(err_str).decode('utf-8', 'replace'))\n",
      "RuntimeError: Error opening \"/mnt/d/projects/bassline_transcription/data/audio_clips/FISHER (OZ) (Freaks / Wanna Go Dancin') - Extended.mp3\": System error.\n",
      "\n",
      "During handling of the above exception, another exception occurred:\n",
      "\n",
      "Traceback (most recent call last):\n",
      "  File \"/mnt/d/projects/bassline_transcription/bassline_extractor/bassline_extractor.py\", line 27, in extract_single_bassline\n",
      "    extractor = BasslineExtractor(title, directories, track_dicts, scales, separator, fs, N_bars)\n",
      "  File \"/mnt/d/projects/bassline_transcription/bassline_extractor/extractor_classes.py\", line 45, in __init__\n",
      "    self.track = Track(self.info)\n",
      "  File \"/mnt/d/projects/bassline_transcription/bassline_extractor/extractor_classes.py\", line 85, in __init__\n",
      "    self.track, self.fs = load(info.path, sr=info.fs)\n",
      "  File \"/home/oguza97/anaconda3/envs/bassline_transcription/lib/python3.8/site-packages/librosa/core/audio.py\", line 163, in load\n",
      "    y, sr_native = __audioread_load(path, offset, duration, dtype)\n",
      "  File \"/home/oguza97/anaconda3/envs/bassline_transcription/lib/python3.8/site-packages/librosa/core/audio.py\", line 187, in __audioread_load\n",
      "    with audioread.audio_open(path) as input_file:\n",
      "  File \"/home/oguza97/anaconda3/envs/bassline_transcription/lib/python3.8/site-packages/audioread/__init__.py\", line 111, in audio_open\n",
      "    return BackendClass(path)\n",
      "  File \"/home/oguza97/anaconda3/envs/bassline_transcription/lib/python3.8/site-packages/audioread/rawread.py\", line 62, in __init__\n",
      "    self._fh = open(filename, 'rb')\n",
      "FileNotFoundError: [Errno 2] No such file or directory: \"/mnt/d/projects/bassline_transcription/data/audio_clips/FISHER (OZ) (Freaks / Wanna Go Dancin') - Extended.mp3\"\n",
      "\n",
      "\n",
      "\n",
      "Yungness & Jaminn (New Beginnings 2021) - Original Mix\n",
      "There was an error on: Yungness & Jaminn (New Beginnings 2021) - Original Mix\n",
      "Traceback (most recent call last):\n",
      "  File \"/mnt/d/projects/bassline_transcription/bassline_extractor/bassline_extractor.py\", line 27, in extract_single_bassline\n",
      "    extractor = BasslineExtractor(title, directories, track_dicts, scales, separator, fs, N_bars)\n",
      "  File \"/mnt/d/projects/bassline_transcription/bassline_extractor/extractor_classes.py\", line 43, in __init__\n",
      "    self.info = Info(title, directories, track_dicts, scales, fs, N_bars) # Track information class\n",
      "  File \"/mnt/d/projects/bassline_transcription/bassline_extractor/extractor_classes.py\", line 70, in __init__\n",
      "    self.BPM = int(self.track_dict['BPM'])\n",
      "ValueError: invalid literal for int() with base 10: '65,'\n",
      "\n",
      "\n",
      "\n",
      "Jax D (Help Me Mr Beat) - Original Mix\n",
      "Beat positions found.\n",
      "Chorus position estimated.\n"
     ]
    },
    {
     "name": "stderr",
     "output_type": "stream",
     "text": [
      "\r",
      "  6%|▌         | 20/354 [25:05<5:04:36, 54.72s/it]"
     ]
    },
    {
     "name": "stdout",
     "output_type": "stream",
     "text": [
      "Bassline Separated.\n",
      "\n",
      "ELDON (New Beginnings 2021) - Original Mix\n",
      "Beat positions found.\n",
      "Chorus position estimated.\n"
     ]
    },
    {
     "name": "stderr",
     "output_type": "stream",
     "text": [
      "\r",
      "  6%|▌         | 21/354 [26:21<5:39:56, 61.25s/it]"
     ]
    },
    {
     "name": "stdout",
     "output_type": "stream",
     "text": [
      "Bassline Separated.\n",
      "\n",
      "Daniel Orpi (Let Me Catch My Breath) - Tyron Amory Remix\n",
      "Beat positions found.\n",
      "Chorus position estimated.\n"
     ]
    },
    {
     "name": "stderr",
     "output_type": "stream",
     "text": [
      "\r",
      "  6%|▌         | 22/354 [28:02<6:45:03, 73.20s/it]"
     ]
    },
    {
     "name": "stdout",
     "output_type": "stream",
     "text": [
      "Bassline Separated.\n",
      "\n",
      "Daniel Orpi (Let Me Catch My Breath) - Original Mix\n",
      "Beat positions found.\n",
      "Chorus position estimated.\n"
     ]
    },
    {
     "name": "stderr",
     "output_type": "stream",
     "text": [
      "\r",
      "  6%|▋         | 23/354 [29:38<7:21:26, 80.02s/it]"
     ]
    },
    {
     "name": "stdout",
     "output_type": "stream",
     "text": [
      "Bassline Separated.\n",
      "\n",
      "Daniel Orpi (Let Me Catch My Breath) - Craig & Grant Gordon Remix\n",
      "Beat positions found.\n",
      "Chorus position estimated.\n"
     ]
    },
    {
     "name": "stderr",
     "output_type": "stream",
     "text": [
      "\r",
      "  7%|▋         | 24/354 [30:25<6:25:12, 70.04s/it]"
     ]
    },
    {
     "name": "stdout",
     "output_type": "stream",
     "text": [
      "Bassline Separated.\n",
      "\n",
      "Miane (Make It Work) - Extended Mix\n",
      "Beat positions found.\n",
      "Chorus position estimated.\n"
     ]
    },
    {
     "name": "stderr",
     "output_type": "stream",
     "text": [
      "\r",
      "  7%|▋         | 25/354 [32:01<7:07:21, 77.94s/it]"
     ]
    },
    {
     "name": "stdout",
     "output_type": "stream",
     "text": [
      "Bassline Separated.\n",
      "\n",
      "Elternhouse (In the Mirror) - Original Mix\n",
      "There was an error on: Elternhouse (In the Mirror) - Original Mix\n",
      "Traceback (most recent call last):\n",
      "  File \"/mnt/d/projects/bassline_transcription/bassline_extractor/bassline_extractor.py\", line 27, in extract_single_bassline\n",
      "    extractor = BasslineExtractor(title, directories, track_dicts, scales, separator, fs, N_bars)\n",
      "  File \"/mnt/d/projects/bassline_transcription/bassline_extractor/extractor_classes.py\", line 43, in __init__\n",
      "    self.info = Info(title, directories, track_dicts, scales, fs, N_bars) # Track information class\n",
      "  File \"/mnt/d/projects/bassline_transcription/bassline_extractor/extractor_classes.py\", line 68, in __init__\n",
      "    self.scale_frequencies = get_track_scale(title, track_dicts, scales)[1]\n",
      "  File \"/mnt/d/projects/bassline_transcription/utilities.py\", line 68, in get_track_scale\n",
      "    scale_frequencies = scales[key][scale_type]['frequencies']\n",
      "KeyError: 'E#'\n",
      "\n",
      "\n",
      "\n",
      "Kaysin (Body Moves (feat. Alia Soliman)) - Extended Mix\n",
      "There was an error on: Kaysin (Body Moves (feat. Alia Soliman)) - Extended Mix\n",
      "Traceback (most recent call last):\n",
      "  File \"/mnt/d/projects/bassline_transcription/bassline_extractor/bassline_extractor.py\", line 27, in extract_single_bassline\n",
      "    extractor = BasslineExtractor(title, directories, track_dicts, scales, separator, fs, N_bars)\n",
      "  File \"/mnt/d/projects/bassline_transcription/bassline_extractor/extractor_classes.py\", line 43, in __init__\n",
      "    self.info = Info(title, directories, track_dicts, scales, fs, N_bars) # Track information class\n",
      "  File \"/mnt/d/projects/bassline_transcription/bassline_extractor/extractor_classes.py\", line 68, in __init__\n",
      "    self.scale_frequencies = get_track_scale(title, track_dicts, scales)[1]\n",
      "  File \"/mnt/d/projects/bassline_transcription/utilities.py\", line 68, in get_track_scale\n",
      "    scale_frequencies = scales[key][scale_type]['frequencies']\n",
      "KeyError: 'B#'\n",
      "\n",
      "\n",
      "\n",
      "Wayne Madiedo, Meli Rodriguez (Look At That) - Original Mix\n",
      "Beat positions found.\n",
      "Chorus position estimated.\n"
     ]
    },
    {
     "name": "stderr",
     "output_type": "stream",
     "text": [
      "\r",
      "  8%|▊         | 28/354 [33:00<5:28:12, 60.41s/it]"
     ]
    },
    {
     "name": "stdout",
     "output_type": "stream",
     "text": [
      "Bassline Separated.\n",
      "\n",
      "Mike Morrisey, Taylor Crane (Skipping EP) - Original Mix\n",
      "Beat positions found.\n",
      "Chorus position estimated.\n"
     ]
    },
    {
     "name": "stderr",
     "output_type": "stream",
     "text": [
      "\r",
      "  8%|▊         | 29/354 [34:44<6:37:57, 73.47s/it]"
     ]
    },
    {
     "name": "stdout",
     "output_type": "stream",
     "text": [
      "Bassline Separated.\n",
      "\n",
      "Eldon UK (Say What) - Original Mix\n",
      "Beat positions found.\n",
      "Chorus position estimated.\n"
     ]
    },
    {
     "name": "stderr",
     "output_type": "stream",
     "text": [
      "\r",
      "  8%|▊         | 30/354 [35:33<5:57:25, 66.19s/it]"
     ]
    },
    {
     "name": "stdout",
     "output_type": "stream",
     "text": [
      "Bassline Separated.\n",
      "\n",
      "Giancarlo Zara, Alfrenk, Greck B (Emotions) - Original Mix\n",
      "Beat positions found.\n",
      "Chorus position estimated.\n"
     ]
    },
    {
     "name": "stderr",
     "output_type": "stream",
     "text": [
      "\r",
      "  9%|▉         | 31/354 [37:26<7:11:38, 80.18s/it]"
     ]
    },
    {
     "name": "stdout",
     "output_type": "stream",
     "text": [
      "Bassline Separated.\n",
      "\n",
      "Dario Nunez (DAM DAM) - Chris Damon Remix\n",
      "Beat positions found.\n",
      "Chorus position estimated.\n"
     ]
    },
    {
     "name": "stderr",
     "output_type": "stream",
     "text": [
      "\r",
      "  9%|▉         | 32/354 [39:17<8:01:09, 89.66s/it]"
     ]
    },
    {
     "name": "stdout",
     "output_type": "stream",
     "text": [
      "Bassline Separated.\n",
      "\n",
      "Kai Shibata (Undulating) - Extended Mix\n",
      "Beat positions found.\n",
      "Chorus position estimated.\n"
     ]
    },
    {
     "name": "stderr",
     "output_type": "stream",
     "text": [
      "\r",
      "  9%|▉         | 33/354 [41:10<8:35:34, 96.37s/it]"
     ]
    },
    {
     "name": "stdout",
     "output_type": "stream",
     "text": [
      "Bassline Separated.\n",
      "\n",
      "Roxe (Break It) - Original Mix\n",
      "Beat positions found.\n",
      "Chorus position estimated.\n"
     ]
    },
    {
     "name": "stderr",
     "output_type": "stream",
     "text": [
      "\r",
      " 10%|▉         | 34/354 [43:10<9:12:28, 103.59s/it]"
     ]
    },
    {
     "name": "stdout",
     "output_type": "stream",
     "text": [
      "Bassline Separated.\n",
      "\n",
      "Dominico (Save Me) - Original Mix\n",
      "Beat positions found.\n",
      "Chorus position estimated.\n"
     ]
    },
    {
     "name": "stderr",
     "output_type": "stream",
     "text": [
      "\r",
      " 10%|▉         | 35/354 [44:10<8:01:35, 90.58s/it] "
     ]
    },
    {
     "name": "stdout",
     "output_type": "stream",
     "text": [
      "Bassline Separated.\n",
      "\n",
      "AleVtina (Pow Pow) - Original Mix\n",
      "Beat positions found.\n",
      "Chorus position estimated.\n"
     ]
    },
    {
     "name": "stderr",
     "output_type": "stream",
     "text": [
      "\r",
      " 10%|█         | 36/354 [45:07<7:06:24, 80.46s/it]"
     ]
    },
    {
     "name": "stdout",
     "output_type": "stream",
     "text": [
      "Bassline Separated.\n",
      "\n",
      "Sonny Fodera, Dom Dolla (Moving Blind) - Original Mix\n",
      "Beat positions found.\n",
      "Chorus position estimated.\n"
     ]
    },
    {
     "name": "stderr",
     "output_type": "stream",
     "text": [
      "\r",
      " 10%|█         | 37/354 [46:55<7:48:45, 88.72s/it]"
     ]
    },
    {
     "name": "stdout",
     "output_type": "stream",
     "text": [
      "Bassline Separated.\n",
      "\n",
      "Julian Collazos, Cuevas (ES) (Sabor Criollo EP) - Original Mix\n",
      "There was an error on: Julian Collazos, Cuevas (ES) (Sabor Criollo EP) - Original Mix\n",
      "Traceback (most recent call last):\n",
      "  File \"/mnt/d/projects/bassline_transcription/bassline_extractor/bassline_extractor.py\", line 27, in extract_single_bassline\n",
      "    extractor = BasslineExtractor(title, directories, track_dicts, scales, separator, fs, N_bars)\n",
      "  File \"/mnt/d/projects/bassline_transcription/bassline_extractor/extractor_classes.py\", line 43, in __init__\n",
      "    self.info = Info(title, directories, track_dicts, scales, fs, N_bars) # Track information class\n",
      "  File \"/mnt/d/projects/bassline_transcription/bassline_extractor/extractor_classes.py\", line 68, in __init__\n",
      "    self.scale_frequencies = get_track_scale(title, track_dicts, scales)[1]\n",
      "  File \"/mnt/d/projects/bassline_transcription/utilities.py\", line 68, in get_track_scale\n",
      "    scale_frequencies = scales[key][scale_type]['frequencies']\n",
      "KeyError: 'E#'\n",
      "\n",
      "\n",
      "\n",
      "Jamie Roy, Jay de Lys - Something - Sosa Remix\n",
      "Beat positions found.\n",
      "Chorus position estimated.\n"
     ]
    },
    {
     "name": "stderr",
     "output_type": "stream",
     "text": [
      "\r",
      " 11%|█         | 39/354 [48:37<6:46:27, 77.42s/it]"
     ]
    },
    {
     "name": "stdout",
     "output_type": "stream",
     "text": [
      "Bassline Separated.\n",
      "\n",
      "MorganJ, Andrea Damante (Party Till We Die) - Extended Mix\n",
      "Beat positions found.\n",
      "Chorus position estimated.\n"
     ]
    },
    {
     "name": "stderr",
     "output_type": "stream",
     "text": [
      "\r",
      " 11%|█▏        | 40/354 [50:16<7:18:15, 83.75s/it]"
     ]
    },
    {
     "name": "stdout",
     "output_type": "stream",
     "text": [
      "Bassline Separated.\n",
      "\n",
      "Cele (Rebound) - Original Mix\n",
      "There was an error on: Cele (Rebound) - Original Mix\n",
      "Traceback (most recent call last):\n",
      "  File \"/mnt/d/projects/bassline_transcription/bassline_extractor/bassline_extractor.py\", line 27, in extract_single_bassline\n",
      "    extractor = BasslineExtractor(title, directories, track_dicts, scales, separator, fs, N_bars)\n",
      "  File \"/mnt/d/projects/bassline_transcription/bassline_extractor/extractor_classes.py\", line 43, in __init__\n",
      "    self.info = Info(title, directories, track_dicts, scales, fs, N_bars) # Track information class\n",
      "  File \"/mnt/d/projects/bassline_transcription/bassline_extractor/extractor_classes.py\", line 68, in __init__\n",
      "    self.scale_frequencies = get_track_scale(title, track_dicts, scales)[1]\n",
      "  File \"/mnt/d/projects/bassline_transcription/utilities.py\", line 68, in get_track_scale\n",
      "    scale_frequencies = scales[key][scale_type]['frequencies']\n",
      "KeyError: 'E#'\n",
      "\n",
      "\n",
      "\n",
      "Di Chiara Brothers (Black Chan EP) - Original Mix\n",
      "Beat positions found.\n",
      "Chorus position estimated.\n"
     ]
    },
    {
     "name": "stderr",
     "output_type": "stream",
     "text": [
      "\r",
      " 12%|█▏        | 42/354 [51:19<5:54:06, 68.10s/it]"
     ]
    },
    {
     "name": "stdout",
     "output_type": "stream",
     "text": [
      "Bassline Separated.\n",
      "\n",
      "FOOLiE, 96 Vibe (Bass Drum (feat. Wez)) - Original Mix\n",
      "Beat positions found.\n",
      "Chorus position estimated.\n"
     ]
    },
    {
     "name": "stderr",
     "output_type": "stream",
     "text": [
      "\r",
      " 12%|█▏        | 43/354 [53:06<6:54:23, 79.95s/it]"
     ]
    },
    {
     "name": "stdout",
     "output_type": "stream",
     "text": [
      "Bassline Separated.\n",
      "\n",
      "Edd (Neon Tokyo  EP) - Original Mix\n",
      "Beat positions found.\n",
      "Chorus position estimated.\n"
     ]
    },
    {
     "name": "stderr",
     "output_type": "stream",
     "text": [
      "\r",
      " 12%|█▏        | 44/354 [54:51<7:31:50, 87.45s/it]"
     ]
    },
    {
     "name": "stdout",
     "output_type": "stream",
     "text": [
      "Bassline Separated.\n",
      "\n",
      "Dillon Nathaniel, Rowetta (Reason to Fly) - Original Mix\n",
      "Beat positions found.\n",
      "Chorus position estimated.\n"
     ]
    },
    {
     "name": "stderr",
     "output_type": "stream",
     "text": [
      "\r",
      " 13%|█▎        | 45/354 [56:09<7:14:39, 84.40s/it]"
     ]
    },
    {
     "name": "stdout",
     "output_type": "stream",
     "text": [
      "Bassline Separated.\n",
      "\n",
      "Dillon Nathaniel (Reason to Fly) - Original Mix\n",
      "Beat positions found.\n",
      "Chorus position estimated.\n"
     ]
    },
    {
     "name": "stderr",
     "output_type": "stream",
     "text": [
      "\r",
      " 13%|█▎        | 46/354 [57:27<7:04:33, 82.71s/it]"
     ]
    },
    {
     "name": "stdout",
     "output_type": "stream",
     "text": [
      "Bassline Separated.\n",
      "\n",
      "Miane (You Belong to Me) - Original Mix\n",
      "Beat positions found.\n",
      "Chorus position estimated.\n"
     ]
    },
    {
     "name": "stderr",
     "output_type": "stream",
     "text": [
      "\r",
      " 13%|█▎        | 47/354 [59:28<8:00:42, 93.95s/it]"
     ]
    },
    {
     "name": "stdout",
     "output_type": "stream",
     "text": [
      "Bassline Separated.\n",
      "\n",
      "Vaxx (Booth Steppa) - Original Mix\n"
     ]
    },
    {
     "name": "stderr",
     "output_type": "stream",
     "text": [
      " 13%|█▎        | 47/354 [1:00:26<6:34:48, 77.16s/it]\n",
      "ERROR:root:Internal Python error in the inspect module.\n",
      "Below is the traceback from this internal error.\n",
      "\n"
     ]
    },
    {
     "name": "stdout",
     "output_type": "stream",
     "text": [
      "Traceback (most recent call last):\n",
      "  File \"/mnt/d/projects/bassline_transcription/bassline_extractor/bassline_extractor.py\", line 30, in extract_single_bassline\n",
      "    beat_positions = extractor.beat_detector.estimate_beat_positions()\n",
      "  File \"/mnt/d/projects/bassline_transcription/bassline_extractor/extractor_classes.py\", line 105, in estimate_beat_positions\n",
      "    activations = self.beat_proc(self.info.path) # Loads track every time !!!\n",
      "  File \"/home/oguza97/anaconda3/envs/bassline_transcription/lib/python3.8/site-packages/madmom/processors.py\", line 120, in __call__\n",
      "    return self.process(*args, **kwargs)\n",
      "  File \"/home/oguza97/anaconda3/envs/bassline_transcription/lib/python3.8/site-packages/madmom/processors.py\", line 424, in process\n",
      "    data = _process((processor, data, kwargs))\n",
      "  File \"/home/oguza97/anaconda3/envs/bassline_transcription/lib/python3.8/site-packages/madmom/processors.py\", line 289, in _process\n",
      "    return process_tuple[0](*process_tuple[1:-1], **process_tuple[-1])\n",
      "  File \"/home/oguza97/anaconda3/envs/bassline_transcription/lib/python3.8/site-packages/madmom/processors.py\", line 120, in __call__\n",
      "    return self.process(*args, **kwargs)\n",
      "  File \"/home/oguza97/anaconda3/envs/bassline_transcription/lib/python3.8/site-packages/madmom/processors.py\", line 424, in process\n",
      "    data = _process((processor, data, kwargs))\n",
      "  File \"/home/oguza97/anaconda3/envs/bassline_transcription/lib/python3.8/site-packages/madmom/processors.py\", line 289, in _process\n",
      "    return process_tuple[0](*process_tuple[1:-1], **process_tuple[-1])\n",
      "  File \"/home/oguza97/anaconda3/envs/bassline_transcription/lib/python3.8/site-packages/madmom/processors.py\", line 120, in __call__\n",
      "    return self.process(*args, **kwargs)\n",
      "  File \"/home/oguza97/anaconda3/envs/bassline_transcription/lib/python3.8/site-packages/madmom/processors.py\", line 484, in process\n",
      "    return list(self.map(_process, zip(self.processors, it.repeat(data),\n",
      "  File \"/home/oguza97/anaconda3/envs/bassline_transcription/lib/python3.8/site-packages/madmom/processors.py\", line 289, in _process\n",
      "    return process_tuple[0](*process_tuple[1:-1], **process_tuple[-1])\n",
      "  File \"/home/oguza97/anaconda3/envs/bassline_transcription/lib/python3.8/site-packages/madmom/processors.py\", line 120, in __call__\n",
      "    return self.process(*args, **kwargs)\n",
      "  File \"/home/oguza97/anaconda3/envs/bassline_transcription/lib/python3.8/site-packages/madmom/ml/nn/__init__.py\", line 101, in process\n",
      "    data = layer.activate(data, reset=reset)\n",
      "  File \"madmom/ml/nn/layers.py\", line 225, in madmom.ml.nn.layers.BidirectionalLayer.activate\n",
      "  File \"madmom/ml/nn/layers.py\", line 28, in madmom.ml.nn.layers.Layer.__call__\n",
      "  File \"madmom/ml/nn/layers.py\", line 430, in madmom.ml.nn.layers.LSTMLayer.activate\n",
      "  File \"madmom/ml/nn/layers.py\", line 290, in madmom.ml.nn.layers.Gate.activate\n",
      "  File \"<__array_function__ internals>\", line 5, in dot\n",
      "KeyboardInterrupt\n",
      "\n",
      "During handling of the above exception, another exception occurred:\n",
      "\n",
      "Traceback (most recent call last):\n",
      "  File \"/home/oguza97/anaconda3/envs/bassline_transcription/lib/python3.8/site-packages/IPython/core/interactiveshell.py\", line 3418, in run_code\n",
      "    exec(code_obj, self.user_global_ns, self.user_ns)\n",
      "  File \"<ipython-input-2-b89dd21062ac>\", line 4, in <module>\n",
      "    main(directories_json_path, 327)\n",
      "  File \"/mnt/d/projects/bassline_transcription/bassline_extractor/bassline_extractor.py\", line 74, in main\n",
      "    extract_single_bassline(title, directories, track_dicts, scales, date, separator, fs=22050)\n",
      "  File \"/mnt/d/projects/bassline_transcription/bassline_extractor/bassline_extractor.py\", line 53, in extract_single_bassline\n",
      "    sys.exit()\n",
      "SystemExit\n",
      "\n",
      "During handling of the above exception, another exception occurred:\n",
      "\n",
      "Traceback (most recent call last):\n",
      "  File \"/home/oguza97/anaconda3/envs/bassline_transcription/lib/python3.8/site-packages/IPython/core/ultratb.py\", line 1170, in get_records\n",
      "    return _fixed_getinnerframes(etb, number_of_lines_of_context, tb_offset)\n",
      "  File \"/home/oguza97/anaconda3/envs/bassline_transcription/lib/python3.8/site-packages/IPython/core/ultratb.py\", line 316, in wrapped\n",
      "    return f(*args, **kwargs)\n",
      "  File \"/home/oguza97/anaconda3/envs/bassline_transcription/lib/python3.8/site-packages/IPython/core/ultratb.py\", line 350, in _fixed_getinnerframes\n",
      "    records = fix_frame_records_filenames(inspect.getinnerframes(etb, context))\n",
      "  File \"/home/oguza97/anaconda3/envs/bassline_transcription/lib/python3.8/inspect.py\", line 1503, in getinnerframes\n",
      "    frameinfo = (tb.tb_frame,) + getframeinfo(tb, context)\n",
      "AttributeError: 'tuple' object has no attribute 'tb_frame'\n"
     ]
    },
    {
     "ename": "TypeError",
     "evalue": "object of type 'NoneType' has no len()",
     "output_type": "error",
     "traceback": [
      "\u001b[0;31m---------------------------------------------------------------------------\u001b[0m",
      "\u001b[0;31mKeyboardInterrupt\u001b[0m                         Traceback (most recent call last)",
      "\u001b[0;32m/mnt/d/projects/bassline_transcription/bassline_extractor/bassline_extractor.py\u001b[0m in \u001b[0;36mextract_single_bassline\u001b[0;34m(title, directories, track_dicts, scales, date, separator, fs, N_bars)\u001b[0m\n\u001b[1;32m     29\u001b[0m         \u001b[0;31m# Estimate the Beat Positions and Export\u001b[0m\u001b[0;34m\u001b[0m\u001b[0;34m\u001b[0m\u001b[0;34m\u001b[0m\u001b[0m\n\u001b[0;32m---> 30\u001b[0;31m         \u001b[0mbeat_positions\u001b[0m \u001b[0;34m=\u001b[0m \u001b[0mextractor\u001b[0m\u001b[0;34m.\u001b[0m\u001b[0mbeat_detector\u001b[0m\u001b[0;34m.\u001b[0m\u001b[0mestimate_beat_positions\u001b[0m\u001b[0;34m(\u001b[0m\u001b[0;34m)\u001b[0m\u001b[0;34m\u001b[0m\u001b[0;34m\u001b[0m\u001b[0m\n\u001b[0m\u001b[1;32m     31\u001b[0m         \u001b[0mextractor\u001b[0m\u001b[0;34m.\u001b[0m\u001b[0mbeat_detector\u001b[0m\u001b[0;34m.\u001b[0m\u001b[0mexport_beat_positions\u001b[0m\u001b[0;34m(\u001b[0m\u001b[0;34m)\u001b[0m\u001b[0;34m\u001b[0m\u001b[0;34m\u001b[0m\u001b[0m\n",
      "\u001b[0;32m/mnt/d/projects/bassline_transcription/bassline_extractor/extractor_classes.py\u001b[0m in \u001b[0;36mestimate_beat_positions\u001b[0;34m(self)\u001b[0m\n\u001b[1;32m    104\u001b[0m \u001b[0;34m\u001b[0m\u001b[0m\n\u001b[0;32m--> 105\u001b[0;31m         \u001b[0mactivations\u001b[0m \u001b[0;34m=\u001b[0m \u001b[0mself\u001b[0m\u001b[0;34m.\u001b[0m\u001b[0mbeat_proc\u001b[0m\u001b[0;34m(\u001b[0m\u001b[0mself\u001b[0m\u001b[0;34m.\u001b[0m\u001b[0minfo\u001b[0m\u001b[0;34m.\u001b[0m\u001b[0mpath\u001b[0m\u001b[0;34m)\u001b[0m \u001b[0;31m# Loads track every time !!!\u001b[0m\u001b[0;34m\u001b[0m\u001b[0;34m\u001b[0m\u001b[0m\n\u001b[0m\u001b[1;32m    106\u001b[0m         \u001b[0mself\u001b[0m\u001b[0;34m.\u001b[0m\u001b[0mbeat_positions\u001b[0m \u001b[0;34m=\u001b[0m \u001b[0mself\u001b[0m\u001b[0;34m.\u001b[0m\u001b[0mtracking_proc\u001b[0m\u001b[0;34m(\u001b[0m\u001b[0mactivations\u001b[0m\u001b[0;34m)\u001b[0m\u001b[0;34m\u001b[0m\u001b[0;34m\u001b[0m\u001b[0m\n",
      "\u001b[0;32m~/anaconda3/envs/bassline_transcription/lib/python3.8/site-packages/madmom/processors.py\u001b[0m in \u001b[0;36m__call__\u001b[0;34m(self, *args, **kwargs)\u001b[0m\n\u001b[1;32m    119\u001b[0m         \u001b[0;31m# this magic method makes a Processor callable\u001b[0m\u001b[0;34m\u001b[0m\u001b[0;34m\u001b[0m\u001b[0;34m\u001b[0m\u001b[0m\n\u001b[0;32m--> 120\u001b[0;31m         \u001b[0;32mreturn\u001b[0m \u001b[0mself\u001b[0m\u001b[0;34m.\u001b[0m\u001b[0mprocess\u001b[0m\u001b[0;34m(\u001b[0m\u001b[0;34m*\u001b[0m\u001b[0margs\u001b[0m\u001b[0;34m,\u001b[0m \u001b[0;34m**\u001b[0m\u001b[0mkwargs\u001b[0m\u001b[0;34m)\u001b[0m\u001b[0;34m\u001b[0m\u001b[0;34m\u001b[0m\u001b[0m\n\u001b[0m\u001b[1;32m    121\u001b[0m \u001b[0;34m\u001b[0m\u001b[0m\n",
      "\u001b[0;32m~/anaconda3/envs/bassline_transcription/lib/python3.8/site-packages/madmom/processors.py\u001b[0m in \u001b[0;36mprocess\u001b[0;34m(self, data, **kwargs)\u001b[0m\n\u001b[1;32m    423\u001b[0m         \u001b[0;32mfor\u001b[0m \u001b[0mprocessor\u001b[0m \u001b[0;32min\u001b[0m \u001b[0mself\u001b[0m\u001b[0;34m.\u001b[0m\u001b[0mprocessors\u001b[0m\u001b[0;34m:\u001b[0m\u001b[0;34m\u001b[0m\u001b[0;34m\u001b[0m\u001b[0m\n\u001b[0;32m--> 424\u001b[0;31m             \u001b[0mdata\u001b[0m \u001b[0;34m=\u001b[0m \u001b[0m_process\u001b[0m\u001b[0;34m(\u001b[0m\u001b[0;34m(\u001b[0m\u001b[0mprocessor\u001b[0m\u001b[0;34m,\u001b[0m \u001b[0mdata\u001b[0m\u001b[0;34m,\u001b[0m \u001b[0mkwargs\u001b[0m\u001b[0;34m)\u001b[0m\u001b[0;34m)\u001b[0m\u001b[0;34m\u001b[0m\u001b[0;34m\u001b[0m\u001b[0m\n\u001b[0m\u001b[1;32m    425\u001b[0m         \u001b[0;32mreturn\u001b[0m \u001b[0mdata\u001b[0m\u001b[0;34m\u001b[0m\u001b[0;34m\u001b[0m\u001b[0m\n",
      "\u001b[0;32m~/anaconda3/envs/bassline_transcription/lib/python3.8/site-packages/madmom/processors.py\u001b[0m in \u001b[0;36m_process\u001b[0;34m(process_tuple)\u001b[0m\n\u001b[1;32m    288\u001b[0m     \u001b[0;32melif\u001b[0m \u001b[0misinstance\u001b[0m\u001b[0;34m(\u001b[0m\u001b[0mprocess_tuple\u001b[0m\u001b[0;34m[\u001b[0m\u001b[0;36m0\u001b[0m\u001b[0;34m]\u001b[0m\u001b[0;34m,\u001b[0m \u001b[0mProcessor\u001b[0m\u001b[0;34m)\u001b[0m\u001b[0;34m:\u001b[0m\u001b[0;34m\u001b[0m\u001b[0;34m\u001b[0m\u001b[0m\n\u001b[0;32m--> 289\u001b[0;31m         \u001b[0;32mreturn\u001b[0m \u001b[0mprocess_tuple\u001b[0m\u001b[0;34m[\u001b[0m\u001b[0;36m0\u001b[0m\u001b[0;34m]\u001b[0m\u001b[0;34m(\u001b[0m\u001b[0;34m*\u001b[0m\u001b[0mprocess_tuple\u001b[0m\u001b[0;34m[\u001b[0m\u001b[0;36m1\u001b[0m\u001b[0;34m:\u001b[0m\u001b[0;34m-\u001b[0m\u001b[0;36m1\u001b[0m\u001b[0;34m]\u001b[0m\u001b[0;34m,\u001b[0m \u001b[0;34m**\u001b[0m\u001b[0mprocess_tuple\u001b[0m\u001b[0;34m[\u001b[0m\u001b[0;34m-\u001b[0m\u001b[0;36m1\u001b[0m\u001b[0;34m]\u001b[0m\u001b[0;34m)\u001b[0m\u001b[0;34m\u001b[0m\u001b[0;34m\u001b[0m\u001b[0m\n\u001b[0m\u001b[1;32m    290\u001b[0m     \u001b[0;31m# just call whatever we got here (e.g. a function) without kwargs\u001b[0m\u001b[0;34m\u001b[0m\u001b[0;34m\u001b[0m\u001b[0;34m\u001b[0m\u001b[0m\n",
      "\u001b[0;32m~/anaconda3/envs/bassline_transcription/lib/python3.8/site-packages/madmom/processors.py\u001b[0m in \u001b[0;36m__call__\u001b[0;34m(self, *args, **kwargs)\u001b[0m\n\u001b[1;32m    119\u001b[0m         \u001b[0;31m# this magic method makes a Processor callable\u001b[0m\u001b[0;34m\u001b[0m\u001b[0;34m\u001b[0m\u001b[0;34m\u001b[0m\u001b[0m\n\u001b[0;32m--> 120\u001b[0;31m         \u001b[0;32mreturn\u001b[0m \u001b[0mself\u001b[0m\u001b[0;34m.\u001b[0m\u001b[0mprocess\u001b[0m\u001b[0;34m(\u001b[0m\u001b[0;34m*\u001b[0m\u001b[0margs\u001b[0m\u001b[0;34m,\u001b[0m \u001b[0;34m**\u001b[0m\u001b[0mkwargs\u001b[0m\u001b[0;34m)\u001b[0m\u001b[0;34m\u001b[0m\u001b[0;34m\u001b[0m\u001b[0m\n\u001b[0m\u001b[1;32m    121\u001b[0m \u001b[0;34m\u001b[0m\u001b[0m\n",
      "\u001b[0;32m~/anaconda3/envs/bassline_transcription/lib/python3.8/site-packages/madmom/processors.py\u001b[0m in \u001b[0;36mprocess\u001b[0;34m(self, data, **kwargs)\u001b[0m\n\u001b[1;32m    423\u001b[0m         \u001b[0;32mfor\u001b[0m \u001b[0mprocessor\u001b[0m \u001b[0;32min\u001b[0m \u001b[0mself\u001b[0m\u001b[0;34m.\u001b[0m\u001b[0mprocessors\u001b[0m\u001b[0;34m:\u001b[0m\u001b[0;34m\u001b[0m\u001b[0;34m\u001b[0m\u001b[0m\n\u001b[0;32m--> 424\u001b[0;31m             \u001b[0mdata\u001b[0m \u001b[0;34m=\u001b[0m \u001b[0m_process\u001b[0m\u001b[0;34m(\u001b[0m\u001b[0;34m(\u001b[0m\u001b[0mprocessor\u001b[0m\u001b[0;34m,\u001b[0m \u001b[0mdata\u001b[0m\u001b[0;34m,\u001b[0m \u001b[0mkwargs\u001b[0m\u001b[0;34m)\u001b[0m\u001b[0;34m)\u001b[0m\u001b[0;34m\u001b[0m\u001b[0;34m\u001b[0m\u001b[0m\n\u001b[0m\u001b[1;32m    425\u001b[0m         \u001b[0;32mreturn\u001b[0m \u001b[0mdata\u001b[0m\u001b[0;34m\u001b[0m\u001b[0;34m\u001b[0m\u001b[0m\n",
      "\u001b[0;32m~/anaconda3/envs/bassline_transcription/lib/python3.8/site-packages/madmom/processors.py\u001b[0m in \u001b[0;36m_process\u001b[0;34m(process_tuple)\u001b[0m\n\u001b[1;32m    288\u001b[0m     \u001b[0;32melif\u001b[0m \u001b[0misinstance\u001b[0m\u001b[0;34m(\u001b[0m\u001b[0mprocess_tuple\u001b[0m\u001b[0;34m[\u001b[0m\u001b[0;36m0\u001b[0m\u001b[0;34m]\u001b[0m\u001b[0;34m,\u001b[0m \u001b[0mProcessor\u001b[0m\u001b[0;34m)\u001b[0m\u001b[0;34m:\u001b[0m\u001b[0;34m\u001b[0m\u001b[0;34m\u001b[0m\u001b[0m\n\u001b[0;32m--> 289\u001b[0;31m         \u001b[0;32mreturn\u001b[0m \u001b[0mprocess_tuple\u001b[0m\u001b[0;34m[\u001b[0m\u001b[0;36m0\u001b[0m\u001b[0;34m]\u001b[0m\u001b[0;34m(\u001b[0m\u001b[0;34m*\u001b[0m\u001b[0mprocess_tuple\u001b[0m\u001b[0;34m[\u001b[0m\u001b[0;36m1\u001b[0m\u001b[0;34m:\u001b[0m\u001b[0;34m-\u001b[0m\u001b[0;36m1\u001b[0m\u001b[0;34m]\u001b[0m\u001b[0;34m,\u001b[0m \u001b[0;34m**\u001b[0m\u001b[0mprocess_tuple\u001b[0m\u001b[0;34m[\u001b[0m\u001b[0;34m-\u001b[0m\u001b[0;36m1\u001b[0m\u001b[0;34m]\u001b[0m\u001b[0;34m)\u001b[0m\u001b[0;34m\u001b[0m\u001b[0;34m\u001b[0m\u001b[0m\n\u001b[0m\u001b[1;32m    290\u001b[0m     \u001b[0;31m# just call whatever we got here (e.g. a function) without kwargs\u001b[0m\u001b[0;34m\u001b[0m\u001b[0;34m\u001b[0m\u001b[0;34m\u001b[0m\u001b[0m\n",
      "\u001b[0;32m~/anaconda3/envs/bassline_transcription/lib/python3.8/site-packages/madmom/processors.py\u001b[0m in \u001b[0;36m__call__\u001b[0;34m(self, *args, **kwargs)\u001b[0m\n\u001b[1;32m    119\u001b[0m         \u001b[0;31m# this magic method makes a Processor callable\u001b[0m\u001b[0;34m\u001b[0m\u001b[0;34m\u001b[0m\u001b[0;34m\u001b[0m\u001b[0m\n\u001b[0;32m--> 120\u001b[0;31m         \u001b[0;32mreturn\u001b[0m \u001b[0mself\u001b[0m\u001b[0;34m.\u001b[0m\u001b[0mprocess\u001b[0m\u001b[0;34m(\u001b[0m\u001b[0;34m*\u001b[0m\u001b[0margs\u001b[0m\u001b[0;34m,\u001b[0m \u001b[0;34m**\u001b[0m\u001b[0mkwargs\u001b[0m\u001b[0;34m)\u001b[0m\u001b[0;34m\u001b[0m\u001b[0;34m\u001b[0m\u001b[0m\n\u001b[0m\u001b[1;32m    121\u001b[0m \u001b[0;34m\u001b[0m\u001b[0m\n",
      "\u001b[0;32m~/anaconda3/envs/bassline_transcription/lib/python3.8/site-packages/madmom/processors.py\u001b[0m in \u001b[0;36mprocess\u001b[0;34m(self, data, **kwargs)\u001b[0m\n\u001b[1;32m    483\u001b[0m         \u001b[0;31m# process data in parallel and return a list with processed data\u001b[0m\u001b[0;34m\u001b[0m\u001b[0;34m\u001b[0m\u001b[0;34m\u001b[0m\u001b[0m\n\u001b[0;32m--> 484\u001b[0;31m         return list(self.map(_process, zip(self.processors, it.repeat(data),\n\u001b[0m\u001b[1;32m    485\u001b[0m                                            it.repeat(kwargs))))\n",
      "\u001b[0;32m~/anaconda3/envs/bassline_transcription/lib/python3.8/site-packages/madmom/processors.py\u001b[0m in \u001b[0;36m_process\u001b[0;34m(process_tuple)\u001b[0m\n\u001b[1;32m    288\u001b[0m     \u001b[0;32melif\u001b[0m \u001b[0misinstance\u001b[0m\u001b[0;34m(\u001b[0m\u001b[0mprocess_tuple\u001b[0m\u001b[0;34m[\u001b[0m\u001b[0;36m0\u001b[0m\u001b[0;34m]\u001b[0m\u001b[0;34m,\u001b[0m \u001b[0mProcessor\u001b[0m\u001b[0;34m)\u001b[0m\u001b[0;34m:\u001b[0m\u001b[0;34m\u001b[0m\u001b[0;34m\u001b[0m\u001b[0m\n\u001b[0;32m--> 289\u001b[0;31m         \u001b[0;32mreturn\u001b[0m \u001b[0mprocess_tuple\u001b[0m\u001b[0;34m[\u001b[0m\u001b[0;36m0\u001b[0m\u001b[0;34m]\u001b[0m\u001b[0;34m(\u001b[0m\u001b[0;34m*\u001b[0m\u001b[0mprocess_tuple\u001b[0m\u001b[0;34m[\u001b[0m\u001b[0;36m1\u001b[0m\u001b[0;34m:\u001b[0m\u001b[0;34m-\u001b[0m\u001b[0;36m1\u001b[0m\u001b[0;34m]\u001b[0m\u001b[0;34m,\u001b[0m \u001b[0;34m**\u001b[0m\u001b[0mprocess_tuple\u001b[0m\u001b[0;34m[\u001b[0m\u001b[0;34m-\u001b[0m\u001b[0;36m1\u001b[0m\u001b[0;34m]\u001b[0m\u001b[0;34m)\u001b[0m\u001b[0;34m\u001b[0m\u001b[0;34m\u001b[0m\u001b[0m\n\u001b[0m\u001b[1;32m    290\u001b[0m     \u001b[0;31m# just call whatever we got here (e.g. a function) without kwargs\u001b[0m\u001b[0;34m\u001b[0m\u001b[0;34m\u001b[0m\u001b[0;34m\u001b[0m\u001b[0m\n",
      "\u001b[0;32m~/anaconda3/envs/bassline_transcription/lib/python3.8/site-packages/madmom/processors.py\u001b[0m in \u001b[0;36m__call__\u001b[0;34m(self, *args, **kwargs)\u001b[0m\n\u001b[1;32m    119\u001b[0m         \u001b[0;31m# this magic method makes a Processor callable\u001b[0m\u001b[0;34m\u001b[0m\u001b[0;34m\u001b[0m\u001b[0;34m\u001b[0m\u001b[0m\n\u001b[0;32m--> 120\u001b[0;31m         \u001b[0;32mreturn\u001b[0m \u001b[0mself\u001b[0m\u001b[0;34m.\u001b[0m\u001b[0mprocess\u001b[0m\u001b[0;34m(\u001b[0m\u001b[0;34m*\u001b[0m\u001b[0margs\u001b[0m\u001b[0;34m,\u001b[0m \u001b[0;34m**\u001b[0m\u001b[0mkwargs\u001b[0m\u001b[0;34m)\u001b[0m\u001b[0;34m\u001b[0m\u001b[0;34m\u001b[0m\u001b[0m\n\u001b[0m\u001b[1;32m    121\u001b[0m \u001b[0;34m\u001b[0m\u001b[0m\n",
      "\u001b[0;32m~/anaconda3/envs/bassline_transcription/lib/python3.8/site-packages/madmom/ml/nn/__init__.py\u001b[0m in \u001b[0;36mprocess\u001b[0;34m(self, data, reset, **kwargs)\u001b[0m\n\u001b[1;32m    100\u001b[0m             \u001b[0;31m# activate the layer and feed the output into the next one\u001b[0m\u001b[0;34m\u001b[0m\u001b[0;34m\u001b[0m\u001b[0;34m\u001b[0m\u001b[0m\n\u001b[0;32m--> 101\u001b[0;31m             \u001b[0mdata\u001b[0m \u001b[0;34m=\u001b[0m \u001b[0mlayer\u001b[0m\u001b[0;34m.\u001b[0m\u001b[0mactivate\u001b[0m\u001b[0;34m(\u001b[0m\u001b[0mdata\u001b[0m\u001b[0;34m,\u001b[0m \u001b[0mreset\u001b[0m\u001b[0;34m=\u001b[0m\u001b[0mreset\u001b[0m\u001b[0;34m)\u001b[0m\u001b[0;34m\u001b[0m\u001b[0;34m\u001b[0m\u001b[0m\n\u001b[0m\u001b[1;32m    102\u001b[0m         \u001b[0;31m# ravel the predictions if needed\u001b[0m\u001b[0;34m\u001b[0m\u001b[0;34m\u001b[0m\u001b[0;34m\u001b[0m\u001b[0m\n",
      "\u001b[0;32m~/anaconda3/envs/bassline_transcription/lib/python3.8/site-packages/madmom/ml/nn/layers.cpython-38-x86_64-linux-gnu.so\u001b[0m in \u001b[0;36mmadmom.ml.nn.layers.BidirectionalLayer.activate\u001b[0;34m()\u001b[0m\n",
      "\u001b[0;32m~/anaconda3/envs/bassline_transcription/lib/python3.8/site-packages/madmom/ml/nn/layers.cpython-38-x86_64-linux-gnu.so\u001b[0m in \u001b[0;36mmadmom.ml.nn.layers.Layer.__call__\u001b[0;34m()\u001b[0m\n",
      "\u001b[0;32m~/anaconda3/envs/bassline_transcription/lib/python3.8/site-packages/madmom/ml/nn/layers.cpython-38-x86_64-linux-gnu.so\u001b[0m in \u001b[0;36mmadmom.ml.nn.layers.LSTMLayer.activate\u001b[0;34m()\u001b[0m\n",
      "\u001b[0;32m~/anaconda3/envs/bassline_transcription/lib/python3.8/site-packages/madmom/ml/nn/layers.cpython-38-x86_64-linux-gnu.so\u001b[0m in \u001b[0;36mmadmom.ml.nn.layers.Gate.activate\u001b[0;34m()\u001b[0m\n",
      "\u001b[0;32m<__array_function__ internals>\u001b[0m in \u001b[0;36mdot\u001b[0;34m(*args, **kwargs)\u001b[0m\n",
      "\u001b[0;31mKeyboardInterrupt\u001b[0m: ",
      "\nDuring handling of the above exception, another exception occurred:\n",
      "\u001b[0;31mSystemExit\u001b[0m                                Traceback (most recent call last)",
      "    \u001b[0;31m[... skipping hidden 1 frame]\u001b[0m\n",
      "\u001b[0;32m<ipython-input-2-b89dd21062ac>\u001b[0m in \u001b[0;36m<module>\u001b[0;34m\u001b[0m\n\u001b[1;32m      3\u001b[0m \u001b[0;34m\u001b[0m\u001b[0m\n\u001b[0;32m----> 4\u001b[0;31m \u001b[0mmain\u001b[0m\u001b[0;34m(\u001b[0m\u001b[0mdirectories_json_path\u001b[0m\u001b[0;34m,\u001b[0m \u001b[0;36m327\u001b[0m\u001b[0;34m)\u001b[0m\u001b[0;34m\u001b[0m\u001b[0;34m\u001b[0m\u001b[0m\n\u001b[0m",
      "\u001b[0;32m/mnt/d/projects/bassline_transcription/bassline_extractor/bassline_extractor.py\u001b[0m in \u001b[0;36mmain\u001b[0;34m(directories_path, idx)\u001b[0m\n\u001b[1;32m     73\u001b[0m \u001b[0;34m\u001b[0m\u001b[0m\n\u001b[0;32m---> 74\u001b[0;31m         \u001b[0mextract_single_bassline\u001b[0m\u001b[0;34m(\u001b[0m\u001b[0mtitle\u001b[0m\u001b[0;34m,\u001b[0m \u001b[0mdirectories\u001b[0m\u001b[0;34m,\u001b[0m \u001b[0mtrack_dicts\u001b[0m\u001b[0;34m,\u001b[0m \u001b[0mscales\u001b[0m\u001b[0;34m,\u001b[0m \u001b[0mdate\u001b[0m\u001b[0;34m,\u001b[0m \u001b[0mseparator\u001b[0m\u001b[0;34m,\u001b[0m \u001b[0mfs\u001b[0m\u001b[0;34m=\u001b[0m\u001b[0;36m22050\u001b[0m\u001b[0;34m)\u001b[0m\u001b[0;34m\u001b[0m\u001b[0;34m\u001b[0m\u001b[0m\n\u001b[0m\u001b[1;32m     75\u001b[0m \u001b[0;34m\u001b[0m\u001b[0m\n",
      "\u001b[0;32m/mnt/d/projects/bassline_transcription/bassline_extractor/bassline_extractor.py\u001b[0m in \u001b[0;36mextract_single_bassline\u001b[0;34m(title, directories, track_dicts, scales, date, separator, fs, N_bars)\u001b[0m\n\u001b[1;32m     52\u001b[0m         \u001b[0;32mimport\u001b[0m \u001b[0msys\u001b[0m\u001b[0;34m\u001b[0m\u001b[0;34m\u001b[0m\u001b[0m\n\u001b[0;32m---> 53\u001b[0;31m         \u001b[0msys\u001b[0m\u001b[0;34m.\u001b[0m\u001b[0mexit\u001b[0m\u001b[0;34m(\u001b[0m\u001b[0;34m)\u001b[0m\u001b[0;34m\u001b[0m\u001b[0;34m\u001b[0m\u001b[0m\n\u001b[0m\u001b[1;32m     54\u001b[0m         \u001b[0;32mpass\u001b[0m\u001b[0;34m\u001b[0m\u001b[0;34m\u001b[0m\u001b[0m\n",
      "\u001b[0;31mSystemExit\u001b[0m: ",
      "\nDuring handling of the above exception, another exception occurred:\n",
      "\u001b[0;31mTypeError\u001b[0m                                 Traceback (most recent call last)",
      "    \u001b[0;31m[... skipping hidden 1 frame]\u001b[0m\n",
      "\u001b[0;32m~/anaconda3/envs/bassline_transcription/lib/python3.8/site-packages/IPython/core/interactiveshell.py\u001b[0m in \u001b[0;36mshowtraceback\u001b[0;34m(self, exc_tuple, filename, tb_offset, exception_only, running_compiled_code)\u001b[0m\n\u001b[1;32m   2036\u001b[0m                     stb = ['An exception has occurred, use %tb to see '\n\u001b[1;32m   2037\u001b[0m                            'the full traceback.\\n']\n\u001b[0;32m-> 2038\u001b[0;31m                     stb.extend(self.InteractiveTB.get_exception_only(etype,\n\u001b[0m\u001b[1;32m   2039\u001b[0m                                                                      value))\n\u001b[1;32m   2040\u001b[0m                 \u001b[0;32melse\u001b[0m\u001b[0;34m:\u001b[0m\u001b[0;34m\u001b[0m\u001b[0;34m\u001b[0m\u001b[0m\n",
      "\u001b[0;32m~/anaconda3/envs/bassline_transcription/lib/python3.8/site-packages/IPython/core/ultratb.py\u001b[0m in \u001b[0;36mget_exception_only\u001b[0;34m(self, etype, value)\u001b[0m\n\u001b[1;32m    821\u001b[0m         \u001b[0mvalue\u001b[0m \u001b[0;34m:\u001b[0m \u001b[0mexception\u001b[0m \u001b[0mvalue\u001b[0m\u001b[0;34m\u001b[0m\u001b[0;34m\u001b[0m\u001b[0m\n\u001b[1;32m    822\u001b[0m         \"\"\"\n\u001b[0;32m--> 823\u001b[0;31m         \u001b[0;32mreturn\u001b[0m \u001b[0mListTB\u001b[0m\u001b[0;34m.\u001b[0m\u001b[0mstructured_traceback\u001b[0m\u001b[0;34m(\u001b[0m\u001b[0mself\u001b[0m\u001b[0;34m,\u001b[0m \u001b[0metype\u001b[0m\u001b[0;34m,\u001b[0m \u001b[0mvalue\u001b[0m\u001b[0;34m)\u001b[0m\u001b[0;34m\u001b[0m\u001b[0;34m\u001b[0m\u001b[0m\n\u001b[0m\u001b[1;32m    824\u001b[0m \u001b[0;34m\u001b[0m\u001b[0m\n\u001b[1;32m    825\u001b[0m     \u001b[0;32mdef\u001b[0m \u001b[0mshow_exception_only\u001b[0m\u001b[0;34m(\u001b[0m\u001b[0mself\u001b[0m\u001b[0;34m,\u001b[0m \u001b[0metype\u001b[0m\u001b[0;34m,\u001b[0m \u001b[0mevalue\u001b[0m\u001b[0;34m)\u001b[0m\u001b[0;34m:\u001b[0m\u001b[0;34m\u001b[0m\u001b[0;34m\u001b[0m\u001b[0m\n",
      "\u001b[0;32m~/anaconda3/envs/bassline_transcription/lib/python3.8/site-packages/IPython/core/ultratb.py\u001b[0m in \u001b[0;36mstructured_traceback\u001b[0;34m(self, etype, evalue, etb, tb_offset, context)\u001b[0m\n\u001b[1;32m    696\u001b[0m             \u001b[0mchained_exceptions_tb_offset\u001b[0m \u001b[0;34m=\u001b[0m \u001b[0;36m0\u001b[0m\u001b[0;34m\u001b[0m\u001b[0;34m\u001b[0m\u001b[0m\n\u001b[1;32m    697\u001b[0m             out_list = (\n\u001b[0;32m--> 698\u001b[0;31m                 self.structured_traceback(\n\u001b[0m\u001b[1;32m    699\u001b[0m                     \u001b[0metype\u001b[0m\u001b[0;34m,\u001b[0m \u001b[0mevalue\u001b[0m\u001b[0;34m,\u001b[0m \u001b[0;34m(\u001b[0m\u001b[0metb\u001b[0m\u001b[0;34m,\u001b[0m \u001b[0mchained_exc_ids\u001b[0m\u001b[0;34m)\u001b[0m\u001b[0;34m,\u001b[0m\u001b[0;34m\u001b[0m\u001b[0;34m\u001b[0m\u001b[0m\n\u001b[1;32m    700\u001b[0m                     chained_exceptions_tb_offset, context)\n",
      "\u001b[0;32m~/anaconda3/envs/bassline_transcription/lib/python3.8/site-packages/IPython/core/ultratb.py\u001b[0m in \u001b[0;36mstructured_traceback\u001b[0;34m(self, etype, value, tb, tb_offset, number_of_lines_of_context)\u001b[0m\n\u001b[1;32m   1434\u001b[0m         \u001b[0;32melse\u001b[0m\u001b[0;34m:\u001b[0m\u001b[0;34m\u001b[0m\u001b[0;34m\u001b[0m\u001b[0m\n\u001b[1;32m   1435\u001b[0m             \u001b[0mself\u001b[0m\u001b[0;34m.\u001b[0m\u001b[0mtb\u001b[0m \u001b[0;34m=\u001b[0m \u001b[0mtb\u001b[0m\u001b[0;34m\u001b[0m\u001b[0;34m\u001b[0m\u001b[0m\n\u001b[0;32m-> 1436\u001b[0;31m         return FormattedTB.structured_traceback(\n\u001b[0m\u001b[1;32m   1437\u001b[0m             self, etype, value, tb, tb_offset, number_of_lines_of_context)\n\u001b[1;32m   1438\u001b[0m \u001b[0;34m\u001b[0m\u001b[0m\n",
      "\u001b[0;32m~/anaconda3/envs/bassline_transcription/lib/python3.8/site-packages/IPython/core/ultratb.py\u001b[0m in \u001b[0;36mstructured_traceback\u001b[0;34m(self, etype, value, tb, tb_offset, number_of_lines_of_context)\u001b[0m\n\u001b[1;32m   1334\u001b[0m         \u001b[0;32mif\u001b[0m \u001b[0mmode\u001b[0m \u001b[0;32min\u001b[0m \u001b[0mself\u001b[0m\u001b[0;34m.\u001b[0m\u001b[0mverbose_modes\u001b[0m\u001b[0;34m:\u001b[0m\u001b[0;34m\u001b[0m\u001b[0;34m\u001b[0m\u001b[0m\n\u001b[1;32m   1335\u001b[0m             \u001b[0;31m# Verbose modes need a full traceback\u001b[0m\u001b[0;34m\u001b[0m\u001b[0;34m\u001b[0m\u001b[0;34m\u001b[0m\u001b[0m\n\u001b[0;32m-> 1336\u001b[0;31m             return VerboseTB.structured_traceback(\n\u001b[0m\u001b[1;32m   1337\u001b[0m                 \u001b[0mself\u001b[0m\u001b[0;34m,\u001b[0m \u001b[0metype\u001b[0m\u001b[0;34m,\u001b[0m \u001b[0mvalue\u001b[0m\u001b[0;34m,\u001b[0m \u001b[0mtb\u001b[0m\u001b[0;34m,\u001b[0m \u001b[0mtb_offset\u001b[0m\u001b[0;34m,\u001b[0m \u001b[0mnumber_of_lines_of_context\u001b[0m\u001b[0;34m\u001b[0m\u001b[0;34m\u001b[0m\u001b[0m\n\u001b[1;32m   1338\u001b[0m             )\n",
      "\u001b[0;32m~/anaconda3/envs/bassline_transcription/lib/python3.8/site-packages/IPython/core/ultratb.py\u001b[0m in \u001b[0;36mstructured_traceback\u001b[0;34m(self, etype, evalue, etb, tb_offset, number_of_lines_of_context)\u001b[0m\n\u001b[1;32m   1191\u001b[0m         \u001b[0;34m\"\"\"Return a nice text document describing the traceback.\"\"\"\u001b[0m\u001b[0;34m\u001b[0m\u001b[0;34m\u001b[0m\u001b[0m\n\u001b[1;32m   1192\u001b[0m \u001b[0;34m\u001b[0m\u001b[0m\n\u001b[0;32m-> 1193\u001b[0;31m         formatted_exception = self.format_exception_as_a_whole(etype, evalue, etb, number_of_lines_of_context,\n\u001b[0m\u001b[1;32m   1194\u001b[0m                                                                tb_offset)\n\u001b[1;32m   1195\u001b[0m \u001b[0;34m\u001b[0m\u001b[0m\n",
      "\u001b[0;32m~/anaconda3/envs/bassline_transcription/lib/python3.8/site-packages/IPython/core/ultratb.py\u001b[0m in \u001b[0;36mformat_exception_as_a_whole\u001b[0;34m(self, etype, evalue, etb, number_of_lines_of_context, tb_offset)\u001b[0m\n\u001b[1;32m   1149\u001b[0m \u001b[0;34m\u001b[0m\u001b[0m\n\u001b[1;32m   1150\u001b[0m \u001b[0;34m\u001b[0m\u001b[0m\n\u001b[0;32m-> 1151\u001b[0;31m         \u001b[0mlast_unique\u001b[0m\u001b[0;34m,\u001b[0m \u001b[0mrecursion_repeat\u001b[0m \u001b[0;34m=\u001b[0m \u001b[0mfind_recursion\u001b[0m\u001b[0;34m(\u001b[0m\u001b[0morig_etype\u001b[0m\u001b[0;34m,\u001b[0m \u001b[0mevalue\u001b[0m\u001b[0;34m,\u001b[0m \u001b[0mrecords\u001b[0m\u001b[0;34m)\u001b[0m\u001b[0;34m\u001b[0m\u001b[0;34m\u001b[0m\u001b[0m\n\u001b[0m\u001b[1;32m   1152\u001b[0m \u001b[0;34m\u001b[0m\u001b[0m\n\u001b[1;32m   1153\u001b[0m         \u001b[0mframes\u001b[0m \u001b[0;34m=\u001b[0m \u001b[0mself\u001b[0m\u001b[0;34m.\u001b[0m\u001b[0mformat_records\u001b[0m\u001b[0;34m(\u001b[0m\u001b[0mrecords\u001b[0m\u001b[0;34m,\u001b[0m \u001b[0mlast_unique\u001b[0m\u001b[0;34m,\u001b[0m \u001b[0mrecursion_repeat\u001b[0m\u001b[0;34m)\u001b[0m\u001b[0;34m\u001b[0m\u001b[0;34m\u001b[0m\u001b[0m\n",
      "\u001b[0;32m~/anaconda3/envs/bassline_transcription/lib/python3.8/site-packages/IPython/core/ultratb.py\u001b[0m in \u001b[0;36mfind_recursion\u001b[0;34m(etype, value, records)\u001b[0m\n\u001b[1;32m    449\u001b[0m     \u001b[0;31m# first frame (from in to out) that looks different.\u001b[0m\u001b[0;34m\u001b[0m\u001b[0;34m\u001b[0m\u001b[0;34m\u001b[0m\u001b[0m\n\u001b[1;32m    450\u001b[0m     \u001b[0;32mif\u001b[0m \u001b[0;32mnot\u001b[0m \u001b[0mis_recursion_error\u001b[0m\u001b[0;34m(\u001b[0m\u001b[0metype\u001b[0m\u001b[0;34m,\u001b[0m \u001b[0mvalue\u001b[0m\u001b[0;34m,\u001b[0m \u001b[0mrecords\u001b[0m\u001b[0;34m)\u001b[0m\u001b[0;34m:\u001b[0m\u001b[0;34m\u001b[0m\u001b[0;34m\u001b[0m\u001b[0m\n\u001b[0;32m--> 451\u001b[0;31m         \u001b[0;32mreturn\u001b[0m \u001b[0mlen\u001b[0m\u001b[0;34m(\u001b[0m\u001b[0mrecords\u001b[0m\u001b[0;34m)\u001b[0m\u001b[0;34m,\u001b[0m \u001b[0;36m0\u001b[0m\u001b[0;34m\u001b[0m\u001b[0;34m\u001b[0m\u001b[0m\n\u001b[0m\u001b[1;32m    452\u001b[0m \u001b[0;34m\u001b[0m\u001b[0m\n\u001b[1;32m    453\u001b[0m     \u001b[0;31m# Select filename, lineno, func_name to track frames with\u001b[0m\u001b[0;34m\u001b[0m\u001b[0;34m\u001b[0m\u001b[0;34m\u001b[0m\u001b[0m\n",
      "\u001b[0;31mTypeError\u001b[0m: object of type 'NoneType' has no len()"
     ]
    }
   ],
   "source": [
    "#directories_json_path = 'data/transcription_test/directories.json'\n",
    "directories_json_path = 'data/directories.json'\n",
    "\n",
    "main(directories_json_path, 327)"
   ]
  },
  {
   "cell_type": "markdown",
   "metadata": {},
   "source": [
    "## Bassline Extraction from Given Chorus"
   ]
  },
  {
   "cell_type": "markdown",
   "metadata": {},
   "source": [
    "directories_json_path = 'data/directories.json'"
   ]
  },
  {
   "cell_type": "markdown",
   "metadata": {},
   "source": [
    "separate_from_chorus(directories_json_path)"
   ]
  },
  {
   "cell_type": "markdown",
   "metadata": {},
   "source": [
    "## Single Track Processing"
   ]
  },
  {
   "cell_type": "code",
   "execution_count": null,
   "metadata": {},
   "outputs": [],
   "source": [
    "directories_json_path = 'data/directories.json'\n",
    "#directories_json_path = 'data/transcription_test/directories.json'"
   ]
  },
  {
   "cell_type": "code",
   "execution_count": null,
   "metadata": {},
   "outputs": [],
   "source": [
    "directories, track_dicts, scales, track_titles, date = prepare(directories_json_path)"
   ]
  },
  {
   "cell_type": "markdown",
   "metadata": {},
   "source": [
    "#this track is 1:h long\n",
    "track_titles.index('Rion S, The Deepshakerz (The Deepshakerz Remixed) - KC Lights Remix')"
   ]
  },
  {
   "cell_type": "code",
   "execution_count": null,
   "metadata": {},
   "outputs": [],
   "source": [
    "for title in track_titles[326:]:\n",
    "\n",
    "    #title = track_titles[2]\n",
    "\n",
    "    print(title)\n",
    "\n",
    "    extract_single_bassline(title, directories, track_dicts, scales, date, fs=22050)"
   ]
  },
  {
   "cell_type": "code",
   "execution_count": null,
   "metadata": {},
   "outputs": [],
   "source": []
  }
 ],
 "metadata": {
  "kernelspec": {
   "display_name": "Python 3",
   "language": "python",
   "name": "python3"
  },
  "language_info": {
   "codemirror_mode": {
    "name": "ipython",
    "version": 3
   },
   "file_extension": ".py",
   "mimetype": "text/x-python",
   "name": "python",
   "nbconvert_exporter": "python",
   "pygments_lexer": "ipython3",
   "version": "3.8.5"
  }
 },
 "nbformat": 4,
 "nbformat_minor": 4
}
