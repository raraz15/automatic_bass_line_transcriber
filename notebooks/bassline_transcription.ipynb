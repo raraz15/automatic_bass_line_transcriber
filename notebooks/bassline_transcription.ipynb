{
 "cells": [
  {
   "cell_type": "code",
   "execution_count": 3,
   "metadata": {},
   "outputs": [],
   "source": [
    "import sys\n",
    "sys.path.insert(0, '/mnt/d/projects/bassline_transcription')\n",
    "\n",
    "from utilities import prepare\n",
    "from bassline_transcriber import main, transcribe_single_bassline"
   ]
  },
  {
   "cell_type": "markdown",
   "metadata": {},
   "source": [
    "## Prepare for Transcription"
   ]
  },
  {
   "cell_type": "code",
   "execution_count": 4,
   "metadata": {},
   "outputs": [],
   "source": [
    "directories_json_path = '../data/directories.json'\n",
    "track_dicts_name = 'TechHouse_track_dicts.json'\n"
   ]
  },
  {
   "cell_type": "markdown",
   "metadata": {},
   "source": [
    "## Batch Processing"
   ]
  },
  {
   "cell_type": "code",
   "execution_count": null,
   "metadata": {},
   "outputs": [],
   "source": [
    "track_dicts_name = 'traxsource_crawl_2500_5000_track_dicts.json'"
   ]
  },
  {
   "cell_type": "code",
   "execution_count": null,
   "metadata": {},
   "outputs": [],
   "source": [
    "for M in [1,8,2,4]:  \n",
    "\n",
    "    main(directories_json_path, track_dicts_name, M, quantization_scheme='adaptive', filter_unk=False, plot=False)"
   ]
  },
  {
   "cell_type": "markdown",
   "metadata": {},
   "source": [
    "## Single File Processing"
   ]
  },
  {
   "cell_type": "code",
   "execution_count": 5,
   "metadata": {},
   "outputs": [
    {
     "name": "stdout",
     "output_type": "stream",
     "text": [
      "\n",
      "John Summit - Make Me Feel (Original Mix)\n"
     ]
    }
   ],
   "source": [
    "M = 8\n",
    "\n",
    "directories, scales, track_dicts, track_titles, date = prepare(directories_json_path, track_dicts_name)\n",
    "\n",
    "title = track_titles[0]\n",
    "transcribe_single_bassline(title, directories, scales, track_dicts, M)"
   ]
  },
  {
   "cell_type": "code",
   "execution_count": null,
   "metadata": {},
   "outputs": [],
   "source": []
  }
 ],
 "metadata": {
  "kernelspec": {
   "display_name": "Python 3",
   "language": "python",
   "name": "python3"
  },
  "language_info": {
   "codemirror_mode": {
    "name": "ipython",
    "version": 3
   },
   "file_extension": ".py",
   "mimetype": "text/x-python",
   "name": "python",
   "nbconvert_exporter": "python",
   "pygments_lexer": "ipython3",
   "version": "3.8.5"
  }
 },
 "nbformat": 4,
 "nbformat_minor": 4
}
