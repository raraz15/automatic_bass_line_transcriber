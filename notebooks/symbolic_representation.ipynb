{
 "cells": [
  {
   "cell_type": "code",
   "execution_count": 1,
   "metadata": {},
   "outputs": [],
   "source": [
    "import os\n",
    "import sys\n",
    "import json\n",
    "\n",
    "sys.path.insert(0, '/mnt/d/projects/bassline_transcription')\n",
    "\n",
    "from utilities import *\n",
    "\n",
    "import pandas as pd\n",
    "import numpy as np"
   ]
  },
  {
   "cell_type": "code",
   "execution_count": 2,
   "metadata": {},
   "outputs": [],
   "source": [
    "directories = get_directories('../data/directories.json')\n",
    "scales, track_dicts, track_titles = read_metadata(directories)"
   ]
  },
  {
   "cell_type": "code",
   "execution_count": 26,
   "metadata": {},
   "outputs": [
    {
     "name": "stdout",
     "output_type": "stream",
     "text": [
      "Error on Benihana – Quiero (Original Mix)\n",
      "Error on CamelPhat & Elderbrook ‘Cola’ (Franky Rizardo Remix)\n",
      "Error on Illyus & Barrientos ‘Scream’ (Extended Mix)\n",
      "Error on Mark Knight & Funkagenda - Man With The Red Face - Radio Edit\n",
      "Error on Michael Bibi - Dance To The Devil\n",
      "Error on Rudimental & The Martinez Brothers – Easy On Me (Visualiser)\n"
     ]
    }
   ],
   "source": [
    "M = 8\n",
    "\n",
    "minor_matrix, major_matrix = [], []\n",
    "minor_titles, major_titles = [], []\n",
    "for title in track_titles:\n",
    "    \n",
    "    try:\n",
    "        vector = load_symbolic_representation(title, directories, M)\n",
    "        scale_type = track_dicts[title]['Key'].split(' ')[-1]\n",
    "        \n",
    "        if scale_type == 'min':\n",
    "            minor_matrix.append(vector)\n",
    "            minor_titles.append(title)\n",
    "            \n",
    "        elif scale_type == 'maj':\n",
    "            major_matrix.append(vector)\n",
    "            major_titles.append(title)\n",
    "            \n",
    "    except:\n",
    "        print('Error on {}'.format(title))\n",
    "        \n",
    "major_matrix = np.stack(major_matrix, axis=0)\n",
    "minor_matrix = np.stack(minor_matrix, axis=0)\n",
    "\n",
    "df_minor = pd.DataFrame(minor_matrix)\n",
    "df_major = pd.DataFrame(major_matrix)\n",
    "\n",
    "df_minor['Title'] = minor_titles\n",
    "df_major['Title'] = major_titles\n",
    "\n",
    "df_minor = df_minor.reindex(columns=['Title'] + [x for x in np.arange(len(vector))])\n",
    "df_major = df_major.reindex(columns=['Title'] + [x for x in np.arange(len(vector))])\n",
    "\n",
    "representation_path = os.path.join('..','data','datasets')\n",
    "\n",
    "min_title = 'bassline_representations_min_M{}.csv'.format(M)\n",
    "min_dir = os.path.join(representation_path, min_title)\n",
    "df_minor.to_csv(min_dir, index=False, header=False)\n",
    "\n",
    "maj_title = 'bassline_representations_maj_M{}.csv'.format(M)\n",
    "maj_dir = os.path.join(representation_path, maj_title)\n",
    "df_major.to_csv(maj_dir, index=False, header=False)"
   ]
  },
  {
   "cell_type": "code",
   "execution_count": null,
   "metadata": {},
   "outputs": [],
   "source": [
    "min_count = 0\n",
    "maj_count = 0\n",
    "for track in track_dicts.values():\n",
    "    \n",
    "    key, scale_type = track['Key'].split(' ')\n",
    "    \n",
    "    if scale_type == 'min':\n",
    "        min_count += 1\n",
    "        \n",
    "    if scale_type == 'maj':\n",
    "        maj_count += 1    "
   ]
  },
  {
   "cell_type": "markdown",
   "metadata": {},
   "source": [
    "## Creating The Representation"
   ]
  },
  {
   "cell_type": "code",
   "execution_count": null,
   "metadata": {},
   "outputs": [],
   "source": [
    "#from transcription.representation import (transpose_to_C, fill_midi_array,\n",
    "#                                          convert_to_vector,get_symbolic_representation)"
   ]
  },
  {
   "cell_type": "code",
   "execution_count": null,
   "metadata": {},
   "outputs": [],
   "source": [
    "def load_numpy_midi(file_name, directory):  \n",
    "    \n",
    "    return np.load(os.path.join(directory, file_name))\n",
    "\n",
    "def create_scale_pitches(key, typ):\n",
    "    \n",
    "    scale_pitches = scales[key][typ]['notes']\n",
    "\n",
    "    midi_notes = [24 + pitches.index(pitch) for pitch in scale_pitches]\n",
    "    midi_notes.extend([36 + pitches.index(pitch) for pitch in scale_pitches])\n",
    "    \n",
    "    return midi_notes"
   ]
  },
  {
   "cell_type": "markdown",
   "metadata": {},
   "source": [
    "#M = 8\n",
    "\n",
    "#midi_dir = os.path.join(directories['transcription']['midi_notes'], 'M={}'.format(M))\n",
    "midi_dir = directories['transcription']['midi_notes']\n",
    "\n",
    "file_names = next(os.walk(midi_dir))[-1]"
   ]
  },
  {
   "cell_type": "code",
   "execution_count": null,
   "metadata": {},
   "outputs": [],
   "source": [
    "pitches = ['C', 'C#', 'D', 'D#', 'E', 'F', 'F#', 'G', 'G#', 'A', 'A#', 'B']"
   ]
  },
  {
   "cell_type": "code",
   "execution_count": null,
   "metadata": {},
   "outputs": [],
   "source": [
    "N_bars = 4\n",
    "frame_factor = 8\n",
    "M=8\n",
    "\n",
    "for file_name in file_names:\n",
    "    \n",
    "    midi_array = load_numpy_midi(file_name, midi_dir)\n",
    "    \n",
    "    title = file_name.split('.npy')[0]\n",
    "    key, typ = track_dicts[title]['Key'].split(' ')\n",
    "       \n",
    "    N_intervals = pitches.index(key)\n",
    "    \n",
    "    \n",
    "    if midi_array.shape[0] > 2:\n",
    "\n",
    "        midi_array_T = transpose_to_C(midi_array, N_intervals)\n",
    "\n",
    "        symbolic_representation = get_symbolic_representation(midi_array, N_bars, frame_factor, M)\n",
    "\n",
    "        #print(len(symbolic_representation))\n",
    "        \n",
    "        print(symbolic_representation)"
   ]
  },
  {
   "cell_type": "code",
   "execution_count": null,
   "metadata": {},
   "outputs": [],
   "source": [
    "indices = []\n",
    "rows = []\n",
    "for idx, midi in enumerate(midi_array[:-1]):\n",
    "    \n",
    "    end = midi[0] + midi[3]\n",
    "    if end != midi_array[idx+1, 0]:\n",
    "        indices.append(idx+1)\n",
    "        rows.append([end , 0, 120, midi_array[idx+1, 0]-end])\n",
    "\n",
    "midi_array = np.insert(midi_array, indices, rows, axis=0)\n",
    "\n",
    "if midi_array[0,0] != 0.0:\n",
    "    midi_array=np.insert(midi_array, 0, [0.0, 0, midi_array[0,2], midi_array[0,0]], axis=0)\n",
    "\n",
    "end = midi_array[-1,0] + midi_array[-1,3]\n",
    "if end != N_bars*4:\n",
    "    midi_array=np.insert(midi_array, -1, [end, 0, midi_array[-1,2], N_bars*4-end], axis=0)"
   ]
  },
  {
   "cell_type": "code",
   "execution_count": null,
   "metadata": {},
   "outputs": [],
   "source": [
    "delta = 0.25 * (frame_factor / M) # N_pqb\n",
    "\n",
    "vector = []\n",
    "for midi in midi_array:\n",
    "    \n",
    "    note = midi[1]\n",
    "    duration = (midi[3]/delta).astype(int)\n",
    "    \n",
    "    vector += [note]*duration"
   ]
  },
  {
   "cell_type": "markdown",
   "metadata": {},
   "source": [
    "## Analysis"
   ]
  },
  {
   "cell_type": "code",
   "execution_count": null,
   "metadata": {},
   "outputs": [],
   "source": [
    "minor_pitches, major_pitches = [], []\n",
    "minor_pitches_T, major_pitches_T = [], []\n",
    "\n",
    "for file_name in file_names:\n",
    "    \n",
    "    midi_array = load_numpy_midi(file_name, midi_dir)\n",
    "    \n",
    "    title = file_name.split('.npy')[0]\n",
    "    key, typ = track_dicts[title]['Key'].split(' ')\n",
    "       \n",
    "    N_intervals = pitches.index(key)\n",
    "    \n",
    "    if midi_array.size > 1:\n",
    "        \n",
    "        notes = midi_array[:,1].astype(int)\n",
    "        \n",
    "        #transpose\n",
    "        notes_T = [note-N_intervals for note in notes]\n",
    "                \n",
    "        midi_array[:,1] = notes_T        \n",
    "        \n",
    "        if typ == 'maj':\n",
    "            major_pitches.extend(notes)\n",
    "            major_pitches_T.extend(notes_T)\n",
    "        else:\n",
    "            minor_pitches.extend(notes)\n",
    "            minor_pitches_T.extend(notes_T)\n",
    "            \n",
    "print('Lowest Major Key Midi Idx: {}\\nAfter Transposition: {}'.format(min(major_pitches),min(major_pitches_T)))\n",
    "print('\\nLowest Minor Key Midi Idx: {}\\nAfter Transposition: {}'.format(min(minor_pitches),min(minor_pitches_T)))"
   ]
  },
  {
   "cell_type": "markdown",
   "metadata": {},
   "source": [
    "## Sketcehs"
   ]
  },
  {
   "cell_type": "markdown",
   "metadata": {},
   "source": [
    "if key_id <= 5:\n",
    "    notes_T = [note-key_id for note in notes]\n",
    "else:\n",
    "    notes_T = [note+(12-key_id) for note in notes]\n",
    "    \n",
    "    \n",
    "        if min(notes_T) < 24:\n",
    "            print('Key: {} {}, N_intervals: {}'.format(key,typ,N_intervals))\n",
    "            print('Scale MIDI: {}'.format(create_scale_pitches(key, typ)))\n",
    "            print('Pitches: {}\\nTransposed: {}\\n'.format(notes, notes_T))"
   ]
  },
  {
   "cell_type": "markdown",
   "metadata": {},
   "source": [
    "idx = 3\n",
    "\n",
    "2*(pitches[idx-12:] + pitches[:idx])"
   ]
  }
 ],
 "metadata": {
  "kernelspec": {
   "display_name": "Python 3",
   "language": "python",
   "name": "python3"
  },
  "language_info": {
   "codemirror_mode": {
    "name": "ipython",
    "version": 3
   },
   "file_extension": ".py",
   "mimetype": "text/x-python",
   "name": "python",
   "nbconvert_exporter": "python",
   "pygments_lexer": "ipython3",
   "version": "3.8.5"
  }
 },
 "nbformat": 4,
 "nbformat_minor": 4
}
