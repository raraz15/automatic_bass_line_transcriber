{
 "cells": [
  {
   "cell_type": "code",
   "execution_count": 2,
   "metadata": {},
   "outputs": [],
   "source": [
    "import os\n",
    "import sys\n",
    "import json\n",
    "\n",
    "import numpy as np\n",
    "\n",
    "sys.path.insert(0, '/mnt/d/projects/bassline_transcription') \n",
    "\n",
    "from transcription import midi_number_to_midi_array, extract_midi_array\n",
    "from utilities import *"
   ]
  },
  {
   "cell_type": "code",
   "execution_count": 5,
   "metadata": {},
   "outputs": [],
   "source": [
    "directories = get_directories('../directories.json')\n",
    "scales, track_dicts, track_titles = read_metadata(directories)"
   ]
  },
  {
   "cell_type": "code",
   "execution_count": 6,
   "metadata": {},
   "outputs": [],
   "source": [
    "pitch_track_dir = directories['transcription']['quantized_pitch_track']\n",
    "\n",
    "file_names = next(os.walk(pitch_track_dir))[-1]"
   ]
  },
  {
   "cell_type": "code",
   "execution_count": 13,
   "metadata": {},
   "outputs": [
    {
     "name": "stdout",
     "output_type": "stream",
     "text": [
      "Amine Edge & DANCE - Get Busy.npy\n"
     ]
    }
   ],
   "source": [
    "# Get Midi Representation\n",
    "M = 1 # decimation rate\n",
    "N_qb = 8\n",
    "N_bars = 4 # number of bars in the section\n",
    "\n",
    "for file_name in file_names:\n",
    "    \n",
    "    print(file_name)\n",
    "    \n",
    "    pitch_track_quantized = np.load(os.path.join(pitch_track_dir, file_name))\n",
    "\n",
    "    bassline_midi_notes = extract_midi_array(pitch_track_quantized[1],\n",
    "                                       N_qb,\n",
    "                                       M,\n",
    "                                       N_bars)\n",
    "    \n",
    "    break\n",
    "    \n",
    "    \n",
    "    midi_path = '../data/midi_notes/M={}/{}'.format(M, file_name)\n",
    "    #np.save(midi_path, bassline_midi_notes)\n",
    "    "
   ]
  },
  {
   "cell_type": "code",
   "execution_count": 12,
   "metadata": {},
   "outputs": [
    {
     "name": "stdout",
     "output_type": "stream",
     "text": [
      "                    Bassline MIDI Array                    \n",
      "\n",
      "  Start Beat     MIDI Number      Velocity      Duration   \n",
      "-----------------------------------------------------------\n",
      "|   0.28125   |      25       |     120     |    0.25     |\n",
      "|   0.84375   |      25       |     120     |   0.1875    |\n",
      "|   1.90625   |      28       |     120     |   0.1875    |\n",
      "|    2.125    |      27       |     120     |   0.15625   |\n",
      "|   2.65625   |      28       |     120     |    0.375    |\n",
      "|   3.4375    |      28       |     120     |   0.59375   |\n",
      "|   4.28125   |      25       |     120     |    0.25     |\n",
      "|    4.625    |      28       |     120     |    0.125    |\n",
      "|   4.84375   |      25       |     120     |   0.1875    |\n",
      "|   5.90625   |      28       |     120     |    0.25     |\n",
      "|    6.25     |      30       |     120     |    0.25     |\n",
      "|     6.5     |      32       |     120     |   0.40625   |\n",
      "|   7.4375    |      28       |     120     |   0.59375   |\n",
      "|   8.40625   |      25       |     120     |    0.125    |\n",
      "|    8.625    |      28       |     120     |    0.125    |\n",
      "|   8.84375   |      25       |     120     |   0.1875    |\n",
      "|   9.90625   |      28       |     120     |   0.1875    |\n",
      "|  10.65625   |      28       |     120     |    0.375    |\n",
      "|  11.40625   |      28       |     120     |    0.625    |\n",
      "|   12.3125   |      25       |     120     |   0.21875   |\n",
      "|   12.625    |      26       |     120     |    0.125    |\n",
      "|  12.84375   |      32       |     120     |   0.21875   |\n",
      "|   13.3125   |      45       |     120     |   0.21875   |\n",
      "|  13.90625   |      30       |     120     |   0.28125   |\n",
      "|    14.25    |      32       |     120     |   0.3125    |\n",
      "|    14.75    |      30       |     120     |    0.125    |\n",
      "|   15.1875   |      25       |     120     |     0.5     |\n",
      "|  15.84375   |      29       |     120     |   0.15625   |\n"
     ]
    }
   ],
   "source": [
    "print_midi_array(bassline_midi_notes)"
   ]
  },
  {
   "cell_type": "code",
   "execution_count": null,
   "metadata": {},
   "outputs": [],
   "source": []
  }
 ],
 "metadata": {
  "kernelspec": {
   "display_name": "Python 3",
   "language": "python",
   "name": "python3"
  },
  "language_info": {
   "codemirror_mode": {
    "name": "ipython",
    "version": 3
   },
   "file_extension": ".py",
   "mimetype": "text/x-python",
   "name": "python",
   "nbconvert_exporter": "python",
   "pygments_lexer": "ipython3",
   "version": "3.8.5"
  }
 },
 "nbformat": 4,
 "nbformat_minor": 4
}
