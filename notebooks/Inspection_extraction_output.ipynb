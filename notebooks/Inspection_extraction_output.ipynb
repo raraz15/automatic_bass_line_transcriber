{
 "cells": [
  {
   "cell_type": "code",
   "execution_count": null,
   "metadata": {
    "scrolled": true
   },
   "outputs": [],
   "source": [
    "import os\n",
    "import sys\n",
    "import json\n",
    "import warnings\n",
    "\n",
    "import numpy as np\n",
    "\n",
    "sys.path.insert(0, '/mnt/d/projects/bassline_transcription') \n",
    "\n",
    "import plotting as plot\n",
    "from bassline_transcriber import transcription\n",
    "from utilities import *\n",
    "from signal_processing import *\n",
    "\n",
    "warnings.filterwarnings('ignore')\n",
    "np.set_printoptions(suppress=True)"
   ]
  },
  {
   "cell_type": "markdown",
   "metadata": {},
   "source": [
    "# Initialization\n",
    "\n",
    "## Directories"
   ]
  },
  {
   "cell_type": "markdown",
   "metadata": {},
   "source": [
    "output_dir = os.path.join('..','data','transcription_test')\n",
    "clip_dir = os.path.join(output_dir,'audio_clips')\n",
    "metadata_dir = os.path.join(output_dir,'metadata')"
   ]
  },
  {
   "cell_type": "code",
   "execution_count": null,
   "metadata": {},
   "outputs": [],
   "source": [
    "directories = get_directories('../data/directories.json')\n",
    "#directories = get_directories(os.path.join(output_dir,'directories.json'))\n",
    "\n",
    "scales, track_dicts, track_titles = read_metadata(directories['extraction'])"
   ]
  },
  {
   "cell_type": "markdown",
   "metadata": {},
   "source": [
    "# Listening and Waveform Inspection\n",
    "\n",
    "Select a track to work with"
   ]
  },
  {
   "cell_type": "code",
   "execution_count": null,
   "metadata": {},
   "outputs": [],
   "source": [
    "#title = track_titles[np.random.randint(len(track_titles))]\n",
    "\n",
    "title = track_titles[0]\n",
    "BPM = float(track_dicts[title]['BPM'])\n",
    "beat_length = 60/BPM\n",
    "print('{}\\nBPM: {}\\n'.format(title, BPM))\n",
    "\n",
    "quarter_beat_positions = get_quarter_beat_positions(get_chorus_beat_positions(title, directories))\n",
    "    \n",
    "track_scale = get_track_scale(title, track_dicts, scales)\n",
    "\n",
    "#fs = 44100\n",
    "fs = 22050\n",
    "chorus, bassline = load_chorus_and_bassline(title, directories) # read the chorus and the bassline\n",
    "inspect_audio_outputs(title, directories, fs)"
   ]
  },
  {
   "cell_type": "markdown",
   "metadata": {},
   "source": [
    "# Spectrogram Calculation\n",
    "\n",
    "Calculate the spectrograms of the chorus and the bassline here."
   ]
  },
  {
   "cell_type": "code",
   "execution_count": null,
   "metadata": {},
   "outputs": [],
   "source": [
    "center=True\n",
    "n_fft = 4096*8\n",
    "\n",
    "spectrogram_beat_factor = 8\n",
    "win_length = int((beat_length/spectrogram_beat_factor)*fs) \n",
    "hop_length = int(win_length/4) \n",
    "\n",
    "bassline_spectrogram = extract_dB_spectrogram(bassline, n_fft, win_length, hop_length, center=center)"
   ]
  },
  {
   "cell_type": "markdown",
   "metadata": {},
   "source": [
    "# Plots"
   ]
  },
  {
   "cell_type": "code",
   "execution_count": null,
   "metadata": {},
   "outputs": [],
   "source": [
    "plot.spectrogram(title, directories, bassline_spectrogram, fs, hop_length) #, pitch_track_quantized)"
   ]
  },
  {
   "cell_type": "code",
   "execution_count": null,
   "metadata": {},
   "outputs": [],
   "source": [
    "plot.waveform_and_note_spectrogram(title, directories,\n",
    "                                   bassline, bassline_spectrogram,\n",
    "                                   fs, hop_length,\n",
    "                                   bassline_notes, unk_bassline_notes,\n",
    "                                   save=False)"
   ]
  },
  {
   "cell_type": "code",
   "execution_count": null,
   "metadata": {},
   "outputs": [],
   "source": [
    "plot.note_spectrogram(title, directories,\n",
    "                      bassline_spectrogram,\n",
    "                      fs, hop_length,\n",
    "                      bassline_notes, unk_bassline_notes)"
   ]
  },
  {
   "cell_type": "code",
   "execution_count": null,
   "metadata": {
    "scrolled": true
   },
   "outputs": [],
   "source": [
    "print_plot_play(chorus, fs, title)"
   ]
  },
  {
   "cell_type": "code",
   "execution_count": null,
   "metadata": {},
   "outputs": [],
   "source": [
    "plot.note_comparison_spectrogram(title, directories,\n",
    "                                 bassline_spectrogram,\n",
    "                                 fs, hop_length,\n",
    "                                 F0_estimate, bassline_notes,\n",
    "                                 unk_bassline_notes,\n",
    "                                 save=False, plot_title='')"
   ]
  }
 ],
 "metadata": {
  "kernelspec": {
   "display_name": "Python 3",
   "language": "python",
   "name": "python3"
  },
  "language_info": {
   "codemirror_mode": {
    "name": "ipython",
    "version": 3
   },
   "file_extension": ".py",
   "mimetype": "text/x-python",
   "name": "python",
   "nbconvert_exporter": "python",
   "pygments_lexer": "ipython3",
   "version": "3.7.6"
  }
 },
 "nbformat": 4,
 "nbformat_minor": 4
}
