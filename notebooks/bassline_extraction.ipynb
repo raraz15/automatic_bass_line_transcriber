{
 "cells": [
  {
   "cell_type": "code",
   "execution_count": 2,
   "metadata": {
    "scrolled": true
   },
   "outputs": [],
   "source": [
    "import sys\n",
    "sys.path.insert(0, '/mnt/d/projects/bassline_transcription')\n",
    "\n",
    "from bassline_extractor import main, extract_single_bassline, prepare, separate_from_chorus\n",
    "from utilities import find_track_index"
   ]
  },
  {
   "cell_type": "markdown",
   "metadata": {},
   "source": [
    "## Prepare for Extraction"
   ]
  },
  {
   "cell_type": "code",
   "execution_count": null,
   "metadata": {},
   "outputs": [],
   "source": [
    "directories_json_path = '..data/directories.json'\n",
    "track_dicts_name = 'traxsource_crawl_0_2500_track_dicts.json'"
   ]
  },
  {
   "cell_type": "markdown",
   "metadata": {},
   "source": [
    "## Batch Processing"
   ]
  },
  {
   "cell_type": "markdown",
   "metadata": {},
   "source": [
    "## Full Extraction"
   ]
  },
  {
   "cell_type": "code",
   "execution_count": null,
   "metadata": {},
   "outputs": [],
   "source": [
    "last_track = 'OFFAIAH, Cat Connors - Somewhere Special (Club Mix)'\n",
    "idx = find_track_index(last_track, directories_json_path, track_dicts_name)+1"
   ]
  },
  {
   "cell_type": "code",
   "execution_count": null,
   "metadata": {},
   "outputs": [],
   "source": [
    "main(directories_json_path, track_dicts_name, idx)"
   ]
  },
  {
   "cell_type": "markdown",
   "metadata": {},
   "source": [
    "## Single Track Processing"
   ]
  },
  {
   "cell_type": "code",
   "execution_count": 4,
   "metadata": {},
   "outputs": [],
   "source": [
    "directories_json_path = '../data/directories.json'\n",
    "track_dicts_name = 'TechHouse_track_dicts.json'\n",
    "\n",
    "directories, _, track_dicts, track_titles, date = prepare(directories_json_path, track_dicts_name)"
   ]
  },
  {
   "cell_type": "code",
   "execution_count": 5,
   "metadata": {},
   "outputs": [
    {
     "name": "stdout",
     "output_type": "stream",
     "text": [
      "John Summit - Make Me Feel (Original Mix)\n",
      "Loading the track.\n",
      "Finding the beat positions.\n",
      "Estimating the Chorus position.\n",
      "Separating the Bassline.\n"
     ]
    }
   ],
   "source": [
    "for title in track_titles[0:1]:\n",
    "\n",
    "    print(title)\n",
    "\n",
    "    extract_single_bassline(title, directories, track_dicts, date, fs=44100)"
   ]
  },
  {
   "cell_type": "markdown",
   "metadata": {},
   "source": [
    "## Bassline Extraction from Given Chorus"
   ]
  },
  {
   "cell_type": "markdown",
   "metadata": {},
   "source": [
    "directories_json_path = 'data/directories.json'"
   ]
  },
  {
   "cell_type": "markdown",
   "metadata": {},
   "source": [
    "separate_from_chorus(directories_json_path)"
   ]
  }
 ],
 "metadata": {
  "kernelspec": {
   "display_name": "Python 3",
   "language": "python",
   "name": "python3"
  },
  "language_info": {
   "codemirror_mode": {
    "name": "ipython",
    "version": 3
   },
   "file_extension": ".py",
   "mimetype": "text/x-python",
   "name": "python",
   "nbconvert_exporter": "python",
   "pygments_lexer": "ipython3",
   "version": "3.8.5"
  }
 },
 "nbformat": 4,
 "nbformat_minor": 4
}
