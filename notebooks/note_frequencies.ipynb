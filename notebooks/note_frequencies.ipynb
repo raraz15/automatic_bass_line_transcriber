{
 "cells": [
  {
   "cell_type": "code",
   "execution_count": 1,
   "id": "local-bearing",
   "metadata": {},
   "outputs": [],
   "source": [
    "import re\n",
    "import json\n",
    "import requests\n",
    "from bs4 import BeautifulSoup"
   ]
  },
  {
   "cell_type": "code",
   "execution_count": 2,
   "id": "adapted-pledge",
   "metadata": {},
   "outputs": [],
   "source": [
    "# Get the soup\n",
    "url = 'https://pages.mtu.edu/~suits/notefreqs.html'\n",
    "\n",
    "html = requests.get(url).content\n",
    "bsObj = BeautifulSoup(html, 'lxml')"
   ]
  },
  {
   "cell_type": "code",
   "execution_count": 3,
   "id": "apart-detail",
   "metadata": {},
   "outputs": [],
   "source": [
    "x = []\n",
    "\n",
    "for node in bsObj.findAll(\"tr\"):\n",
    "    text = ''.join(node.findAll(text=True))\n",
    "    \n",
    "    text = re.sub(r'\\n','',text)\n",
    "    text = re.sub(r'\\xa0','',text)\n",
    "    text = re.sub(r'\\s\\s+', ' ', text)\n",
    "    \n",
    "    a = tuple(text.split(' ')[:2])\n",
    "    \n",
    "    x.append(a)\n",
    "    \n",
    "del x[0]\n",
    "\n",
    "note_dict = {n: f for n,f in x}  "
   ]
  },
  {
   "cell_type": "code",
   "execution_count": null,
   "id": "innocent-beverage",
   "metadata": {},
   "outputs": [],
   "source": [
    "note_dict"
   ]
  },
  {
   "cell_type": "code",
   "execution_count": 4,
   "id": "changing-response",
   "metadata": {},
   "outputs": [],
   "source": [
    "with open('data/note_frequencies.json', 'w') as outfile:\n",
    "    json.dump(note_dict, outfile, indent=4)"
   ]
  },
  {
   "cell_type": "code",
   "execution_count": null,
   "id": "interstate-gross",
   "metadata": {},
   "outputs": [],
   "source": []
  }
 ],
 "metadata": {
  "kernelspec": {
   "display_name": "Python 3",
   "language": "python",
   "name": "python3"
  },
  "language_info": {
   "codemirror_mode": {
    "name": "ipython",
    "version": 3
   },
   "file_extension": ".py",
   "mimetype": "text/x-python",
   "name": "python",
   "nbconvert_exporter": "python",
   "pygments_lexer": "ipython3",
   "version": "3.8.3"
  }
 },
 "nbformat": 4,
 "nbformat_minor": 5
}
