{
 "cells": [
  {
   "cell_type": "code",
   "execution_count": null,
   "metadata": {},
   "outputs": [],
   "source": [
    "import os\n",
    "import sys\n",
    "import json\n",
    "import warnings\n",
    "import traceback\n",
    "\n",
    "import numpy as np\n",
    "from scipy import signal\n",
    "import librosa\n",
    "\n",
    "sys.path.insert(0, '/mnt/d/projects/bassline_extraction') \n",
    "\n",
    "from utilities import * #as utils\n",
    "from plotting import *\n",
    "from transcription import *\n",
    "from signal_processing import *\n",
    "\n",
    "warnings.filterwarnings('ignore')\n",
    "%matplotlib inline\n",
    "np.set_printoptions(suppress=True)"
   ]
  },
  {
   "cell_type": "markdown",
   "metadata": {},
   "source": [
    "import importlib"
   ]
  },
  {
   "cell_type": "markdown",
   "metadata": {},
   "source": [
    "# Initialization\n",
    "\n",
    "## Directories\n",
    "\n",
    "**TO DO: aligned_beat_positions => progression_beat_positions**"
   ]
  },
  {
   "cell_type": "code",
   "execution_count": null,
   "metadata": {},
   "outputs": [],
   "source": [
    "with open('../data/ouz_tracks.txt', 'r') as infile:\n",
    "    track_titles = infile.read().split('\\n')\n",
    "       \n",
    "_,_, bad_examples = next(os.walk('../data/bassline_extraction/beat_grid/bad_examples'))\n",
    "bad_examples = [title.split('.txt')[0] for title in bad_examples]\n",
    "       \n",
    "with open('../data/metadata/scales_frequencies.json','r') as infile:\n",
    "    scales = json.load(infile)\n",
    "\n",
    "with open('../data/metadata/TechHouse_track_dicts.json','r') as infile:\n",
    "    track_dicts = json.load(infile) "
   ]
  },
  {
   "cell_type": "markdown",
   "metadata": {},
   "source": [
    "importlib.reload(ts)"
   ]
  },
  {
   "cell_type": "code",
   "execution_count": null,
   "metadata": {},
   "outputs": [],
   "source": []
  },
  {
   "cell_type": "code",
   "execution_count": null,
   "metadata": {
    "scrolled": false
   },
   "outputs": [],
   "source": [
    "exceptions = []\n",
    "\n",
    "for title in track_titles:\n",
    "\n",
    "    try:\n",
    "\n",
    "        print('{}\\n'.format(title))\n",
    "        BPM = float(track_dicts[title]['BPM'])\n",
    "        beat_length = 60/BPM\n",
    "        \n",
    "        quarter_beat_positions = get_quarter_beat_positions(get_progression_beat_positions(title))\n",
    "\n",
    "        if title in bad_examples:\n",
    "            with open(os.path.join('../data/bassline_extraction/beat_grid/bad_examples',title+'.txt'), 'r') as infile:\n",
    "                dpqb = float(infile.read())\n",
    "\n",
    "            #if dpqb > \n",
    "                #continue\n",
    "            print(\"Beat grid problematic! dpqb: {:.2f}%\\n{}\".format(dpqb,title))\n",
    "\n",
    "        notes, scale_frequencies, out_notes, out_frequencies = get_track_scale(title, track_dicts, scales)\n",
    "\n",
    "        fs = 44100\n",
    "        chorus, bassline, _ = load_audio(title) # read the chorus and the bassline\n",
    "\n",
    "        # Spectrogram \n",
    "        beat_factor = 8\n",
    "        win_length = int((beat_length/beat_factor)*fs) \n",
    "        n_fft = 4096*8\n",
    "        hop_length = int(win_length/2) \n",
    "\n",
    "        bassline_spectrogram = extract_dB_spectrogram(bassline, n_fft, win_length, hop_length)\n",
    "\n",
    "        # F0 estimation \n",
    "        beat_factor = 8 # quarter 4, 1/8th 8...\n",
    "        F0_estimate, pitch_track = pYIN_F0(bassline,\n",
    "                                           fs,\n",
    "                                           int((beat_length/beat_factor)*fs),\n",
    "                                           threshold=0.05)     \n",
    "        \n",
    "        pitch_track_quantized = adaptive_voiced_region_quantization(pitch_track, \n",
    "                                                                    quarter_beat_positions, \n",
    "                                                                    scale_frequencies, \n",
    "                                                                    epsilon=2)\n",
    "\n",
    "        # Extract the Notes\n",
    "        bassline_notes = extract_notes(pitch_track_quantized, notes, scale_frequencies, out_notes, out_frequencies)\n",
    "\n",
    "        plot_note_comparison(title, bassline_spectrogram, fs, hop_length, F0_estimate, bassline_notes, save=True, plot_title='AQ_UNK_found')\n",
    "            \n",
    "    except KeyboardInterrupt:\n",
    "        import sys\n",
    "        sys.exit()\n",
    "        pass \n",
    "    except KeyError:\n",
    "        print(\"Track doesn't exist in track_dicts: {}\\n\".format(title))\n",
    "    except Exception as ex:\n",
    "        exception_str = ''.join(traceback.format_exception(etype=type(ex), value=ex, tb=ex.__traceback__))\n",
    "        print(exception_str+'\\n')\n",
    "        exceptions.append(exception_str)"
   ]
  },
  {
   "cell_type": "code",
   "execution_count": null,
   "metadata": {},
   "outputs": [],
   "source": []
  }
 ],
 "metadata": {
  "kernelspec": {
   "display_name": "Python 3",
   "language": "python",
   "name": "python3"
  },
  "language_info": {
   "codemirror_mode": {
    "name": "ipython",
    "version": 3
   },
   "file_extension": ".py",
   "mimetype": "text/x-python",
   "name": "python",
   "nbconvert_exporter": "python",
   "pygments_lexer": "ipython3",
   "version": "3.8.5"
  }
 },
 "nbformat": 4,
 "nbformat_minor": 4
}
