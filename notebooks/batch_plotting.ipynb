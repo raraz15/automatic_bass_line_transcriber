{
 "cells": [
  {
   "cell_type": "code",
   "execution_count": 1,
   "metadata": {},
   "outputs": [],
   "source": [
    "%load_ext autoreload\n",
    "%autoreload 2\n",
    "\n",
    "import os, sys, json\n",
    "\n",
    "import numpy as np\n",
    "import pandas as pd\n",
    "#from tqdm import tqdm\n",
    "sys.path.insert(0, '/scratch/users/udemir15/ELEC491/bassline_transcription')\n",
    "#sys.path.insert(0, '/mnt/d/projects/bassline_transcription') \n",
    "\n",
    "import plotting as plot\n",
    "from bassline_transcriber import transcription\n",
    "from utilities import *\n",
    "from signal_processing import *\n",
    "\n",
    "import matplotlib.pyplot as plt\n",
    "\n",
    "np.set_printoptions(suppress=True)"
   ]
  },
  {
   "cell_type": "code",
   "execution_count": 2,
   "metadata": {},
   "outputs": [],
   "source": [
    "directories = get_directories('../data/directories.json')\n",
    "track_dicts_name ='TechHouse_total_track_dicts.json'\n",
    "\n",
    "scales, track_dicts, track_titles = read_metadata(directories['extraction'], track_dicts_name)"
   ]
  },
  {
   "cell_type": "code",
   "execution_count": 11,
   "metadata": {},
   "outputs": [],
   "source": [
    "with open('../data/metadata/4020_titles.txt', 'w') as outfile:\n",
    "    outfile.write('\\n'.join(titles))"
   ]
  },
  {
   "cell_type": "code",
   "execution_count": 4,
   "metadata": {},
   "outputs": [],
   "source": [
    "with open('/scratch/users/udemir15/ELEC491/bassline_transcription/data/metadata/train_misc_names.txt', 'r') as infile:\n",
    "    train_misc_names = infile.read().split('\\n')\n",
    "with open('/scratch/users/udemir15/ELEC491/bassline_transcription/data/metadata/val_misc_names.txt', 'r') as infile:\n",
    "    val_misc_names = infile.read().split('\\n')\n",
    "misc_names = train_misc_names+val_misc_names"
   ]
  },
  {
   "cell_type": "markdown",
   "metadata": {},
   "source": [
    "#for title in tqdm(np.random.choice(track_titles, 500, replace=False)):"
   ]
  },
  {
   "cell_type": "code",
   "execution_count": null,
   "metadata": {},
   "outputs": [],
   "source": [
    "for title in titles:\n",
    "    \n",
    "    if title not in misc_names:\n",
    "\n",
    "        try:\n",
    "\n",
    "            BPM = float(track_dicts[title]['BPM'])\n",
    "            beat_length = 60/BPM\n",
    "            track_scale = get_track_scale(title, track_dicts, scales)\n",
    "\n",
    "            fs = 44100\n",
    "            _, bassline = load_chorus_and_bassline(title, directories)\n",
    "\n",
    "            quantized_pitch_track = load_quantized_pitch_track(title, directories)\n",
    "\n",
    "            bassline_notes, unk_bassline_notes = transcription.extract_note_dicts(quantized_pitch_track, track_scale)\n",
    "\n",
    "            center = True\n",
    "            n_fft  = 4096\n",
    "\n",
    "            spectrogram_beat_factor = 8\n",
    "            win_length = int((beat_length/spectrogram_beat_factor)*fs) \n",
    "            hop_length = int(win_length/4) \n",
    "\n",
    "            bassline_spectrogram = extract_dB_spectrogram(bassline, n_fft, win_length, hop_length, center=center)\n",
    "\n",
    "            plot.batch_plotting(title, directories,\n",
    "                                bassline, bassline_spectrogram,\n",
    "                                fs, hop_length,\n",
    "                                F0_estimate=quantized_pitch_track,\n",
    "                                plot_title='Discriminator',\n",
    "                                save=True, figsize=(12,8))\n",
    "\n",
    "        except Exception as ex:\n",
    "            print(ex)"
   ]
  },
  {
   "cell_type": "code",
   "execution_count": null,
   "metadata": {},
   "outputs": [],
   "source": []
  },
  {
   "cell_type": "code",
   "execution_count": null,
   "metadata": {},
   "outputs": [],
   "source": []
  },
  {
   "cell_type": "code",
   "execution_count": null,
   "metadata": {},
   "outputs": [],
   "source": []
  },
  {
   "cell_type": "code",
   "execution_count": null,
   "metadata": {},
   "outputs": [],
   "source": [
    "for title in tqdm(np.random.choice(track_titles, 500, replace=False)):\n",
    "    \n",
    "    try:\n",
    "\n",
    "        BPM = float(track_dicts[title]['BPM'])\n",
    "        beat_length = 60/BPM\n",
    "        track_scale = get_track_scale(title, track_dicts, scales)\n",
    "\n",
    "        fs = 44100\n",
    "        _, bassline = load_chorus_and_bassline(title, directories)\n",
    "\n",
    "        quantized_pitch_track = load_quantized_pitch_track(title, directories)\n",
    "\n",
    "        bassline_notes, unk_bassline_notes = transcription.extract_note_dicts(quantized_pitch_track, track_scale)\n",
    "\n",
    "        center = True\n",
    "        n_fft  = 4096\n",
    "\n",
    "        spectrogram_beat_factor = 8\n",
    "        win_length = int((beat_length/spectrogram_beat_factor)*fs) \n",
    "        hop_length = int(win_length/4) \n",
    "\n",
    "        bassline_spectrogram = extract_dB_spectrogram(bassline, n_fft, win_length, hop_length, center=center)\n",
    "\n",
    "\n",
    "        plot.waveform_and_spectrogram(title, directories,\n",
    "                                    bassline, bassline_spectrogram,\n",
    "                                    fs, hop_length,\n",
    "                                    F0_estimate=quantized_pitch_track,\n",
    "                                    save=True, show=False, figsize=(15,8))\n",
    "\n",
    "        plt.close(\"all\")\n",
    "        plt.clf()\n",
    "        \n",
    "    except Exception as ex:\n",
    "        print(ex)"
   ]
  },
  {
   "cell_type": "code",
   "execution_count": null,
   "metadata": {},
   "outputs": [],
   "source": []
  },
  {
   "cell_type": "code",
   "execution_count": null,
   "metadata": {},
   "outputs": [],
   "source": [
    "#title = track_titles[np.random.randint(len(track_titles))]\n",
    "\n",
    "title = track_titles[0]\n",
    "\n",
    "\"\"\"BPM = float(track_dicts[title]['BPM'])\n",
    "beat_length = 60/BPM\n",
    "print('{}\\nBPM: {}\\n'.format(title, BPM))\n",
    "\n",
    "beat_positions = get_chorus_beat_positions(title, directories)\n",
    "quarter_beat_positions = get_quarter_beat_positions(beat_positions)\n",
    "    \n",
    "track_scale = get_track_scale(title, track_dicts, scales)\"\"\"\n",
    "\n",
    "fs = 44100\n",
    "chorus, bassline = load_chorus_and_bassline(title, directories) # read the chorus and the bassline\n",
    "\n",
    "inspect_audio_outputs(title, directories)"
   ]
  },
  {
   "cell_type": "code",
   "execution_count": null,
   "metadata": {},
   "outputs": [],
   "source": []
  },
  {
   "cell_type": "code",
   "execution_count": null,
   "metadata": {},
   "outputs": [],
   "source": []
  },
  {
   "cell_type": "markdown",
   "metadata": {},
   "source": [
    "def analyze_pitch_track(F0):\n",
    "\n",
    "    if 100*len(F0[F0==0.0])/len(F0) > 75:\n",
    "        continue"
   ]
  },
  {
   "cell_type": "markdown",
   "metadata": {},
   "source": [
    "x = quantized_pitch_track[1]\n",
    "if 100*len(x[x==0.0])/len(x) > 75:\n",
    "    print('lol')"
   ]
  },
  {
   "cell_type": "code",
   "execution_count": null,
   "metadata": {},
   "outputs": [],
   "source": [
    "center=True\n",
    "n_fft = 4096*8\n",
    "\n",
    "spectrogram_beat_factor = 8\n",
    "win_length = int((beat_length/spectrogram_beat_factor)*fs) \n",
    "hop_length = int(win_length/4) \n",
    "\n",
    "bassline_spectrogram = extract_dB_spectrogram(bassline, n_fft, win_length, hop_length, center=center)"
   ]
  },
  {
   "cell_type": "code",
   "execution_count": null,
   "metadata": {},
   "outputs": [],
   "source": [
    "plot.waveform_and_spectrogram(title, directories,\n",
    "                            bassline, bassline_spectrogram,\n",
    "                            fs, hop_length,\n",
    "                            F0_estimate=quantized_pitch_track,\n",
    "                            save=True, plot_title='dpi=40', figsize=(15,8))"
   ]
  },
  {
   "cell_type": "code",
   "execution_count": null,
   "metadata": {},
   "outputs": [],
   "source": []
  }
 ],
 "metadata": {
  "kernelspec": {
   "display_name": "Python 3",
   "language": "python",
   "name": "python3"
  },
  "language_info": {
   "codemirror_mode": {
    "name": "ipython",
    "version": 3
   },
   "file_extension": ".py",
   "mimetype": "text/x-python",
   "name": "python",
   "nbconvert_exporter": "python",
   "pygments_lexer": "ipython3",
   "version": "3.7.6"
  }
 },
 "nbformat": 4,
 "nbformat_minor": 4
}
