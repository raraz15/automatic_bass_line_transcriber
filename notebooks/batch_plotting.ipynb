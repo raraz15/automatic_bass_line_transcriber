{
 "cells": [
  {
   "cell_type": "code",
   "execution_count": 2,
   "metadata": {},
   "outputs": [],
   "source": [
    "import os, sys, json\n",
    "\n",
    "import numpy as np\n",
    "\n",
    "#sys.path.insert(0, '/mnt/d/projects/bassline_transcription') \n",
    "\n",
    "import plotting as plot\n",
    "from bassline_transcriber import transcription\n",
    "from utilities import *\n",
    "\n",
    "import matplotlib.pyplot as plt\n",
    "\n",
    "np.set_printoptions(suppress=True)"
   ]
  },
  {
   "cell_type": "code",
   "execution_count": 3,
   "metadata": {},
   "outputs": [],
   "source": [
    "directories = get_directories('../data/directories.json')\n",
    "#track_dicts_name = 'traxsource_crawl_0_2500_track_dicts.json'\n",
    "track_dicts_name ='TechHouse_track_dicts.json'\n",
    "\n",
    "scales, track_dicts, track_titles = read_metadata(directories['extraction'], track_dicts_name)"
   ]
  },
  {
   "cell_type": "code",
   "execution_count": 5,
   "metadata": {
    "scrolled": false
   },
   "outputs": [
    {
     "name": "stdout",
     "output_type": "stream",
     "text": [
      "ANOTR - Help (Extended Mix)\n",
      "PAX - Catfish (Extended Mix)[Armada Subjekt]\n",
      "Dillon Nathaniel - Do It Again (Original Mix)\n",
      "Steve Angello & Laidback Luke feat. Robin S - Show Me Love (Mike Prob Remix)\n",
      "Uch - Genius Of House (Remixes)\n"
     ]
    }
   ],
   "source": [
    "for title in np.random.choice(track_titles, 5, replace=False):\n",
    "    \n",
    "    try:\n",
    "\n",
    "        BPM = float(track_dicts[title]['BPM'])\n",
    "        beat_length = 60/BPM\n",
    "        track_scale = get_track_scale(title, track_dicts, scales)\n",
    "\n",
    "        fs = 44100\n",
    "        _, bassline = load_chorus_and_bassline(title, directories)\n",
    "\n",
    "        quantized_pitch_track = load_quantized_pitch_track(title, directories)\n",
    "\n",
    "        bassline_notes, unk_bassline_notes = transcription.extract_note_dicts(quantized_pitch_track, track_scale)\n",
    "\n",
    "        center = True\n",
    "        n_fft  = 4096\n",
    "\n",
    "        spectrogram_beat_factor = 8\n",
    "        win_length = int((beat_length/spectrogram_beat_factor)*fs) \n",
    "        hop_length = int(win_length/4) \n",
    "\n",
    "        bassline_spectrogram = extract_dB_spectrogram(bassline, n_fft, win_length, hop_length, center=center)\n",
    "\n",
    "\n",
    "        plot.waveform_and_spectrogram(title, directories,\n",
    "                                    bassline, bassline_spectrogram,\n",
    "                                    fs, hop_length,\n",
    "                                    F0_estimate=quantized_pitch_track,\n",
    "                                    save=True, show=False, figsize=(15,8))\n",
    "\n",
    "        plt.close(\"all\")\n",
    "        plt.clf()\n",
    "        \n",
    "    except:\n",
    "        print(title)"
   ]
  },
  {
   "cell_type": "code",
   "execution_count": null,
   "metadata": {},
   "outputs": [],
   "source": [
    "#title = track_titles[np.random.randint(len(track_titles))]\n",
    "\n",
    "title = track_titles[0]\n",
    "\n",
    "\"\"\"BPM = float(track_dicts[title]['BPM'])\n",
    "beat_length = 60/BPM\n",
    "print('{}\\nBPM: {}\\n'.format(title, BPM))\n",
    "\n",
    "beat_positions = get_chorus_beat_positions(title, directories)\n",
    "quarter_beat_positions = get_quarter_beat_positions(beat_positions)\n",
    "    \n",
    "track_scale = get_track_scale(title, track_dicts, scales)\"\"\"\n",
    "\n",
    "fs = 44100\n",
    "chorus, bassline = load_chorus_and_bassline(title, directories) # read the chorus and the bassline\n",
    "\n",
    "inspect_audio_outputs(title, directories)"
   ]
  },
  {
   "cell_type": "code",
   "execution_count": null,
   "metadata": {},
   "outputs": [],
   "source": []
  },
  {
   "cell_type": "code",
   "execution_count": null,
   "metadata": {},
   "outputs": [],
   "source": []
  },
  {
   "cell_type": "markdown",
   "metadata": {},
   "source": [
    "def analyze_pitch_track(F0):\n",
    "\n",
    "    if 100*len(F0[F0==0.0])/len(F0) > 75:\n",
    "        continue"
   ]
  },
  {
   "cell_type": "markdown",
   "metadata": {},
   "source": [
    "x = quantized_pitch_track[1]\n",
    "if 100*len(x[x==0.0])/len(x) > 75:\n",
    "    print('lol')"
   ]
  },
  {
   "cell_type": "code",
   "execution_count": null,
   "metadata": {},
   "outputs": [],
   "source": [
    "center=True\n",
    "n_fft = 4096*8\n",
    "\n",
    "spectrogram_beat_factor = 8\n",
    "win_length = int((beat_length/spectrogram_beat_factor)*fs) \n",
    "hop_length = int(win_length/4) \n",
    "\n",
    "bassline_spectrogram = extract_dB_spectrogram(bassline, n_fft, win_length, hop_length, center=center)"
   ]
  },
  {
   "cell_type": "code",
   "execution_count": null,
   "metadata": {},
   "outputs": [],
   "source": [
    "plot.waveform_and_spectrogram(title, directories,\n",
    "                            bassline, bassline_spectrogram,\n",
    "                            fs, hop_length,\n",
    "                            F0_estimate=quantized_pitch_track,\n",
    "                            save=True, plot_title='dpi=40', figsize=(15,8))"
   ]
  },
  {
   "cell_type": "code",
   "execution_count": null,
   "metadata": {},
   "outputs": [],
   "source": []
  }
 ],
 "metadata": {
  "kernelspec": {
   "display_name": "Python 3",
   "language": "python",
   "name": "python3"
  },
  "language_info": {
   "codemirror_mode": {
    "name": "ipython",
    "version": 3
   },
   "file_extension": ".py",
   "mimetype": "text/x-python",
   "name": "python",
   "nbconvert_exporter": "python",
   "pygments_lexer": "ipython3",
   "version": "3.8.5"
  }
 },
 "nbformat": 4,
 "nbformat_minor": 4
}
