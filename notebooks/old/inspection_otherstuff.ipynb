{
 "cells": [
  {
   "cell_type": "code",
   "execution_count": 1,
   "metadata": {},
   "outputs": [],
   "source": [
    "import os\n",
    "import sys\n",
    "import json\n",
    "import warnings\n",
    "\n",
    "import numpy as np\n",
    "from scipy import signal\n",
    "import librosa\n",
    "\n",
    "sys.path.insert(0, '/mnt/d/projects/bassline_extraction') \n",
    "\n",
    "import utilities as utils\n",
    "from plotting import *\n",
    "from transcription import *\n",
    "from signal_processing import *\n",
    "\n",
    "warnings.filterwarnings('ignore')\n",
    "%matplotlib inline\n",
    "np.set_printoptions(suppress=True)"
   ]
  },
  {
   "cell_type": "markdown",
   "metadata": {},
   "source": [
    "# Initialization\n",
    "\n",
    "## Directories\n",
    "\n",
    "**TO DO: aligned_beat_positions => progression_beat_positions**"
   ]
  },
  {
   "cell_type": "code",
   "execution_count": 2,
   "metadata": {},
   "outputs": [],
   "source": [
    "with open('../data/ouz_tracks.txt', 'r') as infile:\n",
    "    track_titles = infile.read().split('\\n')\n",
    "       \n",
    "_,_, bad_examples = next(os.walk('../data/bassline_extraction/beat_grid/bad_examples'))\n",
    "bad_examples = [title.split('.txt')[0] for title in bad_examples]\n",
    "       \n",
    "with open('../data/metadata/scales_frequencies.json','r') as infile:\n",
    "    scales = json.load(infile)\n",
    "\n",
    "with open('../data/metadata/TechHouse_track_dicts.json','r') as infile:\n",
    "    track_dicts = json.load(infile) "
   ]
  },
  {
   "cell_type": "markdown",
   "metadata": {},
   "source": [
    "# Listening and Waveform Inspection\n",
    "\n",
    "Select a track to work with"
   ]
  },
  {
   "cell_type": "markdown",
   "metadata": {},
   "source": [
    "utils.search_idx('Ashibah - Devotion (Extended Mix)', track_titles)"
   ]
  },
  {
   "cell_type": "code",
   "execution_count": 3,
   "metadata": {},
   "outputs": [
    {
     "name": "stdout",
     "output_type": "stream",
     "text": [
      "Billy Kenny & Huxley - Sweat\n",
      "\n"
     ]
    }
   ],
   "source": [
    "title = track_titles[17]\n",
    "print('{}\\n'.format(title))\n",
    "\n",
    "if title in bad_examples:\n",
    "    with open(os.path.join('../data/bassline_extraction/beat_grid/bad_examples',title+'.txt'), 'r') as infile:\n",
    "        dpqb = float(infile.read())\n",
    "    print(\"Beat grid problematic! dpqb: {:.2f}%\\n{}\".format(dpqb,title))\n",
    "    \n",
    "notes, scale_frequencies = utils.get_track_scale(title, track_dicts, scales)\n",
    "\n",
    "fs = 44100\n",
    "chorus, bassline, unprocessed_bassline = utils.load_audio(title) # read the chorus and the bassline\n",
    "#utils.inspect_audio_outputs(title)"
   ]
  },
  {
   "cell_type": "markdown",
   "metadata": {},
   "source": [
    "# Spectrogram Calculation\n",
    "\n",
    "Calculate the spectrograms of the chorus and the bassline here.\n",
    "\n",
    "You can also apply post filtering on the spectrogram."
   ]
  },
  {
   "cell_type": "code",
   "execution_count": 4,
   "metadata": {},
   "outputs": [],
   "source": [
    "n_fft = 4096*8\n",
    "#win_length = 4096*4\n",
    "win_length = int(fs*(60/125)/4) # quarter beat time resolution\n",
    "#win_length = int(fs*(60/125)/8) # 1/8 beat time resolution\n",
    "\n",
    "hop_length = int(win_length/2) \n",
    "assert win_length < n_fft, 'Window length must be greater than N_fft'\n",
    "\n",
    "chorus_spectrogram = extract_dB_spectrogram(chorus, n_fft, win_length, hop_length)\n",
    "bassline_spectrogram = extract_dB_spectrogram(bassline, n_fft, win_length, hop_length)"
   ]
  },
  {
   "cell_type": "markdown",
   "metadata": {},
   "source": [
    "#  F0 Estimation \n",
    "\n",
    "## CREPE (Waveform Based)\n",
    "\n",
    "Confidence level threshold filter on the initial F0 estimate"
   ]
  },
  {
   "cell_type": "code",
   "execution_count": null,
   "metadata": {
    "scrolled": true
   },
   "outputs": [],
   "source": [
    "F0_estimate, pitch_track = crepe_F0(bassline, \n",
    "                                     fs, \n",
    "                                     viterbi=True,\n",
    "                                     threshold = 'mean_reduced') # get pitch track estimates"
   ]
  },
  {
   "cell_type": "markdown",
   "metadata": {},
   "source": [
    "# Note Extraction\n",
    "\n",
    "**Quantize the Pitch Track**:\n",
    "\n",
    "in **time** to 1/4 th or 1/8 th beats\n",
    "\n",
    "in **frequency** to Notes using Scale Information"
   ]
  },
  {
   "cell_type": "code",
   "execution_count": null,
   "metadata": {},
   "outputs": [],
   "source": [
    "#N_samples = 3 # 1/16th beat\n",
    "N_samples = 6 # number of 0.01 seconds intervals 1/8th beat\n",
    "#N_samples = 12 # 1/4th beat\n",
    "\n",
    "epsilon = 4 \n",
    "\n",
    "# Count The Frequencies and Map to Notes for each interval\n",
    "pitch_histograms = create_pitch_histograms(pitch_track, N_samples, epsilon, scale_frequencies) \n",
    "majority_pitches = get_majority_pitches(pitch_histograms) # Majority vote pitches for each interval\n",
    "\n",
    "quantized_pitches = sample_and_hold(majority_pitches, N_samples) # single note to interval\n",
    "        \n",
    "pitch_track_quantized = (F0_estimate[0], quantized_pitches) # (time, freq)\n",
    "bassline_notes = extract_notes(pitch_track_quantized, notes, scale_frequencies) # map the t, f quantized pitch track to notes "
   ]
  },
  {
   "cell_type": "markdown",
   "metadata": {},
   "source": [
    "# Plots"
   ]
  },
  {
   "cell_type": "code",
   "execution_count": null,
   "metadata": {},
   "outputs": [],
   "source": [
    "plot_note_comparison(title, bassline_spectrogram, fs, hop_length, pitch_track, bassline_notes, save=False, plot_title='')"
   ]
  },
  {
   "cell_type": "code",
   "execution_count": null,
   "metadata": {
    "scrolled": true
   },
   "outputs": [],
   "source": [
    "utils.print_plot_play(chorus, fs, title)"
   ]
  },
  {
   "cell_type": "code",
   "execution_count": null,
   "metadata": {},
   "outputs": [],
   "source": [
    "plot_spec_notes(title, bassline_spectrogram, fs, hop_length, bassline_notes_smoothed,\n",
    "                  save=False, plot_title='_notes-quantized')"
   ]
  },
  {
   "cell_type": "code",
   "execution_count": null,
   "metadata": {},
   "outputs": [],
   "source": [
    "utils.print_plot_play(bassline, fs, title)"
   ]
  },
  {
   "cell_type": "markdown",
   "metadata": {},
   "source": [
    "## Spectral Maximum Power F0 Estimation"
   ]
  },
  {
   "cell_type": "code",
   "execution_count": null,
   "metadata": {},
   "outputs": [],
   "source": [
    "# post filtering\n",
    "#bassline_spectrogram_filtered = bassline_spectrogram.copy()\n",
    "#bassline_spectrogram_filtered[bassline_spectrogram_filtered < -45.0] = -80.0\n",
    "\n",
    "#_, bassline_frequencies = argmax_F0(bassline_spectrogram, fs, hop_length) # get argmax estimate "
   ]
  },
  {
   "cell_type": "markdown",
   "metadata": {},
   "source": [
    "F0_estimate = argmax_F0(bassline_spectrogram, fs, hop_length) # estimate the pitch track\n",
    "plot_spec(title, bassline_spectrogram, fs, hop_length, F0=F0_estimate, save=False)"
   ]
  },
  {
   "cell_type": "markdown",
   "metadata": {},
   "source": [
    "F0_estimate = argmax_F0(bassline_spectrogram, fs, hop_length) # F0 estimate\n",
    "plot_wave_spec(title, bassline, bassline_spectrogram, fs, hop_length, F0=F0_estimate, save=False, plot_title='')"
   ]
  },
  {
   "cell_type": "markdown",
   "metadata": {},
   "source": [
    "# Post Processing\n",
    "\n",
    "## Pitch Shifting"
   ]
  },
  {
   "cell_type": "code",
   "execution_count": null,
   "metadata": {},
   "outputs": [],
   "source": [
    "bassline_shifted = librosa.effects.pitch_shift(bassline, fs, 36)\n",
    "\n",
    "bassline_shifted_spectrogram = extract_dB_spectrogram(bassline_shifted, n_fft, win_length, hop_length)\n",
    "\n",
    "print_plot_play(bassline_shifted, fs)"
   ]
  },
  {
   "cell_type": "code",
   "execution_count": null,
   "metadata": {},
   "outputs": [],
   "source": [
    "plot_spec(title, bassline_shifted_spectrogram, fs, hop_length, F0=True, save=False)"
   ]
  },
  {
   "cell_type": "code",
   "execution_count": null,
   "metadata": {},
   "outputs": [],
   "source": [
    "freqs = [1, 256, 1024]\n",
    "\n",
    "wc = [fc / (fs/2) for fc in freqs] # cutoff radians\n",
    "\n",
    "lp = signal.firwin(5001, wc)\n",
    "\n",
    "bassline_cut = signal.convolve(bassline_shifted, lp) # LP filter\n",
    "\n",
    "bassline_cut = librosa.util.normalize(bassline_cut) # normalize"
   ]
  },
  {
   "cell_type": "code",
   "execution_count": null,
   "metadata": {},
   "outputs": [],
   "source": [
    "bassline_shifted_spectrogram = extract_dB_spectrogram(bassline_cut, n_fft, win_length, hop_length)"
   ]
  },
  {
   "cell_type": "code",
   "execution_count": null,
   "metadata": {},
   "outputs": [],
   "source": [
    "print_plot_play(chorus, fs, 'Original Chorus')"
   ]
  },
  {
   "cell_type": "code",
   "execution_count": null,
   "metadata": {},
   "outputs": [],
   "source": [
    "plot_spec(title, bassline_shifted_spectrogram, fs, hop_length, F0=True, save=False)"
   ]
  },
  {
   "cell_type": "markdown",
   "metadata": {},
   "source": [
    "## Energy Calculations"
   ]
  },
  {
   "cell_type": "code",
   "execution_count": null,
   "metadata": {},
   "outputs": [],
   "source": [
    "title = track_titles[5]\n",
    "print(title)\n",
    "\n",
    "beat_positions = get_beat_positions(title)\n",
    "bar_positions = get_bar_positions(beat_positions)\n",
    "\n",
    "track = load_track(title, fs)[0]\n",
    "\n",
    "energies = [np.sum(np.square(track[int(fs*bar_positions[idx]):int(fs*bar_positions[idx+1])])) for idx in range(len(bar_positions)-1)]"
   ]
  },
  {
   "cell_type": "markdown",
   "metadata": {},
   "source": [
    "fig, ax = plt.subplots(figsize=(20,10) )\n",
    "\n",
    "markerline, stemlines, baseline = ax.stem(range(len(energies)), energies, basefmt=\" \")\n",
    "markerline.set_markerfacecolor('b')\n",
    "markerline.set_markersize(8)\n",
    "stemlines.set_linewidth(0)\n",
    "\n",
    "#plt.savefig('bar_energies')"
   ]
  },
  {
   "cell_type": "code",
   "execution_count": null,
   "metadata": {},
   "outputs": [],
   "source": [
    "fc = 256\n",
    "\n",
    "wc = fc / (fs/2) # cutoff radians\n",
    "\n",
    "lp = signal.firwin(5001, wc)\n",
    "\n",
    "track_cut = signal.convolve(track, lp) # LP filter\n",
    "\n",
    "track_cut = librosa.util.normalize(track_cut) # normalize"
   ]
  },
  {
   "cell_type": "code",
   "execution_count": null,
   "metadata": {},
   "outputs": [],
   "source": [
    "energies = [np.sum(np.square(track_cut[int(fs*bar_positions[idx]):int(fs*bar_positions[idx+1])])) for idx in range(len(bar_positions)-1)]\n",
    "\n",
    "chunk_energies = []\n",
    "for idx in range(len(energies)-3):\n",
    "    \n",
    "    if not idx%4:\n",
    "        chunk_energies.append(np.mean(energies[idx:idx+4]))\n",
    "    \n",
    "extended = []\n",
    "for en in chunk_energies:\n",
    "    for i in range(4):\n",
    "        \n",
    "        extended.append(en)"
   ]
  },
  {
   "cell_type": "code",
   "execution_count": null,
   "metadata": {},
   "outputs": [],
   "source": [
    "fig, ax = plt.subplots(figsize=(20,10))\n",
    "\n",
    "markerline, stemlines, baseline = ax.stem(range(len(extended)), extended, basefmt=\" \")\n",
    "markerline.set_markerfacecolor('b')\n",
    "markerline.set_markersize(8)\n",
    "stemlines.set_linewidth(0)\n",
    "ax.vlines(8*np.arange(int(len(extended)/8 +1)), 0, 15000, alpha=0.8, color='c',linestyle='dashed', linewidths=3)\n",
    "ax.set_title(title, fontsize=20)\n",
    "ax.set_xlabel('Bars', fontsize=15)\n",
    "ax.set_ylabel('Square Amplitude', fontsize=15)\n",
    "plt.savefig('../figures/energy_levels/{}_energies_lp.png'.format(title))\n",
    "\n",
    "plt.show()"
   ]
  },
  {
   "cell_type": "markdown",
   "metadata": {},
   "source": [
    "fig, ax = plt.subplots(figsize=(20,10))\n",
    "\n",
    "markerline, stemlines, baseline = ax.stem(range(len(energies)), energies, basefmt=\" \")\n",
    "markerline.set_markerfacecolor('b')\n",
    "markerline.set_markersize(8)\n",
    "stemlines.set_linewidth(0)\n",
    "ax.vlines(16*np.arange(13), 0, 10000, alpha=0.8, color='c',linestyle='dashed', linewidths=3)\n",
    "\n",
    "#plt.savefig('bar_energies_lp')"
   ]
  },
  {
   "cell_type": "markdown",
   "metadata": {},
   "source": [
    "## other"
   ]
  },
  {
   "cell_type": "markdown",
   "metadata": {},
   "source": [
    "frequency_bins, bin_width = create_frequency_bins(fs, n_fft)\n",
    "\n",
    "# map frequencies to FFT bins\n",
    "max_bins = []\n",
    "for f in frequency:      \n",
    "    bins = np.where(np.abs(f-frequency_bins)<bin_width)[0]\n",
    "    \n",
    "    if not bins.size> 0:\n",
    "        print('no bin close')\n",
    "    else:\n",
    "        max_bins.append(bins[0])"
   ]
  },
  {
   "cell_type": "code",
   "execution_count": null,
   "metadata": {},
   "outputs": [],
   "source": [
    "# silence frames\n",
    "np.where(bassline_frequencies ==0)[0]\n",
    "\n",
    "#non_silence = []\n",
    "for idx, freq in enumerate(scale_frequencies):\n",
    "    \n",
    "    indices = np.where(np.abs(bassline_frequencies-freq)<3.0)[0]\n",
    "    if indices.size>0:\n",
    "        print(notes[idx])\n",
    "    else:\n",
    "        print(freq)\n",
    "        \n",
    "#non_silence = sorted(non_silence, reverse=False)"
   ]
  },
  {
   "cell_type": "markdown",
   "metadata": {},
   "source": [
    "## Window Type for spectrogram"
   ]
  },
  {
   "cell_type": "code",
   "execution_count": null,
   "metadata": {},
   "outputs": [],
   "source": [
    "window = signal.windows.blackmanharris(win_length)\n",
    "\n",
    "amplitude_spectrogram = np.abs(librosa.stft(bassline, n_fft=n_fft, win_length=win_length, hop_length=hop_length, window=window))\n",
    "dB_spectrogram = librosa.amplitude_to_db(amplitude_spectrogram, np.max(amplitude_spectrogram))  "
   ]
  }
 ],
 "metadata": {
  "kernelspec": {
   "display_name": "Python 3",
   "language": "python",
   "name": "python3"
  },
  "language_info": {
   "codemirror_mode": {
    "name": "ipython",
    "version": 3
   },
   "file_extension": ".py",
   "mimetype": "text/x-python",
   "name": "python",
   "nbconvert_exporter": "python",
   "pygments_lexer": "ipython3",
   "version": "3.8.5"
  }
 },
 "nbformat": 4,
 "nbformat_minor": 4
}
