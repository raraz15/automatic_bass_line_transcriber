{
 "cells": [
  {
   "cell_type": "code",
   "execution_count": 3,
   "metadata": {},
   "outputs": [],
   "source": [
    "#from miditime.miditime import MIDITime\n",
    "import numpy as np\n",
    "import json\n",
    "import os"
   ]
  },
  {
   "cell_type": "code",
   "execution_count": 4,
   "metadata": {},
   "outputs": [],
   "source": [
    "with open('../data/metadata/TechHouse_track_dicts.json','r') as infile:\n",
    "    track_dicts = json.load(infile) \n",
    "    \n",
    "track_titles = track_dicts.keys()"
   ]
  },
  {
   "cell_type": "code",
   "execution_count": 6,
   "metadata": {},
   "outputs": [],
   "source": [
    "midi_dir = '../data/bassline_transcription/M=1/midi_notes'\n",
    "\n",
    "filenames = next(os.walk(midi_dir))[-1]\n",
    "titles = [filename.split('.npy')[0] for filename in filenames]"
   ]
  },
  {
   "cell_type": "code",
   "execution_count": 12,
   "metadata": {},
   "outputs": [],
   "source": [
    "minimum = 100\n",
    "maximum = 0\n",
    "\n",
    "for title in titles:\n",
    "\n",
    "    BPM = int(track_dicts[title]['BPM'])\n",
    "\n",
    "    np_midi_path = '{}/{}.npy'.format(midi_dir,title)\n",
    "    midinotes = np.load(np_midi_path)\n",
    "    \n",
    "    if midinotes.size > 1:\n",
    "    \n",
    "        mi = midinotes[:,1].min()\n",
    "        ma = midinotes[:,1].max()\n",
    "        \n",
    "        if mi < minimum:\n",
    "            minimum=mi\n",
    "            \n",
    "        if ma > maximum:\n",
    "            maximum = ma\n",
    "\n",
    "    midi_out_path = '../data/midi_notes/midi/{}.mid'.format(title)\n",
    "    \n",
    "    #mymidi = MIDITime(BPM, midi_out_path)\n",
    "\n",
    "    #mymidi.add_track(midinotes)\n",
    "\n",
    "    #mymidi.save_midi()"
   ]
  },
  {
   "cell_type": "code",
   "execution_count": 14,
   "metadata": {},
   "outputs": [
    {
     "data": {
      "text/plain": [
       "45.0"
      ]
     },
     "execution_count": 14,
     "metadata": {},
     "output_type": "execute_result"
    }
   ],
   "source": [
    "ma"
   ]
  },
  {
   "cell_type": "code",
   "execution_count": 13,
   "metadata": {},
   "outputs": [
    {
     "data": {
      "text/plain": [
       "24.0"
      ]
     },
     "execution_count": 13,
     "metadata": {},
     "output_type": "execute_result"
    }
   ],
   "source": [
    "minimum"
   ]
  },
  {
   "cell_type": "code",
   "execution_count": null,
   "metadata": {},
   "outputs": [],
   "source": []
  },
  {
   "cell_type": "code",
   "execution_count": null,
   "metadata": {},
   "outputs": [],
   "source": [
    "midi_dir = '../data/midi_notes'"
   ]
  },
  {
   "cell_type": "code",
   "execution_count": null,
   "metadata": {},
   "outputs": [],
   "source": [
    "filenames = next(os.walk(midi_dir))[-1]\n",
    "titles = [filename.split('.npy')[0] for filename in filenames]"
   ]
  },
  {
   "cell_type": "code",
   "execution_count": null,
   "metadata": {},
   "outputs": [],
   "source": [
    "titles.pop(0)"
   ]
  },
  {
   "cell_type": "code",
   "execution_count": null,
   "metadata": {},
   "outputs": [],
   "source": [
    "titles"
   ]
  },
  {
   "cell_type": "markdown",
   "metadata": {},
   "source": [
    "midi_dir = '../data/midi_notes'\n",
    "title = 'Endor - Pump it Up (Jax Jones Midnight Snack Remix)'"
   ]
  },
  {
   "cell_type": "code",
   "execution_count": null,
   "metadata": {},
   "outputs": [],
   "source": [
    "for title in titles:\n",
    "    BPM = int(track_dicts[title.split('new_try')[1]]['BPM'])\n",
    "\n",
    "    np_midi_path = '{}/{}.npy'.format(midi_dir,title)\n",
    "    midinotes = np.load(np_midi_path).tolist()\n",
    "\n",
    "    midi_out_path = '../data/midi_notes/new_mapping/{}.mid'.format(title)\n",
    "\n",
    "    mymidi = MIDITime(BPM, midi_out_path)\n",
    "\n",
    "    mymidi.add_track(midinotes)\n",
    "\n",
    "    mymidi.save_midi()"
   ]
  },
  {
   "cell_type": "code",
   "execution_count": null,
   "metadata": {},
   "outputs": [],
   "source": []
  }
 ],
 "metadata": {
  "kernelspec": {
   "display_name": "Python 3",
   "language": "python",
   "name": "python3"
  },
  "language_info": {
   "codemirror_mode": {
    "name": "ipython",
    "version": 3
   },
   "file_extension": ".py",
   "mimetype": "text/x-python",
   "name": "python",
   "nbconvert_exporter": "python",
   "pygments_lexer": "ipython3",
   "version": "3.8.5"
  }
 },
 "nbformat": 4,
 "nbformat_minor": 2
}
