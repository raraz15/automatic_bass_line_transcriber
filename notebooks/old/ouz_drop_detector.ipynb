{
 "cells": [
  {
   "cell_type": "code",
   "execution_count": null,
   "metadata": {},
   "outputs": [],
   "source": [
    "import importlib\n",
    "\n",
    "import os\n",
    "import sys\n",
    "import json\n",
    "import warnings\n",
    "import traceback\n",
    "\n",
    "#from scipy import signal\n",
    "import numpy as np\n",
    "from tqdm import tqdm\n",
    "\n",
    "sys.path.insert(0, '/mnt/d/projects/bassline_extraction') \n",
    "\n",
    "from plotting.various import energy_levels\n",
    "import transcription\n",
    "\n",
    "from signal_processing import *\n",
    "from chorus_estimation import *\n",
    "from utilities import *\n",
    "\n",
    "warnings.filterwarnings('ignore')\n",
    "#np.set_printoptions(suppress=True)"
   ]
  },
  {
   "cell_type": "markdown",
   "metadata": {},
   "source": [
    "# Initialization\n",
    "\n",
    "## Directories\n",
    "\n",
    "**TO DO: aligned_beat_positions => progression_beat_positions**"
   ]
  },
  {
   "cell_type": "code",
   "execution_count": null,
   "metadata": {},
   "outputs": [],
   "source": [
    "with open('../data/ouz_tracks.txt', 'r') as infile:\n",
    "    track_titles = infile.read().split('\\n')\n",
    "       \n",
    "_,_, bad_examples = next(os.walk('../data/bassline_extraction_FIRST_EXPERIMENT/beat_grid/bad_examples'))\n",
    "bad_examples = [title.split('.txt')[0] for title in bad_examples]\n",
    "       \n",
    "with open('../data/metadata/scales_frequencies.json','r') as infile:\n",
    "    scales = json.load(infile)\n",
    "\n",
    "with open('../data/metadata/TechHouse_track_dicts.json','r') as infile:\n",
    "    track_dicts = json.load(infile) "
   ]
  },
  {
   "cell_type": "markdown",
   "metadata": {},
   "source": [
    "# Listening and Waveform Inspection\n",
    "\n",
    "Select a track to work with"
   ]
  },
  {
   "cell_type": "code",
   "execution_count": null,
   "metadata": {},
   "outputs": [],
   "source": [
    "search_idx(\"Bontan - State Of Mind (Original Mix) [Suara]\", track_titles)"
   ]
  },
  {
   "cell_type": "code",
   "execution_count": null,
   "metadata": {},
   "outputs": [],
   "source": [
    "#title = track_titles[np.random.randint(len(track_titles))] \n",
    "title = track_titles[27]\n",
    "\n",
    "print('{}'.format(title))\n",
    "BPM = float(track_dicts[title]['BPM'])\n",
    "print('BPM: {}\\n'.format(BPM))\n",
    "beat_length = 60/BPM\n",
    "\n",
    "if title in bad_examples:\n",
    "    with open(os.path.join('../data/bassline_extraction_FIRST_EXPERIMENT/beat_grid/bad_examples',title+'.txt'), 'r') as infile:\n",
    "        dpqb = float(infile.read())\n",
    "    print(\"Beat grid problematic! dpqb: {:.2f}%\\n{}\".format(dpqb,title))\n",
    "    \n",
    "beat_positions = get_beat_positions(title)\n",
    "bar_positions = get_bar_positions(beat_positions)\n",
    "    \n",
    "fs = 44100"
   ]
  },
  {
   "cell_type": "markdown",
   "metadata": {},
   "source": [
    "# Energy Calculations"
   ]
  },
  {
   "cell_type": "markdown",
   "metadata": {},
   "source": [
    "**Load the track, LP filter it and calculate the bar and cell energies**"
   ]
  },
  {
   "cell_type": "code",
   "execution_count": null,
   "metadata": {},
   "outputs": [],
   "source": [
    "track = load_track(title, fs)[0]\n",
    "\n",
    "track_lp = lp_and_normalize(256, fs, 1001, track)\n",
    "\n",
    "bar_energies = calculate_bar_energies(track_lp, bar_positions, fs)\n",
    "\n",
    "cell_energies = calculate_cell_energies(bar_energies)\n",
    "smoothed_cell_energies = sample_and_hold(cell_energies, 4)"
   ]
  },
  {
   "cell_type": "markdown",
   "metadata": {},
   "source": [
    "**Detect Choruses**"
   ]
  },
  {
   "cell_type": "code",
   "execution_count": null,
   "metadata": {},
   "outputs": [],
   "source": [
    "# directly detect drop\n",
    "\n",
    "#eps = 2\n",
    "#estimated_drop = drop_detection(smoothed_cell_energies, eps, 1000)"
   ]
  },
  {
   "cell_type": "code",
   "execution_count": null,
   "metadata": {},
   "outputs": [],
   "source": [
    "eps = 2\n",
    "\n",
    "possible_drops = find_drops(smoothed_cell_energies, epsilon=eps)\n",
    "estimated_drop = drop_picking(possible_drops)\n",
    "\n",
    "drop_beat_idx = estimated_drop[0]*4\n",
    "\n",
    "chorus_beat_positions = beat_positions[drop_beat_idx:drop_beat_idx+16]"
   ]
  },
  {
   "cell_type": "markdown",
   "metadata": {},
   "source": [
    "**Check Chorus Beat Grid**"
   ]
  },
  {
   "cell_type": "code",
   "execution_count": null,
   "metadata": {},
   "outputs": [],
   "source": [
    "beat_factor = 64\n",
    "\n",
    "tolerance = beat_length/beat_factor\n",
    "\n",
    "rounded_beat_length = np.around(beat_length, 2)\n",
    "#rounded_tolerance = np.around(tolerance,2)\n",
    "\n",
    "beat_length_estimations = np.diff(chorus_beat_positions)\n",
    "length_deviations = np.abs(rounded_beat_length - beat_length_estimations)\n",
    "\n",
    "large_deviation_indices = np.where(length_deviations > 0.011)[0]\n",
    "\n",
    "print(large_deviation_indices)"
   ]
  },
  {
   "cell_type": "code",
   "execution_count": null,
   "metadata": {},
   "outputs": [],
   "source": [
    "track = load_track(title, fs)[0]\n",
    "\n",
    "drop_beat_idx, possible_drops_beat_indices = drop_detection(track, beat_positions, fs, 2)"
   ]
  },
  {
   "cell_type": "code",
   "execution_count": null,
   "metadata": {},
   "outputs": [],
   "source": [
    "chorus_beat_positions = beat_positions[drop_beat_idx:drop_beat_idx+17]\n",
    "check_chorus_beat_grid(chorus_beat_positions, beat_length, 64)"
   ]
  },
  {
   "cell_type": "markdown",
   "metadata": {},
   "source": [
    "## Plot"
   ]
  },
  {
   "cell_type": "code",
   "execution_count": null,
   "metadata": {},
   "outputs": [],
   "source": [
    "energy_levels(title, bar_energies, possible_drops, estimated_drop, \n",
    "                   epsilon=eps ,save=False, plot_title='')"
   ]
  },
  {
   "cell_type": "code",
   "execution_count": null,
   "metadata": {},
   "outputs": [],
   "source": [
    "plot_energy_levels(title, smoothed_cell_energies, possible_drops, estimated_drop, \n",
    "                   epsilon=eps ,save=False, plot_title='')"
   ]
  },
  {
   "cell_type": "markdown",
   "metadata": {},
   "source": [
    "# Batch Processing"
   ]
  },
  {
   "cell_type": "code",
   "execution_count": null,
   "metadata": {},
   "outputs": [],
   "source": [
    "#for i in tqdm(range(len(track_titles))):\n",
    "for title in bad_examples:\n",
    "    \n",
    "    try:\n",
    "        print(title)\n",
    "        #title = track_titles[i]\n",
    "        BPM = float(track_dicts[title]['BPM'])\n",
    "        beat_length = 60/BPM\n",
    "        fs = 44100\n",
    "        \n",
    "        #dpqb = 0.0\n",
    "        #if title in bad_examples:\n",
    "        #    with open(os.path.join('../data/bassline_extraction/beat_grid/bad_examples',title+'.txt'), 'r') as infile:\n",
    "        #        dpqb = float(infile.read())\n",
    "        #    print(\"Beat grid problematic! dpqb: {:.2f}%\\n{}\".format(dpqb,title))\n",
    "        \n",
    "        #if dpqb > 15:\n",
    "        #    continue\n",
    "        \n",
    "        \"\"\"        beat_positions = get_beat_positions(title)\n",
    "        bar_positions = get_bar_positions(beat_positions)\n",
    "\n",
    "        track = load_track(title, fs)[0]\n",
    "\n",
    "        track_lp = lp_and_normalize(256, fs, 1001, track)\n",
    "\n",
    "        bar_energies = calculate_bar_energies(track_lp, bar_positions, fs)\n",
    "        cell_energies = calculate_cell_energies(bar_energies)\n",
    "        smoothed_cell_energies = sample_and_hold(cell_energies, 4)\n",
    "\n",
    "        eps = 2\n",
    "        possible_drops = find_drops(smoothed_cell_energies, epsilon=eps)\n",
    "        estimated_drop = drop_picking(possible_drops)\n",
    "        \n",
    "        drop_beat_idx = estimated_drop[0]*4\"\"\"\n",
    "\n",
    "        chorus_beat_positions = beat_positions[drop_beat_idx:drop_beat_idx+16]\n",
    "        print('Beat Positions')\n",
    "        print(chorus_beat_positions)\n",
    "        print('Beat Lengths')\n",
    "        print(np.diff(chorus_beat_positions))\n",
    "        \n",
    "        large_deviation_indices = check_chorus_beat_grid(chorus_beat_positions, beat_length, 64)\n",
    "        print(large_deviation_indices)\n",
    "        print('\\n')\n",
    "\n",
    "        #plot_energy_levels(title, bar_energies, possible_drops, estimated_drop, \n",
    "        #                   show=False, epsilon=eps ,save=True)\n",
    "        \n",
    "    except KeyError:\n",
    "        print(\"Track doesn't exist in track_dicts: {}\\n\".format(title))        \n",
    "    except Exception as ex:     \n",
    "        print(\"There was an error on: {}\".format(title))\n",
    "        exception_str = ''.join(traceback.format_exception(etype=type(ex), value=ex, tb=ex.__traceback__))\n",
    "        print(exception_str+'\\n')       "
   ]
  },
  {
   "cell_type": "code",
   "execution_count": null,
   "metadata": {},
   "outputs": [],
   "source": []
  }
 ],
 "metadata": {
  "kernelspec": {
   "display_name": "Python 3",
   "language": "python",
   "name": "python3"
  },
  "language_info": {
   "codemirror_mode": {
    "name": "ipython",
    "version": 3
   },
   "file_extension": ".py",
   "mimetype": "text/x-python",
   "name": "python",
   "nbconvert_exporter": "python",
   "pygments_lexer": "ipython3",
   "version": "3.8.5"
  }
 },
 "nbformat": 4,
 "nbformat_minor": 4
}
