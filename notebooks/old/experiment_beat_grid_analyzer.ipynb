{
 "cells": [
  {
   "cell_type": "markdown",
   "metadata": {},
   "source": [
    "This notebook is for analyzing the bad_examples from the beatgrid extraction part of the bassline extraction experiment"
   ]
  },
  {
   "cell_type": "code",
   "execution_count": 1,
   "metadata": {},
   "outputs": [],
   "source": [
    "import os \n",
    "import numpy as np"
   ]
  },
  {
   "cell_type": "code",
   "execution_count": 7,
   "metadata": {},
   "outputs": [],
   "source": [
    "bad_examples_dir = '../data/bassline_extraction/beat_grid/bad_examples'\n",
    "utku_bad_examples_dir = '../data/bassline_extraction/utku_bassline_extraction/beat_grid/bad_examples'"
   ]
  },
  {
   "cell_type": "code",
   "execution_count": 8,
   "metadata": {},
   "outputs": [],
   "source": [
    "deviations_pqb = []\n",
    "for dir_path, _, file_names in os.walk(bad_examples_dir):    \n",
    "    for file_name in file_names:\n",
    "        \n",
    "        file_path = os.path.join(dir_path, file_name)\n",
    "        \n",
    "        with open(file_path, 'r') as infile:\n",
    "            dpqb = float(infile.read())\n",
    "            \n",
    "        deviations_pqb.append(dpqb)\n",
    "        \n",
    "for dir_path, _, file_names in os.walk(utku_bad_examples_dir):    \n",
    "    for file_name in file_names:\n",
    "        \n",
    "        file_path = os.path.join(dir_path, file_name)\n",
    "        \n",
    "        with open(file_path, 'r') as infile:\n",
    "            dpqb = float(infile.read())\n",
    "            \n",
    "        deviations_pqb.append(dpqb)\n",
    "        \n",
    "deviations_pqb = np.array(deviations_pqb)"
   ]
  },
  {
   "cell_type": "code",
   "execution_count": 9,
   "metadata": {},
   "outputs": [],
   "source": [
    "_, _, file_names0 = next(os.walk(bad_examples_dir))\n",
    "_, _, file_names1 = next(os.walk(utku_bad_examples_dir))\n",
    "\n",
    "file_names = file_names0+file_names1"
   ]
  },
  {
   "cell_type": "code",
   "execution_count": 12,
   "metadata": {},
   "outputs": [],
   "source": [
    "bad_groove_indices  = np.where(deviations_pqb >= 25.0)[0]\n",
    "#bad_grooves = [file_names[i] for i in bad_groove_indices]\n",
    "\n",
    "#G1 = [file_names[i] for i in np.where(deviations_pqb < 25.0)[0]]\n",
    "G1_indices = np.where((deviations_pqb < 25.0) & (deviations_pqb>= 12.5))[0]\n",
    "\n",
    "#G2 = [file_names[i] for i in np.where(deviations_pqb < 12.5)[0]]\n",
    "G2_indices = np.where((deviations_pqb < 12.5) & (deviations_pqb>= 6.25))[0]\n",
    "\n",
    "#G3 = [file_names[i] for i in np.where(deviations_pqb < 6.25)[0]]\n",
    "G3_indices = np.where(deviations_pqb < 6.25)[0]"
   ]
  },
  {
   "cell_type": "code",
   "execution_count": 13,
   "metadata": {},
   "outputs": [
    {
     "name": "stdout",
     "output_type": "stream",
     "text": [
      "Tracks with bad beat grids (17 total):\n",
      "\n",
      "Billy Kenny & Kyle Watson - Wiggly Worm (Original Mix).txt: 37.921\n",
      "Danny Howard & Illyus & Barrientos - Need (ft. Alex Mills).txt: 62.090\n",
      "Danny Howard, Illyus & Barrientos (feat. Alex Mills) - Need (Extended Mix).txt: 71.835\n",
      "David Penn - Down Wid Da.txt: 100.693\n",
      "Gorgon City - Roped In.txt: 46.818\n",
      "Guz - Without You (feat. Hannah Jane Lewis) [Official Audio].txt: 26.809\n",
      "Hot Since 82 - Make Up.txt: 32.757\n",
      "ItaloBros - Don't Go (Original Mix ).txt: 44.998\n",
      "Josh Wink - How's Your Evening So Far (Chris Lake Remix).txt: 26.257\n",
      "Mark Knight & Funkagenda - Man With The Red Face - Radio Edit.txt: 102.502\n",
      "Martin Ikin - Headnoise (Get Hype).txt: 33.738\n",
      "Mele - The 95 Vibe.txt: 37.660\n",
      "Metodi Hristov - Massive Attack (Original Mix) [TERMINAL M].txt: 43.900\n",
      "Moreno Pezzolato - Need U.txt: 36.306\n",
      "Mother066 - Mat.Joe - So High.txt: 128.625\n",
      "Robbie Rivera & David Tort - Get Together (Official Music Video).txt: 27.212\n",
      "Two Three One (Radio Edit).txt: 163.937\n"
     ]
    }
   ],
   "source": [
    "print('Tracks with bad beat grids ({} total):\\n'.format(len(bad_groove_indices)))\n",
    "for idx in bad_groove_indices:\n",
    "    \n",
    "    print('{}: {:.3f}'.format(file_names[idx], deviations_pqb[idx]))"
   ]
  },
  {
   "cell_type": "code",
   "execution_count": 14,
   "metadata": {},
   "outputs": [
    {
     "name": "stdout",
     "output_type": "stream",
     "text": [
      "Tracks with okayish beat grids (21 total):\n",
      "\n",
      "Billy Kenny - Work (Four40 Records).txt: 14.224\n",
      "Camel Phat, Riva Star - Electricity (Original Mix).txt: 14.201\n",
      "Chapter & Verse - Satellite (Original Mix).txt: 16.710\n",
      "Chris Hartwig - Bang The Groove (Format -B Remix).txt: 22.825\n",
      "Count On You (ATFC's C-thru Extended Remix).txt: 12.965\n",
      "Cuartero - Wavy Distance (Paco Osuna Remix).txt: 13.002\n",
      "Dale Howard - I Feel Like (Original Mix).txt: 16.569\n",
      "Dopamine Machine - Club Mix.txt: 17.737\n",
      "Format B - The Scoop (Original Mix).txt: 19.568\n",
      "Gorgon City, DRAMA - Nobody.txt: 16.422\n",
      "I Will Do Better.txt: 18.787\n",
      "Jay Robinson - Nineteen81.txt: 15.225\n",
      "Josh Summit - Seen It All (Original Mix).txt: 12.636\n",
      "Kyle Watson - Road Trips.txt: 15.365\n",
      "Kyle Watson - The Sample.txt: 20.745\n",
      "Martin Ikin - She's Ok.txt: 12.726\n",
      "Ocean Roulette & VNSSA - Magic (Steve Darko Remix).txt: 17.582\n",
      "PEACE MAKER!, First - Isolation (Extended Mix).txt: 14.469\n",
      "Richard Grey ,Lissat (Funky People) Original Mix.txt: 13.611\n",
      "Rising (Original Mix) - Human Life.txt: 21.144\n",
      "Sidney Samson, Killfake - Your Way (Extended Mix).txt: 19.985\n"
     ]
    }
   ],
   "source": [
    "print('Tracks with okayish beat grids ({} total):\\n'.format(len(G1_indices)))\n",
    "\n",
    "for idx in G1_indices:\n",
    "    \n",
    "    print('{}: {:.3f}'.format(file_names[idx], deviations_pqb[idx]))"
   ]
  },
  {
   "cell_type": "code",
   "execution_count": 15,
   "metadata": {},
   "outputs": [
    {
     "name": "stdout",
     "output_type": "stream",
     "text": [
      "Tracks with better beat grids (35 total):\n",
      "\n",
      "Amine Edge & DANCE - Get Busy.txt: 8.262\n",
      "ANOTR - Don't Mind Ya Weight (Original Mix).txt: 10.364\n",
      "Carl Cox - I Want You (Forever) - Josh Butler Remix.txt: 11.124\n",
      "Claude VonStroke - Barrump.txt: 6.795\n",
      "Claude VonStroke - Slink [OFFICIAL VIDEO].txt: 9.143\n",
      "Croatia Squad - Pop Your Pussy (2019 Rework).txt: 8.462\n",
      "Darius Syrossian - Kouka (Extended Mix).txt: 10.364\n",
      "Eyecode (Original Mix).txt: 6.436\n",
      "FOALS - Into The Surf [Hot Since 82 Remix] (Official Audio).txt: 7.650\n",
      "Forget (Original Mix) - Patrick Topping.txt: 6.385\n",
      "Friend Within - Matchbox.txt: 9.765\n",
      "Girl Put In Work (feat. Sage Armstrong) (feat. Sage Armstrong) (Extended Mix).txt: 9.703\n",
      "Gorgon City - Elizabeth Street (Extended Mix).txt: 8.258\n",
      "Gorgon City - Get Together (Official Audio).txt: 10.170\n",
      "Hauswerks & Manu Gonzalez - Return To The Tribe.txt: 6.948\n",
      "Hector Couto - Parental Advisory (DJ T. Remix) [Roush Label].txt: 12.100\n",
      "Huxley & Jacky - Rave Dance (Original Mix).txt: 6.485\n",
      "Hysteria (Original Mix).txt: 11.432\n",
      "Jholeyson - Eiglee (Max Chapman, Kodewerk Remix).txt: 6.686\n",
      "Joseph Edmund - Norrr.txt: 7.216\n",
      "Kuestenklatsch, Bagalut - Where's My Snare.txt: 8.840\n",
      "Kyle Watson - Give You So.txt: 9.538\n",
      "Kyle Watson - Sides.txt: 9.384\n",
      "Marshall Jefferson x Solardo - Move Your Body.txt: 6.279\n",
      "Martin Ikin - Ultra Violet (Original Mix).txt: 10.118\n",
      "Mihalis Safras & Raffa FL - Freedom (Mat.Joe Remix) [Glasgow Underground].txt: 7.395\n",
      "Moog For Love (Radio Edit).txt: 9.764\n",
      "Pegassi - L.A Kitty.txt: 12.451\n",
      "Pleasurekraft _ Format B - Coltrane (ft. Chris The Voice).txt: 8.544\n",
      "Rhoowax, Iglesias - Keep On Dancin' (Original Mix) [Noexcuse Records].txt: 12.280\n",
      "Robosonic & EPMD - For The People (Illyus & Barrientos Remix).txt: 9.626\n",
      "Sidney Charles - Jack Endlessly (Original Mix).txt: 11.645\n",
      "Solardo & Eli Brown - XTC.txt: 7.445\n",
      "Soul People (Original Club Mix).txt: 7.719\n",
      "Speed (Miguel Bastida Remix).txt: 6.660\n"
     ]
    }
   ],
   "source": [
    "print('Tracks with better beat grids ({} total):\\n'.format(len(G2_indices)))\n",
    "for idx in G2_indices:\n",
    "    print('{}: {:.3f}'.format(file_names[idx], deviations_pqb[idx]))"
   ]
  },
  {
   "cell_type": "code",
   "execution_count": 16,
   "metadata": {
    "scrolled": true
   },
   "outputs": [
    {
     "name": "stdout",
     "output_type": "stream",
     "text": [
      "Tracks with good enough beat grids (14 total):\n",
      "\n",
      "Bontan - State Of Mind (Original Mix) [Suara].txt: 5.010\n",
      "Dakar & Pleight - I Do (Extended Remix).txt: 5.308\n",
      "Dennis Cruz - El Sueño (feat Martina Camargo).txt: 5.225\n",
      "Dosem, Prok & Fitch - Doors (Original Mix) [Suara].txt: 5.543\n",
      "Duke Dumont - Red Light Green Light (Riva Starr Remix _ Audio) ft. Shaun Ross.txt: 5.482\n",
      "Eli Brown - Searching For Someone (Original Mix).txt: 5.830\n",
      "Eli Brown - To The Place.txt: 5.939\n",
      "Everyday (Mathias Kaden`s Repitch Remix).txt: 6.201\n",
      "Jack Villa - Missing.txt: 6.112\n",
      "Max Chapman, Will Taylor(UK) - HEY! (Original Mix).txt: 5.553\n",
      "Sexus - DJ Anna Remix.txt: 5.152\n",
      "Step Aside (Max Chapman Remix).txt: 5.861\n",
      "Take It (Sonny Fodera Extended Remix).txt: 5.381\n",
      "Ya Know.txt: 5.537\n"
     ]
    }
   ],
   "source": [
    "print('Tracks with good enough beat grids ({} total):\\n'.format(len(G3_indices)))\n",
    "for idx in G3_indices:\n",
    "    \n",
    "    print('{}: {:.3f}'.format(file_names[idx], deviations_pqb[idx]))"
   ]
  },
  {
   "cell_type": "code",
   "execution_count": null,
   "metadata": {},
   "outputs": [],
   "source": []
  },
  {
   "cell_type": "code",
   "execution_count": null,
   "metadata": {},
   "outputs": [],
   "source": []
  }
 ],
 "metadata": {
  "kernelspec": {
   "display_name": "Python 3",
   "language": "python",
   "name": "python3"
  },
  "language_info": {
   "codemirror_mode": {
    "name": "ipython",
    "version": 3
   },
   "file_extension": ".py",
   "mimetype": "text/x-python",
   "name": "python",
   "nbconvert_exporter": "python",
   "pygments_lexer": "ipython3",
   "version": "3.8.5"
  }
 },
 "nbformat": 4,
 "nbformat_minor": 4
}
