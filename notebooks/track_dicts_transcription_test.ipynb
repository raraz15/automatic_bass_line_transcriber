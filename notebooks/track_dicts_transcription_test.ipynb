{
 "cells": [
  {
   "cell_type": "code",
   "execution_count": 1,
   "metadata": {},
   "outputs": [],
   "source": [
    "import os\n",
    "import json"
   ]
  },
  {
   "cell_type": "code",
   "execution_count": 2,
   "metadata": {},
   "outputs": [],
   "source": [
    "output_dir = os.path.join('..','data','transcription_test')\n",
    "clip_dir = os.path.join(output_dir,'audio_clips')\n",
    "metadata_dir = os.path.join(output_dir,'metadata')"
   ]
  },
  {
   "cell_type": "code",
   "execution_count": 3,
   "metadata": {},
   "outputs": [],
   "source": [
    "clip_names = [name.split('.mp3')[0] for name in next(os.walk(clip_dir))[-1]]"
   ]
  },
  {
   "cell_type": "code",
   "execution_count": 4,
   "metadata": {},
   "outputs": [
    {
     "data": {
      "text/plain": [
       "['Cm_CrossSweep_16th_note',\n",
       " 'Cm_EvenSweep_4th_note',\n",
       " 'Cm_EvenSweep_8th_note',\n",
       " 'Cm_LinearSweep_16th_note',\n",
       " 'Cm_LinearSweep_32th_note',\n",
       " 'Cm_LinearSweep_8th_note',\n",
       " 'Cm_Mixed0',\n",
       " 'Cm_Mixed1',\n",
       " 'Cm_OddSweep_16th_note',\n",
       " 'Cm_OddSweep_4th_note',\n",
       " 'Cm_OddSweep_8th_note',\n",
       " 'Cm_SingleNote_16th_note',\n",
       " 'Cm_SingleNote_8th_note',\n",
       " 'Cm_SingleNote_half_note',\n",
       " 'Cm_SingleNote_quarter_note',\n",
       " 'Cm_SingleNote_whole_note']"
      ]
     },
     "execution_count": 4,
     "metadata": {},
     "output_type": "execute_result"
    }
   ],
   "source": [
    "clip_names"
   ]
  },
  {
   "cell_type": "code",
   "execution_count": 5,
   "metadata": {},
   "outputs": [],
   "source": [
    "track_dicts = {name: {\"BPM\": \"125\", \"Key\": \"C min\"} for name in clip_names}"
   ]
  },
  {
   "cell_type": "code",
   "execution_count": 6,
   "metadata": {},
   "outputs": [
    {
     "data": {
      "text/plain": [
       "{'Cm_CrossSweep_16th_note': {'BPM': '125', 'Key': 'C min'},\n",
       " 'Cm_EvenSweep_4th_note': {'BPM': '125', 'Key': 'C min'},\n",
       " 'Cm_EvenSweep_8th_note': {'BPM': '125', 'Key': 'C min'},\n",
       " 'Cm_LinearSweep_16th_note': {'BPM': '125', 'Key': 'C min'},\n",
       " 'Cm_LinearSweep_32th_note': {'BPM': '125', 'Key': 'C min'},\n",
       " 'Cm_LinearSweep_8th_note': {'BPM': '125', 'Key': 'C min'},\n",
       " 'Cm_Mixed0': {'BPM': '125', 'Key': 'C min'},\n",
       " 'Cm_Mixed1': {'BPM': '125', 'Key': 'C min'},\n",
       " 'Cm_OddSweep_16th_note': {'BPM': '125', 'Key': 'C min'},\n",
       " 'Cm_OddSweep_4th_note': {'BPM': '125', 'Key': 'C min'},\n",
       " 'Cm_OddSweep_8th_note': {'BPM': '125', 'Key': 'C min'},\n",
       " 'Cm_SingleNote_16th_note': {'BPM': '125', 'Key': 'C min'},\n",
       " 'Cm_SingleNote_8th_note': {'BPM': '125', 'Key': 'C min'},\n",
       " 'Cm_SingleNote_half_note': {'BPM': '125', 'Key': 'C min'},\n",
       " 'Cm_SingleNote_quarter_note': {'BPM': '125', 'Key': 'C min'},\n",
       " 'Cm_SingleNote_whole_note': {'BPM': '125', 'Key': 'C min'}}"
      ]
     },
     "execution_count": 6,
     "metadata": {},
     "output_type": "execute_result"
    }
   ],
   "source": [
    "track_dicts"
   ]
  },
  {
   "cell_type": "code",
   "execution_count": 7,
   "metadata": {},
   "outputs": [],
   "source": [
    "with open(os.path.join(metadata_dir, 'TechHouse_track_dicts.json'), 'w') as outfile:\n",
    "    json.dump(track_dicts, outfile, indent=4)"
   ]
  },
  {
   "cell_type": "code",
   "execution_count": null,
   "metadata": {},
   "outputs": [],
   "source": []
  }
 ],
 "metadata": {
  "kernelspec": {
   "display_name": "Python 3",
   "language": "python",
   "name": "python3"
  },
  "language_info": {
   "codemirror_mode": {
    "name": "ipython",
    "version": 3
   },
   "file_extension": ".py",
   "mimetype": "text/x-python",
   "name": "python",
   "nbconvert_exporter": "python",
   "pygments_lexer": "ipython3",
   "version": "3.7.6"
  }
 },
 "nbformat": 4,
 "nbformat_minor": 4
}
