{
 "cells": [
  {
   "cell_type": "code",
   "execution_count": 1,
   "metadata": {},
   "outputs": [],
   "source": [
    "%load_ext autoreload\n",
    "%autoreload 2\n",
    "\n",
    "import os\n",
    "import sys\n",
    "import json\n",
    "import numpy as np\n",
    "import traceback\n",
    "\n",
    "import pandas as pd\n",
    "\n",
    "#project_dir = '/mnt/d/projects/bassline_transcription'\n",
    "project_dir = '/scratch/users/udemir15/ELEC491/bassline_transcription'\n",
    "sys.path.insert(0, project_dir)\n",
    "\n",
    "from utilities import get_directories, read_metadata, print_midi_array, print_symbolic_representation, load_numpy_midi\n",
    "\n",
    "from bassline_transcriber.transcription import decode_NN_output\n",
    "from MIDI_output import create_MIDI_file"
   ]
  },
  {
   "cell_type": "markdown",
   "metadata": {},
   "source": [
    "# 1) Initialization"
   ]
  },
  {
   "cell_type": "code",
   "execution_count": 2,
   "metadata": {},
   "outputs": [],
   "source": [
    "#directories = get_directories(project_dir+'/directories.json')\n",
    "directories = get_directories('../data/directories.json')\n",
    "\n",
    "midi_dir = directories['midi']['generated']"
   ]
  },
  {
   "cell_type": "markdown",
   "metadata": {},
   "source": [
    "## Read Track Metadata"
   ]
  },
  {
   "cell_type": "markdown",
   "metadata": {},
   "source": [
    "_, track_dicts, track_titles = read_metadata(directories)"
   ]
  },
  {
   "cell_type": "markdown",
   "metadata": {},
   "source": [
    "## 2) NN Output 2 MIDI File"
   ]
  },
  {
   "cell_type": "code",
   "execution_count": 3,
   "metadata": {},
   "outputs": [],
   "source": [
    "SUSTAIN = 25 \n",
    "SILENCE = 0\n",
    "\n",
    "#SOS = None\n",
    "MAX_NOTE = 51 \n",
    "MIN_NOTE = 28\n",
    "\n",
    "SILENCE_CODE = 0\n",
    "SUSTAIN_CODE = 100\n",
    "\n",
    "def code_to_MIDI(code):\n",
    "    # takes code in the form silence, note,..., sustain\n",
    "    X = code.copy()\n",
    "    \n",
    "    X[X!=0] += MIN_NOTE-1\n",
    "    \n",
    "    X[X==X.max()] = 100 # max will be the sustain\n",
    "        \n",
    "    return X"
   ]
  },
  {
   "cell_type": "code",
   "execution_count": 4,
   "metadata": {},
   "outputs": [],
   "source": [
    "path = '/kuacc/users/udemir15/Bassline-Generator/generator/generations/10_CNNVAE_samples_2021-05-30_16:58:25.csv'\n",
    "\n",
    "# read NN outputs \n",
    "NN_outputs = pd.read_csv(path).to_numpy()"
   ]
  },
  {
   "cell_type": "code",
   "execution_count": 5,
   "metadata": {},
   "outputs": [
    {
     "name": "stdout",
     "output_type": "stream",
     "text": [
      "/scratch/users/udemir15/ELEC491/bassline_transcription/data/midi/generated/8\n"
     ]
    }
   ],
   "source": [
    "midi_number_arrays = code_to_MIDI(NN_outputs)\n",
    "\n",
    "M = 8\n",
    "for idx, NN_output in enumerate(midi_number_arrays): \n",
    "    \n",
    "    midi_array = decode_NN_output(NN_output, 8, M, sustain_code=SUSTAIN_CODE)\n",
    "    \n",
    "    # Choose The Note to Transpose\n",
    "    # midi_array = transpose_to_note(midi_array, Note)\n",
    "    \n",
    "    # Choose Bassline BPM\n",
    "    BPM = 125 \n",
    "    \n",
    "    create_MIDI_file(midi_array, BPM, str(idx), midi_dir[str(M)])\n",
    "    \n",
    "print(midi_dir[str(M)])"
   ]
  },
  {
   "cell_type": "code",
   "execution_count": null,
   "metadata": {},
   "outputs": [],
   "source": []
  },
  {
   "cell_type": "code",
   "execution_count": null,
   "metadata": {},
   "outputs": [],
   "source": []
  },
  {
   "cell_type": "code",
   "execution_count": null,
   "metadata": {},
   "outputs": [],
   "source": []
  },
  {
   "cell_type": "code",
   "execution_count": null,
   "metadata": {},
   "outputs": [],
   "source": []
  },
  {
   "cell_type": "code",
   "execution_count": null,
   "metadata": {},
   "outputs": [],
   "source": []
  },
  {
   "cell_type": "markdown",
   "metadata": {},
   "source": [
    "## Numpy Midi Array to MIDI File"
   ]
  },
  {
   "cell_type": "code",
   "execution_count": null,
   "metadata": {},
   "outputs": [],
   "source": [
    "M = 8\n",
    "midi_dir = '../data/bassline_transcription/midi_notes/M={}'.format(M)\n",
    "\n",
    "file_names = next(os.walk(midi_dir))[-1]"
   ]
  },
  {
   "cell_type": "code",
   "execution_count": null,
   "metadata": {},
   "outputs": [],
   "source": [
    "for file_name in file_names:\n",
    "    \n",
    "    try:\n",
    "        midi_array = load_numpy_midi(midi_dir, file_name)\n",
    "        title = file_name.split('.npy')[0]\n",
    "        BPM = track_dicts[title]['BPM']\n",
    "        create_MIDI_file(midi_array, BPM, title, midi_dir)\n",
    "    except KeyboardInterrupt:\n",
    "        sys.exit()\n",
    "        pass\n",
    "    except IndexError as ie:\n",
    "        print('\\n'+file_name+'\\nNo Midi Notes!')\n",
    "    except UnboundLocalError as ule:\n",
    "        print('\\n{}\\nMidi array shape:{}'.format(file_name, load_numpy_midi(file_name).shape))  \n",
    "    except Exception as ex:\n",
    "        print('\\n'+file_name)\n",
    "        exception_str = ''.join(traceback.format_exception(etype=type(ex), value=ex, tb=ex.__traceback__))\n",
    "        print(exception_str)"
   ]
  },
  {
   "cell_type": "markdown",
   "metadata": {},
   "source": [
    "## Old"
   ]
  },
  {
   "cell_type": "markdown",
   "metadata": {},
   "source": [
    "def find_repetitions(midi_array):\n",
    "    \n",
    "    # find where the repetitions occur (from 100)\n",
    "    lst = []\n",
    "    first, prev = None, None\n",
    "    for idx, val in enumerate(midi_array):\n",
    "\n",
    "        if val == 100 and idx > 0 and prev == None:\n",
    "            prev = midi_array[idx-1]\n",
    "            first = idx\n",
    "        elif first != None and prev != None and val != 100:\n",
    "            second = idx-1\n",
    "            lst.append([prev, first, second])\n",
    "            first = None\n",
    "            prev = None         \n",
    "            \n",
    "    return lst\n",
    "    \n",
    "for row in lst:\n",
    "    \n",
    "    midi_val = row[0]\n",
    "    note_len = (row[2] - row[1] +1) + 1\n",
    "    start_idx = row[1] - 1\n",
    "       \n",
    "    print('Note : {} Start idx: {}, length : {}'.format(midi_val, start_idx, note_len))\n",
    "\n",
    "\n",
    "def consecutive(data, stepsize=1):\n",
    "    return np.split(data, np.where(np.diff(data) != stepsize)[0]+1)\n",
    "\n",
    "def find_repetition_indices(seq):\n",
    "\n",
    "    repetition_indices = np.where(seq==100)[0]\n",
    "    x = np.insert(repetition_indices, 0,repetition_indices[0])\n",
    "    \n",
    "    return repetition_indices[np.diff(x) == 1]"
   ]
  }
 ],
 "metadata": {
  "kernelspec": {
   "display_name": "Python 3",
   "language": "python",
   "name": "python3"
  },
  "language_info": {
   "codemirror_mode": {
    "name": "ipython",
    "version": 3
   },
   "file_extension": ".py",
   "mimetype": "text/x-python",
   "name": "python",
   "nbconvert_exporter": "python",
   "pygments_lexer": "ipython3",
   "version": "3.7.6"
  }
 },
 "nbformat": 4,
 "nbformat_minor": 2
}
