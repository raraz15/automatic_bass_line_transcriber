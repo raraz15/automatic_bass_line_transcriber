{
 "cells": [
  {
   "cell_type": "code",
   "execution_count": 1,
   "metadata": {},
   "outputs": [],
   "source": [
    "%load_ext autoreload\n",
    "%autoreload 2\n",
    "\n",
    "import os, sys, json\n",
    "\n",
    "import pandas as pd\n",
    "import numpy as np\n",
    "\n",
    "#sys.path.insert(0, '/mnt/d/projects/bassline_transcription')\n",
    "sys.path.insert(0, '/scratch/users/udemir15/ELEC491/bassline_transcription')\n",
    "\n",
    "import dataset\n",
    "import utilities\n",
    "from plotting.dataset_plots import *"
   ]
  },
  {
   "cell_type": "markdown",
   "metadata": {},
   "source": [
    "## 1) Initialize"
   ]
  },
  {
   "cell_type": "code",
   "execution_count": 2,
   "metadata": {},
   "outputs": [],
   "source": [
    "directories = utilities.get_directories('../data/directories.json')\n",
    "_, track_dicts, track_titles = utilities.read_metadata(directories, 'TechHouse_total_track_dicts.json')"
   ]
  },
  {
   "cell_type": "markdown",
   "metadata": {},
   "source": [
    "## 2) Read the Midi Sequences"
   ]
  },
  {
   "cell_type": "code",
   "execution_count": 3,
   "metadata": {},
   "outputs": [
    {
     "name": "stdout",
     "output_type": "stream",
     "text": [
      "Total number of midi sequences: 8896\n"
     ]
    },
    {
     "data": {
      "text/html": [
       "<div>\n",
       "<style scoped>\n",
       "    .dataframe tbody tr th:only-of-type {\n",
       "        vertical-align: middle;\n",
       "    }\n",
       "\n",
       "    .dataframe tbody tr th {\n",
       "        vertical-align: top;\n",
       "    }\n",
       "\n",
       "    .dataframe thead th {\n",
       "        text-align: right;\n",
       "    }\n",
       "</style>\n",
       "<table border=\"1\" class=\"dataframe\">\n",
       "  <thead>\n",
       "    <tr style=\"text-align: right;\">\n",
       "      <th></th>\n",
       "      <th>Title</th>\n",
       "      <th>Key</th>\n",
       "      <th>Scale</th>\n",
       "      <th>0</th>\n",
       "      <th>1</th>\n",
       "      <th>2</th>\n",
       "      <th>3</th>\n",
       "      <th>4</th>\n",
       "      <th>5</th>\n",
       "      <th>6</th>\n",
       "      <th>...</th>\n",
       "      <th>502</th>\n",
       "      <th>503</th>\n",
       "      <th>504</th>\n",
       "      <th>505</th>\n",
       "      <th>506</th>\n",
       "      <th>507</th>\n",
       "      <th>508</th>\n",
       "      <th>509</th>\n",
       "      <th>510</th>\n",
       "      <th>511</th>\n",
       "    </tr>\n",
       "  </thead>\n",
       "  <tbody>\n",
       "    <tr>\n",
       "      <th>0</th>\n",
       "      <td>No Good For Me (Original Mix)</td>\n",
       "      <td>E</td>\n",
       "      <td>min</td>\n",
       "      <td>0</td>\n",
       "      <td>0</td>\n",
       "      <td>0</td>\n",
       "      <td>0</td>\n",
       "      <td>0</td>\n",
       "      <td>0</td>\n",
       "      <td>0</td>\n",
       "      <td>...</td>\n",
       "      <td>40</td>\n",
       "      <td>40</td>\n",
       "      <td>40</td>\n",
       "      <td>40</td>\n",
       "      <td>40</td>\n",
       "      <td>40</td>\n",
       "      <td>40</td>\n",
       "      <td>40</td>\n",
       "      <td>40</td>\n",
       "      <td>40</td>\n",
       "    </tr>\n",
       "    <tr>\n",
       "      <th>1</th>\n",
       "      <td>Huxley, Hauswerks - On Your Knees</td>\n",
       "      <td>C#</td>\n",
       "      <td>min</td>\n",
       "      <td>0</td>\n",
       "      <td>0</td>\n",
       "      <td>0</td>\n",
       "      <td>0</td>\n",
       "      <td>0</td>\n",
       "      <td>0</td>\n",
       "      <td>0</td>\n",
       "      <td>...</td>\n",
       "      <td>0</td>\n",
       "      <td>0</td>\n",
       "      <td>0</td>\n",
       "      <td>0</td>\n",
       "      <td>0</td>\n",
       "      <td>0</td>\n",
       "      <td>32</td>\n",
       "      <td>32</td>\n",
       "      <td>32</td>\n",
       "      <td>32</td>\n",
       "    </tr>\n",
       "    <tr>\n",
       "      <th>2</th>\n",
       "      <td>RAMA7 - Smiling Faces (Original Mix)</td>\n",
       "      <td>A#</td>\n",
       "      <td>min</td>\n",
       "      <td>0</td>\n",
       "      <td>0</td>\n",
       "      <td>0</td>\n",
       "      <td>0</td>\n",
       "      <td>0</td>\n",
       "      <td>34</td>\n",
       "      <td>34</td>\n",
       "      <td>...</td>\n",
       "      <td>32</td>\n",
       "      <td>32</td>\n",
       "      <td>32</td>\n",
       "      <td>32</td>\n",
       "      <td>32</td>\n",
       "      <td>32</td>\n",
       "      <td>32</td>\n",
       "      <td>32</td>\n",
       "      <td>32</td>\n",
       "      <td>32</td>\n",
       "    </tr>\n",
       "    <tr>\n",
       "      <th>3</th>\n",
       "      <td>Reza, Tom Chubb - Everything About You (Origin...</td>\n",
       "      <td>E</td>\n",
       "      <td>min</td>\n",
       "      <td>0</td>\n",
       "      <td>0</td>\n",
       "      <td>0</td>\n",
       "      <td>0</td>\n",
       "      <td>28</td>\n",
       "      <td>28</td>\n",
       "      <td>28</td>\n",
       "      <td>...</td>\n",
       "      <td>31</td>\n",
       "      <td>31</td>\n",
       "      <td>31</td>\n",
       "      <td>31</td>\n",
       "      <td>31</td>\n",
       "      <td>31</td>\n",
       "      <td>31</td>\n",
       "      <td>31</td>\n",
       "      <td>31</td>\n",
       "      <td>31</td>\n",
       "    </tr>\n",
       "    <tr>\n",
       "      <th>4</th>\n",
       "      <td>Mind Body &amp; Soul (Original Mix)</td>\n",
       "      <td>G#</td>\n",
       "      <td>min</td>\n",
       "      <td>0</td>\n",
       "      <td>0</td>\n",
       "      <td>0</td>\n",
       "      <td>0</td>\n",
       "      <td>0</td>\n",
       "      <td>0</td>\n",
       "      <td>0</td>\n",
       "      <td>...</td>\n",
       "      <td>0</td>\n",
       "      <td>39</td>\n",
       "      <td>39</td>\n",
       "      <td>39</td>\n",
       "      <td>39</td>\n",
       "      <td>39</td>\n",
       "      <td>39</td>\n",
       "      <td>0</td>\n",
       "      <td>0</td>\n",
       "      <td>0</td>\n",
       "    </tr>\n",
       "  </tbody>\n",
       "</table>\n",
       "<p>5 rows × 515 columns</p>\n",
       "</div>"
      ],
      "text/plain": [
       "                                               Title Key Scale  0  1  2  3  \\\n",
       "0                      No Good For Me (Original Mix)   E   min  0  0  0  0   \n",
       "1                  Huxley, Hauswerks - On Your Knees  C#   min  0  0  0  0   \n",
       "2               RAMA7 - Smiling Faces (Original Mix)  A#   min  0  0  0  0   \n",
       "3  Reza, Tom Chubb - Everything About You (Origin...   E   min  0  0  0  0   \n",
       "4                    Mind Body & Soul (Original Mix)  G#   min  0  0  0  0   \n",
       "\n",
       "    4   5   6  ...  502  503  504  505  506  507  508  509  510  511  \n",
       "0   0   0   0  ...   40   40   40   40   40   40   40   40   40   40  \n",
       "1   0   0   0  ...    0    0    0    0    0    0   32   32   32   32  \n",
       "2   0  34  34  ...   32   32   32   32   32   32   32   32   32   32  \n",
       "3  28  28  28  ...   31   31   31   31   31   31   31   31   31   31  \n",
       "4   0   0   0  ...    0   39   39   39   39   39   39    0    0    0  \n",
       "\n",
       "[5 rows x 515 columns]"
      ]
     },
     "execution_count": 3,
     "metadata": {},
     "output_type": "execute_result"
    }
   ],
   "source": [
    "df_midi_sequences = pd.read_csv('../data/metadata/midi_sequences.csv')\n",
    "print('Total number of midi sequences: {}'.format(df_midi_sequences.shape[0]))\n",
    "df_midi_sequences.head()"
   ]
  },
  {
   "cell_type": "code",
   "execution_count": 4,
   "metadata": {},
   "outputs": [
    {
     "name": "stdout",
     "output_type": "stream",
     "text": [
      "Original min: 23, max: 48\n",
      "Transposed min: 13, max: 48\n"
     ]
    },
    {
     "data": {
      "image/png": "[encoded data removed]",
      "text/plain": [
       "<Figure size 1440x720 with 2 Axes>"
      ]
     },
     "metadata": {
      "needs_background": "light"
     },
     "output_type": "display_data"
    }
   ],
   "source": [
    "note_counter, note_counter_T = dataset.count_notes_with_transposing(df_midi_sequences)\n",
    "plot_note_occurances_with_transposing(note_counter, note_counter_T, 1)"
   ]
  },
  {
   "cell_type": "markdown",
   "metadata": {},
   "source": [
    "## 3) Encoding"
   ]
  },
  {
   "cell_type": "code",
   "execution_count": 5,
   "metadata": {},
   "outputs": [
    {
     "name": "stdout",
     "output_type": "stream",
     "text": [
      "There are 4420 tracks to exclude.\n"
     ]
    }
   ],
   "source": [
    "with open('../data/metadata/bad_beat_f0_titles.txt', 'r') as infile:\n",
    "    excluded_titles = infile.read().split('\\n')\n",
    "print('There are {} tracks to exclude.'.format(len(excluded_titles)))"
   ]
  },
  {
   "cell_type": "code",
   "execution_count": 102,
   "metadata": {},
   "outputs": [
    {
     "name": "stdout",
     "output_type": "stream",
     "text": [
      "Number of total representations: 4542\n",
      "\n",
      "Tokens:\n",
      "[ 0  1  2  3  4  5  6  7  8  9 10 11 12 13 14 15 16 17 18 19 20 21 22 23\n",
      " 24 25]\n",
      "\n",
      "min    4055\n",
      "maj     487\n",
      "Name: Scale, dtype: int64\n"
     ]
    }
   ],
   "source": [
    "M = 8\n",
    "MIN_NOTE = 16\n",
    "MAX_NOTE = 39\n",
    "sustain_code = 100\n",
    "df_codes_min, df_codes_maj = dataset.create_datasets(df_midi_sequences, excluded_titles,\n",
    "                                                     track_dicts, M,\n",
    "                                                     MIN_NOTE=MIN_NOTE, MAX_NOTE=MAX_NOTE,\n",
    "                                                     sustain_code=sustain_code)"
   ]
  },
  {
   "cell_type": "markdown",
   "metadata": {
    "scrolled": false
   },
   "source": [
    "note_counter = dataset.count_notes(df_codes_min)\n",
    "plot_note_occurances(note_counter, M)"
   ]
  },
  {
   "cell_type": "markdown",
   "metadata": {},
   "source": [
    "### Export Dataframes"
   ]
  },
  {
   "cell_type": "markdown",
   "metadata": {},
   "source": [
    "dataset_name = 'TechHouse_Bassline_Representations'\n",
    "representation_path = os.path.join('..','data','datasets', 'new', '[{}, {}]'.format(MIN_NOTE,MAX_NOTE),\n",
    "                'two_octaves', 'no_sus')\n",
    "os.makedirs(representation_path, exist_ok=True)\n",
    "\n",
    "min_title = dataset_name+'_min_M{}.csv'.format(M)\n",
    "maj_title = dataset_name+'_maj_M{}.csv'.format(M)\n",
    "min_dir = os.path.join(representation_path, min_title)\n",
    "maj_dir = os.path.join(representation_path, maj_title)\n",
    "df_codes_min.to_csv(min_dir, index=False, header=False)\n",
    "df_codes_maj.to_csv(maj_dir, index=False, header=False)"
   ]
  },
  {
   "cell_type": "markdown",
   "metadata": {},
   "source": [
    "## 4) Single Octave Dataset"
   ]
  },
  {
   "cell_type": "code",
   "execution_count": 10,
   "metadata": {
    "scrolled": true
   },
   "outputs": [
    {
     "name": "stdout",
     "output_type": "stream",
     "text": [
      "Single octave dataset sizes\n",
      "Minor: 4055\n",
      "Major: 487\n"
     ]
    }
   ],
   "source": [
    "df_single_octave_min = dataset.create_single_octave_dataset(df_codes_min, 24-(MIN_NOTE-1), sustain_code=25)\n",
    "df_single_octave_maj = dataset.create_single_octave_dataset(df_codes_maj, 24-(MIN_NOTE-1), sustain_code=25)\n",
    "df_single_octave_min.head()\n",
    "print('Single octave dataset sizes\\nMinor: {}\\nMajor: {}'.format(df_single_octave_min.shape[0], df_single_octave_maj.shape[0]))"
   ]
  },
  {
   "cell_type": "markdown",
   "metadata": {},
   "source": [
    "### Export Dataframes"
   ]
  },
  {
   "cell_type": "code",
   "execution_count": 52,
   "metadata": {},
   "outputs": [],
   "source": [
    "dataset_name = 'TechHouse_Bassline_Representations'\n",
    "representation_path = os.path.join('..','data','datasets', 'new', '[{}, {}]'.format(MIN_NOTE,MAX_NOTE),\n",
    "                                   'single_octave','sus')\n",
    "os.makedirs(representation_path, exist_ok=True)\n",
    "\n",
    "min_title = dataset_name+'_min_M{}.csv'.format(M)\n",
    "maj_title = dataset_name+'_maj_M{}.csv'.format(M)\n",
    "min_dir = os.path.join(representation_path, min_title)\n",
    "maj_dir = os.path.join(representation_path, maj_title)\n",
    "df_single_octave_min.to_csv(min_dir, index=False, header=False)\n",
    "df_single_octave_maj.to_csv(maj_dir, index=False, header=False)"
   ]
  },
  {
   "cell_type": "markdown",
   "metadata": {},
   "source": [
    "## 5) Groove Dataset"
   ]
  },
  {
   "cell_type": "code",
   "execution_count": 103,
   "metadata": {},
   "outputs": [
    {
     "name": "stdout",
     "output_type": "stream",
     "text": [
      "Number of total representations: 4055\n",
      "\n",
      "Tokens:\n",
      "[0 1 2]\n",
      "\n",
      "Number of total representations: 487\n",
      "\n",
      "Tokens:\n",
      "[0 1 2]\n",
      "\n"
     ]
    }
   ],
   "source": [
    "sustain_code = 25\n",
    "df_groove_min = dataset.create_groove_dataset(df_codes_min, sustain_code=sustain_code)\n",
    "df_groove_maj = dataset.create_groove_dataset(df_codes_maj, sustain_code=sustain_code)"
   ]
  },
  {
   "cell_type": "markdown",
   "metadata": {},
   "source": [
    "### Export Dataframes"
   ]
  },
  {
   "cell_type": "code",
   "execution_count": 104,
   "metadata": {},
   "outputs": [],
   "source": [
    "dataset_name = 'TechHouse_Bassline_Representations'\n",
    "representation_path = os.path.join('..','data','datasets', 'new', '[{}, {}]'.format(MIN_NOTE,MAX_NOTE),\n",
    "                                   'two_octaves','groove','sus')\n",
    "os.makedirs(representation_path, exist_ok=True)\n",
    "\n",
    "min_title = dataset_name+'_min_M{}.csv'.format(M)\n",
    "maj_title = dataset_name+'_maj_M{}.csv'.format(M)\n",
    "min_dir = os.path.join(representation_path, min_title)\n",
    "maj_dir = os.path.join(representation_path, maj_title)\n",
    "df_single_octave_min.to_csv(min_dir, index=False, header=False)\n",
    "df_single_octave_maj.to_csv(maj_dir, index=False, header=False)"
   ]
  },
  {
   "cell_type": "code",
   "execution_count": null,
   "metadata": {},
   "outputs": [],
   "source": []
  }
 ],
 "metadata": {
  "kernelspec": {
   "display_name": "Python 3",
   "language": "python",
   "name": "python3"
  },
  "language_info": {
   "codemirror_mode": {
    "name": "ipython",
    "version": 3
   },
   "file_extension": ".py",
   "mimetype": "text/x-python",
   "name": "python",
   "nbconvert_exporter": "python",
   "pygments_lexer": "ipython3",
   "version": "3.7.6"
  }
 },
 "nbformat": 4,
 "nbformat_minor": 4
}
