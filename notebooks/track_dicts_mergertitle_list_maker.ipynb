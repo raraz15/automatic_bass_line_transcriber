{
 "cells": [
  {
   "cell_type": "code",
   "execution_count": 1,
   "metadata": {},
   "outputs": [],
   "source": [
    "import os\n",
    "import json\n",
    "#import yaml"
   ]
  },
  {
   "cell_type": "markdown",
   "metadata": {},
   "source": [
    "\n",
    "\n",
    "def query_title(track_dict):\n",
    "    \n",
    "    title = track_dict['Title']\n",
    "    artist = track_dict['Artist(s)']\n",
    "    mix = track_dict['Mix']\n",
    "    \n",
    "    title_maker(title, artist, mix)\n",
    "           \n",
    "    return query\n",
    "\n",
    "def title_maker(title, artist, mix):\n",
    "    if mix.split(' ')[0] in title:\n",
    "        query = \"{} - {}\".format(artist, title)    \n",
    "    else:        \n",
    "        query = \"{} ({}) - {}\".format(artist,title,mix)\n",
    "    return query\n",
    "\n",
    "def key_formatter(key):\n",
    "    scale_type = key[-3:]\n",
    "    root = key.split(scale_type)[0]\n",
    "\n",
    "    if ' ' in root:\n",
    "        root = root[:root.index(' ')]\n",
    "\n",
    "    root = sharpen_flats(root)\n",
    "\n",
    "    if root == 'B#':\n",
    "        root = 'C'\n",
    "    if root == 'E#':\n",
    "        root = 'F' \n",
    "\n",
    "    key = '{} {}'.format(root, scale_type.lower())\n",
    "\n",
    "    return key\n",
    "\n",
    "def sharpen_flats(root):\n",
    "    roots = ['C','D','E','F','G','A','B'] \n",
    "    if 'b' in root:\n",
    "        natural_harmonic = root[:1]        \n",
    "        idx = roots.index(natural_harmonic)\n",
    "        sharpened_root = roots[idx-1]        \n",
    "        root = \"{}#\".format(sharpened_root)      \n",
    "    return root"
   ]
  },
  {
   "cell_type": "markdown",
   "metadata": {},
   "source": [
    "## _queries to TechHouse_track_dicts"
   ]
  },
  {
   "cell_type": "code",
   "execution_count": 2,
   "metadata": {},
   "outputs": [],
   "source": [
    "def queries_to_track_dicts(query_dicts):\n",
    "    \n",
    "    track_dicts = {}\n",
    "    for track_dict in query_dicts.values(): \n",
    "        track_dicts[track_dict['Query']] = {'Duration': track_dict['Duration'],\n",
    "                          'Key': track_dict['Key'],\n",
    "                          'BPM': track_dict['BPM']}\n",
    "    print(len(track_dicts))   \n",
    "    return track_dicts"
   ]
  },
  {
   "cell_type": "code",
   "execution_count": 17,
   "metadata": {},
   "outputs": [
    {
     "name": "stdout",
     "output_type": "stream",
     "text": [
      "2303\n"
     ]
    }
   ],
   "source": [
    "query_dict_name = 'traxsource_crawl_7500_10000_queries.json'\n",
    "query_dict_path = '../data/metadata/traxsource/'+query_dict_name\n",
    "\n",
    "with open(query_dict_path, 'r', encoding='utf-8') as infile:\n",
    "    query_dicts = json.load(infile)\n",
    "    \n",
    "#print(query_dicts['2'])\n",
    "\n",
    "track_dicts = queries_to_track_dicts(query_dicts)"
   ]
  },
  {
   "cell_type": "code",
   "execution_count": 18,
   "metadata": {},
   "outputs": [],
   "source": [
    "track_dicts_name = query_dict_name.split('_queries.json')[0] + '_track_dicts.json'\n",
    "track_dicts_path = os.path.join('../data/metadata', track_dicts_name)\n",
    "\n",
    "with open(track_dicts_path, 'w', encoding='utf-8') as outfile:\n",
    "    json.dump(track_dicts, outfile,indent=4 )"
   ]
  },
  {
   "cell_type": "code",
   "execution_count": null,
   "metadata": {},
   "outputs": [],
   "source": []
  },
  {
   "cell_type": "code",
   "execution_count": null,
   "metadata": {},
   "outputs": [],
   "source": [
    "with open('../data/metadata/TechHouse_track_dicts_0.json', 'r', encoding='utf-8') as infile:\n",
    "    track_dicts_0 = json.load(infile)\n",
    "print(len(track_dicts_0))   "
   ]
  },
  {
   "cell_type": "code",
   "execution_count": null,
   "metadata": {},
   "outputs": [],
   "source": [
    "track_dicts = {**track_dicts, **track_dicts_0}\n",
    "\n",
    "print(len(track_dicts))\n",
    "\n",
    "for track_dict in track_dicts.values():\n",
    "    track_dict['Key'] = key_formatter(track_dict['Key'])\n",
    "\n",
    "# check\n",
    "for title in track_dicts.keys():\n",
    "    \n",
    "    track_dict = track_dicts[title]\n",
    "    if track_dict['Key'].split(' ')[0] == 'B#' or track_dict['Key'].split(' ')[0] == 'E#':\n",
    "        print('lol')"
   ]
  },
  {
   "cell_type": "code",
   "execution_count": null,
   "metadata": {},
   "outputs": [],
   "source": [
    "with open('../data/metadata/TechHouse_track_dicts.json', 'w', encoding='utf-8') as outfile:\n",
    "    json.dump(track_dicts, outfile,indent=4 )"
   ]
  },
  {
   "cell_type": "code",
   "execution_count": null,
   "metadata": {},
   "outputs": [],
   "source": [
    "track_dicts = {**track_dicts, **track_dicts_0}\n",
    "\n",
    "key_fixed_track_dicts = {}\n",
    "for title in track_dicts.keys():\n",
    "    \n",
    "    track_dict = track_dicts[title]\n",
    "    \n",
    "    if track_dict['Key'].split(' ')[0] == 'B#' or track_dict['Key'].split(' ')[0] == 'E#':\n",
    "        \n",
    "        key_fixed_track_dicts[title] = {'Duration': track_dict['Duration'],\n",
    "                                      'Key': key_formatter(track_dict['Key']),\n",
    "                                      'BPM': track_dict['BPM']}\n",
    "        \n",
    "with open('../data/metadata/TechHouse_track_dicts_keyfixed.json', 'w', encoding='utf-8') as outfile:\n",
    "    json.dump(key_fixed_track_dicts, outfile, indent=4 )"
   ]
  },
  {
   "cell_type": "markdown",
   "metadata": {},
   "source": [
    "## Merger"
   ]
  },
  {
   "cell_type": "code",
   "execution_count": null,
   "metadata": {},
   "outputs": [],
   "source": [
    "with open('../data/metadata/TechHouse_track_dicts.json', 'r', encoding='utf-8') as infile:\n",
    "    TechHouse_track_dicts = json.load(infile)"
   ]
  },
  {
   "cell_type": "code",
   "execution_count": null,
   "metadata": {},
   "outputs": [],
   "source": [
    "with open('../data/metadata/12_05_2021_TechHouse_Merged.json', 'r', encoding='utf-8') as infile:\n",
    "    new_track_dicts = json.load(infile)"
   ]
  },
  {
   "cell_type": "markdown",
   "metadata": {},
   "source": [
    "new_track_dict = {: track_dict for track_dict in new_track_dicts.values()}"
   ]
  },
  {
   "cell_type": "code",
   "execution_count": null,
   "metadata": {},
   "outputs": [],
   "source": [
    "new_track_dict = {}\n",
    "\n",
    "for track_dict in new_track_dicts.values():\n",
    "    \n",
    "    key = query_title(track_dict)\n",
    "    \n",
    "    new_track_dict[key] = {'Duration': track_dict['Duration'],\n",
    "                          'Released': track_dict['Released'],\n",
    "                           'Key': track_dict['Key'],\n",
    "                           'BPM': track_dict['BPM']}"
   ]
  },
  {
   "cell_type": "code",
   "execution_count": null,
   "metadata": {},
   "outputs": [],
   "source": [
    "new_track_dict"
   ]
  },
  {
   "cell_type": "code",
   "execution_count": null,
   "metadata": {},
   "outputs": [],
   "source": [
    "merged_track_dicts = {**new_track_dict, **TechHouse_track_dicts}"
   ]
  },
  {
   "cell_type": "code",
   "execution_count": null,
   "metadata": {},
   "outputs": [],
   "source": [
    "len(list(merged_track_dicts.keys()))"
   ]
  },
  {
   "cell_type": "code",
   "execution_count": null,
   "metadata": {},
   "outputs": [],
   "source": [
    "with open('../data/metadata/TechHouse_track_dicts.json', 'r', encoding='utf-8') as infile:\n",
    "    track_dicts = json.load(infile)"
   ]
  },
  {
   "cell_type": "markdown",
   "metadata": {},
   "source": [
    "for track_dict in track_dicts.values():\n",
    "    \n",
    "    print(track_dict['Key'])"
   ]
  },
  {
   "cell_type": "code",
   "execution_count": null,
   "metadata": {},
   "outputs": [],
   "source": [
    "with open('../data/metadata/TechHouse_track_dicts.json', 'w', encoding='utf-8') as outfile:\n",
    "    json.dump(merged_track_dicts, outfile,indent=4 )"
   ]
  },
  {
   "cell_type": "code",
   "execution_count": null,
   "metadata": {},
   "outputs": [],
   "source": []
  },
  {
   "cell_type": "markdown",
   "metadata": {},
   "source": [
    "## YAML merge"
   ]
  },
  {
   "cell_type": "code",
   "execution_count": null,
   "metadata": {},
   "outputs": [],
   "source": [
    "def artists_for_title(artists_list):\n",
    "\n",
    "    artist_no = len(artists_list)\n",
    "    if artist_no == 1:\n",
    "        artists = artists_list[0]\n",
    "    elif artist_no>1:\n",
    "        artists = artists_list[0]\n",
    "        for i in range(1,artist_no):\n",
    "            artists += \", {}\".format(artists_list[i])\n",
    "    else:\n",
    "        print('Not enough artist names!')\n",
    "            \n",
    "    return artists\n",
    "\n",
    "def full_title_maker_YAML(title, artist, mix):\n",
    "        \n",
    "    if mix:\n",
    "        return '{} - {} ({})'.format(artist, title, mix)\n",
    "    else:\n",
    "        return '{} - {}'.format(artist, title)"
   ]
  },
  {
   "cell_type": "code",
   "execution_count": null,
   "metadata": {},
   "outputs": [],
   "source": [
    "with open('../data/metadata/traxsource/crawled_songs.yaml') as file:\n",
    "    # The FullLoader parameter handles the conversion from YAML\n",
    "    # scalar values to Python the dictionary format\n",
    "    yaml_list = yaml.load(file, Loader=yaml.FullLoader)"
   ]
  },
  {
   "cell_type": "code",
   "execution_count": null,
   "metadata": {},
   "outputs": [],
   "source": [
    "track_dicts = {}\n",
    "for track in yaml_list:\n",
    "    \n",
    "    try:\n",
    "    \n",
    "        title = list(track.keys())[0]\n",
    "        x = track[title]\n",
    "\n",
    "        artists = x['Artists']\n",
    "        BPM = x['BPM']\n",
    "        key = x['Key']\n",
    "        label = x['Label']\n",
    "        mix = x['Version']      \n",
    "\n",
    "        artists = artists_for_title(artists)\n",
    "\n",
    "        full_title = full_title_maker_YAML(title, artists, mix)\n",
    "\n",
    "        track_dicts[full_title] = {'Key': key, 'BPM': BPM}\n",
    "        \n",
    "    except:\n",
    "        \n",
    "        print(track)"
   ]
  },
  {
   "cell_type": "code",
   "execution_count": null,
   "metadata": {},
   "outputs": [],
   "source": [
    "len(track_dicts)"
   ]
  },
  {
   "cell_type": "markdown",
   "metadata": {},
   "source": [
    "## Title List Maker"
   ]
  },
  {
   "cell_type": "code",
   "execution_count": null,
   "metadata": {},
   "outputs": [],
   "source": [
    "#music_dir = os.path.join('E:','Music','Tech House')\n",
    "music_dir = os.path.join('..','data','audio_clips')"
   ]
  },
  {
   "cell_type": "code",
   "execution_count": null,
   "metadata": {},
   "outputs": [],
   "source": [
    "titles = []\n",
    "\n",
    "for root,dirs,files in os.walk(music_dir):\n",
    "    \n",
    "    for file_name in files:\n",
    "        \n",
    "        if file_name.split('.')[-1] in '.mp3':\n",
    "            \n",
    "            track_title = file_name.split('.mp3')[0]\n",
    "            \n",
    "            titles.append(track_title)"
   ]
  },
  {
   "cell_type": "code",
   "execution_count": null,
   "metadata": {},
   "outputs": [],
   "source": [
    "out_dir = os.path.join('..', 'data','bassline_extraction', 'ouz_tracks.txt')\n",
    "\n",
    "with open(out_dir, 'w', encoding='utf-8') as outfile:\n",
    "    outfile.write(\"\\n\".join(titles))"
   ]
  }
 ],
 "metadata": {
  "kernelspec": {
   "display_name": "Python 3",
   "language": "python",
   "name": "python3"
  },
  "language_info": {
   "codemirror_mode": {
    "name": "ipython",
    "version": 3
   },
   "file_extension": ".py",
   "mimetype": "text/x-python",
   "name": "python",
   "nbconvert_exporter": "python",
   "pygments_lexer": "ipython3",
   "version": "3.8.5"
  }
 },
 "nbformat": 4,
 "nbformat_minor": 5
}
