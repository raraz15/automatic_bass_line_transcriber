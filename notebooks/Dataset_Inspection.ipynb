{
 "cells": [
  {
   "cell_type": "code",
   "execution_count": 1,
   "metadata": {},
   "outputs": [],
   "source": [
    "%load_ext autoreload\n",
    "%autoreload 2\n",
    "\n",
    "import os,sys\n",
    "import datetime as dt\n",
    "import pandas as pd\n",
    "\n",
    "import numpy as np\n",
    "from tqdm import tqdm\n",
    "import matplotlib.pyplot as plt\n",
    "\n",
    "sys.path.insert(0, '/scratch/users/udemir15/ELEC491/bassline_transcription')\n",
    "\n",
    "from utilities import *"
   ]
  },
  {
   "cell_type": "code",
   "execution_count": 28,
   "metadata": {},
   "outputs": [],
   "source": [
    "def load_data(data_params):     \n",
    "    dataset_path, scale_type, M = data_params['dataset_path'], data_params['scale_type'], data_params['M']    \n",
    "    dataset_name = data_params['dataset_name'] +'_{}_M{}.csv'.format(scale_type, M)\n",
    "    dataset_dir = os.path.join(dataset_path, dataset_name)\n",
    "    df = pd.read_csv(dataset_dir, header=None)\n",
    "    titles = df[0].tolist()\n",
    "    X = df[df.columns[1:]].to_numpy()    \n",
    "    return X, titles\n",
    "\n",
    "def append_SOS(X, SOS_token=-1):\n",
    "    X = np.concatenate( (SOS_token*np.ones((X.shape[0],1), dtype=np.int64), X), axis=1)    \n",
    "    return X+1 \n",
    "\n",
    "def count_same_phrases(vector, M, counter):\n",
    "    \n",
    "    vector_re = vector.reshape((4,4, 4*(8//M)))\n",
    "    \n",
    "    for b in range(4):\n",
    "\n",
    "        bars = vector_re[:,b,:] # beat b for all bars\n",
    "\n",
    "        for i in range(4):\n",
    "            for j in range(i+1,4):\n",
    "\n",
    "                B0 = bars[i,:]\n",
    "                B1 = bars[j,:]\n",
    "\n",
    "                if np.array_equal(B0, B1):\n",
    "                    key = '{}{}'.format(i,j)\n",
    "                    counter[b][key] += 1\n",
    "                    \n",
    "    return counter    "
   ]
  },
  {
   "cell_type": "markdown",
   "metadata": {},
   "source": [
    "## Initialization"
   ]
  },
  {
   "cell_type": "code",
   "execution_count": 15,
   "metadata": {},
   "outputs": [],
   "source": [
    "directories = get_directories('../data/directories.json')"
   ]
  },
  {
   "cell_type": "code",
   "execution_count": 67,
   "metadata": {},
   "outputs": [
    {
     "name": "stdout",
     "output_type": "stream",
     "text": [
      "Number of classes: 26\n",
      "Sequence Length: 64\n",
      "Number of data points: 4421\n"
     ]
    }
   ],
   "source": [
    "M = 8\n",
    "\n",
    "data_params = {'dataset_path': '/scratch/users/udemir15/ELEC491/bassline_transcription/data/datasets/[28, 51]',\n",
    "               'dataset_name': 'TechHouse_bassline_representations',\n",
    "               'scale_type': 'min',\n",
    "               'M': M}\n",
    "\n",
    "X, titles = load_data(data_params)\n",
    "#X = append_SOS(X)\n",
    "\n",
    "frequencies = np.unique(X, return_counts=True)\n",
    "\n",
    "K = X.max()+1 # Number of classes, assumes consecutive\n",
    "sequence_length = X.shape[1]\n",
    "\n",
    "print('Number of classes: {}\\nSequence Length: {}'.format(K, sequence_length))\n",
    "print('Number of data points: {}'.format(X.shape[0]))\n",
    "\n",
    "directories = get_directories('../data/directories.json')"
   ]
  },
  {
   "cell_type": "markdown",
   "metadata": {},
   "source": [
    "## Distribution Inspection"
   ]
  },
  {
   "cell_type": "code",
   "execution_count": 68,
   "metadata": {},
   "outputs": [
    {
     "data": {
      "image/png": "[encoded data removed]",
      "text/plain": [
       "<Figure size 720x360 with 1 Axes>"
      ]
     },
     "metadata": {
      "needs_background": "light"
     },
     "output_type": "display_data"
    }
   ],
   "source": [
    "silence_count = frequencies[1][0]\n",
    "note_count = frequencies[1][1:-1].sum()\n",
    "sustain_count = frequencies[1][-1]\n",
    "\n",
    "merged_frequencies = np.array([silence_count, note_count, sustain_count])\n",
    "\n",
    "fig ,ax = plt.subplots(figsize=(10,5))\n",
    "plot_title = 'M={} Merged Code Distribution'.format(M)\n",
    "ax.set_title(plot_title, fontsize=12)\n",
    "ax.bar(['SIL', 'NOTE', 'SUS'], merged_frequencies/merged_frequencies.sum())\n",
    "\n",
    "#plt.savefig(os.path.join(directories['plot']['figures']+'/dataset', 'Merged_Code_Distribution_M{}.jpg'.format(M)))\n",
    "plt.show()"
   ]
  },
  {
   "cell_type": "code",
   "execution_count": 69,
   "metadata": {},
   "outputs": [
    {
     "data": {
      "image/png": "[encoded data removed]",
      "text/plain": [
       "<Figure size 1440x576 with 1 Axes>"
      ]
     },
     "metadata": {
      "needs_background": "light"
     },
     "output_type": "display_data"
    }
   ],
   "source": [
    "keys = ['SIL'] + ['E1', 'F1', 'F#1', 'G1', 'G#1', 'A1', 'A#1', 'B1']+ \\\n",
    "        ['C2', 'C#2', 'D2', 'D#2', 'E2', 'F2', 'F#2', 'G2', 'G#2', 'A2', 'A#2', 'B2']+ \\\n",
    "        ['C3', 'C#3', 'D3','D#3']+ ['SUS']\n",
    "\n",
    "fig ,ax = plt.subplots(figsize=(20,8))\n",
    "plot_title = 'M={} Code Distribution'.format(M)\n",
    "ax.set_title(plot_title, fontsize=15)\n",
    "ax.bar(keys, frequencies[1]/frequencies[1].sum())\n",
    "ax.grid()\n",
    "secax = ax.secondary_xaxis('top')\n",
    "\n",
    "#plt.savefig(os.path.join(directories['plot']['figures']+'/dataset', 'Code_Distribution_M{}.jpg'.format(M)))\n",
    "plt.show()"
   ]
  },
  {
   "cell_type": "markdown",
   "metadata": {},
   "source": [
    "weights = frequencies[1].max() / frequencies[1]\n",
    "weights /= weights.sum()"
   ]
  },
  {
   "cell_type": "markdown",
   "metadata": {},
   "source": [
    "## Similarity Measure"
   ]
  },
  {
   "cell_type": "code",
   "execution_count": 70,
   "metadata": {},
   "outputs": [
    {
     "name": "stdout",
     "output_type": "stream",
     "text": [
      "{'01': 619, '02': 655, '03': 497, '12': 1473, '13': 1665, '23': 1502}\n",
      "{'01': 1401, '02': 1362, '03': 1081, '12': 1563, '13': 1596, '23': 1552}\n",
      "{'01': 1517, '02': 1563, '03': 1112, '12': 1591, '13': 1535, '23': 1493}\n",
      "{'01': 1372, '02': 1532, '03': 732, '12': 1405, '13': 1042, '23': 970}\n"
     ]
    }
   ],
   "source": [
    "counter = {b: {'01': 0, '02': 0, '03': 0, '12': 0, '13': 0, '23': 0} for b in range(4)}\n",
    "for vector in X: #[:, 1:]:\n",
    "    count_same_phrases(vector, M, counter)\n",
    "    \n",
    "for vals in counter.values():\n",
    "    print(vals)"
   ]
  },
  {
   "cell_type": "code",
   "execution_count": 71,
   "metadata": {},
   "outputs": [
    {
     "data": {
      "image/png": "[encoded data removed]",
      "text/plain": [
       "<Figure size 864x576 with 4 Axes>"
      ]
     },
     "metadata": {
      "needs_background": "light"
     },
     "output_type": "display_data"
    }
   ],
   "source": [
    "fig, ax = plt.subplots(nrows=2,ncols=2, figsize=(12,8))\n",
    "fig.suptitle('Same phrase counts for M={}'.format(M), fontsize=15)\n",
    "\n",
    "ax[0][0].bar(counter[0].keys(), np.array(list(counter[0].values()))/len(X))\n",
    "ax[0][0].set_title('Beat0')\n",
    "ax[0][1].bar(counter[1].keys(), np.array(list(counter[1].values()))/len(X))\n",
    "ax[0][1].set_title('Beat1')\n",
    "ax[1][0].bar(counter[2].keys(), np.array(list(counter[2].values()))/len(X))\n",
    "ax[1][0].set_title('Beat2')\n",
    "ax[1][1].bar(counter[3].keys(), np.array(list(counter[3].values()))/len(X))\n",
    "ax[1][1].set_title('Beat3')\n",
    "\n",
    "#plt.savefig(os.path.join(directories['plot']['figures']+'/dataset', 'Same_Phrase_Counts_M{}.jpg'.format(M)))\n",
    "plt.show()"
   ]
  },
  {
   "cell_type": "markdown",
   "metadata": {},
   "source": [
    "## Representation Printing"
   ]
  },
  {
   "cell_type": "code",
   "execution_count": null,
   "metadata": {},
   "outputs": [],
   "source": [
    "idx = 56\n",
    "title = titles[idx]\n",
    "print(title)\n",
    "vector = X[idx,1:]\n",
    "print_beat_matrix(vector, M)\n",
    "print('\\n')\n",
    "print_transposed_beat_matrix(vector, M)"
   ]
  },
  {
   "cell_type": "code",
   "execution_count": null,
   "metadata": {
    "scrolled": false
   },
   "outputs": [],
   "source": [
    "inspect_audio_outputs(title, directories, start=0, end=1)"
   ]
  },
  {
   "cell_type": "code",
   "execution_count": null,
   "metadata": {},
   "outputs": [],
   "source": [
    "# Dreams of Morjim      | drop mistake\n",
    "# Camilo Do Santos - Bubba Mint (Original Mix)   | note melodic"
   ]
  },
  {
   "cell_type": "markdown",
   "metadata": {},
   "source": [
    "## New Representation"
   ]
  },
  {
   "cell_type": "code",
   "execution_count": 32,
   "metadata": {},
   "outputs": [],
   "source": [
    "from bassline_transcriber.transcription.representation import encode_midi_array_new"
   ]
  },
  {
   "cell_type": "code",
   "execution_count": 72,
   "metadata": {},
   "outputs": [],
   "source": [
    "#M = 1\n",
    "sustain_silence=-1\n",
    "sustain_note=-2\n",
    "\n",
    "Y = np.zeros((len(titles), 4*4*(32//M)), dtype=np.int64)\n",
    "for i, title in enumerate(titles):\n",
    "    \n",
    "    midi_array = load_bassline_midi_array(title, directories, M)\n",
    "    new_representation = encode_midi_array_new(midi_array, 8, M, 4, sustain_silence=sustain_silence, sustain_note=sustain_note)\n",
    "    Y[i] = new_representation\n",
    "    \n",
    "    \n",
    "new_frequencies = np.unique(Y, return_counts=True)\n",
    "\n",
    "new_frequencies_merged = (['SUS_NOTE', 'SUS_SIL', 'SIL', 'NOTE'], np.array([new_frequencies[1][0], new_frequencies[1][1],\n",
    "                                                                   new_frequencies[1][2], new_frequencies[1][3:].sum()]))\n",
    "\n",
    "new_frequencies_hard_merged = (['SIL', 'NOTE'], np.array([new_frequencies[1][1:3].sum(),\n",
    "                                                          new_frequencies[1][0]+new_frequencies[1][3:].sum()]))"
   ]
  },
  {
   "cell_type": "code",
   "execution_count": 73,
   "metadata": {},
   "outputs": [
    {
     "data": {
      "image/png": "[encoded data removed]",
      "text/plain": [
       "<Figure size 720x360 with 1 Axes>"
      ]
     },
     "metadata": {
      "needs_background": "light"
     },
     "output_type": "display_data"
    }
   ],
   "source": [
    "fig ,ax = plt.subplots(figsize=(10,5))\n",
    "plot_title = 'M={} Code Distribution with Separate Sustains'.format(M)\n",
    "ax.set_title(plot_title, fontsize=12)\n",
    "ax.bar(new_frequencies_merged[0], new_frequencies_merged[1]/new_frequencies_merged[1].sum())\n",
    "\n",
    "#plt.savefig(os.path.join(directories['plot']['figures']+'/dataset', 'Code_Distribution_Separate_Sustains_M{}.jpg'.format(M)))\n",
    "plt.show()"
   ]
  },
  {
   "cell_type": "code",
   "execution_count": 74,
   "metadata": {},
   "outputs": [
    {
     "data": {
      "image/png": "[encoded data removed]",
      "text/plain": [
       "<Figure size 720x360 with 1 Axes>"
      ]
     },
     "metadata": {
      "needs_background": "light"
     },
     "output_type": "display_data"
    }
   ],
   "source": [
    "fig ,ax = plt.subplots(figsize=(10,5))\n",
    "plot_title = 'M={} Code Distribution without sustain'.format(M)\n",
    "ax.set_title(plot_title, fontsize=12)\n",
    "ax.bar(new_frequencies_hard_merged[0], new_frequencies_hard_merged[1]/new_frequencies_hard_merged[1].sum())\n",
    "\n",
    "#plt.savefig(os.path.join(directories['plot']['figures']+'/dataset', 'Code_Distribution_Without_Sustains_M{}.jpg'.format(M)))\n",
    "plt.show()"
   ]
  },
  {
   "cell_type": "code",
   "execution_count": null,
   "metadata": {},
   "outputs": [],
   "source": []
  }
 ],
 "metadata": {
  "kernelspec": {
   "display_name": "Python 3",
   "language": "python",
   "name": "python3"
  },
  "language_info": {
   "codemirror_mode": {
    "name": "ipython",
    "version": 3
   },
   "file_extension": ".py",
   "mimetype": "text/x-python",
   "name": "python",
   "nbconvert_exporter": "python",
   "pygments_lexer": "ipython3",
   "version": "3.7.6"
  }
 },
 "nbformat": 4,
 "nbformat_minor": 4
}
