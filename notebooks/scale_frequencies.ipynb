{
 "cells": [
  {
   "cell_type": "code",
   "execution_count": 1,
   "metadata": {},
   "outputs": [],
   "source": [
    "import json\n",
    "import numpy as np"
   ]
  },
  {
   "cell_type": "code",
   "execution_count": 2,
   "metadata": {},
   "outputs": [],
   "source": [
    "def create_scale_mod(key, intervals):\n",
    "\n",
    "    note = key\n",
    "\n",
    "    scale = [note]\n",
    "\n",
    "    for interval in intervals:\n",
    "\n",
    "        note += interval\n",
    "        scale.append(note%12)\n",
    "    \n",
    "    return scale\n",
    "\n",
    "\n",
    "def create_scale(key, intervals):\n",
    "\n",
    "    note = key\n",
    "\n",
    "    scale = [note]\n",
    "\n",
    "    for interval in intervals:\n",
    "\n",
    "        note += interval\n",
    "        scale.append(note)\n",
    "    \n",
    "    return scale\n",
    "\n",
    "\n",
    "def map_to_key(scale, notes):\n",
    "    \n",
    "    return [notes[val] for val in scale]"
   ]
  },
  {
   "cell_type": "code",
   "execution_count": 4,
   "metadata": {},
   "outputs": [],
   "source": [
    "with open('../data/metadata/note_frequencies.json','r') as infile:\n",
    "    note_frequencies = json.load(infile)\n",
    "    \n",
    "notes = [note.split('/')[0][:-1] for note in list(note_frequencies.keys())[:12]]"
   ]
  },
  {
   "cell_type": "code",
   "execution_count": 5,
   "metadata": {},
   "outputs": [
    {
     "name": "stdout",
     "output_type": "stream",
     "text": [
      "['C', 'C#', 'D', 'D#', 'E', 'F', 'F#', 'G', 'G#', 'A', 'A#', 'B']\n"
     ]
    }
   ],
   "source": [
    "print(notes)"
   ]
  },
  {
   "cell_type": "code",
   "execution_count": 6,
   "metadata": {},
   "outputs": [],
   "source": [
    "major_intervals = [2,2,1,2,2,2]\n",
    "minor_intervals = [2,1,2,2,1,2]"
   ]
  },
  {
   "cell_type": "code",
   "execution_count": 7,
   "metadata": {},
   "outputs": [
    {
     "name": "stdout",
     "output_type": "stream",
     "text": [
      "Note\tSub\tBass0\tBass1\tLow Mid\n",
      "C\t32.70\t65.41\t130.81\t261.63\n",
      "C#\t34.65\t69.30\t138.59\t277.18\n",
      "D\t36.71\t73.42\t146.83\t293.66\n",
      "D#\t38.89\t77.78\t155.56\t311.13\n",
      "E\t41.20\t82.41\t164.81\t329.63\n",
      "F\t43.65\t87.31\t174.61\t349.23\n",
      "F#\t46.25\t92.50\t185.00\t369.99\n",
      "G\t49.00\t98.00\t196.00\t392.00\n",
      "G#\t51.91\t103.83\t207.65\t415.30\n",
      "A\t55.00\t110.00\t220.00\t440.00\n",
      "A#\t58.27\t116.54\t233.08\t466.16\n",
      "B\t61.74\t123.47\t246.94\t493.88\n"
     ]
    }
   ],
   "source": [
    "sub_frequencies = list(note_frequencies.values())[12:24]\n",
    "bass0_frequencies = list(note_frequencies.values())[24:36]\n",
    "bass1_frequencies = list(note_frequencies.values())[36:48]\n",
    "low_mid_frequencies = list(note_frequencies.values())[48:60]\n",
    "\n",
    "print('Note\\tSub\\tBass0\\tBass1\\tLow Mid')\n",
    "for i in range(12):\n",
    "    \n",
    "    print(\"{}\\t{}\\t{}\\t{}\\t{}\".format(notes[i],sub_frequencies[i], bass0_frequencies[i], bass1_frequencies[i],low_mid_frequencies[i]))\n",
    "       \n",
    "        \n",
    "bass_frequencies = bass0_frequencies+bass1_frequencies"
   ]
  },
  {
   "cell_type": "code",
   "execution_count": 11,
   "metadata": {},
   "outputs": [
    {
     "data": {
      "text/plain": [
       "[34.65, 36.71, 41.2, 46.25, 49.0, 55.0, 61.74]"
      ]
     },
     "execution_count": 11,
     "metadata": {},
     "output_type": "execute_result"
    }
   ],
   "source": [
    "sorted([float(sub_frequencies[val]) for val in minor_scale_mod12])"
   ]
  },
  {
   "cell_type": "code",
   "execution_count": 25,
   "metadata": {},
   "outputs": [],
   "source": [
    "scales = {n: {m: {k: {} for k in ['notes', 'frequencies', 'out_of_scale']} for m in['min','maj']} for n in notes}\n",
    "\n",
    "for note in range(12):\n",
    "    \n",
    "    minor_scale = create_scale(note, minor_intervals)\n",
    "    minor_scale_mod12 = [val%12 for val in minor_scale]\n",
    "    notes_in_minor_scale = map_to_key(minor_scale_mod12, notes)\n",
    "    out_scale_indices = [(idx+1)%12 for idx in minor_scale_mod12 if (idx+1)%12 not in minor_scale_mod12]\n",
    "    notes_out_minor_scale = map_to_key(out_scale_indices, notes)\n",
    "    \n",
    "    scales[notes[note]]['min']['notes'] = notes_in_minor_scale\n",
    "    scales[notes[note]]['min']['frequencies']['0'] =  sorted([float(sub_frequencies[val]) for val in minor_scale_mod12])\n",
    "    scales[notes[note]]['min']['frequencies']['1'] =  sorted([float(bass0_frequencies[val]) for val in minor_scale_mod12])\n",
    "    scales[notes[note]]['min']['frequencies']['2'] =  sorted([float(bass1_frequencies[val]) for val in minor_scale_mod12])\n",
    "    \n",
    "    f = [float(bass0_frequencies[val]) for val in out_scale_indices] + [float(bass1_frequencies[val]) for val in out_scale_indices]\n",
    "    \n",
    "    scales[notes[note]]['min']['out_of_scale']['notes'] = notes_out_minor_scale\n",
    "    scales[notes[note]]['min']['out_of_scale']['frequencies'] =  sorted(f)\n",
    "    \n",
    "    \n",
    "    major_scale = create_scale(note, major_intervals)\n",
    "    major_scale_mod12 = [val%12 for val in major_scale]\n",
    "    notes_in_major_scale = map_to_key(major_scale_mod12, notes)\n",
    "    out_scale_indices = [(idx+1)%12 for idx in major_scale_mod12 if (idx+1)%12 not in major_scale_mod12]\n",
    "    notes_out_major_scale = map_to_key(out_scale_indices, notes)\n",
    "    \n",
    "    scales[notes[note]]['maj']['notes'] = notes_in_major_scale\n",
    "    scales[notes[note]]['maj']['frequencies']['0'] = sorted([float(sub_frequencies[val]) for val in major_scale_mod12])\n",
    "    scales[notes[note]]['maj']['frequencies']['1'] = sorted([float(bass0_frequencies[val]) for val in major_scale_mod12])\n",
    "    \n",
    "    f = [float(bass0_frequencies[val]) for val in out_scale_indices] + [float(bass1_frequencies[val]) for val in out_scale_indices]\n",
    "    \n",
    "    scales[notes[note]]['maj']['out_of_scale']['notes'] = notes_out_major_scale\n",
    "    scales[notes[note]]['maj']['out_of_scale']['frequencies'] =  sorted(f)"
   ]
  },
  {
   "cell_type": "code",
   "execution_count": 27,
   "metadata": {},
   "outputs": [],
   "source": [
    "with open('../data/metadata/scales_frequencies.json', 'w') as of:\n",
    "    json.dump(scales, of, indent=4)"
   ]
  },
  {
   "cell_type": "code",
   "execution_count": null,
   "metadata": {},
   "outputs": [],
   "source": [
    "freq_array = np.array(list(scales['F#']['maj']['frequencies'].values()))"
   ]
  },
  {
   "cell_type": "code",
   "execution_count": null,
   "metadata": {},
   "outputs": [],
   "source": [
    "min_freq_dict = {n: {m: {} for m in ['major','minor']} for n in notes}\n",
    "\n",
    "a = 100\n",
    "b = 100\n",
    "c = 100\n",
    "\n",
    "for key in scales.keys():\n",
    "    \n",
    "    for typ in scales[key].keys():\n",
    "        \n",
    "        freq_array = np.array(list(scales[key][typ]['frequencies'].values()))\n",
    "\n",
    "        min_freq_difference = np.min(np.diff(freq_array,1,axis=1),axis=1)\n",
    "        \n",
    "        a = min(a,min_freq_difference[0])\n",
    "        b = min(b,min_freq_difference[1])\n",
    "        c = min(c,min_freq_difference[2])\n",
    "        \n",
    "        min_freq_dict[key][typ] = min_freq_difference\n",
    "        \n",
    "        \n",
    "print(\"Lowest frequency differences for each band in all key/scale combinations: {:.1f}, {:.1f}, {:.1f}\".format(a,b,c))"
   ]
  }
 ],
 "metadata": {
  "kernelspec": {
   "display_name": "Python 3",
   "language": "python",
   "name": "python3"
  },
  "language_info": {
   "codemirror_mode": {
    "name": "ipython",
    "version": 3
   },
   "file_extension": ".py",
   "mimetype": "text/x-python",
   "name": "python",
   "nbconvert_exporter": "python",
   "pygments_lexer": "ipython3",
   "version": "3.8.5"
  }
 },
 "nbformat": 4,
 "nbformat_minor": 5
}
